{
  "nbformat": 4,
  "nbformat_minor": 0,
  "metadata": {
    "kernelspec": {
      "display_name": "Python 3",
      "language": "python",
      "name": "python3"
    },
    "language_info": {
      "codemirror_mode": {
        "name": "ipython",
        "version": 3
      },
      "file_extension": ".py",
      "mimetype": "text/x-python",
      "name": "python",
      "nbconvert_exporter": "python",
      "pygments_lexer": "ipython3",
      "version": "3.8.5"
    },
    "varInspector": {
      "cols": {
        "lenName": 16,
        "lenType": 16,
        "lenVar": 40
      },
      "kernels_config": {
        "python": {
          "delete_cmd_postfix": "",
          "delete_cmd_prefix": "del ",
          "library": "var_list.py",
          "varRefreshCmd": "print(var_dic_list())"
        },
        "r": {
          "delete_cmd_postfix": ") ",
          "delete_cmd_prefix": "rm(",
          "library": "var_list.r",
          "varRefreshCmd": "cat(var_dic_list()) "
        }
      },
      "types_to_exclude": [
        "module",
        "function",
        "builtin_function_or_method",
        "instance",
        "_Feature"
      ],
      "window_display": false
    },
    "colab": {
      "name": "stroke_pred.ipynb",
      "provenance": [],
      "collapsed_sections": []
    }
  },
  "cells": [
    {
      "cell_type": "markdown",
      "metadata": {
        "id": "ftvvhP0gkKER"
      },
      "source": [
        "# Importing necessary libs and dataset...."
      ]
    },
    {
      "cell_type": "code",
      "metadata": {
        "id": "X7kBe33gkIpR",
        "outputId": "07720435-9d91-4a06-a653-3e3abbdedac0"
      },
      "source": [
        "from IPython.core.display import display, HTML\n",
        "display(HTML(\"<style>.container { width:100% !important; }</style>\"))\n",
        "import os\n",
        "import pandas as pd\n",
        "import numpy as np\n",
        "import matplotlib.pyplot as plt\n",
        "import seaborn as sns\n",
        "from jupyterthemes import jtplot\n",
        "\n",
        "jtplot.style(theme='monokai', context='notebook', ticks=True, grid=False)"
      ],
      "execution_count": null,
      "outputs": [
        {
          "output_type": "display_data",
          "data": {
            "text/html": [
              "<style>.container { width:100% !important; }</style>"
            ],
            "text/plain": [
              "<IPython.core.display.HTML object>"
            ]
          },
          "metadata": {
            "tags": []
          }
        }
      ]
    },
    {
      "cell_type": "code",
      "metadata": {
        "id": "yJquAdCOkIpY"
      },
      "source": [
        "import pandas as pd\n",
        "import numpy as np\n",
        "import seaborn as sns"
      ],
      "execution_count": null,
      "outputs": []
    },
    {
      "cell_type": "code",
      "metadata": {
        "id": "9SqkMoSGkIpZ"
      },
      "source": [
        "df = pd.read_csv(\"C:\\\\Users\\\\rvkmc\\\\Downloads\\\\healthcare-dataset-stroke-data.csv\")"
      ],
      "execution_count": null,
      "outputs": []
    },
    {
      "cell_type": "code",
      "metadata": {
        "id": "5u8nnIPNkIpa",
        "outputId": "e4215275-a996-4dfb-f537-d361f1786be2"
      },
      "source": [
        "df"
      ],
      "execution_count": null,
      "outputs": [
        {
          "output_type": "execute_result",
          "data": {
            "text/html": [
              "<div>\n",
              "<style scoped>\n",
              "    .dataframe tbody tr th:only-of-type {\n",
              "        vertical-align: middle;\n",
              "    }\n",
              "\n",
              "    .dataframe tbody tr th {\n",
              "        vertical-align: top;\n",
              "    }\n",
              "\n",
              "    .dataframe thead th {\n",
              "        text-align: right;\n",
              "    }\n",
              "</style>\n",
              "<table border=\"1\" class=\"dataframe\">\n",
              "  <thead>\n",
              "    <tr style=\"text-align: right;\">\n",
              "      <th></th>\n",
              "      <th>id</th>\n",
              "      <th>gender</th>\n",
              "      <th>age</th>\n",
              "      <th>hypertension</th>\n",
              "      <th>heart_disease</th>\n",
              "      <th>ever_married</th>\n",
              "      <th>work_type</th>\n",
              "      <th>Residence_type</th>\n",
              "      <th>avg_glucose_level</th>\n",
              "      <th>bmi</th>\n",
              "      <th>smoking_status</th>\n",
              "      <th>stroke</th>\n",
              "    </tr>\n",
              "  </thead>\n",
              "  <tbody>\n",
              "    <tr>\n",
              "      <th>0</th>\n",
              "      <td>9046</td>\n",
              "      <td>Male</td>\n",
              "      <td>67.0</td>\n",
              "      <td>0</td>\n",
              "      <td>1</td>\n",
              "      <td>Yes</td>\n",
              "      <td>Private</td>\n",
              "      <td>Urban</td>\n",
              "      <td>228.69</td>\n",
              "      <td>36.6</td>\n",
              "      <td>formerly smoked</td>\n",
              "      <td>1</td>\n",
              "    </tr>\n",
              "    <tr>\n",
              "      <th>1</th>\n",
              "      <td>51676</td>\n",
              "      <td>Female</td>\n",
              "      <td>61.0</td>\n",
              "      <td>0</td>\n",
              "      <td>0</td>\n",
              "      <td>Yes</td>\n",
              "      <td>Self-employed</td>\n",
              "      <td>Rural</td>\n",
              "      <td>202.21</td>\n",
              "      <td>NaN</td>\n",
              "      <td>never smoked</td>\n",
              "      <td>1</td>\n",
              "    </tr>\n",
              "    <tr>\n",
              "      <th>2</th>\n",
              "      <td>31112</td>\n",
              "      <td>Male</td>\n",
              "      <td>80.0</td>\n",
              "      <td>0</td>\n",
              "      <td>1</td>\n",
              "      <td>Yes</td>\n",
              "      <td>Private</td>\n",
              "      <td>Rural</td>\n",
              "      <td>105.92</td>\n",
              "      <td>32.5</td>\n",
              "      <td>never smoked</td>\n",
              "      <td>1</td>\n",
              "    </tr>\n",
              "    <tr>\n",
              "      <th>3</th>\n",
              "      <td>60182</td>\n",
              "      <td>Female</td>\n",
              "      <td>49.0</td>\n",
              "      <td>0</td>\n",
              "      <td>0</td>\n",
              "      <td>Yes</td>\n",
              "      <td>Private</td>\n",
              "      <td>Urban</td>\n",
              "      <td>171.23</td>\n",
              "      <td>34.4</td>\n",
              "      <td>smokes</td>\n",
              "      <td>1</td>\n",
              "    </tr>\n",
              "    <tr>\n",
              "      <th>4</th>\n",
              "      <td>1665</td>\n",
              "      <td>Female</td>\n",
              "      <td>79.0</td>\n",
              "      <td>1</td>\n",
              "      <td>0</td>\n",
              "      <td>Yes</td>\n",
              "      <td>Self-employed</td>\n",
              "      <td>Rural</td>\n",
              "      <td>174.12</td>\n",
              "      <td>24.0</td>\n",
              "      <td>never smoked</td>\n",
              "      <td>1</td>\n",
              "    </tr>\n",
              "    <tr>\n",
              "      <th>...</th>\n",
              "      <td>...</td>\n",
              "      <td>...</td>\n",
              "      <td>...</td>\n",
              "      <td>...</td>\n",
              "      <td>...</td>\n",
              "      <td>...</td>\n",
              "      <td>...</td>\n",
              "      <td>...</td>\n",
              "      <td>...</td>\n",
              "      <td>...</td>\n",
              "      <td>...</td>\n",
              "      <td>...</td>\n",
              "    </tr>\n",
              "    <tr>\n",
              "      <th>5105</th>\n",
              "      <td>18234</td>\n",
              "      <td>Female</td>\n",
              "      <td>80.0</td>\n",
              "      <td>1</td>\n",
              "      <td>0</td>\n",
              "      <td>Yes</td>\n",
              "      <td>Private</td>\n",
              "      <td>Urban</td>\n",
              "      <td>83.75</td>\n",
              "      <td>NaN</td>\n",
              "      <td>never smoked</td>\n",
              "      <td>0</td>\n",
              "    </tr>\n",
              "    <tr>\n",
              "      <th>5106</th>\n",
              "      <td>44873</td>\n",
              "      <td>Female</td>\n",
              "      <td>81.0</td>\n",
              "      <td>0</td>\n",
              "      <td>0</td>\n",
              "      <td>Yes</td>\n",
              "      <td>Self-employed</td>\n",
              "      <td>Urban</td>\n",
              "      <td>125.20</td>\n",
              "      <td>40.0</td>\n",
              "      <td>never smoked</td>\n",
              "      <td>0</td>\n",
              "    </tr>\n",
              "    <tr>\n",
              "      <th>5107</th>\n",
              "      <td>19723</td>\n",
              "      <td>Female</td>\n",
              "      <td>35.0</td>\n",
              "      <td>0</td>\n",
              "      <td>0</td>\n",
              "      <td>Yes</td>\n",
              "      <td>Self-employed</td>\n",
              "      <td>Rural</td>\n",
              "      <td>82.99</td>\n",
              "      <td>30.6</td>\n",
              "      <td>never smoked</td>\n",
              "      <td>0</td>\n",
              "    </tr>\n",
              "    <tr>\n",
              "      <th>5108</th>\n",
              "      <td>37544</td>\n",
              "      <td>Male</td>\n",
              "      <td>51.0</td>\n",
              "      <td>0</td>\n",
              "      <td>0</td>\n",
              "      <td>Yes</td>\n",
              "      <td>Private</td>\n",
              "      <td>Rural</td>\n",
              "      <td>166.29</td>\n",
              "      <td>25.6</td>\n",
              "      <td>formerly smoked</td>\n",
              "      <td>0</td>\n",
              "    </tr>\n",
              "    <tr>\n",
              "      <th>5109</th>\n",
              "      <td>44679</td>\n",
              "      <td>Female</td>\n",
              "      <td>44.0</td>\n",
              "      <td>0</td>\n",
              "      <td>0</td>\n",
              "      <td>Yes</td>\n",
              "      <td>Govt_job</td>\n",
              "      <td>Urban</td>\n",
              "      <td>85.28</td>\n",
              "      <td>26.2</td>\n",
              "      <td>Unknown</td>\n",
              "      <td>0</td>\n",
              "    </tr>\n",
              "  </tbody>\n",
              "</table>\n",
              "<p>5110 rows × 12 columns</p>\n",
              "</div>"
            ],
            "text/plain": [
              "         id  gender   age  hypertension  heart_disease ever_married  \\\n",
              "0      9046    Male  67.0             0              1          Yes   \n",
              "1     51676  Female  61.0             0              0          Yes   \n",
              "2     31112    Male  80.0             0              1          Yes   \n",
              "3     60182  Female  49.0             0              0          Yes   \n",
              "4      1665  Female  79.0             1              0          Yes   \n",
              "...     ...     ...   ...           ...            ...          ...   \n",
              "5105  18234  Female  80.0             1              0          Yes   \n",
              "5106  44873  Female  81.0             0              0          Yes   \n",
              "5107  19723  Female  35.0             0              0          Yes   \n",
              "5108  37544    Male  51.0             0              0          Yes   \n",
              "5109  44679  Female  44.0             0              0          Yes   \n",
              "\n",
              "          work_type Residence_type  avg_glucose_level   bmi   smoking_status  \\\n",
              "0           Private          Urban             228.69  36.6  formerly smoked   \n",
              "1     Self-employed          Rural             202.21   NaN     never smoked   \n",
              "2           Private          Rural             105.92  32.5     never smoked   \n",
              "3           Private          Urban             171.23  34.4           smokes   \n",
              "4     Self-employed          Rural             174.12  24.0     never smoked   \n",
              "...             ...            ...                ...   ...              ...   \n",
              "5105        Private          Urban              83.75   NaN     never smoked   \n",
              "5106  Self-employed          Urban             125.20  40.0     never smoked   \n",
              "5107  Self-employed          Rural              82.99  30.6     never smoked   \n",
              "5108        Private          Rural             166.29  25.6  formerly smoked   \n",
              "5109       Govt_job          Urban              85.28  26.2          Unknown   \n",
              "\n",
              "      stroke  \n",
              "0          1  \n",
              "1          1  \n",
              "2          1  \n",
              "3          1  \n",
              "4          1  \n",
              "...      ...  \n",
              "5105       0  \n",
              "5106       0  \n",
              "5107       0  \n",
              "5108       0  \n",
              "5109       0  \n",
              "\n",
              "[5110 rows x 12 columns]"
            ]
          },
          "metadata": {
            "tags": []
          },
          "execution_count": 43
        }
      ]
    },
    {
      "cell_type": "markdown",
      "metadata": {
        "id": "r1N30ZAZke6J"
      },
      "source": [
        "# missing value analysis and some required preprocessing...."
      ]
    },
    {
      "cell_type": "code",
      "metadata": {
        "id": "U-lvEf4HkIpb",
        "outputId": "3df0dba8-48d7-41cb-8827-1c070a10cd32"
      },
      "source": [
        "df.isna().sum()/df.shape[1]"
      ],
      "execution_count": null,
      "outputs": [
        {
          "output_type": "execute_result",
          "data": {
            "text/plain": [
              "id                    0.00\n",
              "gender                0.00\n",
              "age                   0.00\n",
              "hypertension          0.00\n",
              "heart_disease         0.00\n",
              "ever_married          0.00\n",
              "work_type             0.00\n",
              "Residence_type        0.00\n",
              "avg_glucose_level     0.00\n",
              "bmi                  16.75\n",
              "smoking_status        0.00\n",
              "stroke                0.00\n",
              "dtype: float64"
            ]
          },
          "metadata": {
            "tags": []
          },
          "execution_count": 44
        }
      ]
    },
    {
      "cell_type": "code",
      "metadata": {
        "id": "NaL8y0ktkIpb",
        "outputId": "c3e81849-2832-4841-e51f-c053a7a78fd0"
      },
      "source": [
        "df['bmi'].describe()"
      ],
      "execution_count": null,
      "outputs": [
        {
          "output_type": "execute_result",
          "data": {
            "text/plain": [
              "count    4909.000000\n",
              "mean       28.893237\n",
              "std         7.854067\n",
              "min        10.300000\n",
              "25%        23.500000\n",
              "50%        28.100000\n",
              "75%        33.100000\n",
              "max        97.600000\n",
              "Name: bmi, dtype: float64"
            ]
          },
          "metadata": {
            "tags": []
          },
          "execution_count": 45
        }
      ]
    },
    {
      "cell_type": "code",
      "metadata": {
        "scrolled": true,
        "id": "BALr6hVykIpc",
        "outputId": "cb78bf2b-3602-4db1-cf40-d564586ac225"
      },
      "source": [
        "sns.distplot(np.round(df['bmi']))"
      ],
      "execution_count": null,
      "outputs": [
        {
          "output_type": "stream",
          "text": [
            "C:\\Users\\rvkmc\\anaconda3\\lib\\site-packages\\seaborn\\distributions.py:2551: FutureWarning: `distplot` is a deprecated function and will be removed in a future version. Please adapt your code to use either `displot` (a figure-level function with similar flexibility) or `histplot` (an axes-level function for histograms).\n",
            "  warnings.warn(msg, FutureWarning)\n"
          ],
          "name": "stderr"
        },
        {
          "output_type": "execute_result",
          "data": {
            "text/plain": [
              "<AxesSubplot:xlabel='bmi', ylabel='Density'>"
            ]
          },
          "metadata": {
            "tags": []
          },
          "execution_count": 46
        },
        {
          "output_type": "display_data",
          "data": {
            "image/png": "[encoded data removed]",
            "text/plain": [
              "<Figure size 432x288 with 1 Axes>"
            ]
          },
          "metadata": {
            "tags": [],
            "needs_background": "light"
          }
        }
      ]
    },
    {
      "cell_type": "code",
      "metadata": {
        "id": "WM_g5X30kIpc",
        "outputId": "08705213-3fb0-45b1-b5f1-d811b6bcbc67"
      },
      "source": [
        "df['bmi'].value_counts()"
      ],
      "execution_count": null,
      "outputs": [
        {
          "output_type": "execute_result",
          "data": {
            "text/plain": [
              "28.7    41\n",
              "28.4    38\n",
              "26.7    37\n",
              "27.7    37\n",
              "26.1    37\n",
              "        ..\n",
              "13.9     1\n",
              "49.9     1\n",
              "40.6     1\n",
              "52.3     1\n",
              "44.1     1\n",
              "Name: bmi, Length: 418, dtype: int64"
            ]
          },
          "metadata": {
            "tags": []
          },
          "execution_count": 47
        }
      ]
    },
    {
      "cell_type": "code",
      "metadata": {
        "id": "GjEhn22dkIpd"
      },
      "source": [
        "df['bmi'].fillna(28.7,inplace=True)"
      ],
      "execution_count": null,
      "outputs": []
    },
    {
      "cell_type": "code",
      "metadata": {
        "id": "3jCh_KxXkIpd",
        "outputId": "e4cf6766-8482-42f4-aaad-85edafc780d5"
      },
      "source": [
        "df.isna().sum()/df.shape[1]"
      ],
      "execution_count": null,
      "outputs": [
        {
          "output_type": "execute_result",
          "data": {
            "text/plain": [
              "id                   0.0\n",
              "gender               0.0\n",
              "age                  0.0\n",
              "hypertension         0.0\n",
              "heart_disease        0.0\n",
              "ever_married         0.0\n",
              "work_type            0.0\n",
              "Residence_type       0.0\n",
              "avg_glucose_level    0.0\n",
              "bmi                  0.0\n",
              "smoking_status       0.0\n",
              "stroke               0.0\n",
              "dtype: float64"
            ]
          },
          "metadata": {
            "tags": []
          },
          "execution_count": 49
        }
      ]
    },
    {
      "cell_type": "code",
      "metadata": {
        "id": "KiYsxNr3kIpd"
      },
      "source": [
        "df = df.drop(columns=['id'])"
      ],
      "execution_count": null,
      "outputs": []
    },
    {
      "cell_type": "code",
      "metadata": {
        "scrolled": false,
        "id": "974M_WGYkIpf",
        "outputId": "9c96d2df-6521-489f-b6ed-f54224dcac87"
      },
      "source": [
        "df.isna().sum()/df.shape[1]"
      ],
      "execution_count": null,
      "outputs": [
        {
          "output_type": "execute_result",
          "data": {
            "text/plain": [
              "gender               0.0\n",
              "age                  0.0\n",
              "hypertension         0.0\n",
              "heart_disease        0.0\n",
              "ever_married         0.0\n",
              "work_type            0.0\n",
              "Residence_type       0.0\n",
              "avg_glucose_level    0.0\n",
              "bmi                  0.0\n",
              "smoking_status       0.0\n",
              "stroke               0.0\n",
              "dtype: float64"
            ]
          },
          "metadata": {
            "tags": []
          },
          "execution_count": 51
        }
      ]
    },
    {
      "cell_type": "code",
      "metadata": {
        "id": "2plHDwZ6kIpf"
      },
      "source": [
        "df1 = pd.get_dummies(data=df,drop_first=True)\n",
        "df11 = pd.get_dummies(data=df,drop_first=False)"
      ],
      "execution_count": null,
      "outputs": []
    },
    {
      "cell_type": "code",
      "metadata": {
        "id": "C7uJPqfqkIpf",
        "outputId": "c2b64dee-4e8e-4447-a0ad-7b14d30c3435"
      },
      "source": [
        "df1"
      ],
      "execution_count": null,
      "outputs": [
        {
          "output_type": "execute_result",
          "data": {
            "text/html": [
              "<div>\n",
              "<style scoped>\n",
              "    .dataframe tbody tr th:only-of-type {\n",
              "        vertical-align: middle;\n",
              "    }\n",
              "\n",
              "    .dataframe tbody tr th {\n",
              "        vertical-align: top;\n",
              "    }\n",
              "\n",
              "    .dataframe thead th {\n",
              "        text-align: right;\n",
              "    }\n",
              "</style>\n",
              "<table border=\"1\" class=\"dataframe\">\n",
              "  <thead>\n",
              "    <tr style=\"text-align: right;\">\n",
              "      <th></th>\n",
              "      <th>age</th>\n",
              "      <th>hypertension</th>\n",
              "      <th>heart_disease</th>\n",
              "      <th>avg_glucose_level</th>\n",
              "      <th>bmi</th>\n",
              "      <th>stroke</th>\n",
              "      <th>gender_Male</th>\n",
              "      <th>gender_Other</th>\n",
              "      <th>ever_married_Yes</th>\n",
              "      <th>work_type_Never_worked</th>\n",
              "      <th>work_type_Private</th>\n",
              "      <th>work_type_Self-employed</th>\n",
              "      <th>work_type_children</th>\n",
              "      <th>Residence_type_Urban</th>\n",
              "      <th>smoking_status_formerly smoked</th>\n",
              "      <th>smoking_status_never smoked</th>\n",
              "      <th>smoking_status_smokes</th>\n",
              "    </tr>\n",
              "  </thead>\n",
              "  <tbody>\n",
              "    <tr>\n",
              "      <th>0</th>\n",
              "      <td>67.0</td>\n",
              "      <td>0</td>\n",
              "      <td>1</td>\n",
              "      <td>228.69</td>\n",
              "      <td>36.6</td>\n",
              "      <td>1</td>\n",
              "      <td>1</td>\n",
              "      <td>0</td>\n",
              "      <td>1</td>\n",
              "      <td>0</td>\n",
              "      <td>1</td>\n",
              "      <td>0</td>\n",
              "      <td>0</td>\n",
              "      <td>1</td>\n",
              "      <td>1</td>\n",
              "      <td>0</td>\n",
              "      <td>0</td>\n",
              "    </tr>\n",
              "    <tr>\n",
              "      <th>1</th>\n",
              "      <td>61.0</td>\n",
              "      <td>0</td>\n",
              "      <td>0</td>\n",
              "      <td>202.21</td>\n",
              "      <td>28.7</td>\n",
              "      <td>1</td>\n",
              "      <td>0</td>\n",
              "      <td>0</td>\n",
              "      <td>1</td>\n",
              "      <td>0</td>\n",
              "      <td>0</td>\n",
              "      <td>1</td>\n",
              "      <td>0</td>\n",
              "      <td>0</td>\n",
              "      <td>0</td>\n",
              "      <td>1</td>\n",
              "      <td>0</td>\n",
              "    </tr>\n",
              "    <tr>\n",
              "      <th>2</th>\n",
              "      <td>80.0</td>\n",
              "      <td>0</td>\n",
              "      <td>1</td>\n",
              "      <td>105.92</td>\n",
              "      <td>32.5</td>\n",
              "      <td>1</td>\n",
              "      <td>1</td>\n",
              "      <td>0</td>\n",
              "      <td>1</td>\n",
              "      <td>0</td>\n",
              "      <td>1</td>\n",
              "      <td>0</td>\n",
              "      <td>0</td>\n",
              "      <td>0</td>\n",
              "      <td>0</td>\n",
              "      <td>1</td>\n",
              "      <td>0</td>\n",
              "    </tr>\n",
              "    <tr>\n",
              "      <th>3</th>\n",
              "      <td>49.0</td>\n",
              "      <td>0</td>\n",
              "      <td>0</td>\n",
              "      <td>171.23</td>\n",
              "      <td>34.4</td>\n",
              "      <td>1</td>\n",
              "      <td>0</td>\n",
              "      <td>0</td>\n",
              "      <td>1</td>\n",
              "      <td>0</td>\n",
              "      <td>1</td>\n",
              "      <td>0</td>\n",
              "      <td>0</td>\n",
              "      <td>1</td>\n",
              "      <td>0</td>\n",
              "      <td>0</td>\n",
              "      <td>1</td>\n",
              "    </tr>\n",
              "    <tr>\n",
              "      <th>4</th>\n",
              "      <td>79.0</td>\n",
              "      <td>1</td>\n",
              "      <td>0</td>\n",
              "      <td>174.12</td>\n",
              "      <td>24.0</td>\n",
              "      <td>1</td>\n",
              "      <td>0</td>\n",
              "      <td>0</td>\n",
              "      <td>1</td>\n",
              "      <td>0</td>\n",
              "      <td>0</td>\n",
              "      <td>1</td>\n",
              "      <td>0</td>\n",
              "      <td>0</td>\n",
              "      <td>0</td>\n",
              "      <td>1</td>\n",
              "      <td>0</td>\n",
              "    </tr>\n",
              "    <tr>\n",
              "      <th>...</th>\n",
              "      <td>...</td>\n",
              "      <td>...</td>\n",
              "      <td>...</td>\n",
              "      <td>...</td>\n",
              "      <td>...</td>\n",
              "      <td>...</td>\n",
              "      <td>...</td>\n",
              "      <td>...</td>\n",
              "      <td>...</td>\n",
              "      <td>...</td>\n",
              "      <td>...</td>\n",
              "      <td>...</td>\n",
              "      <td>...</td>\n",
              "      <td>...</td>\n",
              "      <td>...</td>\n",
              "      <td>...</td>\n",
              "      <td>...</td>\n",
              "    </tr>\n",
              "    <tr>\n",
              "      <th>5105</th>\n",
              "      <td>80.0</td>\n",
              "      <td>1</td>\n",
              "      <td>0</td>\n",
              "      <td>83.75</td>\n",
              "      <td>28.7</td>\n",
              "      <td>0</td>\n",
              "      <td>0</td>\n",
              "      <td>0</td>\n",
              "      <td>1</td>\n",
              "      <td>0</td>\n",
              "      <td>1</td>\n",
              "      <td>0</td>\n",
              "      <td>0</td>\n",
              "      <td>1</td>\n",
              "      <td>0</td>\n",
              "      <td>1</td>\n",
              "      <td>0</td>\n",
              "    </tr>\n",
              "    <tr>\n",
              "      <th>5106</th>\n",
              "      <td>81.0</td>\n",
              "      <td>0</td>\n",
              "      <td>0</td>\n",
              "      <td>125.20</td>\n",
              "      <td>40.0</td>\n",
              "      <td>0</td>\n",
              "      <td>0</td>\n",
              "      <td>0</td>\n",
              "      <td>1</td>\n",
              "      <td>0</td>\n",
              "      <td>0</td>\n",
              "      <td>1</td>\n",
              "      <td>0</td>\n",
              "      <td>1</td>\n",
              "      <td>0</td>\n",
              "      <td>1</td>\n",
              "      <td>0</td>\n",
              "    </tr>\n",
              "    <tr>\n",
              "      <th>5107</th>\n",
              "      <td>35.0</td>\n",
              "      <td>0</td>\n",
              "      <td>0</td>\n",
              "      <td>82.99</td>\n",
              "      <td>30.6</td>\n",
              "      <td>0</td>\n",
              "      <td>0</td>\n",
              "      <td>0</td>\n",
              "      <td>1</td>\n",
              "      <td>0</td>\n",
              "      <td>0</td>\n",
              "      <td>1</td>\n",
              "      <td>0</td>\n",
              "      <td>0</td>\n",
              "      <td>0</td>\n",
              "      <td>1</td>\n",
              "      <td>0</td>\n",
              "    </tr>\n",
              "    <tr>\n",
              "      <th>5108</th>\n",
              "      <td>51.0</td>\n",
              "      <td>0</td>\n",
              "      <td>0</td>\n",
              "      <td>166.29</td>\n",
              "      <td>25.6</td>\n",
              "      <td>0</td>\n",
              "      <td>1</td>\n",
              "      <td>0</td>\n",
              "      <td>1</td>\n",
              "      <td>0</td>\n",
              "      <td>1</td>\n",
              "      <td>0</td>\n",
              "      <td>0</td>\n",
              "      <td>0</td>\n",
              "      <td>1</td>\n",
              "      <td>0</td>\n",
              "      <td>0</td>\n",
              "    </tr>\n",
              "    <tr>\n",
              "      <th>5109</th>\n",
              "      <td>44.0</td>\n",
              "      <td>0</td>\n",
              "      <td>0</td>\n",
              "      <td>85.28</td>\n",
              "      <td>26.2</td>\n",
              "      <td>0</td>\n",
              "      <td>0</td>\n",
              "      <td>0</td>\n",
              "      <td>1</td>\n",
              "      <td>0</td>\n",
              "      <td>0</td>\n",
              "      <td>0</td>\n",
              "      <td>0</td>\n",
              "      <td>1</td>\n",
              "      <td>0</td>\n",
              "      <td>0</td>\n",
              "      <td>0</td>\n",
              "    </tr>\n",
              "  </tbody>\n",
              "</table>\n",
              "<p>5110 rows × 17 columns</p>\n",
              "</div>"
            ],
            "text/plain": [
              "       age  hypertension  heart_disease  avg_glucose_level   bmi  stroke  \\\n",
              "0     67.0             0              1             228.69  36.6       1   \n",
              "1     61.0             0              0             202.21  28.7       1   \n",
              "2     80.0             0              1             105.92  32.5       1   \n",
              "3     49.0             0              0             171.23  34.4       1   \n",
              "4     79.0             1              0             174.12  24.0       1   \n",
              "...    ...           ...            ...                ...   ...     ...   \n",
              "5105  80.0             1              0              83.75  28.7       0   \n",
              "5106  81.0             0              0             125.20  40.0       0   \n",
              "5107  35.0             0              0              82.99  30.6       0   \n",
              "5108  51.0             0              0             166.29  25.6       0   \n",
              "5109  44.0             0              0              85.28  26.2       0   \n",
              "\n",
              "      gender_Male  gender_Other  ever_married_Yes  work_type_Never_worked  \\\n",
              "0               1             0                 1                       0   \n",
              "1               0             0                 1                       0   \n",
              "2               1             0                 1                       0   \n",
              "3               0             0                 1                       0   \n",
              "4               0             0                 1                       0   \n",
              "...           ...           ...               ...                     ...   \n",
              "5105            0             0                 1                       0   \n",
              "5106            0             0                 1                       0   \n",
              "5107            0             0                 1                       0   \n",
              "5108            1             0                 1                       0   \n",
              "5109            0             0                 1                       0   \n",
              "\n",
              "      work_type_Private  work_type_Self-employed  work_type_children  \\\n",
              "0                     1                        0                   0   \n",
              "1                     0                        1                   0   \n",
              "2                     1                        0                   0   \n",
              "3                     1                        0                   0   \n",
              "4                     0                        1                   0   \n",
              "...                 ...                      ...                 ...   \n",
              "5105                  1                        0                   0   \n",
              "5106                  0                        1                   0   \n",
              "5107                  0                        1                   0   \n",
              "5108                  1                        0                   0   \n",
              "5109                  0                        0                   0   \n",
              "\n",
              "      Residence_type_Urban  smoking_status_formerly smoked  \\\n",
              "0                        1                               1   \n",
              "1                        0                               0   \n",
              "2                        0                               0   \n",
              "3                        1                               0   \n",
              "4                        0                               0   \n",
              "...                    ...                             ...   \n",
              "5105                     1                               0   \n",
              "5106                     1                               0   \n",
              "5107                     0                               0   \n",
              "5108                     0                               1   \n",
              "5109                     1                               0   \n",
              "\n",
              "      smoking_status_never smoked  smoking_status_smokes  \n",
              "0                               0                      0  \n",
              "1                               1                      0  \n",
              "2                               1                      0  \n",
              "3                               0                      1  \n",
              "4                               1                      0  \n",
              "...                           ...                    ...  \n",
              "5105                            1                      0  \n",
              "5106                            1                      0  \n",
              "5107                            1                      0  \n",
              "5108                            0                      0  \n",
              "5109                            0                      0  \n",
              "\n",
              "[5110 rows x 17 columns]"
            ]
          },
          "metadata": {
            "tags": []
          },
          "execution_count": 53
        }
      ]
    },
    {
      "cell_type": "code",
      "metadata": {
        "id": "EfM9IXZgkIpf"
      },
      "source": [
        "X,y = df1.drop(columns=['stroke']),df1['stroke']"
      ],
      "execution_count": null,
      "outputs": []
    },
    {
      "cell_type": "code",
      "metadata": {
        "id": "aEjK6nxMkIpg"
      },
      "source": [
        "from sklearn.model_selection import train_test_split,GridSearchCV,StratifiedKFold"
      ],
      "execution_count": null,
      "outputs": []
    },
    {
      "cell_type": "code",
      "metadata": {
        "id": "R7vtMzIakIpg"
      },
      "source": [
        "from sklearn.ensemble import RandomForestClassifier\n",
        "from xgboost import XGBClassifier"
      ],
      "execution_count": null,
      "outputs": []
    },
    {
      "cell_type": "markdown",
      "metadata": {
        "id": "T4nwy8FCkuSq"
      },
      "source": [
        "# train-test split and model training....."
      ]
    },
    {
      "cell_type": "code",
      "metadata": {
        "id": "ajKYQUBekIpg"
      },
      "source": [
        "xtr,xts,ytr,yts = train_test_split(X,y,random_state=123,train_size=.7)"
      ],
      "execution_count": null,
      "outputs": []
    },
    {
      "cell_type": "code",
      "metadata": {
        "id": "OsMrYsoTkIph"
      },
      "source": [
        "prmgrd = {\n",
        "    'n_estimators':[150,200,250,300],\n",
        "    'criterion':['gini','entropy'],\n",
        "    'n_jobs':[-1],\n",
        "    'random_state':[123],\n",
        "    'max_features':['sqrt','log2']\n",
        "}"
      ],
      "execution_count": null,
      "outputs": []
    },
    {
      "cell_type": "code",
      "metadata": {
        "id": "dNxHrUt7kIph"
      },
      "source": [
        "gcvrf = GridSearchCV(estimator=RandomForestClassifier(),param_grid=prmgrd,n_jobs=-1)"
      ],
      "execution_count": null,
      "outputs": []
    },
    {
      "cell_type": "code",
      "metadata": {
        "id": "UAuK3bhhkIpi",
        "outputId": "d956f07f-d399-4538-871d-b9780ab18502"
      },
      "source": [
        "#gcvrf.fit(xtr,ytr)\n",
        "gcvrf.fit(xtr,ytr)"
      ],
      "execution_count": null,
      "outputs": [
        {
          "output_type": "execute_result",
          "data": {
            "text/plain": [
              "GridSearchCV(estimator=RandomForestClassifier(), n_jobs=-1,\n",
              "             param_grid={'criterion': ['gini', 'entropy'],\n",
              "                         'max_features': ['sqrt', 'log2'],\n",
              "                         'n_estimators': [150, 200, 250, 300], 'n_jobs': [-1],\n",
              "                         'random_state': [123]})"
            ]
          },
          "metadata": {
            "tags": []
          },
          "execution_count": 60
        }
      ]
    },
    {
      "cell_type": "code",
      "metadata": {
        "id": "ZSuUTLJ0kIpi",
        "outputId": "fcbc1785-80ea-41ce-96dd-89f06997d0e2"
      },
      "source": [
        "gcvrf.best_params_"
      ],
      "execution_count": null,
      "outputs": [
        {
          "output_type": "execute_result",
          "data": {
            "text/plain": [
              "{'criterion': 'entropy',\n",
              " 'max_features': 'sqrt',\n",
              " 'n_estimators': 250,\n",
              " 'n_jobs': -1,\n",
              " 'random_state': 123}"
            ]
          },
          "metadata": {
            "tags": []
          },
          "execution_count": 61
        }
      ]
    },
    {
      "cell_type": "code",
      "metadata": {
        "id": "cdcMJoYFkIpi",
        "outputId": "4810f412-13e0-47b0-b120-17e902f68737"
      },
      "source": [
        "gcvrf.score(xtr,ytr),gcvrf.score(xts,yts)"
      ],
      "execution_count": null,
      "outputs": [
        {
          "output_type": "execute_result",
          "data": {
            "text/plain": [
              "(1.0, 0.954337899543379)"
            ]
          },
          "metadata": {
            "tags": []
          },
          "execution_count": 62
        }
      ]
    },
    {
      "cell_type": "code",
      "metadata": {
        "code_folding": [],
        "id": "f0JCplW4kIpj"
      },
      "source": [
        "prmgrd1 = {\n",
        "    'n_estimators':[150,200,250],\n",
        "    'n_jobs':[-1],\n",
        "    'booster':['gbtree','gblinear','dart'],\n",
        "    'random_state':[123]\n",
        "}"
      ],
      "execution_count": null,
      "outputs": []
    },
    {
      "cell_type": "code",
      "metadata": {
        "id": "-O0dAPumkIpj"
      },
      "source": [
        "gcvxg = GridSearchCV(estimator=XGBClassifier(),param_grid=prmgrd1,n_jobs=-1)"
      ],
      "execution_count": null,
      "outputs": []
    },
    {
      "cell_type": "code",
      "metadata": {
        "id": "BKMML-SSkIpj",
        "outputId": "e3d8a64d-d3a2-4b8d-f779-5c53b244ccb7"
      },
      "source": [
        "gcvxg.fit(xtr,ytr)"
      ],
      "execution_count": null,
      "outputs": [
        {
          "output_type": "stream",
          "text": [
            "C:\\Users\\rvkmc\\anaconda3\\lib\\site-packages\\xgboost\\sklearn.py:892: UserWarning: The use of label encoder in XGBClassifier is deprecated and will be removed in a future release. To remove this warning, do the following: 1) Pass option use_label_encoder=False when constructing XGBClassifier object; and 2) Encode your labels (y) as integers starting with 0, i.e. 0, 1, 2, ..., [num_class - 1].\n",
            "  warnings.warn(label_encoder_deprecation_msg, UserWarning)\n"
          ],
          "name": "stderr"
        },
        {
          "output_type": "stream",
          "text": [
            "[20:59:22] WARNING: C:/Users/Administrator/workspace/xgboost-win64_release_1.3.0/src/learner.cc:1061: Starting in XGBoost 1.3.0, the default evaluation metric used with the objective 'binary:logistic' was changed from 'error' to 'logloss'. Explicitly set eval_metric if you'd like to restore the old behavior.\n"
          ],
          "name": "stdout"
        },
        {
          "output_type": "execute_result",
          "data": {
            "text/plain": [
              "GridSearchCV(estimator=XGBClassifier(base_score=None, booster=None,\n",
              "                                     colsample_bylevel=None,\n",
              "                                     colsample_bynode=None,\n",
              "                                     colsample_bytree=None, gamma=None,\n",
              "                                     gpu_id=None, importance_type='gain',\n",
              "                                     interaction_constraints=None,\n",
              "                                     learning_rate=None, max_delta_step=None,\n",
              "                                     max_depth=None, min_child_weight=None,\n",
              "                                     missing=nan, monotone_constraints=None,\n",
              "                                     n_estimators=100, n_jobs=None,\n",
              "                                     num_parallel_tree=None, random_state=None,\n",
              "                                     reg_alpha=None, reg_lambda=None,\n",
              "                                     scale_pos_weight=None, subsample=None,\n",
              "                                     tree_method=None, validate_parameters=None,\n",
              "                                     verbosity=None),\n",
              "             n_jobs=-1,\n",
              "             param_grid={'booster': ['gbtree', 'gblinear', 'dart'],\n",
              "                         'n_estimators': [150, 200, 250], 'n_jobs': [-1],\n",
              "                         'random_state': [123]})"
            ]
          },
          "metadata": {
            "tags": []
          },
          "execution_count": 65
        }
      ]
    },
    {
      "cell_type": "code",
      "metadata": {
        "scrolled": true,
        "id": "gvtdSYjTkIpk",
        "outputId": "ee2364fa-ab0d-4331-cee2-afe2e283ef8c"
      },
      "source": [
        "gcvxg.score(xtr,ytr),gcvxg.score(xts,yts)"
      ],
      "execution_count": null,
      "outputs": [
        {
          "output_type": "execute_result",
          "data": {
            "text/plain": [
              "(0.9488398098965614, 0.9562948467058056)"
            ]
          },
          "metadata": {
            "tags": []
          },
          "execution_count": 66
        }
      ]
    },
    {
      "cell_type": "code",
      "metadata": {
        "id": "4GpgoEwckIpk",
        "outputId": "7fbe4db1-ca39-46b5-f9f8-602d0a51bd8a"
      },
      "source": [
        "gcvxg.best_params_"
      ],
      "execution_count": null,
      "outputs": [
        {
          "output_type": "execute_result",
          "data": {
            "text/plain": [
              "{'booster': 'gblinear', 'n_estimators': 200, 'n_jobs': -1, 'random_state': 123}"
            ]
          },
          "metadata": {
            "tags": []
          },
          "execution_count": 67
        }
      ]
    },
    {
      "cell_type": "code",
      "metadata": {
        "id": "JqpaK_EekIpk"
      },
      "source": [
        "skf = StratifiedKFold(n_splits=10,shuffle=True,random_state=123)"
      ],
      "execution_count": null,
      "outputs": []
    },
    {
      "cell_type": "code",
      "metadata": {
        "id": "wNd6AxPjkIpk"
      },
      "source": [
        "bstrf = RandomForestClassifier(criterion='gini',max_features='sqrt',n_estimators=200,n_jobs=-1,random_state=123)"
      ],
      "execution_count": null,
      "outputs": []
    },
    {
      "cell_type": "code",
      "metadata": {
        "id": "-b_7AKWUkIpl"
      },
      "source": [
        "bstxg = XGBClassifier(booster='gblinear',n_estimators=200,n_jobs=-1,random_state=123)"
      ],
      "execution_count": null,
      "outputs": []
    },
    {
      "cell_type": "code",
      "metadata": {
        "code_folding": [],
        "id": "0Hm6FQT7kIpl",
        "outputId": "f0fc4497-0249-44fa-8ee6-a8fa8477ded8"
      },
      "source": [
        "for tri,tsi in skf.split(X,y):\n",
        "    xtrf,xtsf = X.iloc[tri],X.iloc[tsi]\n",
        "    ytrf,ytsf = y.iloc[tri],y.iloc[tsi]\n",
        "    bstrf.fit(xtrf,ytrf)\n",
        "    bstxg.fit(xtrf,ytrf)"
      ],
      "execution_count": null,
      "outputs": [
        {
          "output_type": "execute_result",
          "data": {
            "text/plain": [
              "RandomForestClassifier(max_features='sqrt', n_estimators=200, n_jobs=-1,\n",
              "                       random_state=123)"
            ]
          },
          "metadata": {
            "tags": []
          },
          "execution_count": 71
        },
        {
          "output_type": "stream",
          "text": [
            "[21:11:07] WARNING: C:/Users/Administrator/workspace/xgboost-win64_release_1.3.0/src/learner.cc:1061: Starting in XGBoost 1.3.0, the default evaluation metric used with the objective 'binary:logistic' was changed from 'error' to 'logloss'. Explicitly set eval_metric if you'd like to restore the old behavior.\n"
          ],
          "name": "stdout"
        },
        {
          "output_type": "stream",
          "text": [
            "C:\\Users\\rvkmc\\anaconda3\\lib\\site-packages\\xgboost\\sklearn.py:892: UserWarning: The use of label encoder in XGBClassifier is deprecated and will be removed in a future release. To remove this warning, do the following: 1) Pass option use_label_encoder=False when constructing XGBClassifier object; and 2) Encode your labels (y) as integers starting with 0, i.e. 0, 1, 2, ..., [num_class - 1].\n",
            "  warnings.warn(label_encoder_deprecation_msg, UserWarning)\n"
          ],
          "name": "stderr"
        },
        {
          "output_type": "execute_result",
          "data": {
            "text/plain": [
              "XGBClassifier(base_score=0.5, booster='gblinear', colsample_bylevel=None,\n",
              "              colsample_bynode=None, colsample_bytree=None, gamma=None,\n",
              "              gpu_id=-1, importance_type='gain', interaction_constraints=None,\n",
              "              learning_rate=0.5, max_delta_step=None, max_depth=None,\n",
              "              min_child_weight=None, missing=nan, monotone_constraints=None,\n",
              "              n_estimators=200, n_jobs=-1, num_parallel_tree=None,\n",
              "              random_state=123, reg_alpha=0, reg_lambda=0, scale_pos_weight=1,\n",
              "              subsample=None, tree_method=None, validate_parameters=1,\n",
              "              verbosity=None)"
            ]
          },
          "metadata": {
            "tags": []
          },
          "execution_count": 71
        },
        {
          "output_type": "execute_result",
          "data": {
            "text/plain": [
              "RandomForestClassifier(max_features='sqrt', n_estimators=200, n_jobs=-1,\n",
              "                       random_state=123)"
            ]
          },
          "metadata": {
            "tags": []
          },
          "execution_count": 71
        },
        {
          "output_type": "stream",
          "text": [
            "[21:11:07] WARNING: C:/Users/Administrator/workspace/xgboost-win64_release_1.3.0/src/learner.cc:1061: Starting in XGBoost 1.3.0, the default evaluation metric used with the objective 'binary:logistic' was changed from 'error' to 'logloss'. Explicitly set eval_metric if you'd like to restore the old behavior.\n"
          ],
          "name": "stdout"
        },
        {
          "output_type": "stream",
          "text": [
            "C:\\Users\\rvkmc\\anaconda3\\lib\\site-packages\\xgboost\\sklearn.py:892: UserWarning: The use of label encoder in XGBClassifier is deprecated and will be removed in a future release. To remove this warning, do the following: 1) Pass option use_label_encoder=False when constructing XGBClassifier object; and 2) Encode your labels (y) as integers starting with 0, i.e. 0, 1, 2, ..., [num_class - 1].\n",
            "  warnings.warn(label_encoder_deprecation_msg, UserWarning)\n"
          ],
          "name": "stderr"
        },
        {
          "output_type": "execute_result",
          "data": {
            "text/plain": [
              "XGBClassifier(base_score=0.5, booster='gblinear', colsample_bylevel=None,\n",
              "              colsample_bynode=None, colsample_bytree=None, gamma=None,\n",
              "              gpu_id=-1, importance_type='gain', interaction_constraints=None,\n",
              "              learning_rate=0.5, max_delta_step=None, max_depth=None,\n",
              "              min_child_weight=None, missing=nan, monotone_constraints=None,\n",
              "              n_estimators=200, n_jobs=-1, num_parallel_tree=None,\n",
              "              random_state=123, reg_alpha=0, reg_lambda=0, scale_pos_weight=1,\n",
              "              subsample=None, tree_method=None, validate_parameters=1,\n",
              "              verbosity=None)"
            ]
          },
          "metadata": {
            "tags": []
          },
          "execution_count": 71
        },
        {
          "output_type": "execute_result",
          "data": {
            "text/plain": [
              "RandomForestClassifier(max_features='sqrt', n_estimators=200, n_jobs=-1,\n",
              "                       random_state=123)"
            ]
          },
          "metadata": {
            "tags": []
          },
          "execution_count": 71
        },
        {
          "output_type": "stream",
          "text": [
            "[21:11:08] WARNING: C:/Users/Administrator/workspace/xgboost-win64_release_1.3.0/src/learner.cc:1061: Starting in XGBoost 1.3.0, the default evaluation metric used with the objective 'binary:logistic' was changed from 'error' to 'logloss'. Explicitly set eval_metric if you'd like to restore the old behavior.\n"
          ],
          "name": "stdout"
        },
        {
          "output_type": "stream",
          "text": [
            "C:\\Users\\rvkmc\\anaconda3\\lib\\site-packages\\xgboost\\sklearn.py:892: UserWarning: The use of label encoder in XGBClassifier is deprecated and will be removed in a future release. To remove this warning, do the following: 1) Pass option use_label_encoder=False when constructing XGBClassifier object; and 2) Encode your labels (y) as integers starting with 0, i.e. 0, 1, 2, ..., [num_class - 1].\n",
            "  warnings.warn(label_encoder_deprecation_msg, UserWarning)\n"
          ],
          "name": "stderr"
        },
        {
          "output_type": "execute_result",
          "data": {
            "text/plain": [
              "XGBClassifier(base_score=0.5, booster='gblinear', colsample_bylevel=None,\n",
              "              colsample_bynode=None, colsample_bytree=None, gamma=None,\n",
              "              gpu_id=-1, importance_type='gain', interaction_constraints=None,\n",
              "              learning_rate=0.5, max_delta_step=None, max_depth=None,\n",
              "              min_child_weight=None, missing=nan, monotone_constraints=None,\n",
              "              n_estimators=200, n_jobs=-1, num_parallel_tree=None,\n",
              "              random_state=123, reg_alpha=0, reg_lambda=0, scale_pos_weight=1,\n",
              "              subsample=None, tree_method=None, validate_parameters=1,\n",
              "              verbosity=None)"
            ]
          },
          "metadata": {
            "tags": []
          },
          "execution_count": 71
        },
        {
          "output_type": "execute_result",
          "data": {
            "text/plain": [
              "RandomForestClassifier(max_features='sqrt', n_estimators=200, n_jobs=-1,\n",
              "                       random_state=123)"
            ]
          },
          "metadata": {
            "tags": []
          },
          "execution_count": 71
        },
        {
          "output_type": "stream",
          "text": [
            "[21:11:08] WARNING: C:/Users/Administrator/workspace/xgboost-win64_release_1.3.0/src/learner.cc:1061: Starting in XGBoost 1.3.0, the default evaluation metric used with the objective 'binary:logistic' was changed from 'error' to 'logloss'. Explicitly set eval_metric if you'd like to restore the old behavior.\n"
          ],
          "name": "stdout"
        },
        {
          "output_type": "stream",
          "text": [
            "C:\\Users\\rvkmc\\anaconda3\\lib\\site-packages\\xgboost\\sklearn.py:892: UserWarning: The use of label encoder in XGBClassifier is deprecated and will be removed in a future release. To remove this warning, do the following: 1) Pass option use_label_encoder=False when constructing XGBClassifier object; and 2) Encode your labels (y) as integers starting with 0, i.e. 0, 1, 2, ..., [num_class - 1].\n",
            "  warnings.warn(label_encoder_deprecation_msg, UserWarning)\n"
          ],
          "name": "stderr"
        },
        {
          "output_type": "execute_result",
          "data": {
            "text/plain": [
              "XGBClassifier(base_score=0.5, booster='gblinear', colsample_bylevel=None,\n",
              "              colsample_bynode=None, colsample_bytree=None, gamma=None,\n",
              "              gpu_id=-1, importance_type='gain', interaction_constraints=None,\n",
              "              learning_rate=0.5, max_delta_step=None, max_depth=None,\n",
              "              min_child_weight=None, missing=nan, monotone_constraints=None,\n",
              "              n_estimators=200, n_jobs=-1, num_parallel_tree=None,\n",
              "              random_state=123, reg_alpha=0, reg_lambda=0, scale_pos_weight=1,\n",
              "              subsample=None, tree_method=None, validate_parameters=1,\n",
              "              verbosity=None)"
            ]
          },
          "metadata": {
            "tags": []
          },
          "execution_count": 71
        },
        {
          "output_type": "execute_result",
          "data": {
            "text/plain": [
              "RandomForestClassifier(max_features='sqrt', n_estimators=200, n_jobs=-1,\n",
              "                       random_state=123)"
            ]
          },
          "metadata": {
            "tags": []
          },
          "execution_count": 71
        },
        {
          "output_type": "stream",
          "text": [
            "[21:11:09] WARNING: C:/Users/Administrator/workspace/xgboost-win64_release_1.3.0/src/learner.cc:1061: Starting in XGBoost 1.3.0, the default evaluation metric used with the objective 'binary:logistic' was changed from 'error' to 'logloss'. Explicitly set eval_metric if you'd like to restore the old behavior.\n"
          ],
          "name": "stdout"
        },
        {
          "output_type": "stream",
          "text": [
            "C:\\Users\\rvkmc\\anaconda3\\lib\\site-packages\\xgboost\\sklearn.py:892: UserWarning: The use of label encoder in XGBClassifier is deprecated and will be removed in a future release. To remove this warning, do the following: 1) Pass option use_label_encoder=False when constructing XGBClassifier object; and 2) Encode your labels (y) as integers starting with 0, i.e. 0, 1, 2, ..., [num_class - 1].\n",
            "  warnings.warn(label_encoder_deprecation_msg, UserWarning)\n"
          ],
          "name": "stderr"
        },
        {
          "output_type": "execute_result",
          "data": {
            "text/plain": [
              "XGBClassifier(base_score=0.5, booster='gblinear', colsample_bylevel=None,\n",
              "              colsample_bynode=None, colsample_bytree=None, gamma=None,\n",
              "              gpu_id=-1, importance_type='gain', interaction_constraints=None,\n",
              "              learning_rate=0.5, max_delta_step=None, max_depth=None,\n",
              "              min_child_weight=None, missing=nan, monotone_constraints=None,\n",
              "              n_estimators=200, n_jobs=-1, num_parallel_tree=None,\n",
              "              random_state=123, reg_alpha=0, reg_lambda=0, scale_pos_weight=1,\n",
              "              subsample=None, tree_method=None, validate_parameters=1,\n",
              "              verbosity=None)"
            ]
          },
          "metadata": {
            "tags": []
          },
          "execution_count": 71
        },
        {
          "output_type": "execute_result",
          "data": {
            "text/plain": [
              "RandomForestClassifier(max_features='sqrt', n_estimators=200, n_jobs=-1,\n",
              "                       random_state=123)"
            ]
          },
          "metadata": {
            "tags": []
          },
          "execution_count": 71
        },
        {
          "output_type": "stream",
          "text": [
            "[21:11:09] WARNING: C:/Users/Administrator/workspace/xgboost-win64_release_1.3.0/src/learner.cc:1061: Starting in XGBoost 1.3.0, the default evaluation metric used with the objective 'binary:logistic' was changed from 'error' to 'logloss'. Explicitly set eval_metric if you'd like to restore the old behavior.\n"
          ],
          "name": "stdout"
        },
        {
          "output_type": "stream",
          "text": [
            "C:\\Users\\rvkmc\\anaconda3\\lib\\site-packages\\xgboost\\sklearn.py:892: UserWarning: The use of label encoder in XGBClassifier is deprecated and will be removed in a future release. To remove this warning, do the following: 1) Pass option use_label_encoder=False when constructing XGBClassifier object; and 2) Encode your labels (y) as integers starting with 0, i.e. 0, 1, 2, ..., [num_class - 1].\n",
            "  warnings.warn(label_encoder_deprecation_msg, UserWarning)\n"
          ],
          "name": "stderr"
        },
        {
          "output_type": "execute_result",
          "data": {
            "text/plain": [
              "XGBClassifier(base_score=0.5, booster='gblinear', colsample_bylevel=None,\n",
              "              colsample_bynode=None, colsample_bytree=None, gamma=None,\n",
              "              gpu_id=-1, importance_type='gain', interaction_constraints=None,\n",
              "              learning_rate=0.5, max_delta_step=None, max_depth=None,\n",
              "              min_child_weight=None, missing=nan, monotone_constraints=None,\n",
              "              n_estimators=200, n_jobs=-1, num_parallel_tree=None,\n",
              "              random_state=123, reg_alpha=0, reg_lambda=0, scale_pos_weight=1,\n",
              "              subsample=None, tree_method=None, validate_parameters=1,\n",
              "              verbosity=None)"
            ]
          },
          "metadata": {
            "tags": []
          },
          "execution_count": 71
        },
        {
          "output_type": "execute_result",
          "data": {
            "text/plain": [
              "RandomForestClassifier(max_features='sqrt', n_estimators=200, n_jobs=-1,\n",
              "                       random_state=123)"
            ]
          },
          "metadata": {
            "tags": []
          },
          "execution_count": 71
        },
        {
          "output_type": "stream",
          "text": [
            "[21:11:10] WARNING: C:/Users/Administrator/workspace/xgboost-win64_release_1.3.0/src/learner.cc:1061: Starting in XGBoost 1.3.0, the default evaluation metric used with the objective 'binary:logistic' was changed from 'error' to 'logloss'. Explicitly set eval_metric if you'd like to restore the old behavior.\n"
          ],
          "name": "stdout"
        },
        {
          "output_type": "stream",
          "text": [
            "C:\\Users\\rvkmc\\anaconda3\\lib\\site-packages\\xgboost\\sklearn.py:892: UserWarning: The use of label encoder in XGBClassifier is deprecated and will be removed in a future release. To remove this warning, do the following: 1) Pass option use_label_encoder=False when constructing XGBClassifier object; and 2) Encode your labels (y) as integers starting with 0, i.e. 0, 1, 2, ..., [num_class - 1].\n",
            "  warnings.warn(label_encoder_deprecation_msg, UserWarning)\n"
          ],
          "name": "stderr"
        },
        {
          "output_type": "execute_result",
          "data": {
            "text/plain": [
              "XGBClassifier(base_score=0.5, booster='gblinear', colsample_bylevel=None,\n",
              "              colsample_bynode=None, colsample_bytree=None, gamma=None,\n",
              "              gpu_id=-1, importance_type='gain', interaction_constraints=None,\n",
              "              learning_rate=0.5, max_delta_step=None, max_depth=None,\n",
              "              min_child_weight=None, missing=nan, monotone_constraints=None,\n",
              "              n_estimators=200, n_jobs=-1, num_parallel_tree=None,\n",
              "              random_state=123, reg_alpha=0, reg_lambda=0, scale_pos_weight=1,\n",
              "              subsample=None, tree_method=None, validate_parameters=1,\n",
              "              verbosity=None)"
            ]
          },
          "metadata": {
            "tags": []
          },
          "execution_count": 71
        },
        {
          "output_type": "execute_result",
          "data": {
            "text/plain": [
              "RandomForestClassifier(max_features='sqrt', n_estimators=200, n_jobs=-1,\n",
              "                       random_state=123)"
            ]
          },
          "metadata": {
            "tags": []
          },
          "execution_count": 71
        },
        {
          "output_type": "stream",
          "text": [
            "[21:11:10] WARNING: C:/Users/Administrator/workspace/xgboost-win64_release_1.3.0/src/learner.cc:1061: Starting in XGBoost 1.3.0, the default evaluation metric used with the objective 'binary:logistic' was changed from 'error' to 'logloss'. Explicitly set eval_metric if you'd like to restore the old behavior.\n"
          ],
          "name": "stdout"
        },
        {
          "output_type": "stream",
          "text": [
            "C:\\Users\\rvkmc\\anaconda3\\lib\\site-packages\\xgboost\\sklearn.py:892: UserWarning: The use of label encoder in XGBClassifier is deprecated and will be removed in a future release. To remove this warning, do the following: 1) Pass option use_label_encoder=False when constructing XGBClassifier object; and 2) Encode your labels (y) as integers starting with 0, i.e. 0, 1, 2, ..., [num_class - 1].\n",
            "  warnings.warn(label_encoder_deprecation_msg, UserWarning)\n"
          ],
          "name": "stderr"
        },
        {
          "output_type": "execute_result",
          "data": {
            "text/plain": [
              "XGBClassifier(base_score=0.5, booster='gblinear', colsample_bylevel=None,\n",
              "              colsample_bynode=None, colsample_bytree=None, gamma=None,\n",
              "              gpu_id=-1, importance_type='gain', interaction_constraints=None,\n",
              "              learning_rate=0.5, max_delta_step=None, max_depth=None,\n",
              "              min_child_weight=None, missing=nan, monotone_constraints=None,\n",
              "              n_estimators=200, n_jobs=-1, num_parallel_tree=None,\n",
              "              random_state=123, reg_alpha=0, reg_lambda=0, scale_pos_weight=1,\n",
              "              subsample=None, tree_method=None, validate_parameters=1,\n",
              "              verbosity=None)"
            ]
          },
          "metadata": {
            "tags": []
          },
          "execution_count": 71
        },
        {
          "output_type": "execute_result",
          "data": {
            "text/plain": [
              "RandomForestClassifier(max_features='sqrt', n_estimators=200, n_jobs=-1,\n",
              "                       random_state=123)"
            ]
          },
          "metadata": {
            "tags": []
          },
          "execution_count": 71
        },
        {
          "output_type": "stream",
          "text": [
            "[21:11:11] WARNING: C:/Users/Administrator/workspace/xgboost-win64_release_1.3.0/src/learner.cc:1061: Starting in XGBoost 1.3.0, the default evaluation metric used with the objective 'binary:logistic' was changed from 'error' to 'logloss'. Explicitly set eval_metric if you'd like to restore the old behavior.\n"
          ],
          "name": "stdout"
        },
        {
          "output_type": "stream",
          "text": [
            "C:\\Users\\rvkmc\\anaconda3\\lib\\site-packages\\xgboost\\sklearn.py:892: UserWarning: The use of label encoder in XGBClassifier is deprecated and will be removed in a future release. To remove this warning, do the following: 1) Pass option use_label_encoder=False when constructing XGBClassifier object; and 2) Encode your labels (y) as integers starting with 0, i.e. 0, 1, 2, ..., [num_class - 1].\n",
            "  warnings.warn(label_encoder_deprecation_msg, UserWarning)\n"
          ],
          "name": "stderr"
        },
        {
          "output_type": "execute_result",
          "data": {
            "text/plain": [
              "XGBClassifier(base_score=0.5, booster='gblinear', colsample_bylevel=None,\n",
              "              colsample_bynode=None, colsample_bytree=None, gamma=None,\n",
              "              gpu_id=-1, importance_type='gain', interaction_constraints=None,\n",
              "              learning_rate=0.5, max_delta_step=None, max_depth=None,\n",
              "              min_child_weight=None, missing=nan, monotone_constraints=None,\n",
              "              n_estimators=200, n_jobs=-1, num_parallel_tree=None,\n",
              "              random_state=123, reg_alpha=0, reg_lambda=0, scale_pos_weight=1,\n",
              "              subsample=None, tree_method=None, validate_parameters=1,\n",
              "              verbosity=None)"
            ]
          },
          "metadata": {
            "tags": []
          },
          "execution_count": 71
        },
        {
          "output_type": "execute_result",
          "data": {
            "text/plain": [
              "RandomForestClassifier(max_features='sqrt', n_estimators=200, n_jobs=-1,\n",
              "                       random_state=123)"
            ]
          },
          "metadata": {
            "tags": []
          },
          "execution_count": 71
        },
        {
          "output_type": "stream",
          "text": [
            "[21:11:11] WARNING: C:/Users/Administrator/workspace/xgboost-win64_release_1.3.0/src/learner.cc:1061: Starting in XGBoost 1.3.0, the default evaluation metric used with the objective 'binary:logistic' was changed from 'error' to 'logloss'. Explicitly set eval_metric if you'd like to restore the old behavior.\n"
          ],
          "name": "stdout"
        },
        {
          "output_type": "stream",
          "text": [
            "C:\\Users\\rvkmc\\anaconda3\\lib\\site-packages\\xgboost\\sklearn.py:892: UserWarning: The use of label encoder in XGBClassifier is deprecated and will be removed in a future release. To remove this warning, do the following: 1) Pass option use_label_encoder=False when constructing XGBClassifier object; and 2) Encode your labels (y) as integers starting with 0, i.e. 0, 1, 2, ..., [num_class - 1].\n",
            "  warnings.warn(label_encoder_deprecation_msg, UserWarning)\n"
          ],
          "name": "stderr"
        },
        {
          "output_type": "execute_result",
          "data": {
            "text/plain": [
              "XGBClassifier(base_score=0.5, booster='gblinear', colsample_bylevel=None,\n",
              "              colsample_bynode=None, colsample_bytree=None, gamma=None,\n",
              "              gpu_id=-1, importance_type='gain', interaction_constraints=None,\n",
              "              learning_rate=0.5, max_delta_step=None, max_depth=None,\n",
              "              min_child_weight=None, missing=nan, monotone_constraints=None,\n",
              "              n_estimators=200, n_jobs=-1, num_parallel_tree=None,\n",
              "              random_state=123, reg_alpha=0, reg_lambda=0, scale_pos_weight=1,\n",
              "              subsample=None, tree_method=None, validate_parameters=1,\n",
              "              verbosity=None)"
            ]
          },
          "metadata": {
            "tags": []
          },
          "execution_count": 71
        }
      ]
    },
    {
      "cell_type": "markdown",
      "metadata": {
        "id": "wJe0V5V9k1T1"
      },
      "source": [
        "# Random Forest has better performance than xgboost......."
      ]
    },
    {
      "cell_type": "code",
      "metadata": {
        "id": "I7Jr26cjkIpl",
        "outputId": "024da884-268e-4a2e-d371-d08bd895cc10"
      },
      "source": [
        "bstrf.score(xtr,ytr),bstrf.score(xts,yts)"
      ],
      "execution_count": null,
      "outputs": [
        {
          "output_type": "execute_result",
          "data": {
            "text/plain": [
              "(0.9955269779144534, 0.994781474233529)"
            ]
          },
          "metadata": {
            "tags": []
          },
          "execution_count": 72
        }
      ]
    },
    {
      "cell_type": "code",
      "metadata": {
        "id": "uW77UWHfkIpm",
        "outputId": "fc6c8fd9-b36c-4ede-be71-395175a6d0a4"
      },
      "source": [
        "bstxg.score(xtr,ytr),bstrf.score(xts,yts)"
      ],
      "execution_count": null,
      "outputs": [
        {
          "output_type": "execute_result",
          "data": {
            "text/plain": [
              "(0.9493989376572547, 0.994781474233529)"
            ]
          },
          "metadata": {
            "tags": []
          },
          "execution_count": 73
        }
      ]
    },
    {
      "cell_type": "code",
      "metadata": {
        "id": "1QXyhIHMkIpm"
      },
      "source": [
        ""
      ],
      "execution_count": null,
      "outputs": []
    }
  ]
}