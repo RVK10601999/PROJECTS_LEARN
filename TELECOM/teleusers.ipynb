{
  "nbformat": 4,
  "nbformat_minor": 0,
  "metadata": {
    "kernelspec": {
      "display_name": "Python 3",
      "language": "python",
      "name": "python3"
    },
    "language_info": {
      "codemirror_mode": {
        "name": "ipython",
        "version": 3
      },
      "file_extension": ".py",
      "mimetype": "text/x-python",
      "name": "python",
      "nbconvert_exporter": "python",
      "pygments_lexer": "ipython3",
      "version": "3.8.5"
    },
    "varInspector": {
      "cols": {
        "lenName": 16,
        "lenType": 16,
        "lenVar": 40
      },
      "kernels_config": {
        "python": {
          "delete_cmd_postfix": "",
          "delete_cmd_prefix": "del ",
          "library": "var_list.py",
          "varRefreshCmd": "print(var_dic_list())"
        },
        "r": {
          "delete_cmd_postfix": ") ",
          "delete_cmd_prefix": "rm(",
          "library": "var_list.r",
          "varRefreshCmd": "cat(var_dic_list()) "
        }
      },
      "types_to_exclude": [
        "module",
        "function",
        "builtin_function_or_method",
        "instance",
        "_Feature"
      ],
      "window_display": false
    },
    "colab": {
      "name": "teleusers.ipynb",
      "provenance": [],
      "collapsed_sections": []
    }
  },
  "cells": [
    {
      "cell_type": "markdown",
      "metadata": {
        "id": "IpMvXC6AmtlY"
      },
      "source": [
        "# Imporing necessary libs and dataset...."
      ]
    },
    {
      "cell_type": "code",
      "metadata": {
        "id": "ilTmQsgYlGQd"
      },
      "source": [
        "import pandas as pd\n",
        "import numpy as np\n",
        "import seaborn as sns"
      ],
      "execution_count": null,
      "outputs": []
    },
    {
      "cell_type": "code",
      "metadata": {
        "id": "7Iri2NJalGQk"
      },
      "source": [
        "######------------------------------------------------------------------------------------------------\n",
        "#customerID - customer id\n",
        "#gender - client gender (male / female)\n",
        "#SeniorCitizen - is the client retired (1, 0)\n",
        "#Partner - is the client married (Yes, No)\n",
        "#tenure - how many months a person has been a client of the company\n",
        "#PhoneService - is the telephone service connected (Yes, No)\n",
        "#MultipleLines - are multiple phone lines connected (Yes, No, No phone service)\n",
        "#InternetService - client's Internet service provider (DSL, Fiber optic, No)\n",
        "#OnlineSecurity - is the online security service connected (Yes, No, No internet service)\n",
        "#OnlineBackup - is the online backup service activated (Yes, No, No internet service)\n",
        "#DeviceProtection - does the client have equipment insurance (Yes, No, No internet service)\n",
        "#TechSupport - is the technical support service connected (Yes, No, No internet service)\n",
        "#StreamingTV - is the streaming TV service connected (Yes, No, No internet service)\n",
        "#StreamingMovies - is the streaming cinema service activated (Yes, No, No internet service)\n",
        "#Contract - type of customer contract (Month-to-month, One year, Two year)\n",
        "#PaperlessBilling - whether the client uses paperless billing (Yes, No)\n",
        "#PaymentMethod - payment method (Electronic check, Mailed check, Bank transfer (automatic), Credit card (automatic))\n",
        "#MonthlyCharges - current monthly payment\n",
        "#TotalCharges - the total amount that the client paid for the services for the entire time\n",
        "#Churn - whether there was a churn (Yes or No)\n",
        "#------------------------------------------------------------------------------------------------"
      ],
      "execution_count": null,
      "outputs": []
    },
    {
      "cell_type": "code",
      "metadata": {
        "id": "cA6b1s2UlGQl",
        "outputId": "9c79788f-657d-48cc-cb41-3174fd67ab40"
      },
      "source": [
        "from IPython.core.display import display, HTML\n",
        "display(HTML(\"<style>.container { width:100% !important; }</style>\"))\n",
        "import os\n",
        "import pandas as pd\n",
        "import numpy as np\n",
        "import matplotlib.pyplot as plt\n",
        "import seaborn as sns\n",
        "from jupyterthemes import jtplot\n",
        "\n",
        "jtplot.style(theme='monokai', context='notebook', ticks=True, grid=False)"
      ],
      "execution_count": null,
      "outputs": [
        {
          "output_type": "display_data",
          "data": {
            "text/html": [
              "<style>.container { width:100% !important; }</style>"
            ],
            "text/plain": [
              "<IPython.core.display.HTML object>"
            ]
          },
          "metadata": {
            "tags": []
          }
        }
      ]
    },
    {
      "cell_type": "code",
      "metadata": {
        "id": "cuaR_wj7lGQn"
      },
      "source": [
        "df = pd.read_csv(\"C:\\\\Users\\\\rvkmc\\\\Downloads\\\\telecom_users.csv\")"
      ],
      "execution_count": null,
      "outputs": []
    },
    {
      "cell_type": "code",
      "metadata": {
        "scrolled": true,
        "id": "K9UuxYbclGQo",
        "outputId": "38798da4-e7d5-47d5-cebf-cda2c4833252"
      },
      "source": [
        "df.columns"
      ],
      "execution_count": null,
      "outputs": [
        {
          "output_type": "execute_result",
          "data": {
            "text/plain": [
              "Index(['Unnamed: 0', 'customerID', 'gender', 'SeniorCitizen', 'Partner',\n",
              "       'Dependents', 'tenure', 'PhoneService', 'MultipleLines',\n",
              "       'InternetService', 'OnlineSecurity', 'OnlineBackup', 'DeviceProtection',\n",
              "       'TechSupport', 'StreamingTV', 'StreamingMovies', 'Contract',\n",
              "       'PaperlessBilling', 'PaymentMethod', 'MonthlyCharges', 'TotalCharges',\n",
              "       'Churn'],\n",
              "      dtype='object')"
            ]
          },
          "metadata": {
            "tags": []
          },
          "execution_count": 6
        }
      ]
    },
    {
      "cell_type": "markdown",
      "metadata": {
        "id": "JfLRGR0qm-7i"
      },
      "source": [
        "# performing required pre-processing....."
      ]
    },
    {
      "cell_type": "code",
      "metadata": {
        "id": "u7N0cbNtlGQo",
        "outputId": "09b2ddf4-cf6c-4237-d244-623c2a8beec4"
      },
      "source": [
        "df.isna().sum()"
      ],
      "execution_count": null,
      "outputs": [
        {
          "output_type": "execute_result",
          "data": {
            "text/plain": [
              "Unnamed: 0          0\n",
              "customerID          0\n",
              "gender              0\n",
              "SeniorCitizen       0\n",
              "Partner             0\n",
              "Dependents          0\n",
              "tenure              0\n",
              "PhoneService        0\n",
              "MultipleLines       0\n",
              "InternetService     0\n",
              "OnlineSecurity      0\n",
              "OnlineBackup        0\n",
              "DeviceProtection    0\n",
              "TechSupport         0\n",
              "StreamingTV         0\n",
              "StreamingMovies     0\n",
              "Contract            0\n",
              "PaperlessBilling    0\n",
              "PaymentMethod       0\n",
              "MonthlyCharges      0\n",
              "TotalCharges        0\n",
              "Churn               0\n",
              "dtype: int64"
            ]
          },
          "metadata": {
            "tags": []
          },
          "execution_count": 7
        }
      ]
    },
    {
      "cell_type": "code",
      "metadata": {
        "scrolled": true,
        "id": "Biw8hBJjlGQp",
        "outputId": "728af106-39d1-45e7-fcf7-af09c46b8bc9"
      },
      "source": [
        "[df[i].value_counts() for i in df.columns]"
      ],
      "execution_count": null,
      "outputs": [
        {
          "output_type": "execute_result",
          "data": {
            "text/plain": [
              "[2047    1\n",
              " 4687    1\n",
              " 581     1\n",
              " 6726    1\n",
              " 4679    1\n",
              "        ..\n",
              " 1258    1\n",
              " 3307    1\n",
              " 5356    1\n",
              " 1262    1\n",
              " 0       1\n",
              " Name: Unnamed: 0, Length: 5986, dtype: int64,\n",
              " 6180-YBIQI    1\n",
              " 4588-YBNIB    1\n",
              " 0230-UBYPQ    1\n",
              " 2187-LZGPL    1\n",
              " 1373-ORVIZ    1\n",
              "              ..\n",
              " 7161-DFHUF    1\n",
              " 4815-TUMEQ    1\n",
              " 6696-YDAYZ    1\n",
              " 9323-HGFWY    1\n",
              " 0480-BIXDE    1\n",
              " Name: customerID, Length: 5986, dtype: int64,\n",
              " Male      3050\n",
              " Female    2936\n",
              " Name: gender, dtype: int64,\n",
              " 0    5020\n",
              " 1     966\n",
              " Name: SeniorCitizen, dtype: int64,\n",
              " No     3082\n",
              " Yes    2904\n",
              " Name: Partner, dtype: int64,\n",
              " No     4195\n",
              " Yes    1791\n",
              " Name: Dependents, dtype: int64,\n",
              " 1     510\n",
              " 72    308\n",
              " 2     194\n",
              " 3     169\n",
              " 4     154\n",
              "      ... \n",
              " 44     47\n",
              " 45     47\n",
              " 39     44\n",
              " 36     43\n",
              " 0      10\n",
              " Name: tenure, Length: 73, dtype: int64,\n",
              " Yes    5396\n",
              " No      590\n",
              " Name: PhoneService, dtype: int64,\n",
              " No                  2848\n",
              " Yes                 2548\n",
              " No phone service     590\n",
              " Name: MultipleLines, dtype: int64,\n",
              " Fiber optic    2627\n",
              " DSL            2068\n",
              " No             1291\n",
              " Name: InternetService, dtype: int64,\n",
              " No                     2982\n",
              " Yes                    1713\n",
              " No internet service    1291\n",
              " Name: OnlineSecurity, dtype: int64,\n",
              " No                     2605\n",
              " Yes                    2090\n",
              " No internet service    1291\n",
              " Name: OnlineBackup, dtype: int64,\n",
              " No                     2640\n",
              " Yes                    2055\n",
              " No internet service    1291\n",
              " Name: DeviceProtection, dtype: int64,\n",
              " No                     2960\n",
              " Yes                    1735\n",
              " No internet service    1291\n",
              " Name: TechSupport, dtype: int64,\n",
              " No                     2389\n",
              " Yes                    2306\n",
              " No internet service    1291\n",
              " Name: StreamingTV, dtype: int64,\n",
              " No                     2356\n",
              " Yes                    2339\n",
              " No internet service    1291\n",
              " Name: StreamingMovies, dtype: int64,\n",
              " Month-to-month    3269\n",
              " Two year          1441\n",
              " One year          1276\n",
              " Name: Contract, dtype: int64,\n",
              " Yes    3528\n",
              " No     2458\n",
              " Name: PaperlessBilling, dtype: int64,\n",
              " Electronic check             2006\n",
              " Mailed check                 1369\n",
              " Bank transfer (automatic)    1308\n",
              " Credit card (automatic)      1303\n",
              " Name: PaymentMethod, dtype: int64,\n",
              " 20.05    50\n",
              " 19.85    40\n",
              " 19.70    39\n",
              " 19.55    37\n",
              " 19.95    36\n",
              "          ..\n",
              " 83.45     1\n",
              " 65.90     1\n",
              " 87.05     1\n",
              " 18.55     1\n",
              " 51.65     1\n",
              " Name: MonthlyCharges, Length: 1526, dtype: int64,\n",
              " 0.00       10\n",
              " 20.20      10\n",
              " 19.75       8\n",
              " 19.55       7\n",
              " 20.05       6\n",
              "            ..\n",
              " 646.85      1\n",
              " 1286.00     1\n",
              " 102.75      1\n",
              " 178.50      1\n",
              " 25.75       1\n",
              " Name: TotalCharges, Length: 5611, dtype: int64,\n",
              " No     4399\n",
              " Yes    1587\n",
              " Name: Churn, dtype: int64]"
            ]
          },
          "metadata": {
            "tags": []
          },
          "execution_count": 8
        }
      ]
    },
    {
      "cell_type": "code",
      "metadata": {
        "id": "xdlokQ2SlGQq"
      },
      "source": [
        "df = df.drop(columns=['Unnamed: 0','customerID'])"
      ],
      "execution_count": null,
      "outputs": []
    },
    {
      "cell_type": "code",
      "metadata": {
        "id": "ByVoqwq0lGQq",
        "outputId": "9a86e129-d834-4346-ec01-41af324ed7b3"
      },
      "source": [
        "df.isna().sum()"
      ],
      "execution_count": null,
      "outputs": [
        {
          "output_type": "execute_result",
          "data": {
            "text/plain": [
              "gender              0\n",
              "SeniorCitizen       0\n",
              "Partner             0\n",
              "Dependents          0\n",
              "tenure              0\n",
              "PhoneService        0\n",
              "MultipleLines       0\n",
              "InternetService     0\n",
              "OnlineSecurity      0\n",
              "OnlineBackup        0\n",
              "DeviceProtection    0\n",
              "TechSupport         0\n",
              "StreamingTV         0\n",
              "StreamingMovies     0\n",
              "Contract            0\n",
              "PaperlessBilling    0\n",
              "PaymentMethod       0\n",
              "MonthlyCharges      0\n",
              "TotalCharges        0\n",
              "Churn               0\n",
              "dtype: int64"
            ]
          },
          "metadata": {
            "tags": []
          },
          "execution_count": 10
        }
      ]
    },
    {
      "cell_type": "code",
      "metadata": {
        "id": "zPtrJwjxlGQr",
        "outputId": "4c99e8c9-fc60-439d-81c4-35a9d5226c2f"
      },
      "source": [
        "df.isnull().sum()"
      ],
      "execution_count": null,
      "outputs": [
        {
          "output_type": "execute_result",
          "data": {
            "text/plain": [
              "gender              0\n",
              "SeniorCitizen       0\n",
              "Partner             0\n",
              "Dependents          0\n",
              "tenure              0\n",
              "PhoneService        0\n",
              "MultipleLines       0\n",
              "InternetService     0\n",
              "OnlineSecurity      0\n",
              "OnlineBackup        0\n",
              "DeviceProtection    0\n",
              "TechSupport         0\n",
              "StreamingTV         0\n",
              "StreamingMovies     0\n",
              "Contract            0\n",
              "PaperlessBilling    0\n",
              "PaymentMethod       0\n",
              "MonthlyCharges      0\n",
              "TotalCharges        0\n",
              "Churn               0\n",
              "dtype: int64"
            ]
          },
          "metadata": {
            "tags": []
          },
          "execution_count": 11
        }
      ]
    },
    {
      "cell_type": "code",
      "metadata": {
        "id": "rmskc7oOlGQr"
      },
      "source": [
        "X = df.iloc[:,:-1]\n",
        "y = df.iloc[:,-1]"
      ],
      "execution_count": null,
      "outputs": []
    },
    {
      "cell_type": "code",
      "metadata": {
        "scrolled": true,
        "id": "sHTcSUwPlGQs",
        "outputId": "7d41584c-334f-48c7-8b7e-7a50d8f36974"
      },
      "source": [
        "X"
      ],
      "execution_count": null,
      "outputs": [
        {
          "output_type": "execute_result",
          "data": {
            "text/html": [
              "<div>\n",
              "<style scoped>\n",
              "    .dataframe tbody tr th:only-of-type {\n",
              "        vertical-align: middle;\n",
              "    }\n",
              "\n",
              "    .dataframe tbody tr th {\n",
              "        vertical-align: top;\n",
              "    }\n",
              "\n",
              "    .dataframe thead th {\n",
              "        text-align: right;\n",
              "    }\n",
              "</style>\n",
              "<table border=\"1\" class=\"dataframe\">\n",
              "  <thead>\n",
              "    <tr style=\"text-align: right;\">\n",
              "      <th></th>\n",
              "      <th>gender</th>\n",
              "      <th>SeniorCitizen</th>\n",
              "      <th>Partner</th>\n",
              "      <th>Dependents</th>\n",
              "      <th>tenure</th>\n",
              "      <th>PhoneService</th>\n",
              "      <th>MultipleLines</th>\n",
              "      <th>InternetService</th>\n",
              "      <th>OnlineSecurity</th>\n",
              "      <th>OnlineBackup</th>\n",
              "      <th>DeviceProtection</th>\n",
              "      <th>TechSupport</th>\n",
              "      <th>StreamingTV</th>\n",
              "      <th>StreamingMovies</th>\n",
              "      <th>Contract</th>\n",
              "      <th>PaperlessBilling</th>\n",
              "      <th>PaymentMethod</th>\n",
              "      <th>MonthlyCharges</th>\n",
              "      <th>TotalCharges</th>\n",
              "    </tr>\n",
              "  </thead>\n",
              "  <tbody>\n",
              "    <tr>\n",
              "      <th>0</th>\n",
              "      <td>Male</td>\n",
              "      <td>0</td>\n",
              "      <td>Yes</td>\n",
              "      <td>Yes</td>\n",
              "      <td>72</td>\n",
              "      <td>Yes</td>\n",
              "      <td>Yes</td>\n",
              "      <td>No</td>\n",
              "      <td>No internet service</td>\n",
              "      <td>No internet service</td>\n",
              "      <td>No internet service</td>\n",
              "      <td>No internet service</td>\n",
              "      <td>No internet service</td>\n",
              "      <td>No internet service</td>\n",
              "      <td>Two year</td>\n",
              "      <td>No</td>\n",
              "      <td>Credit card (automatic)</td>\n",
              "      <td>24.10</td>\n",
              "      <td>1734.65</td>\n",
              "    </tr>\n",
              "    <tr>\n",
              "      <th>1</th>\n",
              "      <td>Female</td>\n",
              "      <td>0</td>\n",
              "      <td>No</td>\n",
              "      <td>No</td>\n",
              "      <td>44</td>\n",
              "      <td>Yes</td>\n",
              "      <td>No</td>\n",
              "      <td>Fiber optic</td>\n",
              "      <td>No</td>\n",
              "      <td>Yes</td>\n",
              "      <td>Yes</td>\n",
              "      <td>No</td>\n",
              "      <td>Yes</td>\n",
              "      <td>No</td>\n",
              "      <td>Month-to-month</td>\n",
              "      <td>Yes</td>\n",
              "      <td>Credit card (automatic)</td>\n",
              "      <td>88.15</td>\n",
              "      <td>3973.20</td>\n",
              "    </tr>\n",
              "    <tr>\n",
              "      <th>2</th>\n",
              "      <td>Female</td>\n",
              "      <td>1</td>\n",
              "      <td>Yes</td>\n",
              "      <td>No</td>\n",
              "      <td>38</td>\n",
              "      <td>Yes</td>\n",
              "      <td>Yes</td>\n",
              "      <td>Fiber optic</td>\n",
              "      <td>No</td>\n",
              "      <td>No</td>\n",
              "      <td>No</td>\n",
              "      <td>No</td>\n",
              "      <td>No</td>\n",
              "      <td>No</td>\n",
              "      <td>Month-to-month</td>\n",
              "      <td>Yes</td>\n",
              "      <td>Bank transfer (automatic)</td>\n",
              "      <td>74.95</td>\n",
              "      <td>2869.85</td>\n",
              "    </tr>\n",
              "    <tr>\n",
              "      <th>3</th>\n",
              "      <td>Male</td>\n",
              "      <td>0</td>\n",
              "      <td>No</td>\n",
              "      <td>No</td>\n",
              "      <td>4</td>\n",
              "      <td>Yes</td>\n",
              "      <td>No</td>\n",
              "      <td>DSL</td>\n",
              "      <td>No</td>\n",
              "      <td>No</td>\n",
              "      <td>No</td>\n",
              "      <td>No</td>\n",
              "      <td>No</td>\n",
              "      <td>Yes</td>\n",
              "      <td>Month-to-month</td>\n",
              "      <td>Yes</td>\n",
              "      <td>Electronic check</td>\n",
              "      <td>55.90</td>\n",
              "      <td>238.50</td>\n",
              "    </tr>\n",
              "    <tr>\n",
              "      <th>4</th>\n",
              "      <td>Male</td>\n",
              "      <td>0</td>\n",
              "      <td>No</td>\n",
              "      <td>No</td>\n",
              "      <td>2</td>\n",
              "      <td>Yes</td>\n",
              "      <td>No</td>\n",
              "      <td>DSL</td>\n",
              "      <td>Yes</td>\n",
              "      <td>No</td>\n",
              "      <td>Yes</td>\n",
              "      <td>No</td>\n",
              "      <td>No</td>\n",
              "      <td>No</td>\n",
              "      <td>Month-to-month</td>\n",
              "      <td>No</td>\n",
              "      <td>Electronic check</td>\n",
              "      <td>53.45</td>\n",
              "      <td>119.50</td>\n",
              "    </tr>\n",
              "    <tr>\n",
              "      <th>...</th>\n",
              "      <td>...</td>\n",
              "      <td>...</td>\n",
              "      <td>...</td>\n",
              "      <td>...</td>\n",
              "      <td>...</td>\n",
              "      <td>...</td>\n",
              "      <td>...</td>\n",
              "      <td>...</td>\n",
              "      <td>...</td>\n",
              "      <td>...</td>\n",
              "      <td>...</td>\n",
              "      <td>...</td>\n",
              "      <td>...</td>\n",
              "      <td>...</td>\n",
              "      <td>...</td>\n",
              "      <td>...</td>\n",
              "      <td>...</td>\n",
              "      <td>...</td>\n",
              "      <td>...</td>\n",
              "    </tr>\n",
              "    <tr>\n",
              "      <th>5981</th>\n",
              "      <td>Male</td>\n",
              "      <td>0</td>\n",
              "      <td>Yes</td>\n",
              "      <td>No</td>\n",
              "      <td>1</td>\n",
              "      <td>Yes</td>\n",
              "      <td>No</td>\n",
              "      <td>Fiber optic</td>\n",
              "      <td>Yes</td>\n",
              "      <td>No</td>\n",
              "      <td>No</td>\n",
              "      <td>No</td>\n",
              "      <td>Yes</td>\n",
              "      <td>Yes</td>\n",
              "      <td>Month-to-month</td>\n",
              "      <td>Yes</td>\n",
              "      <td>Electronic check</td>\n",
              "      <td>95.00</td>\n",
              "      <td>95.00</td>\n",
              "    </tr>\n",
              "    <tr>\n",
              "      <th>5982</th>\n",
              "      <td>Female</td>\n",
              "      <td>0</td>\n",
              "      <td>Yes</td>\n",
              "      <td>Yes</td>\n",
              "      <td>23</td>\n",
              "      <td>Yes</td>\n",
              "      <td>Yes</td>\n",
              "      <td>DSL</td>\n",
              "      <td>Yes</td>\n",
              "      <td>Yes</td>\n",
              "      <td>Yes</td>\n",
              "      <td>Yes</td>\n",
              "      <td>Yes</td>\n",
              "      <td>Yes</td>\n",
              "      <td>Two year</td>\n",
              "      <td>Yes</td>\n",
              "      <td>Credit card (automatic)</td>\n",
              "      <td>91.10</td>\n",
              "      <td>2198.30</td>\n",
              "    </tr>\n",
              "    <tr>\n",
              "      <th>5983</th>\n",
              "      <td>Male</td>\n",
              "      <td>0</td>\n",
              "      <td>Yes</td>\n",
              "      <td>Yes</td>\n",
              "      <td>12</td>\n",
              "      <td>Yes</td>\n",
              "      <td>No</td>\n",
              "      <td>No</td>\n",
              "      <td>No internet service</td>\n",
              "      <td>No internet service</td>\n",
              "      <td>No internet service</td>\n",
              "      <td>No internet service</td>\n",
              "      <td>No internet service</td>\n",
              "      <td>No internet service</td>\n",
              "      <td>Month-to-month</td>\n",
              "      <td>Yes</td>\n",
              "      <td>Electronic check</td>\n",
              "      <td>21.15</td>\n",
              "      <td>306.05</td>\n",
              "    </tr>\n",
              "    <tr>\n",
              "      <th>5984</th>\n",
              "      <td>Male</td>\n",
              "      <td>1</td>\n",
              "      <td>No</td>\n",
              "      <td>No</td>\n",
              "      <td>12</td>\n",
              "      <td>Yes</td>\n",
              "      <td>Yes</td>\n",
              "      <td>Fiber optic</td>\n",
              "      <td>No</td>\n",
              "      <td>No</td>\n",
              "      <td>Yes</td>\n",
              "      <td>No</td>\n",
              "      <td>Yes</td>\n",
              "      <td>Yes</td>\n",
              "      <td>Month-to-month</td>\n",
              "      <td>Yes</td>\n",
              "      <td>Electronic check</td>\n",
              "      <td>99.45</td>\n",
              "      <td>1200.15</td>\n",
              "    </tr>\n",
              "    <tr>\n",
              "      <th>5985</th>\n",
              "      <td>Male</td>\n",
              "      <td>0</td>\n",
              "      <td>No</td>\n",
              "      <td>No</td>\n",
              "      <td>26</td>\n",
              "      <td>Yes</td>\n",
              "      <td>No</td>\n",
              "      <td>No</td>\n",
              "      <td>No internet service</td>\n",
              "      <td>No internet service</td>\n",
              "      <td>No internet service</td>\n",
              "      <td>No internet service</td>\n",
              "      <td>No internet service</td>\n",
              "      <td>No internet service</td>\n",
              "      <td>One year</td>\n",
              "      <td>No</td>\n",
              "      <td>Credit card (automatic)</td>\n",
              "      <td>19.80</td>\n",
              "      <td>457.30</td>\n",
              "    </tr>\n",
              "  </tbody>\n",
              "</table>\n",
              "<p>5986 rows × 19 columns</p>\n",
              "</div>"
            ],
            "text/plain": [
              "      gender  SeniorCitizen Partner Dependents  tenure PhoneService  \\\n",
              "0       Male              0     Yes        Yes      72          Yes   \n",
              "1     Female              0      No         No      44          Yes   \n",
              "2     Female              1     Yes         No      38          Yes   \n",
              "3       Male              0      No         No       4          Yes   \n",
              "4       Male              0      No         No       2          Yes   \n",
              "...      ...            ...     ...        ...     ...          ...   \n",
              "5981    Male              0     Yes         No       1          Yes   \n",
              "5982  Female              0     Yes        Yes      23          Yes   \n",
              "5983    Male              0     Yes        Yes      12          Yes   \n",
              "5984    Male              1      No         No      12          Yes   \n",
              "5985    Male              0      No         No      26          Yes   \n",
              "\n",
              "     MultipleLines InternetService       OnlineSecurity         OnlineBackup  \\\n",
              "0              Yes              No  No internet service  No internet service   \n",
              "1               No     Fiber optic                   No                  Yes   \n",
              "2              Yes     Fiber optic                   No                   No   \n",
              "3               No             DSL                   No                   No   \n",
              "4               No             DSL                  Yes                   No   \n",
              "...            ...             ...                  ...                  ...   \n",
              "5981            No     Fiber optic                  Yes                   No   \n",
              "5982           Yes             DSL                  Yes                  Yes   \n",
              "5983            No              No  No internet service  No internet service   \n",
              "5984           Yes     Fiber optic                   No                   No   \n",
              "5985            No              No  No internet service  No internet service   \n",
              "\n",
              "         DeviceProtection          TechSupport          StreamingTV  \\\n",
              "0     No internet service  No internet service  No internet service   \n",
              "1                     Yes                   No                  Yes   \n",
              "2                      No                   No                   No   \n",
              "3                      No                   No                   No   \n",
              "4                     Yes                   No                   No   \n",
              "...                   ...                  ...                  ...   \n",
              "5981                   No                   No                  Yes   \n",
              "5982                  Yes                  Yes                  Yes   \n",
              "5983  No internet service  No internet service  No internet service   \n",
              "5984                  Yes                   No                  Yes   \n",
              "5985  No internet service  No internet service  No internet service   \n",
              "\n",
              "          StreamingMovies        Contract PaperlessBilling  \\\n",
              "0     No internet service        Two year               No   \n",
              "1                      No  Month-to-month              Yes   \n",
              "2                      No  Month-to-month              Yes   \n",
              "3                     Yes  Month-to-month              Yes   \n",
              "4                      No  Month-to-month               No   \n",
              "...                   ...             ...              ...   \n",
              "5981                  Yes  Month-to-month              Yes   \n",
              "5982                  Yes        Two year              Yes   \n",
              "5983  No internet service  Month-to-month              Yes   \n",
              "5984                  Yes  Month-to-month              Yes   \n",
              "5985  No internet service        One year               No   \n",
              "\n",
              "                  PaymentMethod  MonthlyCharges  TotalCharges  \n",
              "0       Credit card (automatic)           24.10       1734.65  \n",
              "1       Credit card (automatic)           88.15       3973.20  \n",
              "2     Bank transfer (automatic)           74.95       2869.85  \n",
              "3              Electronic check           55.90        238.50  \n",
              "4              Electronic check           53.45        119.50  \n",
              "...                         ...             ...           ...  \n",
              "5981           Electronic check           95.00         95.00  \n",
              "5982    Credit card (automatic)           91.10       2198.30  \n",
              "5983           Electronic check           21.15        306.05  \n",
              "5984           Electronic check           99.45       1200.15  \n",
              "5985    Credit card (automatic)           19.80        457.30  \n",
              "\n",
              "[5986 rows x 19 columns]"
            ]
          },
          "metadata": {
            "tags": []
          },
          "execution_count": 13
        }
      ]
    },
    {
      "cell_type": "code",
      "metadata": {
        "id": "lreczIS8lGQt"
      },
      "source": [
        "numX = X[['MonthlyCharges','TotalCharges','tenure']]\n",
        "catX = X[[cols for cols in X if cols not in numX.columns]]"
      ],
      "execution_count": null,
      "outputs": []
    },
    {
      "cell_type": "code",
      "metadata": {
        "id": "1fjkNUUklGQt"
      },
      "source": [
        "catX1 = pd.get_dummies(catX,drop_first=True)"
      ],
      "execution_count": null,
      "outputs": []
    },
    {
      "cell_type": "code",
      "metadata": {
        "id": "2KY_1fQdlGQt"
      },
      "source": [
        "import seaborn as sns\n",
        "import matplotlib.pyplot as plt"
      ],
      "execution_count": null,
      "outputs": []
    },
    {
      "cell_type": "code",
      "metadata": {
        "id": "NmiEhD-PlGQu"
      },
      "source": [
        "from sklearn.ensemble import RandomForestClassifier\n",
        "from xgboost import XGBClassifier\n",
        "from sklearn.linear_model import LogisticRegression\n",
        "from sklearn.model_selection import GridSearchCV,StratifiedKFold\n",
        "from sklearn.model_selection import train_test_split\n",
        "from sklearn.preprocessing import MinMaxScaler"
      ],
      "execution_count": null,
      "outputs": []
    },
    {
      "cell_type": "code",
      "metadata": {
        "id": "nDgqwXBnlGQv"
      },
      "source": [
        "msc = MinMaxScaler().fit(numX)\n",
        "numX1 = msc.transform(numX)\n",
        "numX1 = pd.DataFrame(data=numX1,columns=numX.columns)"
      ],
      "execution_count": null,
      "outputs": []
    },
    {
      "cell_type": "code",
      "metadata": {
        "id": "qveDItIulGQv"
      },
      "source": [
        "X1 = pd.concat([numX1,catX1],axis=1)"
      ],
      "execution_count": null,
      "outputs": []
    },
    {
      "cell_type": "markdown",
      "metadata": {
        "id": "7IZDfYSonG9B"
      },
      "source": [
        "# Finally..... train-test split........"
      ]
    },
    {
      "cell_type": "code",
      "metadata": {
        "id": "kuUMJwqxlGQv"
      },
      "source": [
        "xtr,xts,ytr,yts = train_test_split(X1,y,train_size=.7,random_state=123)"
      ],
      "execution_count": null,
      "outputs": []
    },
    {
      "cell_type": "markdown",
      "metadata": {
        "id": "Z1-mRar-nOKf"
      },
      "source": [
        "# training a logistic regression model......."
      ]
    },
    {
      "cell_type": "code",
      "metadata": {
        "id": "ZeC7a8z9lGQv"
      },
      "source": [
        "prmlg = {\n",
        "    'penalty':['l1','l2','elasticnet','none'],\n",
        "    'C':[1,1.1,1.2,1.3],\n",
        "    'max_iter':[150,200],\n",
        "    'n_jobs':[-1],\n",
        "    'random_state':[123]\n",
        "}"
      ],
      "execution_count": null,
      "outputs": []
    },
    {
      "cell_type": "code",
      "metadata": {
        "id": "bKXYXXghlGQv"
      },
      "source": [
        "logreg = GridSearchCV(estimator=LogisticRegression(),param_grid=prmlg)"
      ],
      "execution_count": null,
      "outputs": []
    },
    {
      "cell_type": "code",
      "metadata": {
        "id": "PEkADuyslGQv",
        "outputId": "aec04939-1244-46c0-a051-acbfab90539b"
      },
      "source": [
        "logreg.fit(xtr,ytr)"
      ],
      "execution_count": null,
      "outputs": [
        {
          "output_type": "stream",
          "text": [
            "C:\\Users\\rvkmc\\anaconda3\\lib\\site-packages\\sklearn\\model_selection\\_validation.py:548: FitFailedWarning: Estimator fit failed. The score on this train-test partition for these parameters will be set to nan. Details: \n",
            "Traceback (most recent call last):\n",
            "  File \"C:\\Users\\rvkmc\\anaconda3\\lib\\site-packages\\sklearn\\model_selection\\_validation.py\", line 531, in _fit_and_score\n",
            "    estimator.fit(X_train, y_train, **fit_params)\n",
            "  File \"C:\\Users\\rvkmc\\anaconda3\\lib\\site-packages\\sklearn\\linear_model\\_logistic.py\", line 1304, in fit\n",
            "    solver = _check_solver(self.solver, self.penalty, self.dual)\n",
            "  File \"C:\\Users\\rvkmc\\anaconda3\\lib\\site-packages\\sklearn\\linear_model\\_logistic.py\", line 442, in _check_solver\n",
            "    raise ValueError(\"Solver %s supports only 'l2' or 'none' penalties, \"\n",
            "ValueError: Solver lbfgs supports only 'l2' or 'none' penalties, got l1 penalty.\n",
            "\n",
            "  warnings.warn(\"Estimator fit failed. The score on this train-test\"\n",
            "C:\\Users\\rvkmc\\anaconda3\\lib\\site-packages\\sklearn\\model_selection\\_validation.py:548: FitFailedWarning: Estimator fit failed. The score on this train-test partition for these parameters will be set to nan. Details: \n",
            "Traceback (most recent call last):\n",
            "  File \"C:\\Users\\rvkmc\\anaconda3\\lib\\site-packages\\sklearn\\model_selection\\_validation.py\", line 531, in _fit_and_score\n",
            "    estimator.fit(X_train, y_train, **fit_params)\n",
            "  File \"C:\\Users\\rvkmc\\anaconda3\\lib\\site-packages\\sklearn\\linear_model\\_logistic.py\", line 1304, in fit\n",
            "    solver = _check_solver(self.solver, self.penalty, self.dual)\n",
            "  File \"C:\\Users\\rvkmc\\anaconda3\\lib\\site-packages\\sklearn\\linear_model\\_logistic.py\", line 442, in _check_solver\n",
            "    raise ValueError(\"Solver %s supports only 'l2' or 'none' penalties, \"\n",
            "ValueError: Solver lbfgs supports only 'l2' or 'none' penalties, got elasticnet penalty.\n",
            "\n",
            "  warnings.warn(\"Estimator fit failed. The score on this train-test\"\n",
            "C:\\Users\\rvkmc\\anaconda3\\lib\\site-packages\\sklearn\\model_selection\\_validation.py:548: FitFailedWarning: Estimator fit failed. The score on this train-test partition for these parameters will be set to nan. Details: \n",
            "Traceback (most recent call last):\n",
            "  File \"C:\\Users\\rvkmc\\anaconda3\\lib\\site-packages\\sklearn\\model_selection\\_validation.py\", line 531, in _fit_and_score\n",
            "    estimator.fit(X_train, y_train, **fit_params)\n",
            "  File \"C:\\Users\\rvkmc\\anaconda3\\lib\\site-packages\\sklearn\\linear_model\\_logistic.py\", line 1304, in fit\n",
            "    solver = _check_solver(self.solver, self.penalty, self.dual)\n",
            "  File \"C:\\Users\\rvkmc\\anaconda3\\lib\\site-packages\\sklearn\\linear_model\\_logistic.py\", line 442, in _check_solver\n",
            "    raise ValueError(\"Solver %s supports only 'l2' or 'none' penalties, \"\n",
            "ValueError: Solver lbfgs supports only 'l2' or 'none' penalties, got l1 penalty.\n",
            "\n",
            "  warnings.warn(\"Estimator fit failed. The score on this train-test\"\n",
            "C:\\Users\\rvkmc\\anaconda3\\lib\\site-packages\\sklearn\\model_selection\\_validation.py:548: FitFailedWarning: Estimator fit failed. The score on this train-test partition for these parameters will be set to nan. Details: \n",
            "Traceback (most recent call last):\n",
            "  File \"C:\\Users\\rvkmc\\anaconda3\\lib\\site-packages\\sklearn\\model_selection\\_validation.py\", line 531, in _fit_and_score\n",
            "    estimator.fit(X_train, y_train, **fit_params)\n",
            "  File \"C:\\Users\\rvkmc\\anaconda3\\lib\\site-packages\\sklearn\\linear_model\\_logistic.py\", line 1304, in fit\n",
            "    solver = _check_solver(self.solver, self.penalty, self.dual)\n",
            "  File \"C:\\Users\\rvkmc\\anaconda3\\lib\\site-packages\\sklearn\\linear_model\\_logistic.py\", line 442, in _check_solver\n",
            "    raise ValueError(\"Solver %s supports only 'l2' or 'none' penalties, \"\n",
            "ValueError: Solver lbfgs supports only 'l2' or 'none' penalties, got elasticnet penalty.\n",
            "\n",
            "  warnings.warn(\"Estimator fit failed. The score on this train-test\"\n",
            "C:\\Users\\rvkmc\\anaconda3\\lib\\site-packages\\sklearn\\model_selection\\_validation.py:548: FitFailedWarning: Estimator fit failed. The score on this train-test partition for these parameters will be set to nan. Details: \n",
            "Traceback (most recent call last):\n",
            "  File \"C:\\Users\\rvkmc\\anaconda3\\lib\\site-packages\\sklearn\\model_selection\\_validation.py\", line 531, in _fit_and_score\n",
            "    estimator.fit(X_train, y_train, **fit_params)\n",
            "  File \"C:\\Users\\rvkmc\\anaconda3\\lib\\site-packages\\sklearn\\linear_model\\_logistic.py\", line 1304, in fit\n",
            "    solver = _check_solver(self.solver, self.penalty, self.dual)\n",
            "  File \"C:\\Users\\rvkmc\\anaconda3\\lib\\site-packages\\sklearn\\linear_model\\_logistic.py\", line 442, in _check_solver\n",
            "    raise ValueError(\"Solver %s supports only 'l2' or 'none' penalties, \"\n",
            "ValueError: Solver lbfgs supports only 'l2' or 'none' penalties, got l1 penalty.\n",
            "\n",
            "  warnings.warn(\"Estimator fit failed. The score on this train-test\"\n",
            "C:\\Users\\rvkmc\\anaconda3\\lib\\site-packages\\sklearn\\model_selection\\_validation.py:548: FitFailedWarning: Estimator fit failed. The score on this train-test partition for these parameters will be set to nan. Details: \n",
            "Traceback (most recent call last):\n",
            "  File \"C:\\Users\\rvkmc\\anaconda3\\lib\\site-packages\\sklearn\\model_selection\\_validation.py\", line 531, in _fit_and_score\n",
            "    estimator.fit(X_train, y_train, **fit_params)\n",
            "  File \"C:\\Users\\rvkmc\\anaconda3\\lib\\site-packages\\sklearn\\linear_model\\_logistic.py\", line 1304, in fit\n",
            "    solver = _check_solver(self.solver, self.penalty, self.dual)\n",
            "  File \"C:\\Users\\rvkmc\\anaconda3\\lib\\site-packages\\sklearn\\linear_model\\_logistic.py\", line 442, in _check_solver\n",
            "    raise ValueError(\"Solver %s supports only 'l2' or 'none' penalties, \"\n",
            "ValueError: Solver lbfgs supports only 'l2' or 'none' penalties, got elasticnet penalty.\n",
            "\n",
            "  warnings.warn(\"Estimator fit failed. The score on this train-test\"\n",
            "C:\\Users\\rvkmc\\anaconda3\\lib\\site-packages\\sklearn\\linear_model\\_logistic.py:1320: UserWarning: Setting penalty='none' will ignore the C and l1_ratio parameters\n",
            "  warnings.warn(\n",
            "C:\\Users\\rvkmc\\anaconda3\\lib\\site-packages\\sklearn\\linear_model\\_logistic.py:1320: UserWarning: Setting penalty='none' will ignore the C and l1_ratio parameters\n",
            "  warnings.warn(\n",
            "C:\\Users\\rvkmc\\anaconda3\\lib\\site-packages\\sklearn\\linear_model\\_logistic.py:1320: UserWarning: Setting penalty='none' will ignore the C and l1_ratio parameters\n",
            "  warnings.warn(\n",
            "C:\\Users\\rvkmc\\anaconda3\\lib\\site-packages\\sklearn\\linear_model\\_logistic.py:1320: UserWarning: Setting penalty='none' will ignore the C and l1_ratio parameters\n",
            "  warnings.warn(\n",
            "C:\\Users\\rvkmc\\anaconda3\\lib\\site-packages\\sklearn\\linear_model\\_logistic.py:1320: UserWarning: Setting penalty='none' will ignore the C and l1_ratio parameters\n",
            "  warnings.warn(\n",
            "C:\\Users\\rvkmc\\anaconda3\\lib\\site-packages\\sklearn\\model_selection\\_validation.py:548: FitFailedWarning: Estimator fit failed. The score on this train-test partition for these parameters will be set to nan. Details: \n",
            "Traceback (most recent call last):\n",
            "  File \"C:\\Users\\rvkmc\\anaconda3\\lib\\site-packages\\sklearn\\model_selection\\_validation.py\", line 531, in _fit_and_score\n",
            "    estimator.fit(X_train, y_train, **fit_params)\n",
            "  File \"C:\\Users\\rvkmc\\anaconda3\\lib\\site-packages\\sklearn\\linear_model\\_logistic.py\", line 1304, in fit\n",
            "    solver = _check_solver(self.solver, self.penalty, self.dual)\n",
            "  File \"C:\\Users\\rvkmc\\anaconda3\\lib\\site-packages\\sklearn\\linear_model\\_logistic.py\", line 442, in _check_solver\n",
            "    raise ValueError(\"Solver %s supports only 'l2' or 'none' penalties, \"\n",
            "ValueError: Solver lbfgs supports only 'l2' or 'none' penalties, got l1 penalty.\n",
            "\n",
            "  warnings.warn(\"Estimator fit failed. The score on this train-test\"\n",
            "C:\\Users\\rvkmc\\anaconda3\\lib\\site-packages\\sklearn\\model_selection\\_validation.py:548: FitFailedWarning: Estimator fit failed. The score on this train-test partition for these parameters will be set to nan. Details: \n",
            "Traceback (most recent call last):\n",
            "  File \"C:\\Users\\rvkmc\\anaconda3\\lib\\site-packages\\sklearn\\model_selection\\_validation.py\", line 531, in _fit_and_score\n",
            "    estimator.fit(X_train, y_train, **fit_params)\n",
            "  File \"C:\\Users\\rvkmc\\anaconda3\\lib\\site-packages\\sklearn\\linear_model\\_logistic.py\", line 1304, in fit\n",
            "    solver = _check_solver(self.solver, self.penalty, self.dual)\n",
            "  File \"C:\\Users\\rvkmc\\anaconda3\\lib\\site-packages\\sklearn\\linear_model\\_logistic.py\", line 442, in _check_solver\n",
            "    raise ValueError(\"Solver %s supports only 'l2' or 'none' penalties, \"\n",
            "ValueError: Solver lbfgs supports only 'l2' or 'none' penalties, got elasticnet penalty.\n",
            "\n",
            "  warnings.warn(\"Estimator fit failed. The score on this train-test\"\n",
            "C:\\Users\\rvkmc\\anaconda3\\lib\\site-packages\\sklearn\\linear_model\\_logistic.py:1320: UserWarning: Setting penalty='none' will ignore the C and l1_ratio parameters\n",
            "  warnings.warn(\n",
            "C:\\Users\\rvkmc\\anaconda3\\lib\\site-packages\\sklearn\\linear_model\\_logistic.py:1320: UserWarning: Setting penalty='none' will ignore the C and l1_ratio parameters\n",
            "  warnings.warn(\n",
            "C:\\Users\\rvkmc\\anaconda3\\lib\\site-packages\\sklearn\\linear_model\\_logistic.py:1320: UserWarning: Setting penalty='none' will ignore the C and l1_ratio parameters\n",
            "  warnings.warn(\n"
          ],
          "name": "stderr"
        },
        {
          "output_type": "stream",
          "text": [
            "C:\\Users\\rvkmc\\anaconda3\\lib\\site-packages\\sklearn\\linear_model\\_logistic.py:1320: UserWarning: Setting penalty='none' will ignore the C and l1_ratio parameters\n",
            "  warnings.warn(\n",
            "C:\\Users\\rvkmc\\anaconda3\\lib\\site-packages\\sklearn\\linear_model\\_logistic.py:1320: UserWarning: Setting penalty='none' will ignore the C and l1_ratio parameters\n",
            "  warnings.warn(\n",
            "C:\\Users\\rvkmc\\anaconda3\\lib\\site-packages\\sklearn\\model_selection\\_validation.py:548: FitFailedWarning: Estimator fit failed. The score on this train-test partition for these parameters will be set to nan. Details: \n",
            "Traceback (most recent call last):\n",
            "  File \"C:\\Users\\rvkmc\\anaconda3\\lib\\site-packages\\sklearn\\model_selection\\_validation.py\", line 531, in _fit_and_score\n",
            "    estimator.fit(X_train, y_train, **fit_params)\n",
            "  File \"C:\\Users\\rvkmc\\anaconda3\\lib\\site-packages\\sklearn\\linear_model\\_logistic.py\", line 1304, in fit\n",
            "    solver = _check_solver(self.solver, self.penalty, self.dual)\n",
            "  File \"C:\\Users\\rvkmc\\anaconda3\\lib\\site-packages\\sklearn\\linear_model\\_logistic.py\", line 442, in _check_solver\n",
            "    raise ValueError(\"Solver %s supports only 'l2' or 'none' penalties, \"\n",
            "ValueError: Solver lbfgs supports only 'l2' or 'none' penalties, got l1 penalty.\n",
            "\n",
            "  warnings.warn(\"Estimator fit failed. The score on this train-test\"\n",
            "C:\\Users\\rvkmc\\anaconda3\\lib\\site-packages\\sklearn\\model_selection\\_validation.py:548: FitFailedWarning: Estimator fit failed. The score on this train-test partition for these parameters will be set to nan. Details: \n",
            "Traceback (most recent call last):\n",
            "  File \"C:\\Users\\rvkmc\\anaconda3\\lib\\site-packages\\sklearn\\model_selection\\_validation.py\", line 531, in _fit_and_score\n",
            "    estimator.fit(X_train, y_train, **fit_params)\n",
            "  File \"C:\\Users\\rvkmc\\anaconda3\\lib\\site-packages\\sklearn\\linear_model\\_logistic.py\", line 1304, in fit\n",
            "    solver = _check_solver(self.solver, self.penalty, self.dual)\n",
            "  File \"C:\\Users\\rvkmc\\anaconda3\\lib\\site-packages\\sklearn\\linear_model\\_logistic.py\", line 442, in _check_solver\n",
            "    raise ValueError(\"Solver %s supports only 'l2' or 'none' penalties, \"\n",
            "ValueError: Solver lbfgs supports only 'l2' or 'none' penalties, got elasticnet penalty.\n",
            "\n",
            "  warnings.warn(\"Estimator fit failed. The score on this train-test\"\n",
            "C:\\Users\\rvkmc\\anaconda3\\lib\\site-packages\\sklearn\\linear_model\\_logistic.py:1320: UserWarning: Setting penalty='none' will ignore the C and l1_ratio parameters\n",
            "  warnings.warn(\n",
            "C:\\Users\\rvkmc\\anaconda3\\lib\\site-packages\\sklearn\\linear_model\\_logistic.py:1320: UserWarning: Setting penalty='none' will ignore the C and l1_ratio parameters\n",
            "  warnings.warn(\n",
            "C:\\Users\\rvkmc\\anaconda3\\lib\\site-packages\\sklearn\\linear_model\\_logistic.py:1320: UserWarning: Setting penalty='none' will ignore the C and l1_ratio parameters\n",
            "  warnings.warn(\n",
            "C:\\Users\\rvkmc\\anaconda3\\lib\\site-packages\\sklearn\\linear_model\\_logistic.py:1320: UserWarning: Setting penalty='none' will ignore the C and l1_ratio parameters\n",
            "  warnings.warn(\n",
            "C:\\Users\\rvkmc\\anaconda3\\lib\\site-packages\\sklearn\\linear_model\\_logistic.py:1320: UserWarning: Setting penalty='none' will ignore the C and l1_ratio parameters\n",
            "  warnings.warn(\n",
            "C:\\Users\\rvkmc\\anaconda3\\lib\\site-packages\\sklearn\\model_selection\\_validation.py:548: FitFailedWarning: Estimator fit failed. The score on this train-test partition for these parameters will be set to nan. Details: \n",
            "Traceback (most recent call last):\n",
            "  File \"C:\\Users\\rvkmc\\anaconda3\\lib\\site-packages\\sklearn\\model_selection\\_validation.py\", line 531, in _fit_and_score\n",
            "    estimator.fit(X_train, y_train, **fit_params)\n",
            "  File \"C:\\Users\\rvkmc\\anaconda3\\lib\\site-packages\\sklearn\\linear_model\\_logistic.py\", line 1304, in fit\n",
            "    solver = _check_solver(self.solver, self.penalty, self.dual)\n",
            "  File \"C:\\Users\\rvkmc\\anaconda3\\lib\\site-packages\\sklearn\\linear_model\\_logistic.py\", line 442, in _check_solver\n",
            "    raise ValueError(\"Solver %s supports only 'l2' or 'none' penalties, \"\n",
            "ValueError: Solver lbfgs supports only 'l2' or 'none' penalties, got l1 penalty.\n",
            "\n",
            "  warnings.warn(\"Estimator fit failed. The score on this train-test\"\n",
            "C:\\Users\\rvkmc\\anaconda3\\lib\\site-packages\\sklearn\\model_selection\\_validation.py:548: FitFailedWarning: Estimator fit failed. The score on this train-test partition for these parameters will be set to nan. Details: \n",
            "Traceback (most recent call last):\n",
            "  File \"C:\\Users\\rvkmc\\anaconda3\\lib\\site-packages\\sklearn\\model_selection\\_validation.py\", line 531, in _fit_and_score\n",
            "    estimator.fit(X_train, y_train, **fit_params)\n",
            "  File \"C:\\Users\\rvkmc\\anaconda3\\lib\\site-packages\\sklearn\\linear_model\\_logistic.py\", line 1304, in fit\n",
            "    solver = _check_solver(self.solver, self.penalty, self.dual)\n",
            "  File \"C:\\Users\\rvkmc\\anaconda3\\lib\\site-packages\\sklearn\\linear_model\\_logistic.py\", line 442, in _check_solver\n",
            "    raise ValueError(\"Solver %s supports only 'l2' or 'none' penalties, \"\n",
            "ValueError: Solver lbfgs supports only 'l2' or 'none' penalties, got elasticnet penalty.\n",
            "\n",
            "  warnings.warn(\"Estimator fit failed. The score on this train-test\"\n",
            "C:\\Users\\rvkmc\\anaconda3\\lib\\site-packages\\sklearn\\linear_model\\_logistic.py:1320: UserWarning: Setting penalty='none' will ignore the C and l1_ratio parameters\n",
            "  warnings.warn(\n",
            "C:\\Users\\rvkmc\\anaconda3\\lib\\site-packages\\sklearn\\linear_model\\_logistic.py:1320: UserWarning: Setting penalty='none' will ignore the C and l1_ratio parameters\n",
            "  warnings.warn(\n",
            "C:\\Users\\rvkmc\\anaconda3\\lib\\site-packages\\sklearn\\linear_model\\_logistic.py:1320: UserWarning: Setting penalty='none' will ignore the C and l1_ratio parameters\n",
            "  warnings.warn(\n",
            "C:\\Users\\rvkmc\\anaconda3\\lib\\site-packages\\sklearn\\linear_model\\_logistic.py:1320: UserWarning: Setting penalty='none' will ignore the C and l1_ratio parameters\n",
            "  warnings.warn(\n",
            "C:\\Users\\rvkmc\\anaconda3\\lib\\site-packages\\sklearn\\linear_model\\_logistic.py:1320: UserWarning: Setting penalty='none' will ignore the C and l1_ratio parameters\n",
            "  warnings.warn(\n",
            "C:\\Users\\rvkmc\\anaconda3\\lib\\site-packages\\sklearn\\model_selection\\_validation.py:548: FitFailedWarning: Estimator fit failed. The score on this train-test partition for these parameters will be set to nan. Details: \n",
            "Traceback (most recent call last):\n",
            "  File \"C:\\Users\\rvkmc\\anaconda3\\lib\\site-packages\\sklearn\\model_selection\\_validation.py\", line 531, in _fit_and_score\n",
            "    estimator.fit(X_train, y_train, **fit_params)\n",
            "  File \"C:\\Users\\rvkmc\\anaconda3\\lib\\site-packages\\sklearn\\linear_model\\_logistic.py\", line 1304, in fit\n",
            "    solver = _check_solver(self.solver, self.penalty, self.dual)\n",
            "  File \"C:\\Users\\rvkmc\\anaconda3\\lib\\site-packages\\sklearn\\linear_model\\_logistic.py\", line 442, in _check_solver\n",
            "    raise ValueError(\"Solver %s supports only 'l2' or 'none' penalties, \"\n",
            "ValueError: Solver lbfgs supports only 'l2' or 'none' penalties, got l1 penalty.\n",
            "\n",
            "  warnings.warn(\"Estimator fit failed. The score on this train-test\"\n",
            "C:\\Users\\rvkmc\\anaconda3\\lib\\site-packages\\sklearn\\model_selection\\_validation.py:548: FitFailedWarning: Estimator fit failed. The score on this train-test partition for these parameters will be set to nan. Details: \n",
            "Traceback (most recent call last):\n",
            "  File \"C:\\Users\\rvkmc\\anaconda3\\lib\\site-packages\\sklearn\\model_selection\\_validation.py\", line 531, in _fit_and_score\n",
            "    estimator.fit(X_train, y_train, **fit_params)\n",
            "  File \"C:\\Users\\rvkmc\\anaconda3\\lib\\site-packages\\sklearn\\linear_model\\_logistic.py\", line 1304, in fit\n",
            "    solver = _check_solver(self.solver, self.penalty, self.dual)\n",
            "  File \"C:\\Users\\rvkmc\\anaconda3\\lib\\site-packages\\sklearn\\linear_model\\_logistic.py\", line 442, in _check_solver\n",
            "    raise ValueError(\"Solver %s supports only 'l2' or 'none' penalties, \"\n",
            "ValueError: Solver lbfgs supports only 'l2' or 'none' penalties, got elasticnet penalty.\n",
            "\n",
            "  warnings.warn(\"Estimator fit failed. The score on this train-test\"\n",
            "C:\\Users\\rvkmc\\anaconda3\\lib\\site-packages\\sklearn\\linear_model\\_logistic.py:1320: UserWarning: Setting penalty='none' will ignore the C and l1_ratio parameters\n",
            "  warnings.warn(\n",
            "C:\\Users\\rvkmc\\anaconda3\\lib\\site-packages\\sklearn\\linear_model\\_logistic.py:1320: UserWarning: Setting penalty='none' will ignore the C and l1_ratio parameters\n",
            "  warnings.warn(\n",
            "C:\\Users\\rvkmc\\anaconda3\\lib\\site-packages\\sklearn\\linear_model\\_logistic.py:1320: UserWarning: Setting penalty='none' will ignore the C and l1_ratio parameters\n",
            "  warnings.warn(\n",
            "C:\\Users\\rvkmc\\anaconda3\\lib\\site-packages\\sklearn\\linear_model\\_logistic.py:1320: UserWarning: Setting penalty='none' will ignore the C and l1_ratio parameters\n",
            "  warnings.warn(\n"
          ],
          "name": "stderr"
        },
        {
          "output_type": "stream",
          "text": [
            "C:\\Users\\rvkmc\\anaconda3\\lib\\site-packages\\sklearn\\linear_model\\_logistic.py:1320: UserWarning: Setting penalty='none' will ignore the C and l1_ratio parameters\n",
            "  warnings.warn(\n",
            "C:\\Users\\rvkmc\\anaconda3\\lib\\site-packages\\sklearn\\model_selection\\_validation.py:548: FitFailedWarning: Estimator fit failed. The score on this train-test partition for these parameters will be set to nan. Details: \n",
            "Traceback (most recent call last):\n",
            "  File \"C:\\Users\\rvkmc\\anaconda3\\lib\\site-packages\\sklearn\\model_selection\\_validation.py\", line 531, in _fit_and_score\n",
            "    estimator.fit(X_train, y_train, **fit_params)\n",
            "  File \"C:\\Users\\rvkmc\\anaconda3\\lib\\site-packages\\sklearn\\linear_model\\_logistic.py\", line 1304, in fit\n",
            "    solver = _check_solver(self.solver, self.penalty, self.dual)\n",
            "  File \"C:\\Users\\rvkmc\\anaconda3\\lib\\site-packages\\sklearn\\linear_model\\_logistic.py\", line 442, in _check_solver\n",
            "    raise ValueError(\"Solver %s supports only 'l2' or 'none' penalties, \"\n",
            "ValueError: Solver lbfgs supports only 'l2' or 'none' penalties, got l1 penalty.\n",
            "\n",
            "  warnings.warn(\"Estimator fit failed. The score on this train-test\"\n",
            "C:\\Users\\rvkmc\\anaconda3\\lib\\site-packages\\sklearn\\model_selection\\_validation.py:548: FitFailedWarning: Estimator fit failed. The score on this train-test partition for these parameters will be set to nan. Details: \n",
            "Traceback (most recent call last):\n",
            "  File \"C:\\Users\\rvkmc\\anaconda3\\lib\\site-packages\\sklearn\\model_selection\\_validation.py\", line 531, in _fit_and_score\n",
            "    estimator.fit(X_train, y_train, **fit_params)\n",
            "  File \"C:\\Users\\rvkmc\\anaconda3\\lib\\site-packages\\sklearn\\linear_model\\_logistic.py\", line 1304, in fit\n",
            "    solver = _check_solver(self.solver, self.penalty, self.dual)\n",
            "  File \"C:\\Users\\rvkmc\\anaconda3\\lib\\site-packages\\sklearn\\linear_model\\_logistic.py\", line 442, in _check_solver\n",
            "    raise ValueError(\"Solver %s supports only 'l2' or 'none' penalties, \"\n",
            "ValueError: Solver lbfgs supports only 'l2' or 'none' penalties, got elasticnet penalty.\n",
            "\n",
            "  warnings.warn(\"Estimator fit failed. The score on this train-test\"\n",
            "C:\\Users\\rvkmc\\anaconda3\\lib\\site-packages\\sklearn\\linear_model\\_logistic.py:1320: UserWarning: Setting penalty='none' will ignore the C and l1_ratio parameters\n",
            "  warnings.warn(\n",
            "C:\\Users\\rvkmc\\anaconda3\\lib\\site-packages\\sklearn\\linear_model\\_logistic.py:1320: UserWarning: Setting penalty='none' will ignore the C and l1_ratio parameters\n",
            "  warnings.warn(\n",
            "C:\\Users\\rvkmc\\anaconda3\\lib\\site-packages\\sklearn\\linear_model\\_logistic.py:1320: UserWarning: Setting penalty='none' will ignore the C and l1_ratio parameters\n",
            "  warnings.warn(\n",
            "C:\\Users\\rvkmc\\anaconda3\\lib\\site-packages\\sklearn\\linear_model\\_logistic.py:1320: UserWarning: Setting penalty='none' will ignore the C and l1_ratio parameters\n",
            "  warnings.warn(\n",
            "C:\\Users\\rvkmc\\anaconda3\\lib\\site-packages\\sklearn\\linear_model\\_logistic.py:1320: UserWarning: Setting penalty='none' will ignore the C and l1_ratio parameters\n",
            "  warnings.warn(\n"
          ],
          "name": "stderr"
        },
        {
          "output_type": "execute_result",
          "data": {
            "text/plain": [
              "GridSearchCV(estimator=LogisticRegression(),\n",
              "             param_grid={'C': [1, 1.1, 1.2, 1.3], 'max_iter': [150, 200],\n",
              "                         'n_jobs': [-1],\n",
              "                         'penalty': ['l1', 'l2', 'elasticnet', 'none'],\n",
              "                         'random_state': [123]})"
            ]
          },
          "metadata": {
            "tags": []
          },
          "execution_count": 23
        }
      ]
    },
    {
      "cell_type": "code",
      "metadata": {
        "id": "n73IrltflGQw",
        "outputId": "6668a882-de2c-42ad-bba3-81f3d9a75acf"
      },
      "source": [
        "logreg.score(xtr,ytr),logreg.score(xts,yts)"
      ],
      "execution_count": null,
      "outputs": [
        {
          "output_type": "execute_result",
          "data": {
            "text/plain": [
              "(0.8090692124105012, 0.7867483296213809)"
            ]
          },
          "metadata": {
            "tags": []
          },
          "execution_count": 24
        }
      ]
    },
    {
      "cell_type": "markdown",
      "metadata": {
        "id": "XzlopmvQn5tj"
      },
      "source": [
        "# trainig an xgboost and a random_forest model..........."
      ]
    },
    {
      "cell_type": "code",
      "metadata": {
        "id": "ciVqgOKWlGQw"
      },
      "source": [
        "prmgrd = {\n",
        "    'n_estimators':[100,150],\n",
        "    'criterion':['gini','entropy'],\n",
        "    'max_features':['auto','sqrt','log2'],\n",
        "    'random_state':[123]\n",
        "}"
      ],
      "execution_count": null,
      "outputs": []
    },
    {
      "cell_type": "code",
      "metadata": {
        "id": "GSIo0_dklGQw"
      },
      "source": [
        "gcvrf = GridSearchCV(estimator=RandomForestClassifier(),param_grid=prmgrd,n_jobs=-1)"
      ],
      "execution_count": null,
      "outputs": []
    },
    {
      "cell_type": "code",
      "metadata": {
        "id": "p76U8Q5flGQx"
      },
      "source": [
        "prmgrdx = {\n",
        "        'n_estimators':[100,150],\n",
        "        'booster':['gbtree','gblinear','dart']\n",
        "}"
      ],
      "execution_count": null,
      "outputs": []
    },
    {
      "cell_type": "code",
      "metadata": {
        "id": "-2xFyGp5lGQx"
      },
      "source": [
        "gcvxg = GridSearchCV(estimator=XGBClassifier(),param_grid=prmgrdx,n_jobs=-1)"
      ],
      "execution_count": null,
      "outputs": []
    },
    {
      "cell_type": "code",
      "metadata": {
        "id": "mKnDCRtClGQx",
        "outputId": "e0283f39-a237-4584-835b-92fbe7e13fd8"
      },
      "source": [
        "gcvrf.fit(xtr,ytr)"
      ],
      "execution_count": null,
      "outputs": [
        {
          "output_type": "execute_result",
          "data": {
            "text/plain": [
              "GridSearchCV(estimator=RandomForestClassifier(), n_jobs=-1,\n",
              "             param_grid={'criterion': ['gini', 'entropy'],\n",
              "                         'max_features': ['auto', 'sqrt', 'log2'],\n",
              "                         'n_estimators': [100, 150], 'random_state': [123]})"
            ]
          },
          "metadata": {
            "tags": []
          },
          "execution_count": 35
        }
      ]
    },
    {
      "cell_type": "code",
      "metadata": {
        "id": "PS_BQRWilGQy",
        "outputId": "789083f9-d293-4180-d8a6-681b2d04ecee"
      },
      "source": [
        "gcvxg.fit(xtr,ytr)"
      ],
      "execution_count": null,
      "outputs": [
        {
          "output_type": "stream",
          "text": [
            "[21:21:46] WARNING: C:/Users/Administrator/workspace/xgboost-win64_release_1.3.0/src/learner.cc:1061: Starting in XGBoost 1.3.0, the default evaluation metric used with the objective 'binary:logistic' was changed from 'error' to 'logloss'. Explicitly set eval_metric if you'd like to restore the old behavior.\n"
          ],
          "name": "stdout"
        },
        {
          "output_type": "stream",
          "text": [
            "C:\\Users\\rvkmc\\anaconda3\\lib\\site-packages\\xgboost\\sklearn.py:892: UserWarning: The use of label encoder in XGBClassifier is deprecated and will be removed in a future release. To remove this warning, do the following: 1) Pass option use_label_encoder=False when constructing XGBClassifier object; and 2) Encode your labels (y) as integers starting with 0, i.e. 0, 1, 2, ..., [num_class - 1].\n",
            "  warnings.warn(label_encoder_deprecation_msg, UserWarning)\n"
          ],
          "name": "stderr"
        },
        {
          "output_type": "execute_result",
          "data": {
            "text/plain": [
              "GridSearchCV(estimator=XGBClassifier(base_score=None, booster=None,\n",
              "                                     colsample_bylevel=None,\n",
              "                                     colsample_bynode=None,\n",
              "                                     colsample_bytree=None, gamma=None,\n",
              "                                     gpu_id=None, importance_type='gain',\n",
              "                                     interaction_constraints=None,\n",
              "                                     learning_rate=None, max_delta_step=None,\n",
              "                                     max_depth=None, min_child_weight=None,\n",
              "                                     missing=nan, monotone_constraints=None,\n",
              "                                     n_estimators=100, n_jobs=None,\n",
              "                                     num_parallel_tree=None, random_state=None,\n",
              "                                     reg_alpha=None, reg_lambda=None,\n",
              "                                     scale_pos_weight=None, subsample=None,\n",
              "                                     tree_method=None, validate_parameters=None,\n",
              "                                     verbosity=None),\n",
              "             n_jobs=-1,\n",
              "             param_grid={'booster': ['gbtree', 'gblinear', 'dart'],\n",
              "                         'n_estimators': [100, 150]})"
            ]
          },
          "metadata": {
            "tags": []
          },
          "execution_count": 36
        }
      ]
    },
    {
      "cell_type": "code",
      "metadata": {
        "scrolled": true,
        "id": "ahE_pQQrlGQz",
        "outputId": "42259bd5-850d-46a8-a2c1-96e08d916bb1"
      },
      "source": [
        "gcvrf.best_params_,gcvxg.best_params_"
      ],
      "execution_count": null,
      "outputs": [
        {
          "output_type": "execute_result",
          "data": {
            "text/plain": [
              "({'criterion': 'entropy',\n",
              "  'max_features': 'log2',\n",
              "  'n_estimators': 100,\n",
              "  'random_state': 123},\n",
              " {'booster': 'gblinear', 'n_estimators': 150})"
            ]
          },
          "metadata": {
            "tags": []
          },
          "execution_count": 37
        }
      ]
    },
    {
      "cell_type": "code",
      "metadata": {
        "scrolled": true,
        "id": "GFuQDVt-lGQz",
        "outputId": "1df0fa0d-69a4-4cff-ff7a-826ca6548008"
      },
      "source": [
        "gcvrf.score(xtr,ytr),gcvrf.score(xts,yts)"
      ],
      "execution_count": null,
      "outputs": [
        {
          "output_type": "execute_result",
          "data": {
            "text/plain": [
              "(0.9990453460620525, 0.7739420935412027)"
            ]
          },
          "metadata": {
            "tags": []
          },
          "execution_count": 38
        }
      ]
    },
    {
      "cell_type": "code",
      "metadata": {
        "scrolled": false,
        "id": "txCC2g3YlGQz",
        "outputId": "3f544cde-2f09-473d-ffd3-e945bc39ea7a"
      },
      "source": [
        "gcvxg.score(xtr,ytr),gcvxg.score(xts,yts)"
      ],
      "execution_count": null,
      "outputs": [
        {
          "output_type": "execute_result",
          "data": {
            "text/plain": [
              "(0.8100238663484487, 0.7861915367483296)"
            ]
          },
          "metadata": {
            "tags": []
          },
          "execution_count": 39
        }
      ]
    },
    {
      "cell_type": "code",
      "metadata": {
        "id": "SVpW_e7UlGQ0"
      },
      "source": [
        "skf = StratifiedKFold(n_splits=10, shuffle=True, random_state=122) "
      ],
      "execution_count": null,
      "outputs": []
    },
    {
      "cell_type": "code",
      "metadata": {
        "id": "wDKnIsNflGQ0"
      },
      "source": [
        "rfdf = pd.DataFrame(columns=['rf_mods','rf_scores'])\n",
        "xgdf = pd.DataFrame(columns=['xg_mods','xg_scores'])"
      ],
      "execution_count": null,
      "outputs": []
    },
    {
      "cell_type": "code",
      "metadata": {
        "id": "-J9ZG9NplGQ0"
      },
      "source": [
        "bstrf = RandomForestClassifier(criterion='entropy',max_features='log2',n_estimators=100,oob_score=True,random_state=123)\n",
        "bstxg = XGBClassifier(booster='gblinear',n_estimators=150,num_parallel_tree=20)"
      ],
      "execution_count": null,
      "outputs": []
    },
    {
      "cell_type": "code",
      "metadata": {
        "scrolled": true,
        "id": "k57dDcdclGQ0",
        "outputId": "812bb8bb-5df4-434b-e709-c63285808678"
      },
      "source": [
        "lrf=[]\n",
        "mrf=[]\n",
        "lxg=[]\n",
        "mxg=[]\n",
        "for tri,tsi in skf.split(X1,y):\n",
        "    xtrf,xtsf = X1.iloc[tri],X1.iloc[tsi]\n",
        "    ytrf,ytsf = y.iloc[tri],y.iloc[tsi]\n",
        "    rfn = bstrf.fit(xtrf,ytrf)\n",
        "    xgn = bstxg.fit(xtrf,ytrf)\n",
        "    mrf.append(rfn)\n",
        "    lrf.append(rfn.score(xtsf,ytsf))\n",
        "    mxg.append(xgn)\n",
        "    lxg.append(xgn.score(xtsf,ytsf))"
      ],
      "execution_count": null,
      "outputs": [
        {
          "output_type": "stream",
          "text": [
            "C:\\Users\\rvkmc\\anaconda3\\lib\\site-packages\\xgboost\\sklearn.py:892: UserWarning: The use of label encoder in XGBClassifier is deprecated and will be removed in a future release. To remove this warning, do the following: 1) Pass option use_label_encoder=False when constructing XGBClassifier object; and 2) Encode your labels (y) as integers starting with 0, i.e. 0, 1, 2, ..., [num_class - 1].\n",
            "  warnings.warn(label_encoder_deprecation_msg, UserWarning)\n"
          ],
          "name": "stderr"
        },
        {
          "output_type": "stream",
          "text": [
            "[21:24:59] WARNING: C:/Users/Administrator/workspace/xgboost-win64_release_1.3.0/src/learner.cc:541: \n",
            "Parameters: { num_parallel_tree } might not be used.\n",
            "\n",
            "  This may not be accurate due to some parameters are only used in language bindings but\n",
            "  passed down to XGBoost core.  Or some parameters are not used but slip through this\n",
            "  verification. Please open an issue if you find above cases.\n",
            "\n",
            "\n",
            "[21:24:59] WARNING: C:/Users/Administrator/workspace/xgboost-win64_release_1.3.0/src/learner.cc:1061: Starting in XGBoost 1.3.0, the default evaluation metric used with the objective 'binary:logistic' was changed from 'error' to 'logloss'. Explicitly set eval_metric if you'd like to restore the old behavior.\n"
          ],
          "name": "stdout"
        },
        {
          "output_type": "stream",
          "text": [
            "C:\\Users\\rvkmc\\anaconda3\\lib\\site-packages\\xgboost\\sklearn.py:892: UserWarning: The use of label encoder in XGBClassifier is deprecated and will be removed in a future release. To remove this warning, do the following: 1) Pass option use_label_encoder=False when constructing XGBClassifier object; and 2) Encode your labels (y) as integers starting with 0, i.e. 0, 1, 2, ..., [num_class - 1].\n",
            "  warnings.warn(label_encoder_deprecation_msg, UserWarning)\n"
          ],
          "name": "stderr"
        },
        {
          "output_type": "stream",
          "text": [
            "[21:25:00] WARNING: C:/Users/Administrator/workspace/xgboost-win64_release_1.3.0/src/learner.cc:541: \n",
            "Parameters: { num_parallel_tree } might not be used.\n",
            "\n",
            "  This may not be accurate due to some parameters are only used in language bindings but\n",
            "  passed down to XGBoost core.  Or some parameters are not used but slip through this\n",
            "  verification. Please open an issue if you find above cases.\n",
            "\n",
            "\n",
            "[21:25:00] WARNING: C:/Users/Administrator/workspace/xgboost-win64_release_1.3.0/src/learner.cc:1061: Starting in XGBoost 1.3.0, the default evaluation metric used with the objective 'binary:logistic' was changed from 'error' to 'logloss'. Explicitly set eval_metric if you'd like to restore the old behavior.\n"
          ],
          "name": "stdout"
        },
        {
          "output_type": "stream",
          "text": [
            "C:\\Users\\rvkmc\\anaconda3\\lib\\site-packages\\xgboost\\sklearn.py:892: UserWarning: The use of label encoder in XGBClassifier is deprecated and will be removed in a future release. To remove this warning, do the following: 1) Pass option use_label_encoder=False when constructing XGBClassifier object; and 2) Encode your labels (y) as integers starting with 0, i.e. 0, 1, 2, ..., [num_class - 1].\n",
            "  warnings.warn(label_encoder_deprecation_msg, UserWarning)\n"
          ],
          "name": "stderr"
        },
        {
          "output_type": "stream",
          "text": [
            "[21:25:01] WARNING: C:/Users/Administrator/workspace/xgboost-win64_release_1.3.0/src/learner.cc:541: \n",
            "Parameters: { num_parallel_tree } might not be used.\n",
            "\n",
            "  This may not be accurate due to some parameters are only used in language bindings but\n",
            "  passed down to XGBoost core.  Or some parameters are not used but slip through this\n",
            "  verification. Please open an issue if you find above cases.\n",
            "\n",
            "\n",
            "[21:25:01] WARNING: C:/Users/Administrator/workspace/xgboost-win64_release_1.3.0/src/learner.cc:1061: Starting in XGBoost 1.3.0, the default evaluation metric used with the objective 'binary:logistic' was changed from 'error' to 'logloss'. Explicitly set eval_metric if you'd like to restore the old behavior.\n"
          ],
          "name": "stdout"
        },
        {
          "output_type": "stream",
          "text": [
            "C:\\Users\\rvkmc\\anaconda3\\lib\\site-packages\\xgboost\\sklearn.py:892: UserWarning: The use of label encoder in XGBClassifier is deprecated and will be removed in a future release. To remove this warning, do the following: 1) Pass option use_label_encoder=False when constructing XGBClassifier object; and 2) Encode your labels (y) as integers starting with 0, i.e. 0, 1, 2, ..., [num_class - 1].\n",
            "  warnings.warn(label_encoder_deprecation_msg, UserWarning)\n"
          ],
          "name": "stderr"
        },
        {
          "output_type": "stream",
          "text": [
            "[21:25:01] WARNING: C:/Users/Administrator/workspace/xgboost-win64_release_1.3.0/src/learner.cc:541: \n",
            "Parameters: { num_parallel_tree } might not be used.\n",
            "\n",
            "  This may not be accurate due to some parameters are only used in language bindings but\n",
            "  passed down to XGBoost core.  Or some parameters are not used but slip through this\n",
            "  verification. Please open an issue if you find above cases.\n",
            "\n",
            "\n",
            "[21:25:01] WARNING: C:/Users/Administrator/workspace/xgboost-win64_release_1.3.0/src/learner.cc:1061: Starting in XGBoost 1.3.0, the default evaluation metric used with the objective 'binary:logistic' was changed from 'error' to 'logloss'. Explicitly set eval_metric if you'd like to restore the old behavior.\n"
          ],
          "name": "stdout"
        },
        {
          "output_type": "stream",
          "text": [
            "C:\\Users\\rvkmc\\anaconda3\\lib\\site-packages\\xgboost\\sklearn.py:892: UserWarning: The use of label encoder in XGBClassifier is deprecated and will be removed in a future release. To remove this warning, do the following: 1) Pass option use_label_encoder=False when constructing XGBClassifier object; and 2) Encode your labels (y) as integers starting with 0, i.e. 0, 1, 2, ..., [num_class - 1].\n",
            "  warnings.warn(label_encoder_deprecation_msg, UserWarning)\n"
          ],
          "name": "stderr"
        },
        {
          "output_type": "stream",
          "text": [
            "[21:25:02] WARNING: C:/Users/Administrator/workspace/xgboost-win64_release_1.3.0/src/learner.cc:541: \n",
            "Parameters: { num_parallel_tree } might not be used.\n",
            "\n",
            "  This may not be accurate due to some parameters are only used in language bindings but\n",
            "  passed down to XGBoost core.  Or some parameters are not used but slip through this\n",
            "  verification. Please open an issue if you find above cases.\n",
            "\n",
            "\n",
            "[21:25:02] WARNING: C:/Users/Administrator/workspace/xgboost-win64_release_1.3.0/src/learner.cc:1061: Starting in XGBoost 1.3.0, the default evaluation metric used with the objective 'binary:logistic' was changed from 'error' to 'logloss'. Explicitly set eval_metric if you'd like to restore the old behavior.\n"
          ],
          "name": "stdout"
        },
        {
          "output_type": "stream",
          "text": [
            "C:\\Users\\rvkmc\\anaconda3\\lib\\site-packages\\xgboost\\sklearn.py:892: UserWarning: The use of label encoder in XGBClassifier is deprecated and will be removed in a future release. To remove this warning, do the following: 1) Pass option use_label_encoder=False when constructing XGBClassifier object; and 2) Encode your labels (y) as integers starting with 0, i.e. 0, 1, 2, ..., [num_class - 1].\n",
            "  warnings.warn(label_encoder_deprecation_msg, UserWarning)\n"
          ],
          "name": "stderr"
        },
        {
          "output_type": "stream",
          "text": [
            "[21:25:03] WARNING: C:/Users/Administrator/workspace/xgboost-win64_release_1.3.0/src/learner.cc:541: \n",
            "Parameters: { num_parallel_tree } might not be used.\n",
            "\n",
            "  This may not be accurate due to some parameters are only used in language bindings but\n",
            "  passed down to XGBoost core.  Or some parameters are not used but slip through this\n",
            "  verification. Please open an issue if you find above cases.\n",
            "\n",
            "\n",
            "[21:25:03] WARNING: C:/Users/Administrator/workspace/xgboost-win64_release_1.3.0/src/learner.cc:1061: Starting in XGBoost 1.3.0, the default evaluation metric used with the objective 'binary:logistic' was changed from 'error' to 'logloss'. Explicitly set eval_metric if you'd like to restore the old behavior.\n"
          ],
          "name": "stdout"
        },
        {
          "output_type": "stream",
          "text": [
            "C:\\Users\\rvkmc\\anaconda3\\lib\\site-packages\\xgboost\\sklearn.py:892: UserWarning: The use of label encoder in XGBClassifier is deprecated and will be removed in a future release. To remove this warning, do the following: 1) Pass option use_label_encoder=False when constructing XGBClassifier object; and 2) Encode your labels (y) as integers starting with 0, i.e. 0, 1, 2, ..., [num_class - 1].\n",
            "  warnings.warn(label_encoder_deprecation_msg, UserWarning)\n"
          ],
          "name": "stderr"
        },
        {
          "output_type": "stream",
          "text": [
            "[21:25:04] WARNING: C:/Users/Administrator/workspace/xgboost-win64_release_1.3.0/src/learner.cc:541: \n",
            "Parameters: { num_parallel_tree } might not be used.\n",
            "\n",
            "  This may not be accurate due to some parameters are only used in language bindings but\n",
            "  passed down to XGBoost core.  Or some parameters are not used but slip through this\n",
            "  verification. Please open an issue if you find above cases.\n",
            "\n",
            "\n",
            "[21:25:04] WARNING: C:/Users/Administrator/workspace/xgboost-win64_release_1.3.0/src/learner.cc:1061: Starting in XGBoost 1.3.0, the default evaluation metric used with the objective 'binary:logistic' was changed from 'error' to 'logloss'. Explicitly set eval_metric if you'd like to restore the old behavior.\n"
          ],
          "name": "stdout"
        },
        {
          "output_type": "stream",
          "text": [
            "C:\\Users\\rvkmc\\anaconda3\\lib\\site-packages\\xgboost\\sklearn.py:892: UserWarning: The use of label encoder in XGBClassifier is deprecated and will be removed in a future release. To remove this warning, do the following: 1) Pass option use_label_encoder=False when constructing XGBClassifier object; and 2) Encode your labels (y) as integers starting with 0, i.e. 0, 1, 2, ..., [num_class - 1].\n",
            "  warnings.warn(label_encoder_deprecation_msg, UserWarning)\n"
          ],
          "name": "stderr"
        },
        {
          "output_type": "stream",
          "text": [
            "[21:25:04] WARNING: C:/Users/Administrator/workspace/xgboost-win64_release_1.3.0/src/learner.cc:541: \n",
            "Parameters: { num_parallel_tree } might not be used.\n",
            "\n",
            "  This may not be accurate due to some parameters are only used in language bindings but\n",
            "  passed down to XGBoost core.  Or some parameters are not used but slip through this\n",
            "  verification. Please open an issue if you find above cases.\n",
            "\n",
            "\n",
            "[21:25:04] WARNING: C:/Users/Administrator/workspace/xgboost-win64_release_1.3.0/src/learner.cc:1061: Starting in XGBoost 1.3.0, the default evaluation metric used with the objective 'binary:logistic' was changed from 'error' to 'logloss'. Explicitly set eval_metric if you'd like to restore the old behavior.\n"
          ],
          "name": "stdout"
        },
        {
          "output_type": "stream",
          "text": [
            "C:\\Users\\rvkmc\\anaconda3\\lib\\site-packages\\xgboost\\sklearn.py:892: UserWarning: The use of label encoder in XGBClassifier is deprecated and will be removed in a future release. To remove this warning, do the following: 1) Pass option use_label_encoder=False when constructing XGBClassifier object; and 2) Encode your labels (y) as integers starting with 0, i.e. 0, 1, 2, ..., [num_class - 1].\n",
            "  warnings.warn(label_encoder_deprecation_msg, UserWarning)\n"
          ],
          "name": "stderr"
        },
        {
          "output_type": "stream",
          "text": [
            "[21:25:05] WARNING: C:/Users/Administrator/workspace/xgboost-win64_release_1.3.0/src/learner.cc:541: \n",
            "Parameters: { num_parallel_tree } might not be used.\n",
            "\n",
            "  This may not be accurate due to some parameters are only used in language bindings but\n",
            "  passed down to XGBoost core.  Or some parameters are not used but slip through this\n",
            "  verification. Please open an issue if you find above cases.\n",
            "\n",
            "\n",
            "[21:25:05] WARNING: C:/Users/Administrator/workspace/xgboost-win64_release_1.3.0/src/learner.cc:1061: Starting in XGBoost 1.3.0, the default evaluation metric used with the objective 'binary:logistic' was changed from 'error' to 'logloss'. Explicitly set eval_metric if you'd like to restore the old behavior.\n",
            "[21:25:06] WARNING: C:/Users/Administrator/workspace/xgboost-win64_release_1.3.0/src/learner.cc:541: \n",
            "Parameters: { num_parallel_tree } might not be used.\n",
            "\n",
            "  This may not be accurate due to some parameters are only used in language bindings but\n",
            "  passed down to XGBoost core.  Or some parameters are not used but slip through this\n",
            "  verification. Please open an issue if you find above cases.\n",
            "\n",
            "\n",
            "[21:25:06] WARNING: C:/Users/Administrator/workspace/xgboost-win64_release_1.3.0/src/learner.cc:1061: Starting in XGBoost 1.3.0, the default evaluation metric used with the objective 'binary:logistic' was changed from 'error' to 'logloss'. Explicitly set eval_metric if you'd like to restore the old behavior.\n"
          ],
          "name": "stdout"
        },
        {
          "output_type": "stream",
          "text": [
            "C:\\Users\\rvkmc\\anaconda3\\lib\\site-packages\\xgboost\\sklearn.py:892: UserWarning: The use of label encoder in XGBClassifier is deprecated and will be removed in a future release. To remove this warning, do the following: 1) Pass option use_label_encoder=False when constructing XGBClassifier object; and 2) Encode your labels (y) as integers starting with 0, i.e. 0, 1, 2, ..., [num_class - 1].\n",
            "  warnings.warn(label_encoder_deprecation_msg, UserWarning)\n"
          ],
          "name": "stderr"
        }
      ]
    },
    {
      "cell_type": "code",
      "metadata": {
        "id": "_h9ADrsalGQ1"
      },
      "source": [
        "rfdf['rf_mods'] = mrf\n",
        "rfdf['rf_scores'] = lrf\n",
        "xgdf['xg_mods'] = mxg\n",
        "xgdf['xg_scores'] = lxg"
      ],
      "execution_count": null,
      "outputs": []
    },
    {
      "cell_type": "code",
      "metadata": {
        "id": "p-0G72N7lGQ1"
      },
      "source": [
        "def print_full(x):\n",
        "    pd.set_option('display.max_rows', None)\n",
        "    pd.set_option('display.max_columns', None)\n",
        "    pd.set_option('display.width', 2000)\n",
        "    pd.set_option('display.float_format', '{:20,.2f}'.format)\n",
        "    pd.set_option('display.max_colwidth', None)\n",
        "    print(x)\n",
        "    pd.reset_option('display.max_rows')\n",
        "    pd.reset_option('display.max_columns')\n",
        "    pd.reset_option('display.width')\n",
        "    pd.reset_option('display.float_format')\n",
        "    pd.reset_option('display.max_colwidth')"
      ],
      "execution_count": null,
      "outputs": []
    },
    {
      "cell_type": "code",
      "metadata": {
        "id": "tqw6DyyBlGQ1",
        "outputId": "80a92b47-c5d4-4e42-c454-ca3a5a532f84"
      },
      "source": [
        "print_full(rfdf)"
      ],
      "execution_count": null,
      "outputs": [
        {
          "output_type": "stream",
          "text": [
            "                                                                                                                                                                                                                                                                                                                                                                                                                                                                                                                                                                                                                                                                                                                                                                                                                                                                                                                                                                                                                                                                                                                                                                                                                                                                                                                                                                                                                                                                                                                                                                                                                                                                                                                                                                                                                                                                                                                                                                                                                                                                                                                                                                                                                                                                                                                                                                                                                                                                                                                                                                                                                                                                                                                                                                                                                                                                                                                                                                                                                                                                                                                                                                                                                                                                                                                                                                                                                                                                                                                                                                                                                                                                                                                                                                                                                                                                                                                                                                                                                                                                                                                                                                                                                                                                                                                                                                                                                                                                                                                                                                                                                                                                                                                                                                                                                                                                                                                                                                                                                                                                                                                                                                                                                                                                                                                                                                                                                                                                                                                                                                                                                                                                                                                                                                                                                                                                                                                                                                                                                                                                                                                                                                                                                                                                                                                                                                                                                                                                                                                                                                                                                                                                                                                                                                                                                                                                                                                                                                                                                                                                                                                                                                                                                                                                                                                                                                                                                                                                                                                                                                                                                                                                                                                                                                                                                                                                                                                                                                                                                                                                                                                                                                                                                                                                                                                                                                                                                                                                                                                                                                                                                                                                                                                                                                                                                                                                                                                                                                                                                                                                                                                                                                                                                                                                                                                                                                                                                                                                                                                                                                                                                                                                                                                                                                                                                                                                                                                                                                                                                                                                                                                                                                                                                                                                                                                                                                                                                                                                                                                                                                                                                                                                                                                                                                                                                                                                                                                                                                                                                                                                                                                                                                                                                                                                                                                                                                                                                                                                                                                                                                                                                                                                                                                                                                                                                                                                                                                        rf_mods  \\\n",
            "0  (DecisionTreeClassifier(criterion='entropy', max_features='log2',\\n                       random_state=843828734), DecisionTreeClassifier(criterion='entropy', max_features='log2',\\n                       random_state=914636141), DecisionTreeClassifier(criterion='entropy', max_features='log2',\\n                       random_state=1228959102), DecisionTreeClassifier(criterion='entropy', max_features='log2',\\n                       random_state=1840268610), DecisionTreeClassifier(criterion='entropy', max_features='log2',\\n                       random_state=974319580), DecisionTreeClassifier(criterion='entropy', max_features='log2',\\n                       random_state=819844194), DecisionTreeClassifier(criterion='entropy', max_features='log2',\\n                       random_state=220395238), DecisionTreeClassifier(criterion='entropy', max_features='log2',\\n                       random_state=941243409), DecisionTreeClassifier(criterion='entropy', max_features='log2',\\n                       random_state=942612051), DecisionTreeClassifier(criterion='entropy', max_features='log2',\\n                       random_state=2109339754), DecisionTreeClassifier(criterion='entropy', max_features='log2',\\n                       random_state=1817228411), DecisionTreeClassifier(criterion='entropy', max_features='log2',\\n                       random_state=1202710073), DecisionTreeClassifier(criterion='entropy', max_features='log2',\\n                       random_state=2064866518), DecisionTreeClassifier(criterion='entropy', max_features='log2',\\n                       random_state=1764906721), DecisionTreeClassifier(criterion='entropy', max_features='log2',\\n                       random_state=793837664), DecisionTreeClassifier(criterion='entropy', max_features='log2',\\n                       random_state=342284401), DecisionTreeClassifier(criterion='entropy', max_features='log2',\\n                       random_state=2065586814), DecisionTreeClassifier(criterion='entropy', max_features='log2',\\n                       random_state=601083951), DecisionTreeClassifier(criterion='entropy', max_features='log2',\\n                       random_state=1684131913), DecisionTreeClassifier(criterion='entropy', max_features='log2',\\n                       random_state=1722357280), DecisionTreeClassifier(criterion='entropy', max_features='log2',\\n                       random_state=1473938350), DecisionTreeClassifier(criterion='entropy', max_features='log2',\\n                       random_state=546822368), DecisionTreeClassifier(criterion='entropy', max_features='log2',\\n                       random_state=983761007), DecisionTreeClassifier(criterion='entropy', max_features='log2',\\n                       random_state=1392217497), DecisionTreeClassifier(criterion='entropy', max_features='log2',\\n                       random_state=1883653459), DecisionTreeClassifier(criterion='entropy', max_features='log2',\\n                       random_state=1051233102), DecisionTreeClassifier(criterion='entropy', max_features='log2',\\n                       random_state=256314621), DecisionTreeClassifier(criterion='entropy', max_features='log2',\\n                       random_state=836467108), DecisionTreeClassifier(criterion='entropy', max_features='log2',\\n                       random_state=1709587040), DecisionTreeClassifier(criterion='entropy', max_features='log2',\\n                       random_state=403307728), DecisionTreeClassifier(criterion='entropy', max_features='log2',\\n                       random_state=1022182468), DecisionTreeClassifier(criterion='entropy', max_features='log2',\\n                       random_state=566042417), DecisionTreeClassifier(criterion='entropy', max_features='log2',\\n                       random_state=783796023), DecisionTreeClassifier(criterion='entropy', max_features='log2',\\n                       random_state=1890890179), DecisionTreeClassifier(criterion='entropy', max_features='log2',\\n                       random_state=753559554), DecisionTreeClassifier(criterion='entropy', max_features='log2',\\n                       random_state=359602516), DecisionTreeClassifier(criterion='entropy', max_features='log2',\\n                       random_state=135512103), DecisionTreeClassifier(criterion='entropy', max_features='log2',\\n                       random_state=911951170), DecisionTreeClassifier(criterion='entropy', max_features='log2',\\n                       random_state=136698452), DecisionTreeClassifier(criterion='entropy', max_features='log2',\\n                       random_state=1837659695), DecisionTreeClassifier(criterion='entropy', max_features='log2',\\n                       random_state=577247736), DecisionTreeClassifier(criterion='entropy', max_features='log2',\\n                       random_state=1278957501), DecisionTreeClassifier(criterion='entropy', max_features='log2',\\n                       random_state=1500798128), DecisionTreeClassifier(criterion='entropy', max_features='log2',\\n                       random_state=2113488007), DecisionTreeClassifier(criterion='entropy', max_features='log2',\\n                       random_state=964028265), DecisionTreeClassifier(criterion='entropy', max_features='log2',\\n                       random_state=1032065123), DecisionTreeClassifier(criterion='entropy', max_features='log2',\\n                       random_state=476842364), DecisionTreeClassifier(criterion='entropy', max_features='log2',\\n                       random_state=1536434012), DecisionTreeClassifier(criterion='entropy', max_features='log2',\\n                       random_state=955387060), DecisionTreeClassifier(criterion='entropy', max_features='log2',\\n                       random_state=1791903078), DecisionTreeClassifier(criterion='entropy', max_features='log2',\\n                       random_state=1387097953), DecisionTreeClassifier(criterion='entropy', max_features='log2',\\n                       random_state=664522965), DecisionTreeClassifier(criterion='entropy', max_features='log2',\\n                       random_state=1553870454), DecisionTreeClassifier(criterion='entropy', max_features='log2',\\n                       random_state=1605464926), DecisionTreeClassifier(criterion='entropy', max_features='log2',\\n                       random_state=980383131), DecisionTreeClassifier(criterion='entropy', max_features='log2',\\n                       random_state=1007225122), DecisionTreeClassifier(criterion='entropy', max_features='log2',\\n                       random_state=1261492193), DecisionTreeClassifier(criterion='entropy', max_features='log2',\\n                       random_state=2095923788), DecisionTreeClassifier(criterion='entropy', max_features='log2',\\n                       random_state=562538152), DecisionTreeClassifier(criterion='entropy', max_features='log2',\\n                       random_state=1142443907), DecisionTreeClassifier(criterion='entropy', max_features='log2',\\n                       random_state=395587690), DecisionTreeClassifier(criterion='entropy', max_features='log2',\\n                       random_state=1189724997), DecisionTreeClassifier(criterion='entropy', max_features='log2',\\n                       random_state=1862732352), DecisionTreeClassifier(criterion='entropy', max_features='log2',\\n                       random_state=120181579), DecisionTreeClassifier(criterion='entropy', max_features='log2',\\n                       random_state=1850541474), DecisionTreeClassifier(criterion='entropy', max_features='log2',\\n                       random_state=746922810), DecisionTreeClassifier(criterion='entropy', max_features='log2',\\n                       random_state=2120361354), DecisionTreeClassifier(criterion='entropy', max_features='log2',\\n                       random_state=661778198), DecisionTreeClassifier(criterion='entropy', max_features='log2',\\n                       random_state=1828927181), DecisionTreeClassifier(criterion='entropy', max_features='log2',\\n                       random_state=331083922), DecisionTreeClassifier(criterion='entropy', max_features='log2',\\n                       random_state=1341151716), DecisionTreeClassifier(criterion='entropy', max_features='log2',\\n                       random_state=1674460431), DecisionTreeClassifier(criterion='entropy', max_features='log2',\\n                       random_state=1831164907), DecisionTreeClassifier(criterion='entropy', max_features='log2',\\n                       random_state=1075368347), DecisionTreeClassifier(criterion='entropy', max_features='log2',\\n                       random_state=1689593597), DecisionTreeClassifier(criterion='entropy', max_features='log2',\\n                       random_state=830660588), DecisionTreeClassifier(criterion='entropy', max_features='log2',\\n                       random_state=1907652766), DecisionTreeClassifier(criterion='entropy', max_features='log2',\\n                       random_state=50523316), DecisionTreeClassifier(criterion='entropy', max_features='log2',\\n                       random_state=7888454), DecisionTreeClassifier(criterion='entropy', max_features='log2',\\n                       random_state=1994016109), DecisionTreeClassifier(criterion='entropy', max_features='log2',\\n                       random_state=532373875), DecisionTreeClassifier(criterion='entropy', max_features='log2',\\n                       random_state=293907610), DecisionTreeClassifier(criterion='entropy', max_features='log2',\\n                       random_state=496577232), DecisionTreeClassifier(criterion='entropy', max_features='log2',\\n                       random_state=1299440006), DecisionTreeClassifier(criterion='entropy', max_features='log2',\\n                       random_state=1362730766), DecisionTreeClassifier(criterion='entropy', max_features='log2',\\n                       random_state=2135924991), DecisionTreeClassifier(criterion='entropy', max_features='log2',\\n                       random_state=1781665012), DecisionTreeClassifier(criterion='entropy', max_features='log2',\\n                       random_state=787108199), DecisionTreeClassifier(criterion='entropy', max_features='log2',\\n                       random_state=1573285835), DecisionTreeClassifier(criterion='entropy', max_features='log2',\\n                       random_state=1789707190), DecisionTreeClassifier(criterion='entropy', max_features='log2',\\n                       random_state=1075697607), DecisionTreeClassifier(criterion='entropy', max_features='log2',\\n                       random_state=467846273), DecisionTreeClassifier(criterion='entropy', max_features='log2',\\n                       random_state=2074616363), DecisionTreeClassifier(criterion='entropy', max_features='log2',\\n                       random_state=2128121018), DecisionTreeClassifier(criterion='entropy', max_features='log2',\\n                       random_state=2085463397), DecisionTreeClassifier(criterion='entropy', max_features='log2',\\n                       random_state=1000022711), DecisionTreeClassifier(criterion='entropy', max_features='log2',\\n                       random_state=83687961), DecisionTreeClassifier(criterion='entropy', max_features='log2',\\n                       random_state=1876302258), DecisionTreeClassifier(criterion='entropy', max_features='log2',\\n                       random_state=484878292), DecisionTreeClassifier(criterion='entropy', max_features='log2',\\n                       random_state=1080368952))   \n",
            "1  (DecisionTreeClassifier(criterion='entropy', max_features='log2',\\n                       random_state=843828734), DecisionTreeClassifier(criterion='entropy', max_features='log2',\\n                       random_state=914636141), DecisionTreeClassifier(criterion='entropy', max_features='log2',\\n                       random_state=1228959102), DecisionTreeClassifier(criterion='entropy', max_features='log2',\\n                       random_state=1840268610), DecisionTreeClassifier(criterion='entropy', max_features='log2',\\n                       random_state=974319580), DecisionTreeClassifier(criterion='entropy', max_features='log2',\\n                       random_state=819844194), DecisionTreeClassifier(criterion='entropy', max_features='log2',\\n                       random_state=220395238), DecisionTreeClassifier(criterion='entropy', max_features='log2',\\n                       random_state=941243409), DecisionTreeClassifier(criterion='entropy', max_features='log2',\\n                       random_state=942612051), DecisionTreeClassifier(criterion='entropy', max_features='log2',\\n                       random_state=2109339754), DecisionTreeClassifier(criterion='entropy', max_features='log2',\\n                       random_state=1817228411), DecisionTreeClassifier(criterion='entropy', max_features='log2',\\n                       random_state=1202710073), DecisionTreeClassifier(criterion='entropy', max_features='log2',\\n                       random_state=2064866518), DecisionTreeClassifier(criterion='entropy', max_features='log2',\\n                       random_state=1764906721), DecisionTreeClassifier(criterion='entropy', max_features='log2',\\n                       random_state=793837664), DecisionTreeClassifier(criterion='entropy', max_features='log2',\\n                       random_state=342284401), DecisionTreeClassifier(criterion='entropy', max_features='log2',\\n                       random_state=2065586814), DecisionTreeClassifier(criterion='entropy', max_features='log2',\\n                       random_state=601083951), DecisionTreeClassifier(criterion='entropy', max_features='log2',\\n                       random_state=1684131913), DecisionTreeClassifier(criterion='entropy', max_features='log2',\\n                       random_state=1722357280), DecisionTreeClassifier(criterion='entropy', max_features='log2',\\n                       random_state=1473938350), DecisionTreeClassifier(criterion='entropy', max_features='log2',\\n                       random_state=546822368), DecisionTreeClassifier(criterion='entropy', max_features='log2',\\n                       random_state=983761007), DecisionTreeClassifier(criterion='entropy', max_features='log2',\\n                       random_state=1392217497), DecisionTreeClassifier(criterion='entropy', max_features='log2',\\n                       random_state=1883653459), DecisionTreeClassifier(criterion='entropy', max_features='log2',\\n                       random_state=1051233102), DecisionTreeClassifier(criterion='entropy', max_features='log2',\\n                       random_state=256314621), DecisionTreeClassifier(criterion='entropy', max_features='log2',\\n                       random_state=836467108), DecisionTreeClassifier(criterion='entropy', max_features='log2',\\n                       random_state=1709587040), DecisionTreeClassifier(criterion='entropy', max_features='log2',\\n                       random_state=403307728), DecisionTreeClassifier(criterion='entropy', max_features='log2',\\n                       random_state=1022182468), DecisionTreeClassifier(criterion='entropy', max_features='log2',\\n                       random_state=566042417), DecisionTreeClassifier(criterion='entropy', max_features='log2',\\n                       random_state=783796023), DecisionTreeClassifier(criterion='entropy', max_features='log2',\\n                       random_state=1890890179), DecisionTreeClassifier(criterion='entropy', max_features='log2',\\n                       random_state=753559554), DecisionTreeClassifier(criterion='entropy', max_features='log2',\\n                       random_state=359602516), DecisionTreeClassifier(criterion='entropy', max_features='log2',\\n                       random_state=135512103), DecisionTreeClassifier(criterion='entropy', max_features='log2',\\n                       random_state=911951170), DecisionTreeClassifier(criterion='entropy', max_features='log2',\\n                       random_state=136698452), DecisionTreeClassifier(criterion='entropy', max_features='log2',\\n                       random_state=1837659695), DecisionTreeClassifier(criterion='entropy', max_features='log2',\\n                       random_state=577247736), DecisionTreeClassifier(criterion='entropy', max_features='log2',\\n                       random_state=1278957501), DecisionTreeClassifier(criterion='entropy', max_features='log2',\\n                       random_state=1500798128), DecisionTreeClassifier(criterion='entropy', max_features='log2',\\n                       random_state=2113488007), DecisionTreeClassifier(criterion='entropy', max_features='log2',\\n                       random_state=964028265), DecisionTreeClassifier(criterion='entropy', max_features='log2',\\n                       random_state=1032065123), DecisionTreeClassifier(criterion='entropy', max_features='log2',\\n                       random_state=476842364), DecisionTreeClassifier(criterion='entropy', max_features='log2',\\n                       random_state=1536434012), DecisionTreeClassifier(criterion='entropy', max_features='log2',\\n                       random_state=955387060), DecisionTreeClassifier(criterion='entropy', max_features='log2',\\n                       random_state=1791903078), DecisionTreeClassifier(criterion='entropy', max_features='log2',\\n                       random_state=1387097953), DecisionTreeClassifier(criterion='entropy', max_features='log2',\\n                       random_state=664522965), DecisionTreeClassifier(criterion='entropy', max_features='log2',\\n                       random_state=1553870454), DecisionTreeClassifier(criterion='entropy', max_features='log2',\\n                       random_state=1605464926), DecisionTreeClassifier(criterion='entropy', max_features='log2',\\n                       random_state=980383131), DecisionTreeClassifier(criterion='entropy', max_features='log2',\\n                       random_state=1007225122), DecisionTreeClassifier(criterion='entropy', max_features='log2',\\n                       random_state=1261492193), DecisionTreeClassifier(criterion='entropy', max_features='log2',\\n                       random_state=2095923788), DecisionTreeClassifier(criterion='entropy', max_features='log2',\\n                       random_state=562538152), DecisionTreeClassifier(criterion='entropy', max_features='log2',\\n                       random_state=1142443907), DecisionTreeClassifier(criterion='entropy', max_features='log2',\\n                       random_state=395587690), DecisionTreeClassifier(criterion='entropy', max_features='log2',\\n                       random_state=1189724997), DecisionTreeClassifier(criterion='entropy', max_features='log2',\\n                       random_state=1862732352), DecisionTreeClassifier(criterion='entropy', max_features='log2',\\n                       random_state=120181579), DecisionTreeClassifier(criterion='entropy', max_features='log2',\\n                       random_state=1850541474), DecisionTreeClassifier(criterion='entropy', max_features='log2',\\n                       random_state=746922810), DecisionTreeClassifier(criterion='entropy', max_features='log2',\\n                       random_state=2120361354), DecisionTreeClassifier(criterion='entropy', max_features='log2',\\n                       random_state=661778198), DecisionTreeClassifier(criterion='entropy', max_features='log2',\\n                       random_state=1828927181), DecisionTreeClassifier(criterion='entropy', max_features='log2',\\n                       random_state=331083922), DecisionTreeClassifier(criterion='entropy', max_features='log2',\\n                       random_state=1341151716), DecisionTreeClassifier(criterion='entropy', max_features='log2',\\n                       random_state=1674460431), DecisionTreeClassifier(criterion='entropy', max_features='log2',\\n                       random_state=1831164907), DecisionTreeClassifier(criterion='entropy', max_features='log2',\\n                       random_state=1075368347), DecisionTreeClassifier(criterion='entropy', max_features='log2',\\n                       random_state=1689593597), DecisionTreeClassifier(criterion='entropy', max_features='log2',\\n                       random_state=830660588), DecisionTreeClassifier(criterion='entropy', max_features='log2',\\n                       random_state=1907652766), DecisionTreeClassifier(criterion='entropy', max_features='log2',\\n                       random_state=50523316), DecisionTreeClassifier(criterion='entropy', max_features='log2',\\n                       random_state=7888454), DecisionTreeClassifier(criterion='entropy', max_features='log2',\\n                       random_state=1994016109), DecisionTreeClassifier(criterion='entropy', max_features='log2',\\n                       random_state=532373875), DecisionTreeClassifier(criterion='entropy', max_features='log2',\\n                       random_state=293907610), DecisionTreeClassifier(criterion='entropy', max_features='log2',\\n                       random_state=496577232), DecisionTreeClassifier(criterion='entropy', max_features='log2',\\n                       random_state=1299440006), DecisionTreeClassifier(criterion='entropy', max_features='log2',\\n                       random_state=1362730766), DecisionTreeClassifier(criterion='entropy', max_features='log2',\\n                       random_state=2135924991), DecisionTreeClassifier(criterion='entropy', max_features='log2',\\n                       random_state=1781665012), DecisionTreeClassifier(criterion='entropy', max_features='log2',\\n                       random_state=787108199), DecisionTreeClassifier(criterion='entropy', max_features='log2',\\n                       random_state=1573285835), DecisionTreeClassifier(criterion='entropy', max_features='log2',\\n                       random_state=1789707190), DecisionTreeClassifier(criterion='entropy', max_features='log2',\\n                       random_state=1075697607), DecisionTreeClassifier(criterion='entropy', max_features='log2',\\n                       random_state=467846273), DecisionTreeClassifier(criterion='entropy', max_features='log2',\\n                       random_state=2074616363), DecisionTreeClassifier(criterion='entropy', max_features='log2',\\n                       random_state=2128121018), DecisionTreeClassifier(criterion='entropy', max_features='log2',\\n                       random_state=2085463397), DecisionTreeClassifier(criterion='entropy', max_features='log2',\\n                       random_state=1000022711), DecisionTreeClassifier(criterion='entropy', max_features='log2',\\n                       random_state=83687961), DecisionTreeClassifier(criterion='entropy', max_features='log2',\\n                       random_state=1876302258), DecisionTreeClassifier(criterion='entropy', max_features='log2',\\n                       random_state=484878292), DecisionTreeClassifier(criterion='entropy', max_features='log2',\\n                       random_state=1080368952))   \n",
            "2  (DecisionTreeClassifier(criterion='entropy', max_features='log2',\\n                       random_state=843828734), DecisionTreeClassifier(criterion='entropy', max_features='log2',\\n                       random_state=914636141), DecisionTreeClassifier(criterion='entropy', max_features='log2',\\n                       random_state=1228959102), DecisionTreeClassifier(criterion='entropy', max_features='log2',\\n                       random_state=1840268610), DecisionTreeClassifier(criterion='entropy', max_features='log2',\\n                       random_state=974319580), DecisionTreeClassifier(criterion='entropy', max_features='log2',\\n                       random_state=819844194), DecisionTreeClassifier(criterion='entropy', max_features='log2',\\n                       random_state=220395238), DecisionTreeClassifier(criterion='entropy', max_features='log2',\\n                       random_state=941243409), DecisionTreeClassifier(criterion='entropy', max_features='log2',\\n                       random_state=942612051), DecisionTreeClassifier(criterion='entropy', max_features='log2',\\n                       random_state=2109339754), DecisionTreeClassifier(criterion='entropy', max_features='log2',\\n                       random_state=1817228411), DecisionTreeClassifier(criterion='entropy', max_features='log2',\\n                       random_state=1202710073), DecisionTreeClassifier(criterion='entropy', max_features='log2',\\n                       random_state=2064866518), DecisionTreeClassifier(criterion='entropy', max_features='log2',\\n                       random_state=1764906721), DecisionTreeClassifier(criterion='entropy', max_features='log2',\\n                       random_state=793837664), DecisionTreeClassifier(criterion='entropy', max_features='log2',\\n                       random_state=342284401), DecisionTreeClassifier(criterion='entropy', max_features='log2',\\n                       random_state=2065586814), DecisionTreeClassifier(criterion='entropy', max_features='log2',\\n                       random_state=601083951), DecisionTreeClassifier(criterion='entropy', max_features='log2',\\n                       random_state=1684131913), DecisionTreeClassifier(criterion='entropy', max_features='log2',\\n                       random_state=1722357280), DecisionTreeClassifier(criterion='entropy', max_features='log2',\\n                       random_state=1473938350), DecisionTreeClassifier(criterion='entropy', max_features='log2',\\n                       random_state=546822368), DecisionTreeClassifier(criterion='entropy', max_features='log2',\\n                       random_state=983761007), DecisionTreeClassifier(criterion='entropy', max_features='log2',\\n                       random_state=1392217497), DecisionTreeClassifier(criterion='entropy', max_features='log2',\\n                       random_state=1883653459), DecisionTreeClassifier(criterion='entropy', max_features='log2',\\n                       random_state=1051233102), DecisionTreeClassifier(criterion='entropy', max_features='log2',\\n                       random_state=256314621), DecisionTreeClassifier(criterion='entropy', max_features='log2',\\n                       random_state=836467108), DecisionTreeClassifier(criterion='entropy', max_features='log2',\\n                       random_state=1709587040), DecisionTreeClassifier(criterion='entropy', max_features='log2',\\n                       random_state=403307728), DecisionTreeClassifier(criterion='entropy', max_features='log2',\\n                       random_state=1022182468), DecisionTreeClassifier(criterion='entropy', max_features='log2',\\n                       random_state=566042417), DecisionTreeClassifier(criterion='entropy', max_features='log2',\\n                       random_state=783796023), DecisionTreeClassifier(criterion='entropy', max_features='log2',\\n                       random_state=1890890179), DecisionTreeClassifier(criterion='entropy', max_features='log2',\\n                       random_state=753559554), DecisionTreeClassifier(criterion='entropy', max_features='log2',\\n                       random_state=359602516), DecisionTreeClassifier(criterion='entropy', max_features='log2',\\n                       random_state=135512103), DecisionTreeClassifier(criterion='entropy', max_features='log2',\\n                       random_state=911951170), DecisionTreeClassifier(criterion='entropy', max_features='log2',\\n                       random_state=136698452), DecisionTreeClassifier(criterion='entropy', max_features='log2',\\n                       random_state=1837659695), DecisionTreeClassifier(criterion='entropy', max_features='log2',\\n                       random_state=577247736), DecisionTreeClassifier(criterion='entropy', max_features='log2',\\n                       random_state=1278957501), DecisionTreeClassifier(criterion='entropy', max_features='log2',\\n                       random_state=1500798128), DecisionTreeClassifier(criterion='entropy', max_features='log2',\\n                       random_state=2113488007), DecisionTreeClassifier(criterion='entropy', max_features='log2',\\n                       random_state=964028265), DecisionTreeClassifier(criterion='entropy', max_features='log2',\\n                       random_state=1032065123), DecisionTreeClassifier(criterion='entropy', max_features='log2',\\n                       random_state=476842364), DecisionTreeClassifier(criterion='entropy', max_features='log2',\\n                       random_state=1536434012), DecisionTreeClassifier(criterion='entropy', max_features='log2',\\n                       random_state=955387060), DecisionTreeClassifier(criterion='entropy', max_features='log2',\\n                       random_state=1791903078), DecisionTreeClassifier(criterion='entropy', max_features='log2',\\n                       random_state=1387097953), DecisionTreeClassifier(criterion='entropy', max_features='log2',\\n                       random_state=664522965), DecisionTreeClassifier(criterion='entropy', max_features='log2',\\n                       random_state=1553870454), DecisionTreeClassifier(criterion='entropy', max_features='log2',\\n                       random_state=1605464926), DecisionTreeClassifier(criterion='entropy', max_features='log2',\\n                       random_state=980383131), DecisionTreeClassifier(criterion='entropy', max_features='log2',\\n                       random_state=1007225122), DecisionTreeClassifier(criterion='entropy', max_features='log2',\\n                       random_state=1261492193), DecisionTreeClassifier(criterion='entropy', max_features='log2',\\n                       random_state=2095923788), DecisionTreeClassifier(criterion='entropy', max_features='log2',\\n                       random_state=562538152), DecisionTreeClassifier(criterion='entropy', max_features='log2',\\n                       random_state=1142443907), DecisionTreeClassifier(criterion='entropy', max_features='log2',\\n                       random_state=395587690), DecisionTreeClassifier(criterion='entropy', max_features='log2',\\n                       random_state=1189724997), DecisionTreeClassifier(criterion='entropy', max_features='log2',\\n                       random_state=1862732352), DecisionTreeClassifier(criterion='entropy', max_features='log2',\\n                       random_state=120181579), DecisionTreeClassifier(criterion='entropy', max_features='log2',\\n                       random_state=1850541474), DecisionTreeClassifier(criterion='entropy', max_features='log2',\\n                       random_state=746922810), DecisionTreeClassifier(criterion='entropy', max_features='log2',\\n                       random_state=2120361354), DecisionTreeClassifier(criterion='entropy', max_features='log2',\\n                       random_state=661778198), DecisionTreeClassifier(criterion='entropy', max_features='log2',\\n                       random_state=1828927181), DecisionTreeClassifier(criterion='entropy', max_features='log2',\\n                       random_state=331083922), DecisionTreeClassifier(criterion='entropy', max_features='log2',\\n                       random_state=1341151716), DecisionTreeClassifier(criterion='entropy', max_features='log2',\\n                       random_state=1674460431), DecisionTreeClassifier(criterion='entropy', max_features='log2',\\n                       random_state=1831164907), DecisionTreeClassifier(criterion='entropy', max_features='log2',\\n                       random_state=1075368347), DecisionTreeClassifier(criterion='entropy', max_features='log2',\\n                       random_state=1689593597), DecisionTreeClassifier(criterion='entropy', max_features='log2',\\n                       random_state=830660588), DecisionTreeClassifier(criterion='entropy', max_features='log2',\\n                       random_state=1907652766), DecisionTreeClassifier(criterion='entropy', max_features='log2',\\n                       random_state=50523316), DecisionTreeClassifier(criterion='entropy', max_features='log2',\\n                       random_state=7888454), DecisionTreeClassifier(criterion='entropy', max_features='log2',\\n                       random_state=1994016109), DecisionTreeClassifier(criterion='entropy', max_features='log2',\\n                       random_state=532373875), DecisionTreeClassifier(criterion='entropy', max_features='log2',\\n                       random_state=293907610), DecisionTreeClassifier(criterion='entropy', max_features='log2',\\n                       random_state=496577232), DecisionTreeClassifier(criterion='entropy', max_features='log2',\\n                       random_state=1299440006), DecisionTreeClassifier(criterion='entropy', max_features='log2',\\n                       random_state=1362730766), DecisionTreeClassifier(criterion='entropy', max_features='log2',\\n                       random_state=2135924991), DecisionTreeClassifier(criterion='entropy', max_features='log2',\\n                       random_state=1781665012), DecisionTreeClassifier(criterion='entropy', max_features='log2',\\n                       random_state=787108199), DecisionTreeClassifier(criterion='entropy', max_features='log2',\\n                       random_state=1573285835), DecisionTreeClassifier(criterion='entropy', max_features='log2',\\n                       random_state=1789707190), DecisionTreeClassifier(criterion='entropy', max_features='log2',\\n                       random_state=1075697607), DecisionTreeClassifier(criterion='entropy', max_features='log2',\\n                       random_state=467846273), DecisionTreeClassifier(criterion='entropy', max_features='log2',\\n                       random_state=2074616363), DecisionTreeClassifier(criterion='entropy', max_features='log2',\\n                       random_state=2128121018), DecisionTreeClassifier(criterion='entropy', max_features='log2',\\n                       random_state=2085463397), DecisionTreeClassifier(criterion='entropy', max_features='log2',\\n                       random_state=1000022711), DecisionTreeClassifier(criterion='entropy', max_features='log2',\\n                       random_state=83687961), DecisionTreeClassifier(criterion='entropy', max_features='log2',\\n                       random_state=1876302258), DecisionTreeClassifier(criterion='entropy', max_features='log2',\\n                       random_state=484878292), DecisionTreeClassifier(criterion='entropy', max_features='log2',\\n                       random_state=1080368952))   \n",
            "3  (DecisionTreeClassifier(criterion='entropy', max_features='log2',\\n                       random_state=843828734), DecisionTreeClassifier(criterion='entropy', max_features='log2',\\n                       random_state=914636141), DecisionTreeClassifier(criterion='entropy', max_features='log2',\\n                       random_state=1228959102), DecisionTreeClassifier(criterion='entropy', max_features='log2',\\n                       random_state=1840268610), DecisionTreeClassifier(criterion='entropy', max_features='log2',\\n                       random_state=974319580), DecisionTreeClassifier(criterion='entropy', max_features='log2',\\n                       random_state=819844194), DecisionTreeClassifier(criterion='entropy', max_features='log2',\\n                       random_state=220395238), DecisionTreeClassifier(criterion='entropy', max_features='log2',\\n                       random_state=941243409), DecisionTreeClassifier(criterion='entropy', max_features='log2',\\n                       random_state=942612051), DecisionTreeClassifier(criterion='entropy', max_features='log2',\\n                       random_state=2109339754), DecisionTreeClassifier(criterion='entropy', max_features='log2',\\n                       random_state=1817228411), DecisionTreeClassifier(criterion='entropy', max_features='log2',\\n                       random_state=1202710073), DecisionTreeClassifier(criterion='entropy', max_features='log2',\\n                       random_state=2064866518), DecisionTreeClassifier(criterion='entropy', max_features='log2',\\n                       random_state=1764906721), DecisionTreeClassifier(criterion='entropy', max_features='log2',\\n                       random_state=793837664), DecisionTreeClassifier(criterion='entropy', max_features='log2',\\n                       random_state=342284401), DecisionTreeClassifier(criterion='entropy', max_features='log2',\\n                       random_state=2065586814), DecisionTreeClassifier(criterion='entropy', max_features='log2',\\n                       random_state=601083951), DecisionTreeClassifier(criterion='entropy', max_features='log2',\\n                       random_state=1684131913), DecisionTreeClassifier(criterion='entropy', max_features='log2',\\n                       random_state=1722357280), DecisionTreeClassifier(criterion='entropy', max_features='log2',\\n                       random_state=1473938350), DecisionTreeClassifier(criterion='entropy', max_features='log2',\\n                       random_state=546822368), DecisionTreeClassifier(criterion='entropy', max_features='log2',\\n                       random_state=983761007), DecisionTreeClassifier(criterion='entropy', max_features='log2',\\n                       random_state=1392217497), DecisionTreeClassifier(criterion='entropy', max_features='log2',\\n                       random_state=1883653459), DecisionTreeClassifier(criterion='entropy', max_features='log2',\\n                       random_state=1051233102), DecisionTreeClassifier(criterion='entropy', max_features='log2',\\n                       random_state=256314621), DecisionTreeClassifier(criterion='entropy', max_features='log2',\\n                       random_state=836467108), DecisionTreeClassifier(criterion='entropy', max_features='log2',\\n                       random_state=1709587040), DecisionTreeClassifier(criterion='entropy', max_features='log2',\\n                       random_state=403307728), DecisionTreeClassifier(criterion='entropy', max_features='log2',\\n                       random_state=1022182468), DecisionTreeClassifier(criterion='entropy', max_features='log2',\\n                       random_state=566042417), DecisionTreeClassifier(criterion='entropy', max_features='log2',\\n                       random_state=783796023), DecisionTreeClassifier(criterion='entropy', max_features='log2',\\n                       random_state=1890890179), DecisionTreeClassifier(criterion='entropy', max_features='log2',\\n                       random_state=753559554), DecisionTreeClassifier(criterion='entropy', max_features='log2',\\n                       random_state=359602516), DecisionTreeClassifier(criterion='entropy', max_features='log2',\\n                       random_state=135512103), DecisionTreeClassifier(criterion='entropy', max_features='log2',\\n                       random_state=911951170), DecisionTreeClassifier(criterion='entropy', max_features='log2',\\n                       random_state=136698452), DecisionTreeClassifier(criterion='entropy', max_features='log2',\\n                       random_state=1837659695), DecisionTreeClassifier(criterion='entropy', max_features='log2',\\n                       random_state=577247736), DecisionTreeClassifier(criterion='entropy', max_features='log2',\\n                       random_state=1278957501), DecisionTreeClassifier(criterion='entropy', max_features='log2',\\n                       random_state=1500798128), DecisionTreeClassifier(criterion='entropy', max_features='log2',\\n                       random_state=2113488007), DecisionTreeClassifier(criterion='entropy', max_features='log2',\\n                       random_state=964028265), DecisionTreeClassifier(criterion='entropy', max_features='log2',\\n                       random_state=1032065123), DecisionTreeClassifier(criterion='entropy', max_features='log2',\\n                       random_state=476842364), DecisionTreeClassifier(criterion='entropy', max_features='log2',\\n                       random_state=1536434012), DecisionTreeClassifier(criterion='entropy', max_features='log2',\\n                       random_state=955387060), DecisionTreeClassifier(criterion='entropy', max_features='log2',\\n                       random_state=1791903078), DecisionTreeClassifier(criterion='entropy', max_features='log2',\\n                       random_state=1387097953), DecisionTreeClassifier(criterion='entropy', max_features='log2',\\n                       random_state=664522965), DecisionTreeClassifier(criterion='entropy', max_features='log2',\\n                       random_state=1553870454), DecisionTreeClassifier(criterion='entropy', max_features='log2',\\n                       random_state=1605464926), DecisionTreeClassifier(criterion='entropy', max_features='log2',\\n                       random_state=980383131), DecisionTreeClassifier(criterion='entropy', max_features='log2',\\n                       random_state=1007225122), DecisionTreeClassifier(criterion='entropy', max_features='log2',\\n                       random_state=1261492193), DecisionTreeClassifier(criterion='entropy', max_features='log2',\\n                       random_state=2095923788), DecisionTreeClassifier(criterion='entropy', max_features='log2',\\n                       random_state=562538152), DecisionTreeClassifier(criterion='entropy', max_features='log2',\\n                       random_state=1142443907), DecisionTreeClassifier(criterion='entropy', max_features='log2',\\n                       random_state=395587690), DecisionTreeClassifier(criterion='entropy', max_features='log2',\\n                       random_state=1189724997), DecisionTreeClassifier(criterion='entropy', max_features='log2',\\n                       random_state=1862732352), DecisionTreeClassifier(criterion='entropy', max_features='log2',\\n                       random_state=120181579), DecisionTreeClassifier(criterion='entropy', max_features='log2',\\n                       random_state=1850541474), DecisionTreeClassifier(criterion='entropy', max_features='log2',\\n                       random_state=746922810), DecisionTreeClassifier(criterion='entropy', max_features='log2',\\n                       random_state=2120361354), DecisionTreeClassifier(criterion='entropy', max_features='log2',\\n                       random_state=661778198), DecisionTreeClassifier(criterion='entropy', max_features='log2',\\n                       random_state=1828927181), DecisionTreeClassifier(criterion='entropy', max_features='log2',\\n                       random_state=331083922), DecisionTreeClassifier(criterion='entropy', max_features='log2',\\n                       random_state=1341151716), DecisionTreeClassifier(criterion='entropy', max_features='log2',\\n                       random_state=1674460431), DecisionTreeClassifier(criterion='entropy', max_features='log2',\\n                       random_state=1831164907), DecisionTreeClassifier(criterion='entropy', max_features='log2',\\n                       random_state=1075368347), DecisionTreeClassifier(criterion='entropy', max_features='log2',\\n                       random_state=1689593597), DecisionTreeClassifier(criterion='entropy', max_features='log2',\\n                       random_state=830660588), DecisionTreeClassifier(criterion='entropy', max_features='log2',\\n                       random_state=1907652766), DecisionTreeClassifier(criterion='entropy', max_features='log2',\\n                       random_state=50523316), DecisionTreeClassifier(criterion='entropy', max_features='log2',\\n                       random_state=7888454), DecisionTreeClassifier(criterion='entropy', max_features='log2',\\n                       random_state=1994016109), DecisionTreeClassifier(criterion='entropy', max_features='log2',\\n                       random_state=532373875), DecisionTreeClassifier(criterion='entropy', max_features='log2',\\n                       random_state=293907610), DecisionTreeClassifier(criterion='entropy', max_features='log2',\\n                       random_state=496577232), DecisionTreeClassifier(criterion='entropy', max_features='log2',\\n                       random_state=1299440006), DecisionTreeClassifier(criterion='entropy', max_features='log2',\\n                       random_state=1362730766), DecisionTreeClassifier(criterion='entropy', max_features='log2',\\n                       random_state=2135924991), DecisionTreeClassifier(criterion='entropy', max_features='log2',\\n                       random_state=1781665012), DecisionTreeClassifier(criterion='entropy', max_features='log2',\\n                       random_state=787108199), DecisionTreeClassifier(criterion='entropy', max_features='log2',\\n                       random_state=1573285835), DecisionTreeClassifier(criterion='entropy', max_features='log2',\\n                       random_state=1789707190), DecisionTreeClassifier(criterion='entropy', max_features='log2',\\n                       random_state=1075697607), DecisionTreeClassifier(criterion='entropy', max_features='log2',\\n                       random_state=467846273), DecisionTreeClassifier(criterion='entropy', max_features='log2',\\n                       random_state=2074616363), DecisionTreeClassifier(criterion='entropy', max_features='log2',\\n                       random_state=2128121018), DecisionTreeClassifier(criterion='entropy', max_features='log2',\\n                       random_state=2085463397), DecisionTreeClassifier(criterion='entropy', max_features='log2',\\n                       random_state=1000022711), DecisionTreeClassifier(criterion='entropy', max_features='log2',\\n                       random_state=83687961), DecisionTreeClassifier(criterion='entropy', max_features='log2',\\n                       random_state=1876302258), DecisionTreeClassifier(criterion='entropy', max_features='log2',\\n                       random_state=484878292), DecisionTreeClassifier(criterion='entropy', max_features='log2',\\n                       random_state=1080368952))   \n",
            "4  (DecisionTreeClassifier(criterion='entropy', max_features='log2',\\n                       random_state=843828734), DecisionTreeClassifier(criterion='entropy', max_features='log2',\\n                       random_state=914636141), DecisionTreeClassifier(criterion='entropy', max_features='log2',\\n                       random_state=1228959102), DecisionTreeClassifier(criterion='entropy', max_features='log2',\\n                       random_state=1840268610), DecisionTreeClassifier(criterion='entropy', max_features='log2',\\n                       random_state=974319580), DecisionTreeClassifier(criterion='entropy', max_features='log2',\\n                       random_state=819844194), DecisionTreeClassifier(criterion='entropy', max_features='log2',\\n                       random_state=220395238), DecisionTreeClassifier(criterion='entropy', max_features='log2',\\n                       random_state=941243409), DecisionTreeClassifier(criterion='entropy', max_features='log2',\\n                       random_state=942612051), DecisionTreeClassifier(criterion='entropy', max_features='log2',\\n                       random_state=2109339754), DecisionTreeClassifier(criterion='entropy', max_features='log2',\\n                       random_state=1817228411), DecisionTreeClassifier(criterion='entropy', max_features='log2',\\n                       random_state=1202710073), DecisionTreeClassifier(criterion='entropy', max_features='log2',\\n                       random_state=2064866518), DecisionTreeClassifier(criterion='entropy', max_features='log2',\\n                       random_state=1764906721), DecisionTreeClassifier(criterion='entropy', max_features='log2',\\n                       random_state=793837664), DecisionTreeClassifier(criterion='entropy', max_features='log2',\\n                       random_state=342284401), DecisionTreeClassifier(criterion='entropy', max_features='log2',\\n                       random_state=2065586814), DecisionTreeClassifier(criterion='entropy', max_features='log2',\\n                       random_state=601083951), DecisionTreeClassifier(criterion='entropy', max_features='log2',\\n                       random_state=1684131913), DecisionTreeClassifier(criterion='entropy', max_features='log2',\\n                       random_state=1722357280), DecisionTreeClassifier(criterion='entropy', max_features='log2',\\n                       random_state=1473938350), DecisionTreeClassifier(criterion='entropy', max_features='log2',\\n                       random_state=546822368), DecisionTreeClassifier(criterion='entropy', max_features='log2',\\n                       random_state=983761007), DecisionTreeClassifier(criterion='entropy', max_features='log2',\\n                       random_state=1392217497), DecisionTreeClassifier(criterion='entropy', max_features='log2',\\n                       random_state=1883653459), DecisionTreeClassifier(criterion='entropy', max_features='log2',\\n                       random_state=1051233102), DecisionTreeClassifier(criterion='entropy', max_features='log2',\\n                       random_state=256314621), DecisionTreeClassifier(criterion='entropy', max_features='log2',\\n                       random_state=836467108), DecisionTreeClassifier(criterion='entropy', max_features='log2',\\n                       random_state=1709587040), DecisionTreeClassifier(criterion='entropy', max_features='log2',\\n                       random_state=403307728), DecisionTreeClassifier(criterion='entropy', max_features='log2',\\n                       random_state=1022182468), DecisionTreeClassifier(criterion='entropy', max_features='log2',\\n                       random_state=566042417), DecisionTreeClassifier(criterion='entropy', max_features='log2',\\n                       random_state=783796023), DecisionTreeClassifier(criterion='entropy', max_features='log2',\\n                       random_state=1890890179), DecisionTreeClassifier(criterion='entropy', max_features='log2',\\n                       random_state=753559554), DecisionTreeClassifier(criterion='entropy', max_features='log2',\\n                       random_state=359602516), DecisionTreeClassifier(criterion='entropy', max_features='log2',\\n                       random_state=135512103), DecisionTreeClassifier(criterion='entropy', max_features='log2',\\n                       random_state=911951170), DecisionTreeClassifier(criterion='entropy', max_features='log2',\\n                       random_state=136698452), DecisionTreeClassifier(criterion='entropy', max_features='log2',\\n                       random_state=1837659695), DecisionTreeClassifier(criterion='entropy', max_features='log2',\\n                       random_state=577247736), DecisionTreeClassifier(criterion='entropy', max_features='log2',\\n                       random_state=1278957501), DecisionTreeClassifier(criterion='entropy', max_features='log2',\\n                       random_state=1500798128), DecisionTreeClassifier(criterion='entropy', max_features='log2',\\n                       random_state=2113488007), DecisionTreeClassifier(criterion='entropy', max_features='log2',\\n                       random_state=964028265), DecisionTreeClassifier(criterion='entropy', max_features='log2',\\n                       random_state=1032065123), DecisionTreeClassifier(criterion='entropy', max_features='log2',\\n                       random_state=476842364), DecisionTreeClassifier(criterion='entropy', max_features='log2',\\n                       random_state=1536434012), DecisionTreeClassifier(criterion='entropy', max_features='log2',\\n                       random_state=955387060), DecisionTreeClassifier(criterion='entropy', max_features='log2',\\n                       random_state=1791903078), DecisionTreeClassifier(criterion='entropy', max_features='log2',\\n                       random_state=1387097953), DecisionTreeClassifier(criterion='entropy', max_features='log2',\\n                       random_state=664522965), DecisionTreeClassifier(criterion='entropy', max_features='log2',\\n                       random_state=1553870454), DecisionTreeClassifier(criterion='entropy', max_features='log2',\\n                       random_state=1605464926), DecisionTreeClassifier(criterion='entropy', max_features='log2',\\n                       random_state=980383131), DecisionTreeClassifier(criterion='entropy', max_features='log2',\\n                       random_state=1007225122), DecisionTreeClassifier(criterion='entropy', max_features='log2',\\n                       random_state=1261492193), DecisionTreeClassifier(criterion='entropy', max_features='log2',\\n                       random_state=2095923788), DecisionTreeClassifier(criterion='entropy', max_features='log2',\\n                       random_state=562538152), DecisionTreeClassifier(criterion='entropy', max_features='log2',\\n                       random_state=1142443907), DecisionTreeClassifier(criterion='entropy', max_features='log2',\\n                       random_state=395587690), DecisionTreeClassifier(criterion='entropy', max_features='log2',\\n                       random_state=1189724997), DecisionTreeClassifier(criterion='entropy', max_features='log2',\\n                       random_state=1862732352), DecisionTreeClassifier(criterion='entropy', max_features='log2',\\n                       random_state=120181579), DecisionTreeClassifier(criterion='entropy', max_features='log2',\\n                       random_state=1850541474), DecisionTreeClassifier(criterion='entropy', max_features='log2',\\n                       random_state=746922810), DecisionTreeClassifier(criterion='entropy', max_features='log2',\\n                       random_state=2120361354), DecisionTreeClassifier(criterion='entropy', max_features='log2',\\n                       random_state=661778198), DecisionTreeClassifier(criterion='entropy', max_features='log2',\\n                       random_state=1828927181), DecisionTreeClassifier(criterion='entropy', max_features='log2',\\n                       random_state=331083922), DecisionTreeClassifier(criterion='entropy', max_features='log2',\\n                       random_state=1341151716), DecisionTreeClassifier(criterion='entropy', max_features='log2',\\n                       random_state=1674460431), DecisionTreeClassifier(criterion='entropy', max_features='log2',\\n                       random_state=1831164907), DecisionTreeClassifier(criterion='entropy', max_features='log2',\\n                       random_state=1075368347), DecisionTreeClassifier(criterion='entropy', max_features='log2',\\n                       random_state=1689593597), DecisionTreeClassifier(criterion='entropy', max_features='log2',\\n                       random_state=830660588), DecisionTreeClassifier(criterion='entropy', max_features='log2',\\n                       random_state=1907652766), DecisionTreeClassifier(criterion='entropy', max_features='log2',\\n                       random_state=50523316), DecisionTreeClassifier(criterion='entropy', max_features='log2',\\n                       random_state=7888454), DecisionTreeClassifier(criterion='entropy', max_features='log2',\\n                       random_state=1994016109), DecisionTreeClassifier(criterion='entropy', max_features='log2',\\n                       random_state=532373875), DecisionTreeClassifier(criterion='entropy', max_features='log2',\\n                       random_state=293907610), DecisionTreeClassifier(criterion='entropy', max_features='log2',\\n                       random_state=496577232), DecisionTreeClassifier(criterion='entropy', max_features='log2',\\n                       random_state=1299440006), DecisionTreeClassifier(criterion='entropy', max_features='log2',\\n                       random_state=1362730766), DecisionTreeClassifier(criterion='entropy', max_features='log2',\\n                       random_state=2135924991), DecisionTreeClassifier(criterion='entropy', max_features='log2',\\n                       random_state=1781665012), DecisionTreeClassifier(criterion='entropy', max_features='log2',\\n                       random_state=787108199), DecisionTreeClassifier(criterion='entropy', max_features='log2',\\n                       random_state=1573285835), DecisionTreeClassifier(criterion='entropy', max_features='log2',\\n                       random_state=1789707190), DecisionTreeClassifier(criterion='entropy', max_features='log2',\\n                       random_state=1075697607), DecisionTreeClassifier(criterion='entropy', max_features='log2',\\n                       random_state=467846273), DecisionTreeClassifier(criterion='entropy', max_features='log2',\\n                       random_state=2074616363), DecisionTreeClassifier(criterion='entropy', max_features='log2',\\n                       random_state=2128121018), DecisionTreeClassifier(criterion='entropy', max_features='log2',\\n                       random_state=2085463397), DecisionTreeClassifier(criterion='entropy', max_features='log2',\\n                       random_state=1000022711), DecisionTreeClassifier(criterion='entropy', max_features='log2',\\n                       random_state=83687961), DecisionTreeClassifier(criterion='entropy', max_features='log2',\\n                       random_state=1876302258), DecisionTreeClassifier(criterion='entropy', max_features='log2',\\n                       random_state=484878292), DecisionTreeClassifier(criterion='entropy', max_features='log2',\\n                       random_state=1080368952))   \n",
            "5  (DecisionTreeClassifier(criterion='entropy', max_features='log2',\\n                       random_state=843828734), DecisionTreeClassifier(criterion='entropy', max_features='log2',\\n                       random_state=914636141), DecisionTreeClassifier(criterion='entropy', max_features='log2',\\n                       random_state=1228959102), DecisionTreeClassifier(criterion='entropy', max_features='log2',\\n                       random_state=1840268610), DecisionTreeClassifier(criterion='entropy', max_features='log2',\\n                       random_state=974319580), DecisionTreeClassifier(criterion='entropy', max_features='log2',\\n                       random_state=819844194), DecisionTreeClassifier(criterion='entropy', max_features='log2',\\n                       random_state=220395238), DecisionTreeClassifier(criterion='entropy', max_features='log2',\\n                       random_state=941243409), DecisionTreeClassifier(criterion='entropy', max_features='log2',\\n                       random_state=942612051), DecisionTreeClassifier(criterion='entropy', max_features='log2',\\n                       random_state=2109339754), DecisionTreeClassifier(criterion='entropy', max_features='log2',\\n                       random_state=1817228411), DecisionTreeClassifier(criterion='entropy', max_features='log2',\\n                       random_state=1202710073), DecisionTreeClassifier(criterion='entropy', max_features='log2',\\n                       random_state=2064866518), DecisionTreeClassifier(criterion='entropy', max_features='log2',\\n                       random_state=1764906721), DecisionTreeClassifier(criterion='entropy', max_features='log2',\\n                       random_state=793837664), DecisionTreeClassifier(criterion='entropy', max_features='log2',\\n                       random_state=342284401), DecisionTreeClassifier(criterion='entropy', max_features='log2',\\n                       random_state=2065586814), DecisionTreeClassifier(criterion='entropy', max_features='log2',\\n                       random_state=601083951), DecisionTreeClassifier(criterion='entropy', max_features='log2',\\n                       random_state=1684131913), DecisionTreeClassifier(criterion='entropy', max_features='log2',\\n                       random_state=1722357280), DecisionTreeClassifier(criterion='entropy', max_features='log2',\\n                       random_state=1473938350), DecisionTreeClassifier(criterion='entropy', max_features='log2',\\n                       random_state=546822368), DecisionTreeClassifier(criterion='entropy', max_features='log2',\\n                       random_state=983761007), DecisionTreeClassifier(criterion='entropy', max_features='log2',\\n                       random_state=1392217497), DecisionTreeClassifier(criterion='entropy', max_features='log2',\\n                       random_state=1883653459), DecisionTreeClassifier(criterion='entropy', max_features='log2',\\n                       random_state=1051233102), DecisionTreeClassifier(criterion='entropy', max_features='log2',\\n                       random_state=256314621), DecisionTreeClassifier(criterion='entropy', max_features='log2',\\n                       random_state=836467108), DecisionTreeClassifier(criterion='entropy', max_features='log2',\\n                       random_state=1709587040), DecisionTreeClassifier(criterion='entropy', max_features='log2',\\n                       random_state=403307728), DecisionTreeClassifier(criterion='entropy', max_features='log2',\\n                       random_state=1022182468), DecisionTreeClassifier(criterion='entropy', max_features='log2',\\n                       random_state=566042417), DecisionTreeClassifier(criterion='entropy', max_features='log2',\\n                       random_state=783796023), DecisionTreeClassifier(criterion='entropy', max_features='log2',\\n                       random_state=1890890179), DecisionTreeClassifier(criterion='entropy', max_features='log2',\\n                       random_state=753559554), DecisionTreeClassifier(criterion='entropy', max_features='log2',\\n                       random_state=359602516), DecisionTreeClassifier(criterion='entropy', max_features='log2',\\n                       random_state=135512103), DecisionTreeClassifier(criterion='entropy', max_features='log2',\\n                       random_state=911951170), DecisionTreeClassifier(criterion='entropy', max_features='log2',\\n                       random_state=136698452), DecisionTreeClassifier(criterion='entropy', max_features='log2',\\n                       random_state=1837659695), DecisionTreeClassifier(criterion='entropy', max_features='log2',\\n                       random_state=577247736), DecisionTreeClassifier(criterion='entropy', max_features='log2',\\n                       random_state=1278957501), DecisionTreeClassifier(criterion='entropy', max_features='log2',\\n                       random_state=1500798128), DecisionTreeClassifier(criterion='entropy', max_features='log2',\\n                       random_state=2113488007), DecisionTreeClassifier(criterion='entropy', max_features='log2',\\n                       random_state=964028265), DecisionTreeClassifier(criterion='entropy', max_features='log2',\\n                       random_state=1032065123), DecisionTreeClassifier(criterion='entropy', max_features='log2',\\n                       random_state=476842364), DecisionTreeClassifier(criterion='entropy', max_features='log2',\\n                       random_state=1536434012), DecisionTreeClassifier(criterion='entropy', max_features='log2',\\n                       random_state=955387060), DecisionTreeClassifier(criterion='entropy', max_features='log2',\\n                       random_state=1791903078), DecisionTreeClassifier(criterion='entropy', max_features='log2',\\n                       random_state=1387097953), DecisionTreeClassifier(criterion='entropy', max_features='log2',\\n                       random_state=664522965), DecisionTreeClassifier(criterion='entropy', max_features='log2',\\n                       random_state=1553870454), DecisionTreeClassifier(criterion='entropy', max_features='log2',\\n                       random_state=1605464926), DecisionTreeClassifier(criterion='entropy', max_features='log2',\\n                       random_state=980383131), DecisionTreeClassifier(criterion='entropy', max_features='log2',\\n                       random_state=1007225122), DecisionTreeClassifier(criterion='entropy', max_features='log2',\\n                       random_state=1261492193), DecisionTreeClassifier(criterion='entropy', max_features='log2',\\n                       random_state=2095923788), DecisionTreeClassifier(criterion='entropy', max_features='log2',\\n                       random_state=562538152), DecisionTreeClassifier(criterion='entropy', max_features='log2',\\n                       random_state=1142443907), DecisionTreeClassifier(criterion='entropy', max_features='log2',\\n                       random_state=395587690), DecisionTreeClassifier(criterion='entropy', max_features='log2',\\n                       random_state=1189724997), DecisionTreeClassifier(criterion='entropy', max_features='log2',\\n                       random_state=1862732352), DecisionTreeClassifier(criterion='entropy', max_features='log2',\\n                       random_state=120181579), DecisionTreeClassifier(criterion='entropy', max_features='log2',\\n                       random_state=1850541474), DecisionTreeClassifier(criterion='entropy', max_features='log2',\\n                       random_state=746922810), DecisionTreeClassifier(criterion='entropy', max_features='log2',\\n                       random_state=2120361354), DecisionTreeClassifier(criterion='entropy', max_features='log2',\\n                       random_state=661778198), DecisionTreeClassifier(criterion='entropy', max_features='log2',\\n                       random_state=1828927181), DecisionTreeClassifier(criterion='entropy', max_features='log2',\\n                       random_state=331083922), DecisionTreeClassifier(criterion='entropy', max_features='log2',\\n                       random_state=1341151716), DecisionTreeClassifier(criterion='entropy', max_features='log2',\\n                       random_state=1674460431), DecisionTreeClassifier(criterion='entropy', max_features='log2',\\n                       random_state=1831164907), DecisionTreeClassifier(criterion='entropy', max_features='log2',\\n                       random_state=1075368347), DecisionTreeClassifier(criterion='entropy', max_features='log2',\\n                       random_state=1689593597), DecisionTreeClassifier(criterion='entropy', max_features='log2',\\n                       random_state=830660588), DecisionTreeClassifier(criterion='entropy', max_features='log2',\\n                       random_state=1907652766), DecisionTreeClassifier(criterion='entropy', max_features='log2',\\n                       random_state=50523316), DecisionTreeClassifier(criterion='entropy', max_features='log2',\\n                       random_state=7888454), DecisionTreeClassifier(criterion='entropy', max_features='log2',\\n                       random_state=1994016109), DecisionTreeClassifier(criterion='entropy', max_features='log2',\\n                       random_state=532373875), DecisionTreeClassifier(criterion='entropy', max_features='log2',\\n                       random_state=293907610), DecisionTreeClassifier(criterion='entropy', max_features='log2',\\n                       random_state=496577232), DecisionTreeClassifier(criterion='entropy', max_features='log2',\\n                       random_state=1299440006), DecisionTreeClassifier(criterion='entropy', max_features='log2',\\n                       random_state=1362730766), DecisionTreeClassifier(criterion='entropy', max_features='log2',\\n                       random_state=2135924991), DecisionTreeClassifier(criterion='entropy', max_features='log2',\\n                       random_state=1781665012), DecisionTreeClassifier(criterion='entropy', max_features='log2',\\n                       random_state=787108199), DecisionTreeClassifier(criterion='entropy', max_features='log2',\\n                       random_state=1573285835), DecisionTreeClassifier(criterion='entropy', max_features='log2',\\n                       random_state=1789707190), DecisionTreeClassifier(criterion='entropy', max_features='log2',\\n                       random_state=1075697607), DecisionTreeClassifier(criterion='entropy', max_features='log2',\\n                       random_state=467846273), DecisionTreeClassifier(criterion='entropy', max_features='log2',\\n                       random_state=2074616363), DecisionTreeClassifier(criterion='entropy', max_features='log2',\\n                       random_state=2128121018), DecisionTreeClassifier(criterion='entropy', max_features='log2',\\n                       random_state=2085463397), DecisionTreeClassifier(criterion='entropy', max_features='log2',\\n                       random_state=1000022711), DecisionTreeClassifier(criterion='entropy', max_features='log2',\\n                       random_state=83687961), DecisionTreeClassifier(criterion='entropy', max_features='log2',\\n                       random_state=1876302258), DecisionTreeClassifier(criterion='entropy', max_features='log2',\\n                       random_state=484878292), DecisionTreeClassifier(criterion='entropy', max_features='log2',\\n                       random_state=1080368952))   \n",
            "6  (DecisionTreeClassifier(criterion='entropy', max_features='log2',\\n                       random_state=843828734), DecisionTreeClassifier(criterion='entropy', max_features='log2',\\n                       random_state=914636141), DecisionTreeClassifier(criterion='entropy', max_features='log2',\\n                       random_state=1228959102), DecisionTreeClassifier(criterion='entropy', max_features='log2',\\n                       random_state=1840268610), DecisionTreeClassifier(criterion='entropy', max_features='log2',\\n                       random_state=974319580), DecisionTreeClassifier(criterion='entropy', max_features='log2',\\n                       random_state=819844194), DecisionTreeClassifier(criterion='entropy', max_features='log2',\\n                       random_state=220395238), DecisionTreeClassifier(criterion='entropy', max_features='log2',\\n                       random_state=941243409), DecisionTreeClassifier(criterion='entropy', max_features='log2',\\n                       random_state=942612051), DecisionTreeClassifier(criterion='entropy', max_features='log2',\\n                       random_state=2109339754), DecisionTreeClassifier(criterion='entropy', max_features='log2',\\n                       random_state=1817228411), DecisionTreeClassifier(criterion='entropy', max_features='log2',\\n                       random_state=1202710073), DecisionTreeClassifier(criterion='entropy', max_features='log2',\\n                       random_state=2064866518), DecisionTreeClassifier(criterion='entropy', max_features='log2',\\n                       random_state=1764906721), DecisionTreeClassifier(criterion='entropy', max_features='log2',\\n                       random_state=793837664), DecisionTreeClassifier(criterion='entropy', max_features='log2',\\n                       random_state=342284401), DecisionTreeClassifier(criterion='entropy', max_features='log2',\\n                       random_state=2065586814), DecisionTreeClassifier(criterion='entropy', max_features='log2',\\n                       random_state=601083951), DecisionTreeClassifier(criterion='entropy', max_features='log2',\\n                       random_state=1684131913), DecisionTreeClassifier(criterion='entropy', max_features='log2',\\n                       random_state=1722357280), DecisionTreeClassifier(criterion='entropy', max_features='log2',\\n                       random_state=1473938350), DecisionTreeClassifier(criterion='entropy', max_features='log2',\\n                       random_state=546822368), DecisionTreeClassifier(criterion='entropy', max_features='log2',\\n                       random_state=983761007), DecisionTreeClassifier(criterion='entropy', max_features='log2',\\n                       random_state=1392217497), DecisionTreeClassifier(criterion='entropy', max_features='log2',\\n                       random_state=1883653459), DecisionTreeClassifier(criterion='entropy', max_features='log2',\\n                       random_state=1051233102), DecisionTreeClassifier(criterion='entropy', max_features='log2',\\n                       random_state=256314621), DecisionTreeClassifier(criterion='entropy', max_features='log2',\\n                       random_state=836467108), DecisionTreeClassifier(criterion='entropy', max_features='log2',\\n                       random_state=1709587040), DecisionTreeClassifier(criterion='entropy', max_features='log2',\\n                       random_state=403307728), DecisionTreeClassifier(criterion='entropy', max_features='log2',\\n                       random_state=1022182468), DecisionTreeClassifier(criterion='entropy', max_features='log2',\\n                       random_state=566042417), DecisionTreeClassifier(criterion='entropy', max_features='log2',\\n                       random_state=783796023), DecisionTreeClassifier(criterion='entropy', max_features='log2',\\n                       random_state=1890890179), DecisionTreeClassifier(criterion='entropy', max_features='log2',\\n                       random_state=753559554), DecisionTreeClassifier(criterion='entropy', max_features='log2',\\n                       random_state=359602516), DecisionTreeClassifier(criterion='entropy', max_features='log2',\\n                       random_state=135512103), DecisionTreeClassifier(criterion='entropy', max_features='log2',\\n                       random_state=911951170), DecisionTreeClassifier(criterion='entropy', max_features='log2',\\n                       random_state=136698452), DecisionTreeClassifier(criterion='entropy', max_features='log2',\\n                       random_state=1837659695), DecisionTreeClassifier(criterion='entropy', max_features='log2',\\n                       random_state=577247736), DecisionTreeClassifier(criterion='entropy', max_features='log2',\\n                       random_state=1278957501), DecisionTreeClassifier(criterion='entropy', max_features='log2',\\n                       random_state=1500798128), DecisionTreeClassifier(criterion='entropy', max_features='log2',\\n                       random_state=2113488007), DecisionTreeClassifier(criterion='entropy', max_features='log2',\\n                       random_state=964028265), DecisionTreeClassifier(criterion='entropy', max_features='log2',\\n                       random_state=1032065123), DecisionTreeClassifier(criterion='entropy', max_features='log2',\\n                       random_state=476842364), DecisionTreeClassifier(criterion='entropy', max_features='log2',\\n                       random_state=1536434012), DecisionTreeClassifier(criterion='entropy', max_features='log2',\\n                       random_state=955387060), DecisionTreeClassifier(criterion='entropy', max_features='log2',\\n                       random_state=1791903078), DecisionTreeClassifier(criterion='entropy', max_features='log2',\\n                       random_state=1387097953), DecisionTreeClassifier(criterion='entropy', max_features='log2',\\n                       random_state=664522965), DecisionTreeClassifier(criterion='entropy', max_features='log2',\\n                       random_state=1553870454), DecisionTreeClassifier(criterion='entropy', max_features='log2',\\n                       random_state=1605464926), DecisionTreeClassifier(criterion='entropy', max_features='log2',\\n                       random_state=980383131), DecisionTreeClassifier(criterion='entropy', max_features='log2',\\n                       random_state=1007225122), DecisionTreeClassifier(criterion='entropy', max_features='log2',\\n                       random_state=1261492193), DecisionTreeClassifier(criterion='entropy', max_features='log2',\\n                       random_state=2095923788), DecisionTreeClassifier(criterion='entropy', max_features='log2',\\n                       random_state=562538152), DecisionTreeClassifier(criterion='entropy', max_features='log2',\\n                       random_state=1142443907), DecisionTreeClassifier(criterion='entropy', max_features='log2',\\n                       random_state=395587690), DecisionTreeClassifier(criterion='entropy', max_features='log2',\\n                       random_state=1189724997), DecisionTreeClassifier(criterion='entropy', max_features='log2',\\n                       random_state=1862732352), DecisionTreeClassifier(criterion='entropy', max_features='log2',\\n                       random_state=120181579), DecisionTreeClassifier(criterion='entropy', max_features='log2',\\n                       random_state=1850541474), DecisionTreeClassifier(criterion='entropy', max_features='log2',\\n                       random_state=746922810), DecisionTreeClassifier(criterion='entropy', max_features='log2',\\n                       random_state=2120361354), DecisionTreeClassifier(criterion='entropy', max_features='log2',\\n                       random_state=661778198), DecisionTreeClassifier(criterion='entropy', max_features='log2',\\n                       random_state=1828927181), DecisionTreeClassifier(criterion='entropy', max_features='log2',\\n                       random_state=331083922), DecisionTreeClassifier(criterion='entropy', max_features='log2',\\n                       random_state=1341151716), DecisionTreeClassifier(criterion='entropy', max_features='log2',\\n                       random_state=1674460431), DecisionTreeClassifier(criterion='entropy', max_features='log2',\\n                       random_state=1831164907), DecisionTreeClassifier(criterion='entropy', max_features='log2',\\n                       random_state=1075368347), DecisionTreeClassifier(criterion='entropy', max_features='log2',\\n                       random_state=1689593597), DecisionTreeClassifier(criterion='entropy', max_features='log2',\\n                       random_state=830660588), DecisionTreeClassifier(criterion='entropy', max_features='log2',\\n                       random_state=1907652766), DecisionTreeClassifier(criterion='entropy', max_features='log2',\\n                       random_state=50523316), DecisionTreeClassifier(criterion='entropy', max_features='log2',\\n                       random_state=7888454), DecisionTreeClassifier(criterion='entropy', max_features='log2',\\n                       random_state=1994016109), DecisionTreeClassifier(criterion='entropy', max_features='log2',\\n                       random_state=532373875), DecisionTreeClassifier(criterion='entropy', max_features='log2',\\n                       random_state=293907610), DecisionTreeClassifier(criterion='entropy', max_features='log2',\\n                       random_state=496577232), DecisionTreeClassifier(criterion='entropy', max_features='log2',\\n                       random_state=1299440006), DecisionTreeClassifier(criterion='entropy', max_features='log2',\\n                       random_state=1362730766), DecisionTreeClassifier(criterion='entropy', max_features='log2',\\n                       random_state=2135924991), DecisionTreeClassifier(criterion='entropy', max_features='log2',\\n                       random_state=1781665012), DecisionTreeClassifier(criterion='entropy', max_features='log2',\\n                       random_state=787108199), DecisionTreeClassifier(criterion='entropy', max_features='log2',\\n                       random_state=1573285835), DecisionTreeClassifier(criterion='entropy', max_features='log2',\\n                       random_state=1789707190), DecisionTreeClassifier(criterion='entropy', max_features='log2',\\n                       random_state=1075697607), DecisionTreeClassifier(criterion='entropy', max_features='log2',\\n                       random_state=467846273), DecisionTreeClassifier(criterion='entropy', max_features='log2',\\n                       random_state=2074616363), DecisionTreeClassifier(criterion='entropy', max_features='log2',\\n                       random_state=2128121018), DecisionTreeClassifier(criterion='entropy', max_features='log2',\\n                       random_state=2085463397), DecisionTreeClassifier(criterion='entropy', max_features='log2',\\n                       random_state=1000022711), DecisionTreeClassifier(criterion='entropy', max_features='log2',\\n                       random_state=83687961), DecisionTreeClassifier(criterion='entropy', max_features='log2',\\n                       random_state=1876302258), DecisionTreeClassifier(criterion='entropy', max_features='log2',\\n                       random_state=484878292), DecisionTreeClassifier(criterion='entropy', max_features='log2',\\n                       random_state=1080368952))   \n",
            "7  (DecisionTreeClassifier(criterion='entropy', max_features='log2',\\n                       random_state=843828734), DecisionTreeClassifier(criterion='entropy', max_features='log2',\\n                       random_state=914636141), DecisionTreeClassifier(criterion='entropy', max_features='log2',\\n                       random_state=1228959102), DecisionTreeClassifier(criterion='entropy', max_features='log2',\\n                       random_state=1840268610), DecisionTreeClassifier(criterion='entropy', max_features='log2',\\n                       random_state=974319580), DecisionTreeClassifier(criterion='entropy', max_features='log2',\\n                       random_state=819844194), DecisionTreeClassifier(criterion='entropy', max_features='log2',\\n                       random_state=220395238), DecisionTreeClassifier(criterion='entropy', max_features='log2',\\n                       random_state=941243409), DecisionTreeClassifier(criterion='entropy', max_features='log2',\\n                       random_state=942612051), DecisionTreeClassifier(criterion='entropy', max_features='log2',\\n                       random_state=2109339754), DecisionTreeClassifier(criterion='entropy', max_features='log2',\\n                       random_state=1817228411), DecisionTreeClassifier(criterion='entropy', max_features='log2',\\n                       random_state=1202710073), DecisionTreeClassifier(criterion='entropy', max_features='log2',\\n                       random_state=2064866518), DecisionTreeClassifier(criterion='entropy', max_features='log2',\\n                       random_state=1764906721), DecisionTreeClassifier(criterion='entropy', max_features='log2',\\n                       random_state=793837664), DecisionTreeClassifier(criterion='entropy', max_features='log2',\\n                       random_state=342284401), DecisionTreeClassifier(criterion='entropy', max_features='log2',\\n                       random_state=2065586814), DecisionTreeClassifier(criterion='entropy', max_features='log2',\\n                       random_state=601083951), DecisionTreeClassifier(criterion='entropy', max_features='log2',\\n                       random_state=1684131913), DecisionTreeClassifier(criterion='entropy', max_features='log2',\\n                       random_state=1722357280), DecisionTreeClassifier(criterion='entropy', max_features='log2',\\n                       random_state=1473938350), DecisionTreeClassifier(criterion='entropy', max_features='log2',\\n                       random_state=546822368), DecisionTreeClassifier(criterion='entropy', max_features='log2',\\n                       random_state=983761007), DecisionTreeClassifier(criterion='entropy', max_features='log2',\\n                       random_state=1392217497), DecisionTreeClassifier(criterion='entropy', max_features='log2',\\n                       random_state=1883653459), DecisionTreeClassifier(criterion='entropy', max_features='log2',\\n                       random_state=1051233102), DecisionTreeClassifier(criterion='entropy', max_features='log2',\\n                       random_state=256314621), DecisionTreeClassifier(criterion='entropy', max_features='log2',\\n                       random_state=836467108), DecisionTreeClassifier(criterion='entropy', max_features='log2',\\n                       random_state=1709587040), DecisionTreeClassifier(criterion='entropy', max_features='log2',\\n                       random_state=403307728), DecisionTreeClassifier(criterion='entropy', max_features='log2',\\n                       random_state=1022182468), DecisionTreeClassifier(criterion='entropy', max_features='log2',\\n                       random_state=566042417), DecisionTreeClassifier(criterion='entropy', max_features='log2',\\n                       random_state=783796023), DecisionTreeClassifier(criterion='entropy', max_features='log2',\\n                       random_state=1890890179), DecisionTreeClassifier(criterion='entropy', max_features='log2',\\n                       random_state=753559554), DecisionTreeClassifier(criterion='entropy', max_features='log2',\\n                       random_state=359602516), DecisionTreeClassifier(criterion='entropy', max_features='log2',\\n                       random_state=135512103), DecisionTreeClassifier(criterion='entropy', max_features='log2',\\n                       random_state=911951170), DecisionTreeClassifier(criterion='entropy', max_features='log2',\\n                       random_state=136698452), DecisionTreeClassifier(criterion='entropy', max_features='log2',\\n                       random_state=1837659695), DecisionTreeClassifier(criterion='entropy', max_features='log2',\\n                       random_state=577247736), DecisionTreeClassifier(criterion='entropy', max_features='log2',\\n                       random_state=1278957501), DecisionTreeClassifier(criterion='entropy', max_features='log2',\\n                       random_state=1500798128), DecisionTreeClassifier(criterion='entropy', max_features='log2',\\n                       random_state=2113488007), DecisionTreeClassifier(criterion='entropy', max_features='log2',\\n                       random_state=964028265), DecisionTreeClassifier(criterion='entropy', max_features='log2',\\n                       random_state=1032065123), DecisionTreeClassifier(criterion='entropy', max_features='log2',\\n                       random_state=476842364), DecisionTreeClassifier(criterion='entropy', max_features='log2',\\n                       random_state=1536434012), DecisionTreeClassifier(criterion='entropy', max_features='log2',\\n                       random_state=955387060), DecisionTreeClassifier(criterion='entropy', max_features='log2',\\n                       random_state=1791903078), DecisionTreeClassifier(criterion='entropy', max_features='log2',\\n                       random_state=1387097953), DecisionTreeClassifier(criterion='entropy', max_features='log2',\\n                       random_state=664522965), DecisionTreeClassifier(criterion='entropy', max_features='log2',\\n                       random_state=1553870454), DecisionTreeClassifier(criterion='entropy', max_features='log2',\\n                       random_state=1605464926), DecisionTreeClassifier(criterion='entropy', max_features='log2',\\n                       random_state=980383131), DecisionTreeClassifier(criterion='entropy', max_features='log2',\\n                       random_state=1007225122), DecisionTreeClassifier(criterion='entropy', max_features='log2',\\n                       random_state=1261492193), DecisionTreeClassifier(criterion='entropy', max_features='log2',\\n                       random_state=2095923788), DecisionTreeClassifier(criterion='entropy', max_features='log2',\\n                       random_state=562538152), DecisionTreeClassifier(criterion='entropy', max_features='log2',\\n                       random_state=1142443907), DecisionTreeClassifier(criterion='entropy', max_features='log2',\\n                       random_state=395587690), DecisionTreeClassifier(criterion='entropy', max_features='log2',\\n                       random_state=1189724997), DecisionTreeClassifier(criterion='entropy', max_features='log2',\\n                       random_state=1862732352), DecisionTreeClassifier(criterion='entropy', max_features='log2',\\n                       random_state=120181579), DecisionTreeClassifier(criterion='entropy', max_features='log2',\\n                       random_state=1850541474), DecisionTreeClassifier(criterion='entropy', max_features='log2',\\n                       random_state=746922810), DecisionTreeClassifier(criterion='entropy', max_features='log2',\\n                       random_state=2120361354), DecisionTreeClassifier(criterion='entropy', max_features='log2',\\n                       random_state=661778198), DecisionTreeClassifier(criterion='entropy', max_features='log2',\\n                       random_state=1828927181), DecisionTreeClassifier(criterion='entropy', max_features='log2',\\n                       random_state=331083922), DecisionTreeClassifier(criterion='entropy', max_features='log2',\\n                       random_state=1341151716), DecisionTreeClassifier(criterion='entropy', max_features='log2',\\n                       random_state=1674460431), DecisionTreeClassifier(criterion='entropy', max_features='log2',\\n                       random_state=1831164907), DecisionTreeClassifier(criterion='entropy', max_features='log2',\\n                       random_state=1075368347), DecisionTreeClassifier(criterion='entropy', max_features='log2',\\n                       random_state=1689593597), DecisionTreeClassifier(criterion='entropy', max_features='log2',\\n                       random_state=830660588), DecisionTreeClassifier(criterion='entropy', max_features='log2',\\n                       random_state=1907652766), DecisionTreeClassifier(criterion='entropy', max_features='log2',\\n                       random_state=50523316), DecisionTreeClassifier(criterion='entropy', max_features='log2',\\n                       random_state=7888454), DecisionTreeClassifier(criterion='entropy', max_features='log2',\\n                       random_state=1994016109), DecisionTreeClassifier(criterion='entropy', max_features='log2',\\n                       random_state=532373875), DecisionTreeClassifier(criterion='entropy', max_features='log2',\\n                       random_state=293907610), DecisionTreeClassifier(criterion='entropy', max_features='log2',\\n                       random_state=496577232), DecisionTreeClassifier(criterion='entropy', max_features='log2',\\n                       random_state=1299440006), DecisionTreeClassifier(criterion='entropy', max_features='log2',\\n                       random_state=1362730766), DecisionTreeClassifier(criterion='entropy', max_features='log2',\\n                       random_state=2135924991), DecisionTreeClassifier(criterion='entropy', max_features='log2',\\n                       random_state=1781665012), DecisionTreeClassifier(criterion='entropy', max_features='log2',\\n                       random_state=787108199), DecisionTreeClassifier(criterion='entropy', max_features='log2',\\n                       random_state=1573285835), DecisionTreeClassifier(criterion='entropy', max_features='log2',\\n                       random_state=1789707190), DecisionTreeClassifier(criterion='entropy', max_features='log2',\\n                       random_state=1075697607), DecisionTreeClassifier(criterion='entropy', max_features='log2',\\n                       random_state=467846273), DecisionTreeClassifier(criterion='entropy', max_features='log2',\\n                       random_state=2074616363), DecisionTreeClassifier(criterion='entropy', max_features='log2',\\n                       random_state=2128121018), DecisionTreeClassifier(criterion='entropy', max_features='log2',\\n                       random_state=2085463397), DecisionTreeClassifier(criterion='entropy', max_features='log2',\\n                       random_state=1000022711), DecisionTreeClassifier(criterion='entropy', max_features='log2',\\n                       random_state=83687961), DecisionTreeClassifier(criterion='entropy', max_features='log2',\\n                       random_state=1876302258), DecisionTreeClassifier(criterion='entropy', max_features='log2',\\n                       random_state=484878292), DecisionTreeClassifier(criterion='entropy', max_features='log2',\\n                       random_state=1080368952))   \n",
            "8  (DecisionTreeClassifier(criterion='entropy', max_features='log2',\\n                       random_state=843828734), DecisionTreeClassifier(criterion='entropy', max_features='log2',\\n                       random_state=914636141), DecisionTreeClassifier(criterion='entropy', max_features='log2',\\n                       random_state=1228959102), DecisionTreeClassifier(criterion='entropy', max_features='log2',\\n                       random_state=1840268610), DecisionTreeClassifier(criterion='entropy', max_features='log2',\\n                       random_state=974319580), DecisionTreeClassifier(criterion='entropy', max_features='log2',\\n                       random_state=819844194), DecisionTreeClassifier(criterion='entropy', max_features='log2',\\n                       random_state=220395238), DecisionTreeClassifier(criterion='entropy', max_features='log2',\\n                       random_state=941243409), DecisionTreeClassifier(criterion='entropy', max_features='log2',\\n                       random_state=942612051), DecisionTreeClassifier(criterion='entropy', max_features='log2',\\n                       random_state=2109339754), DecisionTreeClassifier(criterion='entropy', max_features='log2',\\n                       random_state=1817228411), DecisionTreeClassifier(criterion='entropy', max_features='log2',\\n                       random_state=1202710073), DecisionTreeClassifier(criterion='entropy', max_features='log2',\\n                       random_state=2064866518), DecisionTreeClassifier(criterion='entropy', max_features='log2',\\n                       random_state=1764906721), DecisionTreeClassifier(criterion='entropy', max_features='log2',\\n                       random_state=793837664), DecisionTreeClassifier(criterion='entropy', max_features='log2',\\n                       random_state=342284401), DecisionTreeClassifier(criterion='entropy', max_features='log2',\\n                       random_state=2065586814), DecisionTreeClassifier(criterion='entropy', max_features='log2',\\n                       random_state=601083951), DecisionTreeClassifier(criterion='entropy', max_features='log2',\\n                       random_state=1684131913), DecisionTreeClassifier(criterion='entropy', max_features='log2',\\n                       random_state=1722357280), DecisionTreeClassifier(criterion='entropy', max_features='log2',\\n                       random_state=1473938350), DecisionTreeClassifier(criterion='entropy', max_features='log2',\\n                       random_state=546822368), DecisionTreeClassifier(criterion='entropy', max_features='log2',\\n                       random_state=983761007), DecisionTreeClassifier(criterion='entropy', max_features='log2',\\n                       random_state=1392217497), DecisionTreeClassifier(criterion='entropy', max_features='log2',\\n                       random_state=1883653459), DecisionTreeClassifier(criterion='entropy', max_features='log2',\\n                       random_state=1051233102), DecisionTreeClassifier(criterion='entropy', max_features='log2',\\n                       random_state=256314621), DecisionTreeClassifier(criterion='entropy', max_features='log2',\\n                       random_state=836467108), DecisionTreeClassifier(criterion='entropy', max_features='log2',\\n                       random_state=1709587040), DecisionTreeClassifier(criterion='entropy', max_features='log2',\\n                       random_state=403307728), DecisionTreeClassifier(criterion='entropy', max_features='log2',\\n                       random_state=1022182468), DecisionTreeClassifier(criterion='entropy', max_features='log2',\\n                       random_state=566042417), DecisionTreeClassifier(criterion='entropy', max_features='log2',\\n                       random_state=783796023), DecisionTreeClassifier(criterion='entropy', max_features='log2',\\n                       random_state=1890890179), DecisionTreeClassifier(criterion='entropy', max_features='log2',\\n                       random_state=753559554), DecisionTreeClassifier(criterion='entropy', max_features='log2',\\n                       random_state=359602516), DecisionTreeClassifier(criterion='entropy', max_features='log2',\\n                       random_state=135512103), DecisionTreeClassifier(criterion='entropy', max_features='log2',\\n                       random_state=911951170), DecisionTreeClassifier(criterion='entropy', max_features='log2',\\n                       random_state=136698452), DecisionTreeClassifier(criterion='entropy', max_features='log2',\\n                       random_state=1837659695), DecisionTreeClassifier(criterion='entropy', max_features='log2',\\n                       random_state=577247736), DecisionTreeClassifier(criterion='entropy', max_features='log2',\\n                       random_state=1278957501), DecisionTreeClassifier(criterion='entropy', max_features='log2',\\n                       random_state=1500798128), DecisionTreeClassifier(criterion='entropy', max_features='log2',\\n                       random_state=2113488007), DecisionTreeClassifier(criterion='entropy', max_features='log2',\\n                       random_state=964028265), DecisionTreeClassifier(criterion='entropy', max_features='log2',\\n                       random_state=1032065123), DecisionTreeClassifier(criterion='entropy', max_features='log2',\\n                       random_state=476842364), DecisionTreeClassifier(criterion='entropy', max_features='log2',\\n                       random_state=1536434012), DecisionTreeClassifier(criterion='entropy', max_features='log2',\\n                       random_state=955387060), DecisionTreeClassifier(criterion='entropy', max_features='log2',\\n                       random_state=1791903078), DecisionTreeClassifier(criterion='entropy', max_features='log2',\\n                       random_state=1387097953), DecisionTreeClassifier(criterion='entropy', max_features='log2',\\n                       random_state=664522965), DecisionTreeClassifier(criterion='entropy', max_features='log2',\\n                       random_state=1553870454), DecisionTreeClassifier(criterion='entropy', max_features='log2',\\n                       random_state=1605464926), DecisionTreeClassifier(criterion='entropy', max_features='log2',\\n                       random_state=980383131), DecisionTreeClassifier(criterion='entropy', max_features='log2',\\n                       random_state=1007225122), DecisionTreeClassifier(criterion='entropy', max_features='log2',\\n                       random_state=1261492193), DecisionTreeClassifier(criterion='entropy', max_features='log2',\\n                       random_state=2095923788), DecisionTreeClassifier(criterion='entropy', max_features='log2',\\n                       random_state=562538152), DecisionTreeClassifier(criterion='entropy', max_features='log2',\\n                       random_state=1142443907), DecisionTreeClassifier(criterion='entropy', max_features='log2',\\n                       random_state=395587690), DecisionTreeClassifier(criterion='entropy', max_features='log2',\\n                       random_state=1189724997), DecisionTreeClassifier(criterion='entropy', max_features='log2',\\n                       random_state=1862732352), DecisionTreeClassifier(criterion='entropy', max_features='log2',\\n                       random_state=120181579), DecisionTreeClassifier(criterion='entropy', max_features='log2',\\n                       random_state=1850541474), DecisionTreeClassifier(criterion='entropy', max_features='log2',\\n                       random_state=746922810), DecisionTreeClassifier(criterion='entropy', max_features='log2',\\n                       random_state=2120361354), DecisionTreeClassifier(criterion='entropy', max_features='log2',\\n                       random_state=661778198), DecisionTreeClassifier(criterion='entropy', max_features='log2',\\n                       random_state=1828927181), DecisionTreeClassifier(criterion='entropy', max_features='log2',\\n                       random_state=331083922), DecisionTreeClassifier(criterion='entropy', max_features='log2',\\n                       random_state=1341151716), DecisionTreeClassifier(criterion='entropy', max_features='log2',\\n                       random_state=1674460431), DecisionTreeClassifier(criterion='entropy', max_features='log2',\\n                       random_state=1831164907), DecisionTreeClassifier(criterion='entropy', max_features='log2',\\n                       random_state=1075368347), DecisionTreeClassifier(criterion='entropy', max_features='log2',\\n                       random_state=1689593597), DecisionTreeClassifier(criterion='entropy', max_features='log2',\\n                       random_state=830660588), DecisionTreeClassifier(criterion='entropy', max_features='log2',\\n                       random_state=1907652766), DecisionTreeClassifier(criterion='entropy', max_features='log2',\\n                       random_state=50523316), DecisionTreeClassifier(criterion='entropy', max_features='log2',\\n                       random_state=7888454), DecisionTreeClassifier(criterion='entropy', max_features='log2',\\n                       random_state=1994016109), DecisionTreeClassifier(criterion='entropy', max_features='log2',\\n                       random_state=532373875), DecisionTreeClassifier(criterion='entropy', max_features='log2',\\n                       random_state=293907610), DecisionTreeClassifier(criterion='entropy', max_features='log2',\\n                       random_state=496577232), DecisionTreeClassifier(criterion='entropy', max_features='log2',\\n                       random_state=1299440006), DecisionTreeClassifier(criterion='entropy', max_features='log2',\\n                       random_state=1362730766), DecisionTreeClassifier(criterion='entropy', max_features='log2',\\n                       random_state=2135924991), DecisionTreeClassifier(criterion='entropy', max_features='log2',\\n                       random_state=1781665012), DecisionTreeClassifier(criterion='entropy', max_features='log2',\\n                       random_state=787108199), DecisionTreeClassifier(criterion='entropy', max_features='log2',\\n                       random_state=1573285835), DecisionTreeClassifier(criterion='entropy', max_features='log2',\\n                       random_state=1789707190), DecisionTreeClassifier(criterion='entropy', max_features='log2',\\n                       random_state=1075697607), DecisionTreeClassifier(criterion='entropy', max_features='log2',\\n                       random_state=467846273), DecisionTreeClassifier(criterion='entropy', max_features='log2',\\n                       random_state=2074616363), DecisionTreeClassifier(criterion='entropy', max_features='log2',\\n                       random_state=2128121018), DecisionTreeClassifier(criterion='entropy', max_features='log2',\\n                       random_state=2085463397), DecisionTreeClassifier(criterion='entropy', max_features='log2',\\n                       random_state=1000022711), DecisionTreeClassifier(criterion='entropy', max_features='log2',\\n                       random_state=83687961), DecisionTreeClassifier(criterion='entropy', max_features='log2',\\n                       random_state=1876302258), DecisionTreeClassifier(criterion='entropy', max_features='log2',\\n                       random_state=484878292), DecisionTreeClassifier(criterion='entropy', max_features='log2',\\n                       random_state=1080368952))   \n",
            "9  (DecisionTreeClassifier(criterion='entropy', max_features='log2',\\n                       random_state=843828734), DecisionTreeClassifier(criterion='entropy', max_features='log2',\\n                       random_state=914636141), DecisionTreeClassifier(criterion='entropy', max_features='log2',\\n                       random_state=1228959102), DecisionTreeClassifier(criterion='entropy', max_features='log2',\\n                       random_state=1840268610), DecisionTreeClassifier(criterion='entropy', max_features='log2',\\n                       random_state=974319580), DecisionTreeClassifier(criterion='entropy', max_features='log2',\\n                       random_state=819844194), DecisionTreeClassifier(criterion='entropy', max_features='log2',\\n                       random_state=220395238), DecisionTreeClassifier(criterion='entropy', max_features='log2',\\n                       random_state=941243409), DecisionTreeClassifier(criterion='entropy', max_features='log2',\\n                       random_state=942612051), DecisionTreeClassifier(criterion='entropy', max_features='log2',\\n                       random_state=2109339754), DecisionTreeClassifier(criterion='entropy', max_features='log2',\\n                       random_state=1817228411), DecisionTreeClassifier(criterion='entropy', max_features='log2',\\n                       random_state=1202710073), DecisionTreeClassifier(criterion='entropy', max_features='log2',\\n                       random_state=2064866518), DecisionTreeClassifier(criterion='entropy', max_features='log2',\\n                       random_state=1764906721), DecisionTreeClassifier(criterion='entropy', max_features='log2',\\n                       random_state=793837664), DecisionTreeClassifier(criterion='entropy', max_features='log2',\\n                       random_state=342284401), DecisionTreeClassifier(criterion='entropy', max_features='log2',\\n                       random_state=2065586814), DecisionTreeClassifier(criterion='entropy', max_features='log2',\\n                       random_state=601083951), DecisionTreeClassifier(criterion='entropy', max_features='log2',\\n                       random_state=1684131913), DecisionTreeClassifier(criterion='entropy', max_features='log2',\\n                       random_state=1722357280), DecisionTreeClassifier(criterion='entropy', max_features='log2',\\n                       random_state=1473938350), DecisionTreeClassifier(criterion='entropy', max_features='log2',\\n                       random_state=546822368), DecisionTreeClassifier(criterion='entropy', max_features='log2',\\n                       random_state=983761007), DecisionTreeClassifier(criterion='entropy', max_features='log2',\\n                       random_state=1392217497), DecisionTreeClassifier(criterion='entropy', max_features='log2',\\n                       random_state=1883653459), DecisionTreeClassifier(criterion='entropy', max_features='log2',\\n                       random_state=1051233102), DecisionTreeClassifier(criterion='entropy', max_features='log2',\\n                       random_state=256314621), DecisionTreeClassifier(criterion='entropy', max_features='log2',\\n                       random_state=836467108), DecisionTreeClassifier(criterion='entropy', max_features='log2',\\n                       random_state=1709587040), DecisionTreeClassifier(criterion='entropy', max_features='log2',\\n                       random_state=403307728), DecisionTreeClassifier(criterion='entropy', max_features='log2',\\n                       random_state=1022182468), DecisionTreeClassifier(criterion='entropy', max_features='log2',\\n                       random_state=566042417), DecisionTreeClassifier(criterion='entropy', max_features='log2',\\n                       random_state=783796023), DecisionTreeClassifier(criterion='entropy', max_features='log2',\\n                       random_state=1890890179), DecisionTreeClassifier(criterion='entropy', max_features='log2',\\n                       random_state=753559554), DecisionTreeClassifier(criterion='entropy', max_features='log2',\\n                       random_state=359602516), DecisionTreeClassifier(criterion='entropy', max_features='log2',\\n                       random_state=135512103), DecisionTreeClassifier(criterion='entropy', max_features='log2',\\n                       random_state=911951170), DecisionTreeClassifier(criterion='entropy', max_features='log2',\\n                       random_state=136698452), DecisionTreeClassifier(criterion='entropy', max_features='log2',\\n                       random_state=1837659695), DecisionTreeClassifier(criterion='entropy', max_features='log2',\\n                       random_state=577247736), DecisionTreeClassifier(criterion='entropy', max_features='log2',\\n                       random_state=1278957501), DecisionTreeClassifier(criterion='entropy', max_features='log2',\\n                       random_state=1500798128), DecisionTreeClassifier(criterion='entropy', max_features='log2',\\n                       random_state=2113488007), DecisionTreeClassifier(criterion='entropy', max_features='log2',\\n                       random_state=964028265), DecisionTreeClassifier(criterion='entropy', max_features='log2',\\n                       random_state=1032065123), DecisionTreeClassifier(criterion='entropy', max_features='log2',\\n                       random_state=476842364), DecisionTreeClassifier(criterion='entropy', max_features='log2',\\n                       random_state=1536434012), DecisionTreeClassifier(criterion='entropy', max_features='log2',\\n                       random_state=955387060), DecisionTreeClassifier(criterion='entropy', max_features='log2',\\n                       random_state=1791903078), DecisionTreeClassifier(criterion='entropy', max_features='log2',\\n                       random_state=1387097953), DecisionTreeClassifier(criterion='entropy', max_features='log2',\\n                       random_state=664522965), DecisionTreeClassifier(criterion='entropy', max_features='log2',\\n                       random_state=1553870454), DecisionTreeClassifier(criterion='entropy', max_features='log2',\\n                       random_state=1605464926), DecisionTreeClassifier(criterion='entropy', max_features='log2',\\n                       random_state=980383131), DecisionTreeClassifier(criterion='entropy', max_features='log2',\\n                       random_state=1007225122), DecisionTreeClassifier(criterion='entropy', max_features='log2',\\n                       random_state=1261492193), DecisionTreeClassifier(criterion='entropy', max_features='log2',\\n                       random_state=2095923788), DecisionTreeClassifier(criterion='entropy', max_features='log2',\\n                       random_state=562538152), DecisionTreeClassifier(criterion='entropy', max_features='log2',\\n                       random_state=1142443907), DecisionTreeClassifier(criterion='entropy', max_features='log2',\\n                       random_state=395587690), DecisionTreeClassifier(criterion='entropy', max_features='log2',\\n                       random_state=1189724997), DecisionTreeClassifier(criterion='entropy', max_features='log2',\\n                       random_state=1862732352), DecisionTreeClassifier(criterion='entropy', max_features='log2',\\n                       random_state=120181579), DecisionTreeClassifier(criterion='entropy', max_features='log2',\\n                       random_state=1850541474), DecisionTreeClassifier(criterion='entropy', max_features='log2',\\n                       random_state=746922810), DecisionTreeClassifier(criterion='entropy', max_features='log2',\\n                       random_state=2120361354), DecisionTreeClassifier(criterion='entropy', max_features='log2',\\n                       random_state=661778198), DecisionTreeClassifier(criterion='entropy', max_features='log2',\\n                       random_state=1828927181), DecisionTreeClassifier(criterion='entropy', max_features='log2',\\n                       random_state=331083922), DecisionTreeClassifier(criterion='entropy', max_features='log2',\\n                       random_state=1341151716), DecisionTreeClassifier(criterion='entropy', max_features='log2',\\n                       random_state=1674460431), DecisionTreeClassifier(criterion='entropy', max_features='log2',\\n                       random_state=1831164907), DecisionTreeClassifier(criterion='entropy', max_features='log2',\\n                       random_state=1075368347), DecisionTreeClassifier(criterion='entropy', max_features='log2',\\n                       random_state=1689593597), DecisionTreeClassifier(criterion='entropy', max_features='log2',\\n                       random_state=830660588), DecisionTreeClassifier(criterion='entropy', max_features='log2',\\n                       random_state=1907652766), DecisionTreeClassifier(criterion='entropy', max_features='log2',\\n                       random_state=50523316), DecisionTreeClassifier(criterion='entropy', max_features='log2',\\n                       random_state=7888454), DecisionTreeClassifier(criterion='entropy', max_features='log2',\\n                       random_state=1994016109), DecisionTreeClassifier(criterion='entropy', max_features='log2',\\n                       random_state=532373875), DecisionTreeClassifier(criterion='entropy', max_features='log2',\\n                       random_state=293907610), DecisionTreeClassifier(criterion='entropy', max_features='log2',\\n                       random_state=496577232), DecisionTreeClassifier(criterion='entropy', max_features='log2',\\n                       random_state=1299440006), DecisionTreeClassifier(criterion='entropy', max_features='log2',\\n                       random_state=1362730766), DecisionTreeClassifier(criterion='entropy', max_features='log2',\\n                       random_state=2135924991), DecisionTreeClassifier(criterion='entropy', max_features='log2',\\n                       random_state=1781665012), DecisionTreeClassifier(criterion='entropy', max_features='log2',\\n                       random_state=787108199), DecisionTreeClassifier(criterion='entropy', max_features='log2',\\n                       random_state=1573285835), DecisionTreeClassifier(criterion='entropy', max_features='log2',\\n                       random_state=1789707190), DecisionTreeClassifier(criterion='entropy', max_features='log2',\\n                       random_state=1075697607), DecisionTreeClassifier(criterion='entropy', max_features='log2',\\n                       random_state=467846273), DecisionTreeClassifier(criterion='entropy', max_features='log2',\\n                       random_state=2074616363), DecisionTreeClassifier(criterion='entropy', max_features='log2',\\n                       random_state=2128121018), DecisionTreeClassifier(criterion='entropy', max_features='log2',\\n                       random_state=2085463397), DecisionTreeClassifier(criterion='entropy', max_features='log2',\\n                       random_state=1000022711), DecisionTreeClassifier(criterion='entropy', max_features='log2',\\n                       random_state=83687961), DecisionTreeClassifier(criterion='entropy', max_features='log2',\\n                       random_state=1876302258), DecisionTreeClassifier(criterion='entropy', max_features='log2',\\n                       random_state=484878292), DecisionTreeClassifier(criterion='entropy', max_features='log2',\\n                       random_state=1080368952))   \n",
            "\n",
            "             rf_scores  \n",
            "0                 0.79  \n",
            "1                 0.79  \n",
            "2                 0.80  \n",
            "3                 0.77  \n",
            "4                 0.77  \n",
            "5                 0.82  \n",
            "6                 0.78  \n",
            "7                 0.80  \n",
            "8                 0.77  \n",
            "9                 0.79  \n"
          ],
          "name": "stdout"
        }
      ]
    },
    {
      "cell_type": "code",
      "metadata": {
        "id": "eYifkEJVlGQ2",
        "outputId": "a34d60b0-f6e4-4296-f477-27610eb1f0a7"
      },
      "source": [
        "rfdf"
      ],
      "execution_count": null,
      "outputs": [
        {
          "output_type": "execute_result",
          "data": {
            "text/html": [
              "<div>\n",
              "<style scoped>\n",
              "    .dataframe tbody tr th:only-of-type {\n",
              "        vertical-align: middle;\n",
              "    }\n",
              "\n",
              "    .dataframe tbody tr th {\n",
              "        vertical-align: top;\n",
              "    }\n",
              "\n",
              "    .dataframe thead th {\n",
              "        text-align: right;\n",
              "    }\n",
              "</style>\n",
              "<table border=\"1\" class=\"dataframe\">\n",
              "  <thead>\n",
              "    <tr style=\"text-align: right;\">\n",
              "      <th></th>\n",
              "      <th>rf_mods</th>\n",
              "      <th>rf_scores</th>\n",
              "    </tr>\n",
              "  </thead>\n",
              "  <tbody>\n",
              "    <tr>\n",
              "      <th>0</th>\n",
              "      <td>(DecisionTreeClassifier(criterion='entropy', m...</td>\n",
              "      <td>0.789649</td>\n",
              "    </tr>\n",
              "    <tr>\n",
              "      <th>1</th>\n",
              "      <td>(DecisionTreeClassifier(criterion='entropy', m...</td>\n",
              "      <td>0.791319</td>\n",
              "    </tr>\n",
              "    <tr>\n",
              "      <th>2</th>\n",
              "      <td>(DecisionTreeClassifier(criterion='entropy', m...</td>\n",
              "      <td>0.797997</td>\n",
              "    </tr>\n",
              "    <tr>\n",
              "      <th>3</th>\n",
              "      <td>(DecisionTreeClassifier(criterion='entropy', m...</td>\n",
              "      <td>0.774624</td>\n",
              "    </tr>\n",
              "    <tr>\n",
              "      <th>4</th>\n",
              "      <td>(DecisionTreeClassifier(criterion='entropy', m...</td>\n",
              "      <td>0.772955</td>\n",
              "    </tr>\n",
              "    <tr>\n",
              "      <th>5</th>\n",
              "      <td>(DecisionTreeClassifier(criterion='entropy', m...</td>\n",
              "      <td>0.818030</td>\n",
              "    </tr>\n",
              "    <tr>\n",
              "      <th>6</th>\n",
              "      <td>(DecisionTreeClassifier(criterion='entropy', m...</td>\n",
              "      <td>0.780936</td>\n",
              "    </tr>\n",
              "    <tr>\n",
              "      <th>7</th>\n",
              "      <td>(DecisionTreeClassifier(criterion='entropy', m...</td>\n",
              "      <td>0.804348</td>\n",
              "    </tr>\n",
              "    <tr>\n",
              "      <th>8</th>\n",
              "      <td>(DecisionTreeClassifier(criterion='entropy', m...</td>\n",
              "      <td>0.769231</td>\n",
              "    </tr>\n",
              "    <tr>\n",
              "      <th>9</th>\n",
              "      <td>(DecisionTreeClassifier(criterion='entropy', m...</td>\n",
              "      <td>0.790970</td>\n",
              "    </tr>\n",
              "  </tbody>\n",
              "</table>\n",
              "</div>"
            ],
            "text/plain": [
              "                                             rf_mods  rf_scores\n",
              "0  (DecisionTreeClassifier(criterion='entropy', m...   0.789649\n",
              "1  (DecisionTreeClassifier(criterion='entropy', m...   0.791319\n",
              "2  (DecisionTreeClassifier(criterion='entropy', m...   0.797997\n",
              "3  (DecisionTreeClassifier(criterion='entropy', m...   0.774624\n",
              "4  (DecisionTreeClassifier(criterion='entropy', m...   0.772955\n",
              "5  (DecisionTreeClassifier(criterion='entropy', m...   0.818030\n",
              "6  (DecisionTreeClassifier(criterion='entropy', m...   0.780936\n",
              "7  (DecisionTreeClassifier(criterion='entropy', m...   0.804348\n",
              "8  (DecisionTreeClassifier(criterion='entropy', m...   0.769231\n",
              "9  (DecisionTreeClassifier(criterion='entropy', m...   0.790970"
            ]
          },
          "metadata": {
            "tags": []
          },
          "execution_count": 47
        }
      ]
    },
    {
      "cell_type": "code",
      "metadata": {
        "id": "2bI0uaGylGQ2",
        "outputId": "a2b86db2-7202-4292-bbfa-0cdfed8c655e"
      },
      "source": [
        "xgdf"
      ],
      "execution_count": null,
      "outputs": [
        {
          "output_type": "execute_result",
          "data": {
            "text/html": [
              "<div>\n",
              "<style scoped>\n",
              "    .dataframe tbody tr th:only-of-type {\n",
              "        vertical-align: middle;\n",
              "    }\n",
              "\n",
              "    .dataframe tbody tr th {\n",
              "        vertical-align: top;\n",
              "    }\n",
              "\n",
              "    .dataframe thead th {\n",
              "        text-align: right;\n",
              "    }\n",
              "</style>\n",
              "<table border=\"1\" class=\"dataframe\">\n",
              "  <thead>\n",
              "    <tr style=\"text-align: right;\">\n",
              "      <th></th>\n",
              "      <th>xg_mods</th>\n",
              "      <th>xg_scores</th>\n",
              "    </tr>\n",
              "  </thead>\n",
              "  <tbody>\n",
              "    <tr>\n",
              "      <th>0</th>\n",
              "      <td>XGBClassifier(base_score=0.5, booster='gblinea...</td>\n",
              "      <td>0.787980</td>\n",
              "    </tr>\n",
              "    <tr>\n",
              "      <th>1</th>\n",
              "      <td>XGBClassifier(base_score=0.5, booster='gblinea...</td>\n",
              "      <td>0.791319</td>\n",
              "    </tr>\n",
              "    <tr>\n",
              "      <th>2</th>\n",
              "      <td>XGBClassifier(base_score=0.5, booster='gblinea...</td>\n",
              "      <td>0.823038</td>\n",
              "    </tr>\n",
              "    <tr>\n",
              "      <th>3</th>\n",
              "      <td>XGBClassifier(base_score=0.5, booster='gblinea...</td>\n",
              "      <td>0.791319</td>\n",
              "    </tr>\n",
              "    <tr>\n",
              "      <th>4</th>\n",
              "      <td>XGBClassifier(base_score=0.5, booster='gblinea...</td>\n",
              "      <td>0.781302</td>\n",
              "    </tr>\n",
              "    <tr>\n",
              "      <th>5</th>\n",
              "      <td>XGBClassifier(base_score=0.5, booster='gblinea...</td>\n",
              "      <td>0.836394</td>\n",
              "    </tr>\n",
              "    <tr>\n",
              "      <th>6</th>\n",
              "      <td>XGBClassifier(base_score=0.5, booster='gblinea...</td>\n",
              "      <td>0.799331</td>\n",
              "    </tr>\n",
              "    <tr>\n",
              "      <th>7</th>\n",
              "      <td>XGBClassifier(base_score=0.5, booster='gblinea...</td>\n",
              "      <td>0.809365</td>\n",
              "    </tr>\n",
              "    <tr>\n",
              "      <th>8</th>\n",
              "      <td>XGBClassifier(base_score=0.5, booster='gblinea...</td>\n",
              "      <td>0.782609</td>\n",
              "    </tr>\n",
              "    <tr>\n",
              "      <th>9</th>\n",
              "      <td>XGBClassifier(base_score=0.5, booster='gblinea...</td>\n",
              "      <td>0.811037</td>\n",
              "    </tr>\n",
              "  </tbody>\n",
              "</table>\n",
              "</div>"
            ],
            "text/plain": [
              "                                             xg_mods  xg_scores\n",
              "0  XGBClassifier(base_score=0.5, booster='gblinea...   0.787980\n",
              "1  XGBClassifier(base_score=0.5, booster='gblinea...   0.791319\n",
              "2  XGBClassifier(base_score=0.5, booster='gblinea...   0.823038\n",
              "3  XGBClassifier(base_score=0.5, booster='gblinea...   0.791319\n",
              "4  XGBClassifier(base_score=0.5, booster='gblinea...   0.781302\n",
              "5  XGBClassifier(base_score=0.5, booster='gblinea...   0.836394\n",
              "6  XGBClassifier(base_score=0.5, booster='gblinea...   0.799331\n",
              "7  XGBClassifier(base_score=0.5, booster='gblinea...   0.809365\n",
              "8  XGBClassifier(base_score=0.5, booster='gblinea...   0.782609\n",
              "9  XGBClassifier(base_score=0.5, booster='gblinea...   0.811037"
            ]
          },
          "metadata": {
            "tags": []
          },
          "execution_count": 48
        }
      ]
    },
    {
      "cell_type": "markdown",
      "metadata": {
        "id": "NLZUD4g6oEJC"
      },
      "source": [
        "# Thus, Random Forest has better performance......."
      ]
    },
    {
      "cell_type": "code",
      "metadata": {
        "id": "CMWefboulGQ2",
        "outputId": "1ad161b1-a325-4c0e-fa31-02df0374c0be"
      },
      "source": [
        "bstrf.score(xtr,ytr),bstrf.score(xts,yts)"
      ],
      "execution_count": null,
      "outputs": [
        {
          "output_type": "execute_result",
          "data": {
            "text/plain": [
              "(0.9797136038186157, 0.9721603563474388)"
            ]
          },
          "metadata": {
            "tags": []
          },
          "execution_count": 49
        }
      ]
    },
    {
      "cell_type": "code",
      "metadata": {
        "id": "0yfNF4OBlGQ2",
        "outputId": "fc6946b7-f14e-408b-872d-440d688ea865"
      },
      "source": [
        "bstxg.score(xtr,ytr),bstxg.score(xts,yts)"
      ],
      "execution_count": null,
      "outputs": [
        {
          "output_type": "execute_result",
          "data": {
            "text/plain": [
              "(0.8081145584725536, 0.7873051224944321)"
            ]
          },
          "metadata": {
            "tags": []
          },
          "execution_count": 50
        }
      ]
    },
    {
      "cell_type": "code",
      "metadata": {
        "id": "Il24jJvUlGQ2"
      },
      "source": [
        ""
      ],
      "execution_count": null,
      "outputs": []
    }
  ]
}