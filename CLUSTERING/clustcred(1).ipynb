{
  "nbformat": 4,
  "nbformat_minor": 0,
  "metadata": {
    "colab": {
      "name": "clustcred(1).ipynb",
      "provenance": [],
      "collapsed_sections": [],
      "toc_visible": true
    },
    "kernelspec": {
      "display_name": "Python 3",
      "language": "python",
      "name": "python3"
    },
    "language_info": {
      "codemirror_mode": {
        "name": "ipython",
        "version": 3
      },
      "file_extension": ".py",
      "mimetype": "text/x-python",
      "name": "python",
      "nbconvert_exporter": "python",
      "pygments_lexer": "ipython3",
      "version": "3.8.5"
    },
    "varInspector": {
      "cols": {
        "lenName": 16,
        "lenType": 16,
        "lenVar": 40
      },
      "kernels_config": {
        "python": {
          "delete_cmd_postfix": "",
          "delete_cmd_prefix": "del ",
          "library": "var_list.py",
          "varRefreshCmd": "print(var_dic_list())"
        },
        "r": {
          "delete_cmd_postfix": ") ",
          "delete_cmd_prefix": "rm(",
          "library": "var_list.r",
          "varRefreshCmd": "cat(var_dic_list()) "
        }
      },
      "types_to_exclude": [
        "module",
        "function",
        "builtin_function_or_method",
        "instance",
        "_Feature"
      ],
      "window_display": false
    }
  },
  "cells": [
    {
      "cell_type": "markdown",
      "metadata": {
        "id": "g5sqsehEBBy5"
      },
      "source": [
        "# Importing Necessary Libraries"
      ]
    },
    {
      "cell_type": "code",
      "metadata": {
        "colab": {
          "base_uri": "https://localhost:8080/"
        },
        "id": "2yPugJRppT9m",
        "outputId": "44f83e6c-c165-455b-b309-6377150bb054"
      },
      "source": [
        "import os\n",
        "import pandas as pd\n",
        "import numpy as np\n",
        "import matplotlib.pyplot as plt\n",
        "import seaborn as sns\n",
        "class color:\n",
        "   PURPLE = '\\033[95m'\n",
        "   CYAN = '\\033[96m'\n",
        "   DARKCYAN = '\\033[36m'\n",
        "   BLUE = '\\033[94m'\n",
        "   GREEN = '\\033[92m'\n",
        "   YELLOW = '\\033[93m'\n",
        "   RED = '\\033[91m'\n",
        "   BOLD = '\\033[1m'\n",
        "   UNDERLINE = '\\033[4m'\n",
        "   END = '\\033[0m'\n",
        "\n",
        "print(color.PURPLE + 'Hello World !' + color.END)"
      ],
      "execution_count": 77,
      "outputs": [
        {
          "output_type": "stream",
          "text": [
            "\u001b[95mHello World !\u001b[0m\n"
          ],
          "name": "stdout"
        }
      ]
    },
    {
      "cell_type": "markdown",
      "metadata": {
        "id": "STbt7CpcwLQx"
      },
      "source": [
        "# Importing Dataset"
      ]
    },
    {
      "cell_type": "code",
      "metadata": {
        "id": "rioDXZeRj5ih"
      },
      "source": [
        "df = pd.read_csv('/content/credit_card.csv')"
      ],
      "execution_count": 108,
      "outputs": []
    },
    {
      "cell_type": "code",
      "metadata": {
        "colab": {
          "base_uri": "https://localhost:8080/",
          "height": 424
        },
        "id": "YDY3UhbxkBtV",
        "outputId": "6bdd2c38-13f2-49c4-f898-a23b67f2e3f5"
      },
      "source": [
        "df"
      ],
      "execution_count": 109,
      "outputs": [
        {
          "output_type": "execute_result",
          "data": {
            "text/html": [
              "<div>\n",
              "<style scoped>\n",
              "    .dataframe tbody tr th:only-of-type {\n",
              "        vertical-align: middle;\n",
              "    }\n",
              "\n",
              "    .dataframe tbody tr th {\n",
              "        vertical-align: top;\n",
              "    }\n",
              "\n",
              "    .dataframe thead th {\n",
              "        text-align: right;\n",
              "    }\n",
              "</style>\n",
              "<table border=\"1\" class=\"dataframe\">\n",
              "  <thead>\n",
              "    <tr style=\"text-align: right;\">\n",
              "      <th></th>\n",
              "      <th>CUST_ID</th>\n",
              "      <th>BALANCE</th>\n",
              "      <th>BALANCE_FREQUENCY</th>\n",
              "      <th>PURCHASES</th>\n",
              "      <th>ONEOFF_PURCHASES</th>\n",
              "      <th>INSTALLMENTS_PURCHASES</th>\n",
              "      <th>CASH_ADVANCE</th>\n",
              "      <th>PURCHASES_FREQUENCY</th>\n",
              "      <th>ONEOFF_PURCHASES_FREQUENCY</th>\n",
              "      <th>PURCHASES_INSTALLMENTS_FREQUENCY</th>\n",
              "      <th>CASH_ADVANCE_FREQUENCY</th>\n",
              "      <th>CASH_ADVANCE_TRX</th>\n",
              "      <th>PURCHASES_TRX</th>\n",
              "      <th>CREDIT_LIMIT</th>\n",
              "      <th>PAYMENTS</th>\n",
              "      <th>MINIMUM_PAYMENTS</th>\n",
              "      <th>PRC_FULL_PAYMENT</th>\n",
              "      <th>TENURE</th>\n",
              "    </tr>\n",
              "  </thead>\n",
              "  <tbody>\n",
              "    <tr>\n",
              "      <th>0</th>\n",
              "      <td>C10001</td>\n",
              "      <td>40.900749</td>\n",
              "      <td>0.818182</td>\n",
              "      <td>95.40</td>\n",
              "      <td>0.00</td>\n",
              "      <td>95.40</td>\n",
              "      <td>0.000000</td>\n",
              "      <td>0.166667</td>\n",
              "      <td>0.000000</td>\n",
              "      <td>0.083333</td>\n",
              "      <td>0.000000</td>\n",
              "      <td>0</td>\n",
              "      <td>2</td>\n",
              "      <td>1000.0</td>\n",
              "      <td>201.802084</td>\n",
              "      <td>139.509787</td>\n",
              "      <td>0.000000</td>\n",
              "      <td>12</td>\n",
              "    </tr>\n",
              "    <tr>\n",
              "      <th>1</th>\n",
              "      <td>C10002</td>\n",
              "      <td>3202.467416</td>\n",
              "      <td>0.909091</td>\n",
              "      <td>0.00</td>\n",
              "      <td>0.00</td>\n",
              "      <td>0.00</td>\n",
              "      <td>6442.945483</td>\n",
              "      <td>0.000000</td>\n",
              "      <td>0.000000</td>\n",
              "      <td>0.000000</td>\n",
              "      <td>0.250000</td>\n",
              "      <td>4</td>\n",
              "      <td>0</td>\n",
              "      <td>7000.0</td>\n",
              "      <td>4103.032597</td>\n",
              "      <td>1072.340217</td>\n",
              "      <td>0.222222</td>\n",
              "      <td>12</td>\n",
              "    </tr>\n",
              "    <tr>\n",
              "      <th>2</th>\n",
              "      <td>C10003</td>\n",
              "      <td>2495.148862</td>\n",
              "      <td>1.000000</td>\n",
              "      <td>773.17</td>\n",
              "      <td>773.17</td>\n",
              "      <td>0.00</td>\n",
              "      <td>0.000000</td>\n",
              "      <td>1.000000</td>\n",
              "      <td>1.000000</td>\n",
              "      <td>0.000000</td>\n",
              "      <td>0.000000</td>\n",
              "      <td>0</td>\n",
              "      <td>12</td>\n",
              "      <td>7500.0</td>\n",
              "      <td>622.066742</td>\n",
              "      <td>627.284787</td>\n",
              "      <td>0.000000</td>\n",
              "      <td>12</td>\n",
              "    </tr>\n",
              "    <tr>\n",
              "      <th>3</th>\n",
              "      <td>C10004</td>\n",
              "      <td>1666.670542</td>\n",
              "      <td>0.636364</td>\n",
              "      <td>1499.00</td>\n",
              "      <td>1499.00</td>\n",
              "      <td>0.00</td>\n",
              "      <td>205.788017</td>\n",
              "      <td>0.083333</td>\n",
              "      <td>0.083333</td>\n",
              "      <td>0.000000</td>\n",
              "      <td>0.083333</td>\n",
              "      <td>1</td>\n",
              "      <td>1</td>\n",
              "      <td>7500.0</td>\n",
              "      <td>0.000000</td>\n",
              "      <td>NaN</td>\n",
              "      <td>0.000000</td>\n",
              "      <td>12</td>\n",
              "    </tr>\n",
              "    <tr>\n",
              "      <th>4</th>\n",
              "      <td>C10005</td>\n",
              "      <td>817.714335</td>\n",
              "      <td>1.000000</td>\n",
              "      <td>16.00</td>\n",
              "      <td>16.00</td>\n",
              "      <td>0.00</td>\n",
              "      <td>0.000000</td>\n",
              "      <td>0.083333</td>\n",
              "      <td>0.083333</td>\n",
              "      <td>0.000000</td>\n",
              "      <td>0.000000</td>\n",
              "      <td>0</td>\n",
              "      <td>1</td>\n",
              "      <td>1200.0</td>\n",
              "      <td>678.334763</td>\n",
              "      <td>244.791237</td>\n",
              "      <td>0.000000</td>\n",
              "      <td>12</td>\n",
              "    </tr>\n",
              "    <tr>\n",
              "      <th>...</th>\n",
              "      <td>...</td>\n",
              "      <td>...</td>\n",
              "      <td>...</td>\n",
              "      <td>...</td>\n",
              "      <td>...</td>\n",
              "      <td>...</td>\n",
              "      <td>...</td>\n",
              "      <td>...</td>\n",
              "      <td>...</td>\n",
              "      <td>...</td>\n",
              "      <td>...</td>\n",
              "      <td>...</td>\n",
              "      <td>...</td>\n",
              "      <td>...</td>\n",
              "      <td>...</td>\n",
              "      <td>...</td>\n",
              "      <td>...</td>\n",
              "      <td>...</td>\n",
              "    </tr>\n",
              "    <tr>\n",
              "      <th>8945</th>\n",
              "      <td>C19186</td>\n",
              "      <td>28.493517</td>\n",
              "      <td>1.000000</td>\n",
              "      <td>291.12</td>\n",
              "      <td>0.00</td>\n",
              "      <td>291.12</td>\n",
              "      <td>0.000000</td>\n",
              "      <td>1.000000</td>\n",
              "      <td>0.000000</td>\n",
              "      <td>0.833333</td>\n",
              "      <td>0.000000</td>\n",
              "      <td>0</td>\n",
              "      <td>6</td>\n",
              "      <td>1000.0</td>\n",
              "      <td>325.594462</td>\n",
              "      <td>48.886365</td>\n",
              "      <td>0.500000</td>\n",
              "      <td>6</td>\n",
              "    </tr>\n",
              "    <tr>\n",
              "      <th>8946</th>\n",
              "      <td>C19187</td>\n",
              "      <td>19.183215</td>\n",
              "      <td>1.000000</td>\n",
              "      <td>300.00</td>\n",
              "      <td>0.00</td>\n",
              "      <td>300.00</td>\n",
              "      <td>0.000000</td>\n",
              "      <td>1.000000</td>\n",
              "      <td>0.000000</td>\n",
              "      <td>0.833333</td>\n",
              "      <td>0.000000</td>\n",
              "      <td>0</td>\n",
              "      <td>6</td>\n",
              "      <td>1000.0</td>\n",
              "      <td>275.861322</td>\n",
              "      <td>NaN</td>\n",
              "      <td>0.000000</td>\n",
              "      <td>6</td>\n",
              "    </tr>\n",
              "    <tr>\n",
              "      <th>8947</th>\n",
              "      <td>C19188</td>\n",
              "      <td>23.398673</td>\n",
              "      <td>0.833333</td>\n",
              "      <td>144.40</td>\n",
              "      <td>0.00</td>\n",
              "      <td>144.40</td>\n",
              "      <td>0.000000</td>\n",
              "      <td>0.833333</td>\n",
              "      <td>0.000000</td>\n",
              "      <td>0.666667</td>\n",
              "      <td>0.000000</td>\n",
              "      <td>0</td>\n",
              "      <td>5</td>\n",
              "      <td>1000.0</td>\n",
              "      <td>81.270775</td>\n",
              "      <td>82.418369</td>\n",
              "      <td>0.250000</td>\n",
              "      <td>6</td>\n",
              "    </tr>\n",
              "    <tr>\n",
              "      <th>8948</th>\n",
              "      <td>C19189</td>\n",
              "      <td>13.457564</td>\n",
              "      <td>0.833333</td>\n",
              "      <td>0.00</td>\n",
              "      <td>0.00</td>\n",
              "      <td>0.00</td>\n",
              "      <td>36.558778</td>\n",
              "      <td>0.000000</td>\n",
              "      <td>0.000000</td>\n",
              "      <td>0.000000</td>\n",
              "      <td>0.166667</td>\n",
              "      <td>2</td>\n",
              "      <td>0</td>\n",
              "      <td>500.0</td>\n",
              "      <td>52.549959</td>\n",
              "      <td>55.755628</td>\n",
              "      <td>0.250000</td>\n",
              "      <td>6</td>\n",
              "    </tr>\n",
              "    <tr>\n",
              "      <th>8949</th>\n",
              "      <td>C19190</td>\n",
              "      <td>372.708075</td>\n",
              "      <td>0.666667</td>\n",
              "      <td>1093.25</td>\n",
              "      <td>1093.25</td>\n",
              "      <td>0.00</td>\n",
              "      <td>127.040008</td>\n",
              "      <td>0.666667</td>\n",
              "      <td>0.666667</td>\n",
              "      <td>0.000000</td>\n",
              "      <td>0.333333</td>\n",
              "      <td>2</td>\n",
              "      <td>23</td>\n",
              "      <td>1200.0</td>\n",
              "      <td>63.165404</td>\n",
              "      <td>88.288956</td>\n",
              "      <td>0.000000</td>\n",
              "      <td>6</td>\n",
              "    </tr>\n",
              "  </tbody>\n",
              "</table>\n",
              "<p>8950 rows × 18 columns</p>\n",
              "</div>"
            ],
            "text/plain": [
              "     CUST_ID      BALANCE  ...  PRC_FULL_PAYMENT  TENURE\n",
              "0     C10001    40.900749  ...          0.000000      12\n",
              "1     C10002  3202.467416  ...          0.222222      12\n",
              "2     C10003  2495.148862  ...          0.000000      12\n",
              "3     C10004  1666.670542  ...          0.000000      12\n",
              "4     C10005   817.714335  ...          0.000000      12\n",
              "...      ...          ...  ...               ...     ...\n",
              "8945  C19186    28.493517  ...          0.500000       6\n",
              "8946  C19187    19.183215  ...          0.000000       6\n",
              "8947  C19188    23.398673  ...          0.250000       6\n",
              "8948  C19189    13.457564  ...          0.250000       6\n",
              "8949  C19190   372.708075  ...          0.000000       6\n",
              "\n",
              "[8950 rows x 18 columns]"
            ]
          },
          "metadata": {
            "tags": []
          },
          "execution_count": 109
        }
      ]
    },
    {
      "cell_type": "code",
      "metadata": {
        "colab": {
          "base_uri": "https://localhost:8080/"
        },
        "id": "qHMPWCWhkCbs",
        "outputId": "a1863cc4-737e-4e49-d5db-1983f7498145"
      },
      "source": [
        "for i in df.columns:\n",
        "    if len(df[i].value_counts()) == df.shape[0]:\n",
        "        print(i)"
      ],
      "execution_count": 110,
      "outputs": [
        {
          "output_type": "stream",
          "text": [
            "CUST_ID\n"
          ],
          "name": "stdout"
        }
      ]
    },
    {
      "cell_type": "code",
      "metadata": {
        "id": "9PwdOcswkkYX"
      },
      "source": [
        "df = df.drop(columns='CUST_ID')"
      ],
      "execution_count": 111,
      "outputs": []
    },
    {
      "cell_type": "code",
      "metadata": {
        "colab": {
          "base_uri": "https://localhost:8080/",
          "height": 424
        },
        "id": "wxrCWTDmk1Qv",
        "outputId": "663d9982-0cbe-4477-8b1c-f4f6542ce1a8"
      },
      "source": [
        "df"
      ],
      "execution_count": 112,
      "outputs": [
        {
          "output_type": "execute_result",
          "data": {
            "text/html": [
              "<div>\n",
              "<style scoped>\n",
              "    .dataframe tbody tr th:only-of-type {\n",
              "        vertical-align: middle;\n",
              "    }\n",
              "\n",
              "    .dataframe tbody tr th {\n",
              "        vertical-align: top;\n",
              "    }\n",
              "\n",
              "    .dataframe thead th {\n",
              "        text-align: right;\n",
              "    }\n",
              "</style>\n",
              "<table border=\"1\" class=\"dataframe\">\n",
              "  <thead>\n",
              "    <tr style=\"text-align: right;\">\n",
              "      <th></th>\n",
              "      <th>BALANCE</th>\n",
              "      <th>BALANCE_FREQUENCY</th>\n",
              "      <th>PURCHASES</th>\n",
              "      <th>ONEOFF_PURCHASES</th>\n",
              "      <th>INSTALLMENTS_PURCHASES</th>\n",
              "      <th>CASH_ADVANCE</th>\n",
              "      <th>PURCHASES_FREQUENCY</th>\n",
              "      <th>ONEOFF_PURCHASES_FREQUENCY</th>\n",
              "      <th>PURCHASES_INSTALLMENTS_FREQUENCY</th>\n",
              "      <th>CASH_ADVANCE_FREQUENCY</th>\n",
              "      <th>CASH_ADVANCE_TRX</th>\n",
              "      <th>PURCHASES_TRX</th>\n",
              "      <th>CREDIT_LIMIT</th>\n",
              "      <th>PAYMENTS</th>\n",
              "      <th>MINIMUM_PAYMENTS</th>\n",
              "      <th>PRC_FULL_PAYMENT</th>\n",
              "      <th>TENURE</th>\n",
              "    </tr>\n",
              "  </thead>\n",
              "  <tbody>\n",
              "    <tr>\n",
              "      <th>0</th>\n",
              "      <td>40.900749</td>\n",
              "      <td>0.818182</td>\n",
              "      <td>95.40</td>\n",
              "      <td>0.00</td>\n",
              "      <td>95.40</td>\n",
              "      <td>0.000000</td>\n",
              "      <td>0.166667</td>\n",
              "      <td>0.000000</td>\n",
              "      <td>0.083333</td>\n",
              "      <td>0.000000</td>\n",
              "      <td>0</td>\n",
              "      <td>2</td>\n",
              "      <td>1000.0</td>\n",
              "      <td>201.802084</td>\n",
              "      <td>139.509787</td>\n",
              "      <td>0.000000</td>\n",
              "      <td>12</td>\n",
              "    </tr>\n",
              "    <tr>\n",
              "      <th>1</th>\n",
              "      <td>3202.467416</td>\n",
              "      <td>0.909091</td>\n",
              "      <td>0.00</td>\n",
              "      <td>0.00</td>\n",
              "      <td>0.00</td>\n",
              "      <td>6442.945483</td>\n",
              "      <td>0.000000</td>\n",
              "      <td>0.000000</td>\n",
              "      <td>0.000000</td>\n",
              "      <td>0.250000</td>\n",
              "      <td>4</td>\n",
              "      <td>0</td>\n",
              "      <td>7000.0</td>\n",
              "      <td>4103.032597</td>\n",
              "      <td>1072.340217</td>\n",
              "      <td>0.222222</td>\n",
              "      <td>12</td>\n",
              "    </tr>\n",
              "    <tr>\n",
              "      <th>2</th>\n",
              "      <td>2495.148862</td>\n",
              "      <td>1.000000</td>\n",
              "      <td>773.17</td>\n",
              "      <td>773.17</td>\n",
              "      <td>0.00</td>\n",
              "      <td>0.000000</td>\n",
              "      <td>1.000000</td>\n",
              "      <td>1.000000</td>\n",
              "      <td>0.000000</td>\n",
              "      <td>0.000000</td>\n",
              "      <td>0</td>\n",
              "      <td>12</td>\n",
              "      <td>7500.0</td>\n",
              "      <td>622.066742</td>\n",
              "      <td>627.284787</td>\n",
              "      <td>0.000000</td>\n",
              "      <td>12</td>\n",
              "    </tr>\n",
              "    <tr>\n",
              "      <th>3</th>\n",
              "      <td>1666.670542</td>\n",
              "      <td>0.636364</td>\n",
              "      <td>1499.00</td>\n",
              "      <td>1499.00</td>\n",
              "      <td>0.00</td>\n",
              "      <td>205.788017</td>\n",
              "      <td>0.083333</td>\n",
              "      <td>0.083333</td>\n",
              "      <td>0.000000</td>\n",
              "      <td>0.083333</td>\n",
              "      <td>1</td>\n",
              "      <td>1</td>\n",
              "      <td>7500.0</td>\n",
              "      <td>0.000000</td>\n",
              "      <td>NaN</td>\n",
              "      <td>0.000000</td>\n",
              "      <td>12</td>\n",
              "    </tr>\n",
              "    <tr>\n",
              "      <th>4</th>\n",
              "      <td>817.714335</td>\n",
              "      <td>1.000000</td>\n",
              "      <td>16.00</td>\n",
              "      <td>16.00</td>\n",
              "      <td>0.00</td>\n",
              "      <td>0.000000</td>\n",
              "      <td>0.083333</td>\n",
              "      <td>0.083333</td>\n",
              "      <td>0.000000</td>\n",
              "      <td>0.000000</td>\n",
              "      <td>0</td>\n",
              "      <td>1</td>\n",
              "      <td>1200.0</td>\n",
              "      <td>678.334763</td>\n",
              "      <td>244.791237</td>\n",
              "      <td>0.000000</td>\n",
              "      <td>12</td>\n",
              "    </tr>\n",
              "    <tr>\n",
              "      <th>...</th>\n",
              "      <td>...</td>\n",
              "      <td>...</td>\n",
              "      <td>...</td>\n",
              "      <td>...</td>\n",
              "      <td>...</td>\n",
              "      <td>...</td>\n",
              "      <td>...</td>\n",
              "      <td>...</td>\n",
              "      <td>...</td>\n",
              "      <td>...</td>\n",
              "      <td>...</td>\n",
              "      <td>...</td>\n",
              "      <td>...</td>\n",
              "      <td>...</td>\n",
              "      <td>...</td>\n",
              "      <td>...</td>\n",
              "      <td>...</td>\n",
              "    </tr>\n",
              "    <tr>\n",
              "      <th>8945</th>\n",
              "      <td>28.493517</td>\n",
              "      <td>1.000000</td>\n",
              "      <td>291.12</td>\n",
              "      <td>0.00</td>\n",
              "      <td>291.12</td>\n",
              "      <td>0.000000</td>\n",
              "      <td>1.000000</td>\n",
              "      <td>0.000000</td>\n",
              "      <td>0.833333</td>\n",
              "      <td>0.000000</td>\n",
              "      <td>0</td>\n",
              "      <td>6</td>\n",
              "      <td>1000.0</td>\n",
              "      <td>325.594462</td>\n",
              "      <td>48.886365</td>\n",
              "      <td>0.500000</td>\n",
              "      <td>6</td>\n",
              "    </tr>\n",
              "    <tr>\n",
              "      <th>8946</th>\n",
              "      <td>19.183215</td>\n",
              "      <td>1.000000</td>\n",
              "      <td>300.00</td>\n",
              "      <td>0.00</td>\n",
              "      <td>300.00</td>\n",
              "      <td>0.000000</td>\n",
              "      <td>1.000000</td>\n",
              "      <td>0.000000</td>\n",
              "      <td>0.833333</td>\n",
              "      <td>0.000000</td>\n",
              "      <td>0</td>\n",
              "      <td>6</td>\n",
              "      <td>1000.0</td>\n",
              "      <td>275.861322</td>\n",
              "      <td>NaN</td>\n",
              "      <td>0.000000</td>\n",
              "      <td>6</td>\n",
              "    </tr>\n",
              "    <tr>\n",
              "      <th>8947</th>\n",
              "      <td>23.398673</td>\n",
              "      <td>0.833333</td>\n",
              "      <td>144.40</td>\n",
              "      <td>0.00</td>\n",
              "      <td>144.40</td>\n",
              "      <td>0.000000</td>\n",
              "      <td>0.833333</td>\n",
              "      <td>0.000000</td>\n",
              "      <td>0.666667</td>\n",
              "      <td>0.000000</td>\n",
              "      <td>0</td>\n",
              "      <td>5</td>\n",
              "      <td>1000.0</td>\n",
              "      <td>81.270775</td>\n",
              "      <td>82.418369</td>\n",
              "      <td>0.250000</td>\n",
              "      <td>6</td>\n",
              "    </tr>\n",
              "    <tr>\n",
              "      <th>8948</th>\n",
              "      <td>13.457564</td>\n",
              "      <td>0.833333</td>\n",
              "      <td>0.00</td>\n",
              "      <td>0.00</td>\n",
              "      <td>0.00</td>\n",
              "      <td>36.558778</td>\n",
              "      <td>0.000000</td>\n",
              "      <td>0.000000</td>\n",
              "      <td>0.000000</td>\n",
              "      <td>0.166667</td>\n",
              "      <td>2</td>\n",
              "      <td>0</td>\n",
              "      <td>500.0</td>\n",
              "      <td>52.549959</td>\n",
              "      <td>55.755628</td>\n",
              "      <td>0.250000</td>\n",
              "      <td>6</td>\n",
              "    </tr>\n",
              "    <tr>\n",
              "      <th>8949</th>\n",
              "      <td>372.708075</td>\n",
              "      <td>0.666667</td>\n",
              "      <td>1093.25</td>\n",
              "      <td>1093.25</td>\n",
              "      <td>0.00</td>\n",
              "      <td>127.040008</td>\n",
              "      <td>0.666667</td>\n",
              "      <td>0.666667</td>\n",
              "      <td>0.000000</td>\n",
              "      <td>0.333333</td>\n",
              "      <td>2</td>\n",
              "      <td>23</td>\n",
              "      <td>1200.0</td>\n",
              "      <td>63.165404</td>\n",
              "      <td>88.288956</td>\n",
              "      <td>0.000000</td>\n",
              "      <td>6</td>\n",
              "    </tr>\n",
              "  </tbody>\n",
              "</table>\n",
              "<p>8950 rows × 17 columns</p>\n",
              "</div>"
            ],
            "text/plain": [
              "          BALANCE  BALANCE_FREQUENCY  ...  PRC_FULL_PAYMENT  TENURE\n",
              "0       40.900749           0.818182  ...          0.000000      12\n",
              "1     3202.467416           0.909091  ...          0.222222      12\n",
              "2     2495.148862           1.000000  ...          0.000000      12\n",
              "3     1666.670542           0.636364  ...          0.000000      12\n",
              "4      817.714335           1.000000  ...          0.000000      12\n",
              "...           ...                ...  ...               ...     ...\n",
              "8945    28.493517           1.000000  ...          0.500000       6\n",
              "8946    19.183215           1.000000  ...          0.000000       6\n",
              "8947    23.398673           0.833333  ...          0.250000       6\n",
              "8948    13.457564           0.833333  ...          0.250000       6\n",
              "8949   372.708075           0.666667  ...          0.000000       6\n",
              "\n",
              "[8950 rows x 17 columns]"
            ]
          },
          "metadata": {
            "tags": []
          },
          "execution_count": 112
        }
      ]
    },
    {
      "cell_type": "markdown",
      "metadata": {
        "id": "H-pQa68HIEMI"
      },
      "source": [
        "# Required pre-processing...."
      ]
    },
    {
      "cell_type": "code",
      "metadata": {
        "colab": {
          "base_uri": "https://localhost:8080/"
        },
        "id": "iHgkkRaQk3g2",
        "outputId": "acfae034-5623-4e3c-e3f7-594ae8bf38a2"
      },
      "source": [
        "df.isna().sum()/df.shape[0]"
      ],
      "execution_count": 113,
      "outputs": [
        {
          "output_type": "execute_result",
          "data": {
            "text/plain": [
              "BALANCE                             0.000000\n",
              "BALANCE_FREQUENCY                   0.000000\n",
              "PURCHASES                           0.000000\n",
              "ONEOFF_PURCHASES                    0.000000\n",
              "INSTALLMENTS_PURCHASES              0.000000\n",
              "CASH_ADVANCE                        0.000000\n",
              "PURCHASES_FREQUENCY                 0.000000\n",
              "ONEOFF_PURCHASES_FREQUENCY          0.000000\n",
              "PURCHASES_INSTALLMENTS_FREQUENCY    0.000000\n",
              "CASH_ADVANCE_FREQUENCY              0.000000\n",
              "CASH_ADVANCE_TRX                    0.000000\n",
              "PURCHASES_TRX                       0.000000\n",
              "CREDIT_LIMIT                        0.000112\n",
              "PAYMENTS                            0.000000\n",
              "MINIMUM_PAYMENTS                    0.034972\n",
              "PRC_FULL_PAYMENT                    0.000000\n",
              "TENURE                              0.000000\n",
              "dtype: float64"
            ]
          },
          "metadata": {
            "tags": []
          },
          "execution_count": 113
        }
      ]
    },
    {
      "cell_type": "code",
      "metadata": {
        "colab": {
          "base_uri": "https://localhost:8080/"
        },
        "id": "ZkIb52Stk7tL",
        "outputId": "f5677fa4-1904-49db-a272-5cfb07be5180"
      },
      "source": [
        "for i in df.columns:\n",
        "  print(df[i].value_counts())"
      ],
      "execution_count": 114,
      "outputs": [
        {
          "output_type": "stream",
          "text": [
            "0.000000       80\n",
            "1100.941072     1\n",
            "40.074484       1\n",
            "2093.844656     1\n",
            "179.765708      1\n",
            "               ..\n",
            "1139.691004     1\n",
            "3494.152843     1\n",
            "2388.503738     1\n",
            "2153.498372     1\n",
            "510.233775      1\n",
            "Name: BALANCE, Length: 8871, dtype: int64\n",
            "1.000000    6211\n",
            "0.909091     410\n",
            "0.818182     278\n",
            "0.727273     223\n",
            "0.545455     219\n",
            "0.636364     209\n",
            "0.454545     172\n",
            "0.363636     170\n",
            "0.272727     151\n",
            "0.181818     146\n",
            "0.000000      80\n",
            "0.090909      67\n",
            "0.833333      60\n",
            "0.875000      57\n",
            "0.900000      55\n",
            "0.888889      53\n",
            "0.857143      51\n",
            "0.500000      40\n",
            "0.666667      37\n",
            "0.333333      22\n",
            "0.777778      22\n",
            "0.800000      20\n",
            "0.571429      19\n",
            "0.750000      17\n",
            "0.714286      15\n",
            "0.700000      13\n",
            "0.625000      11\n",
            "0.400000      10\n",
            "0.555556      10\n",
            "0.300000       9\n",
            "0.200000       9\n",
            "0.375000       9\n",
            "0.125000       9\n",
            "0.285714       8\n",
            "0.100000       8\n",
            "0.250000       8\n",
            "0.444444       7\n",
            "0.166667       7\n",
            "0.142857       7\n",
            "0.600000       6\n",
            "0.111111       5\n",
            "0.222222       5\n",
            "0.428571       5\n",
            "Name: BALANCE_FREQUENCY, dtype: int64\n",
            "0.00       2044\n",
            "45.65        27\n",
            "150.00       16\n",
            "60.00        16\n",
            "100.00       13\n",
            "           ... \n",
            "963.35        1\n",
            "1260.13       1\n",
            "203.60        1\n",
            "35.97         1\n",
            "169.66        1\n",
            "Name: PURCHASES, Length: 6203, dtype: int64\n",
            "0.00       4302\n",
            "45.65        46\n",
            "50.00        17\n",
            "200.00       15\n",
            "60.00        13\n",
            "           ... \n",
            "2814.23       1\n",
            "2281.56       1\n",
            "458.00        1\n",
            "155.00        1\n",
            "153.11        1\n",
            "Name: ONEOFF_PURCHASES, Length: 4014, dtype: int64\n",
            "0.00       3916\n",
            "100.00       14\n",
            "300.00       14\n",
            "200.00       14\n",
            "150.00       12\n",
            "           ... \n",
            "1184.98       1\n",
            "1673.59       1\n",
            "1632.96       1\n",
            "749.79        1\n",
            "482.68        1\n",
            "Name: INSTALLMENTS_PURCHASES, Length: 4452, dtype: int64\n",
            "0.000000       4628\n",
            "1286.356207       1\n",
            "3816.470266       1\n",
            "2495.298926       1\n",
            "748.241727        1\n",
            "               ... \n",
            "1282.314634       1\n",
            "1384.954139       1\n",
            "576.920984        1\n",
            "1502.014320       1\n",
            "1873.271885       1\n",
            "Name: CASH_ADVANCE, Length: 4323, dtype: int64\n",
            "1.000000    2178\n",
            "0.000000    2043\n",
            "0.083333     677\n",
            "0.916667     396\n",
            "0.500000     395\n",
            "0.166667     392\n",
            "0.833333     373\n",
            "0.333333     367\n",
            "0.250000     345\n",
            "0.583333     316\n",
            "0.666667     310\n",
            "0.750000     299\n",
            "0.416667     289\n",
            "0.090909      43\n",
            "0.125000      32\n",
            "0.909091      28\n",
            "0.100000      27\n",
            "0.142857      26\n",
            "0.875000      26\n",
            "0.857143      25\n",
            "0.900000      24\n",
            "0.818182      21\n",
            "0.545455      20\n",
            "0.454545      19\n",
            "0.272727      19\n",
            "0.200000      19\n",
            "0.111111      18\n",
            "0.888889      18\n",
            "0.636364      17\n",
            "0.181818      16\n",
            "0.571429      16\n",
            "0.727273      15\n",
            "0.714286      13\n",
            "0.300000      13\n",
            "0.222222      12\n",
            "0.700000      11\n",
            "0.600000      11\n",
            "0.375000      10\n",
            "0.363636      10\n",
            "0.428571       9\n",
            "0.800000       9\n",
            "0.400000       9\n",
            "0.625000       8\n",
            "0.285714       8\n",
            "0.555556       7\n",
            "0.777778       6\n",
            "0.444444       5\n",
            "Name: PURCHASES_FREQUENCY, dtype: int64\n",
            "0.000000    4302\n",
            "0.083333    1104\n",
            "0.166667     592\n",
            "1.000000     481\n",
            "0.250000     418\n",
            "0.333333     355\n",
            "0.416667     244\n",
            "0.500000     235\n",
            "0.583333     197\n",
            "0.666667     167\n",
            "0.916667     151\n",
            "0.750000     142\n",
            "0.833333     120\n",
            "0.090909      56\n",
            "0.125000      41\n",
            "0.100000      39\n",
            "0.142857      37\n",
            "0.181818      34\n",
            "0.200000      27\n",
            "0.111111      26\n",
            "0.454545      13\n",
            "0.363636      13\n",
            "0.222222      12\n",
            "0.272727      12\n",
            "0.571429      11\n",
            "0.375000      11\n",
            "0.300000      10\n",
            "0.818182      10\n",
            "0.285714       9\n",
            "0.428571       8\n",
            "0.545455       8\n",
            "0.600000       7\n",
            "0.636364       7\n",
            "0.714286       7\n",
            "0.727273       6\n",
            "0.875000       6\n",
            "0.400000       5\n",
            "0.909091       4\n",
            "0.444444       4\n",
            "0.800000       4\n",
            "0.700000       4\n",
            "0.625000       3\n",
            "0.888889       2\n",
            "0.777778       2\n",
            "0.555556       2\n",
            "0.900000       1\n",
            "0.857143       1\n",
            "Name: ONEOFF_PURCHASES_FREQUENCY, dtype: int64\n",
            "0.000000    3915\n",
            "1.000000    1331\n",
            "0.416667     388\n",
            "0.916667     345\n",
            "0.833333     311\n",
            "0.500000     310\n",
            "0.166667     305\n",
            "0.666667     292\n",
            "0.750000     291\n",
            "0.083333     275\n",
            "0.250000     255\n",
            "0.333333     255\n",
            "0.583333     225\n",
            "0.857143      30\n",
            "0.888889      28\n",
            "0.875000      28\n",
            "0.909091      25\n",
            "0.714286      22\n",
            "0.818182      21\n",
            "0.454545      19\n",
            "0.900000      19\n",
            "0.800000      18\n",
            "0.636364      16\n",
            "0.181818      14\n",
            "0.777778      13\n",
            "0.272727      13\n",
            "0.545455      13\n",
            "0.090909      12\n",
            "0.600000      12\n",
            "0.363636      11\n",
            "0.700000      11\n",
            "0.300000      10\n",
            "0.625000      10\n",
            "0.571429      10\n",
            "0.555556      10\n",
            "0.200000       9\n",
            "0.111111       9\n",
            "0.727273       9\n",
            "0.285714       9\n",
            "0.400000       8\n",
            "0.444444       8\n",
            "0.428571       7\n",
            "0.142857       6\n",
            "0.375000       6\n",
            "0.100000       6\n",
            "0.222222       5\n",
            "0.125000       5\n",
            "Name: PURCHASES_INSTALLMENTS_FREQUENCY, dtype: int64\n",
            "0.000000    4628\n",
            "0.083333    1021\n",
            "0.166667     759\n",
            "0.250000     578\n",
            "0.333333     439\n",
            "0.416667     273\n",
            "0.500000     215\n",
            "0.583333     142\n",
            "0.666667     125\n",
            "0.090909      70\n",
            "0.750000      63\n",
            "0.142857      49\n",
            "0.833333      48\n",
            "0.125000      47\n",
            "0.181818      42\n",
            "0.100000      39\n",
            "0.272727      38\n",
            "0.285714      30\n",
            "0.111111      29\n",
            "0.916667      27\n",
            "1.000000      25\n",
            "0.300000      23\n",
            "0.428571      21\n",
            "0.200000      21\n",
            "0.363636      20\n",
            "0.222222      18\n",
            "0.400000      15\n",
            "0.444444      15\n",
            "0.454545      14\n",
            "0.571429      12\n",
            "0.555556      12\n",
            "0.375000      11\n",
            "0.545455      10\n",
            "0.600000       9\n",
            "0.636364       8\n",
            "0.727273       8\n",
            "0.800000       6\n",
            "0.625000       5\n",
            "0.875000       5\n",
            "0.857143       5\n",
            "0.714286       4\n",
            "0.777778       3\n",
            "0.909091       3\n",
            "0.888889       2\n",
            "0.900000       2\n",
            "0.818182       2\n",
            "1.166667       2\n",
            "1.500000       1\n",
            "1.250000       1\n",
            "1.142857       1\n",
            "1.090909       1\n",
            "1.100000       1\n",
            "0.700000       1\n",
            "1.125000       1\n",
            "Name: CASH_ADVANCE_FREQUENCY, dtype: int64\n",
            "0      4628\n",
            "1       887\n",
            "2       620\n",
            "3       436\n",
            "4       384\n",
            "       ... \n",
            "69        1\n",
            "93        1\n",
            "46        1\n",
            "110       1\n",
            "71        1\n",
            "Name: CASH_ADVANCE_TRX, Length: 65, dtype: int64\n",
            "0      2044\n",
            "1       667\n",
            "12      570\n",
            "2       379\n",
            "6       352\n",
            "       ... \n",
            "274       1\n",
            "186       1\n",
            "273       1\n",
            "217       1\n",
            "147       1\n",
            "Name: PURCHASES_TRX, Length: 173, dtype: int64\n",
            "3000.0    784\n",
            "1500.0    722\n",
            "1200.0    621\n",
            "1000.0    614\n",
            "2500.0    612\n",
            "         ... \n",
            "50.0        1\n",
            "9700.0      1\n",
            "6850.0      1\n",
            "5450.0      1\n",
            "3650.0      1\n",
            "Name: CREDIT_LIMIT, Length: 205, dtype: int64\n",
            "0.000000       240\n",
            "806.587482       1\n",
            "836.812414       1\n",
            "139.607827       1\n",
            "107.242408       1\n",
            "              ... \n",
            "3556.432004      1\n",
            "2093.551911      1\n",
            "3396.558042      1\n",
            "227.392057       1\n",
            "1656.726415      1\n",
            "Name: PAYMENTS, Length: 8711, dtype: int64\n",
            "299.351881     2\n",
            "3.197940       1\n",
            "111.691332     1\n",
            "129.682608     1\n",
            "872.760983     1\n",
            "              ..\n",
            "1227.773229    1\n",
            "127.210691     1\n",
            "6422.472544    1\n",
            "471.940554     1\n",
            "189.459157     1\n",
            "Name: MINIMUM_PAYMENTS, Length: 8636, dtype: int64\n",
            "0.000000    5903\n",
            "1.000000     488\n",
            "0.083333     426\n",
            "0.166667     166\n",
            "0.250000     156\n",
            "0.500000     156\n",
            "0.090909     153\n",
            "0.333333     134\n",
            "0.100000      94\n",
            "0.200000      83\n",
            "0.666667      78\n",
            "0.916667      77\n",
            "0.181818      75\n",
            "0.750000      68\n",
            "0.833333      63\n",
            "0.111111      61\n",
            "0.142857      54\n",
            "0.125000      52\n",
            "0.416667      44\n",
            "0.400000      42\n",
            "0.300000      40\n",
            "0.454545      36\n",
            "0.272727      35\n",
            "0.800000      33\n",
            "0.363636      32\n",
            "0.583333      31\n",
            "0.600000      28\n",
            "0.545455      27\n",
            "0.636364      26\n",
            "0.285714      24\n",
            "0.727273      22\n",
            "0.222222      20\n",
            "0.714286      19\n",
            "0.777778      19\n",
            "0.909091      19\n",
            "0.875000      18\n",
            "0.818182      17\n",
            "0.444444      17\n",
            "0.900000      16\n",
            "0.571429      14\n",
            "0.428571      14\n",
            "0.375000      13\n",
            "0.857143      12\n",
            "0.888889      12\n",
            "0.700000      12\n",
            "0.555556      12\n",
            "0.625000       9\n",
            "Name: PRC_FULL_PAYMENT, dtype: int64\n",
            "12    7584\n",
            "11     365\n",
            "10     236\n",
            "6      204\n",
            "8      196\n",
            "7      190\n",
            "9      175\n",
            "Name: TENURE, dtype: int64\n"
          ],
          "name": "stdout"
        }
      ]
    },
    {
      "cell_type": "code",
      "metadata": {
        "id": "2j6SWp9loQ6Y"
      },
      "source": [
        "df = df[df['MINIMUM_PAYMENTS'].isna()==False]"
      ],
      "execution_count": 115,
      "outputs": []
    },
    {
      "cell_type": "code",
      "metadata": {
        "id": "xyRi0zkQnMao"
      },
      "source": [
        "df = df[df['CREDIT_LIMIT'].isna()==False]"
      ],
      "execution_count": 117,
      "outputs": []
    },
    {
      "cell_type": "code",
      "metadata": {
        "colab": {
          "base_uri": "https://localhost:8080/"
        },
        "id": "Ug6Duf0tqb9n",
        "outputId": "c9694829-7a33-48cc-be7b-c657781ebf86"
      },
      "source": [
        "df.isna().sum()/df.shape[0]"
      ],
      "execution_count": 118,
      "outputs": [
        {
          "output_type": "execute_result",
          "data": {
            "text/plain": [
              "BALANCE                             0.0\n",
              "BALANCE_FREQUENCY                   0.0\n",
              "PURCHASES                           0.0\n",
              "ONEOFF_PURCHASES                    0.0\n",
              "INSTALLMENTS_PURCHASES              0.0\n",
              "CASH_ADVANCE                        0.0\n",
              "PURCHASES_FREQUENCY                 0.0\n",
              "ONEOFF_PURCHASES_FREQUENCY          0.0\n",
              "PURCHASES_INSTALLMENTS_FREQUENCY    0.0\n",
              "CASH_ADVANCE_FREQUENCY              0.0\n",
              "CASH_ADVANCE_TRX                    0.0\n",
              "PURCHASES_TRX                       0.0\n",
              "CREDIT_LIMIT                        0.0\n",
              "PAYMENTS                            0.0\n",
              "MINIMUM_PAYMENTS                    0.0\n",
              "PRC_FULL_PAYMENT                    0.0\n",
              "TENURE                              0.0\n",
              "dtype: float64"
            ]
          },
          "metadata": {
            "tags": []
          },
          "execution_count": 118
        }
      ]
    },
    {
      "cell_type": "code",
      "metadata": {
        "colab": {
          "base_uri": "https://localhost:8080/"
        },
        "id": "NVHBdKK3raXy",
        "outputId": "f461a506-f732-452d-fb32-dcc90e9ad872"
      },
      "source": [
        "for i in df.columns:\n",
        "  mean = np.mean(df[i])\n",
        "  std = np.std(df[i])\n",
        "  print(color.YELLOW,f'mean of the {i} is', mean,color.END)\n",
        "  print(\"-+_+_+_+_+_+__+_+_+_+_+__+_+_+_-\")\n",
        "  print(\"-+_+_+_+_+_+__+_+_+_+_+__+_+_+_-\")\n"
      ],
      "execution_count": 119,
      "outputs": [
        {
          "output_type": "stream",
          "text": [
            "\u001b[93m mean of the BALANCE is 1601.2248927435173 \u001b[0m\n",
            "-+_+_+_+_+_+__+_+_+_+_+__+_+_+_-\n",
            "-+_+_+_+_+_+__+_+_+_+_+__+_+_+_-\n",
            "\u001b[93m mean of the BALANCE_FREQUENCY is 0.8950351113941721 \u001b[0m\n",
            "-+_+_+_+_+_+__+_+_+_+_+__+_+_+_-\n",
            "-+_+_+_+_+_+__+_+_+_+_+__+_+_+_-\n",
            "\u001b[93m mean of the PURCHASES is 1025.433874478929 \u001b[0m\n",
            "-+_+_+_+_+_+__+_+_+_+_+__+_+_+_-\n",
            "-+_+_+_+_+_+__+_+_+_+_+__+_+_+_-\n",
            "\u001b[93m mean of the ONEOFF_PURCHASES is 604.9014381658184 \u001b[0m\n",
            "-+_+_+_+_+_+__+_+_+_+_+__+_+_+_-\n",
            "-+_+_+_+_+_+__+_+_+_+_+__+_+_+_-\n",
            "\u001b[93m mean of the INSTALLMENTS_PURCHASES is 420.84353288559464 \u001b[0m\n",
            "-+_+_+_+_+_+__+_+_+_+_+__+_+_+_-\n",
            "-+_+_+_+_+_+__+_+_+_+_+__+_+_+_-\n",
            "\u001b[93m mean of the CASH_ADVANCE is 994.175523037169 \u001b[0m\n",
            "-+_+_+_+_+_+__+_+_+_+_+__+_+_+_-\n",
            "-+_+_+_+_+_+__+_+_+_+_+__+_+_+_-\n",
            "\u001b[93m mean of the PURCHASES_FREQUENCY is 0.4960000002315894 \u001b[0m\n",
            "-+_+_+_+_+_+__+_+_+_+_+__+_+_+_-\n",
            "-+_+_+_+_+_+__+_+_+_+_+__+_+_+_-\n",
            "\u001b[93m mean of the ONEOFF_PURCHASES_FREQUENCY is 0.20590874085224864 \u001b[0m\n",
            "-+_+_+_+_+_+__+_+_+_+_+__+_+_+_-\n",
            "-+_+_+_+_+_+__+_+_+_+_+__+_+_+_-\n",
            "\u001b[93m mean of the PURCHASES_INSTALLMENTS_FREQUENCY is 0.3688203456461317 \u001b[0m\n",
            "-+_+_+_+_+_+__+_+_+_+_+__+_+_+_-\n",
            "-+_+_+_+_+_+__+_+_+_+_+__+_+_+_-\n",
            "\u001b[93m mean of the CASH_ADVANCE_FREQUENCY is 0.13760420426123363 \u001b[0m\n",
            "-+_+_+_+_+_+__+_+_+_+_+__+_+_+_-\n",
            "-+_+_+_+_+_+__+_+_+_+_+__+_+_+_-\n",
            "\u001b[93m mean of the CASH_ADVANCE_TRX is 3.313918480778138 \u001b[0m\n",
            "-+_+_+_+_+_+__+_+_+_+_+__+_+_+_-\n",
            "-+_+_+_+_+_+__+_+_+_+_+__+_+_+_-\n",
            "\u001b[93m mean of the PURCHASES_TRX is 15.033232978230663 \u001b[0m\n",
            "-+_+_+_+_+_+__+_+_+_+_+__+_+_+_-\n",
            "-+_+_+_+_+_+__+_+_+_+_+__+_+_+_-\n",
            "\u001b[93m mean of the CREDIT_LIMIT is 4522.091029563802 \u001b[0m\n",
            "-+_+_+_+_+_+__+_+_+_+_+__+_+_+_-\n",
            "-+_+_+_+_+_+__+_+_+_+_+__+_+_+_-\n",
            "\u001b[93m mean of the PAYMENTS is 1784.4780992232515 \u001b[0m\n",
            "-+_+_+_+_+_+__+_+_+_+_+__+_+_+_-\n",
            "-+_+_+_+_+_+__+_+_+_+_+__+_+_+_-\n",
            "\u001b[93m mean of the MINIMUM_PAYMENTS is 864.3049429326062 \u001b[0m\n",
            "-+_+_+_+_+_+__+_+_+_+_+__+_+_+_-\n",
            "-+_+_+_+_+_+__+_+_+_+_+__+_+_+_-\n",
            "\u001b[93m mean of the PRC_FULL_PAYMENT is 0.1593036248263096 \u001b[0m\n",
            "-+_+_+_+_+_+__+_+_+_+_+__+_+_+_-\n",
            "-+_+_+_+_+_+__+_+_+_+_+__+_+_+_-\n",
            "\u001b[93m mean of the TENURE is 11.53439092172302 \u001b[0m\n",
            "-+_+_+_+_+_+__+_+_+_+_+__+_+_+_-\n",
            "-+_+_+_+_+_+__+_+_+_+_+__+_+_+_-\n"
          ],
          "name": "stdout"
        }
      ]
    },
    {
      "cell_type": "code",
      "metadata": {
        "id": "gA6xt06wr4-w"
      },
      "source": [
        "from scipy.stats import zscore\n",
        "zs = zscore(df)"
      ],
      "execution_count": 120,
      "outputs": []
    },
    {
      "cell_type": "code",
      "metadata": {
        "id": "L0KPr4XMtoRn"
      },
      "source": [
        "abszs = np.abs(zs)"
      ],
      "execution_count": 121,
      "outputs": []
    },
    {
      "cell_type": "code",
      "metadata": {
        "id": "FAnEYourv8BZ"
      },
      "source": [
        "fltr = (abszs < 3).all(axis=1)"
      ],
      "execution_count": 122,
      "outputs": []
    },
    {
      "cell_type": "code",
      "metadata": {
        "id": "MCbNL0alxlYP"
      },
      "source": [
        "df = df[fltr]"
      ],
      "execution_count": 123,
      "outputs": []
    },
    {
      "cell_type": "code",
      "metadata": {
        "colab": {
          "base_uri": "https://localhost:8080/",
          "height": 1000
        },
        "id": "57CK7KT4xypv",
        "outputId": "960219cb-5793-42ab-f045-af4ba85a1bd4"
      },
      "source": [
        "plt.figure(figsize=(15,15))\n",
        "sns.heatmap(df.corr(),annot=True)"
      ],
      "execution_count": 124,
      "outputs": [
        {
          "output_type": "execute_result",
          "data": {
            "text/plain": [
              "<matplotlib.axes._subplots.AxesSubplot at 0x7f209cc47ed0>"
            ]
          },
          "metadata": {
            "tags": []
          },
          "execution_count": 124
        },
        {
          "output_type": "display_data",
          "data": {
            "image/png": "[encoded data removed]",
            "text/plain": [
              "<Figure size 1080x1080 with 2 Axes>"
            ]
          },
          "metadata": {
            "tags": []
          }
        }
      ]
    },
    {
      "cell_type": "code",
      "metadata": {
        "id": "SrSs0ejLyDDA"
      },
      "source": [
        "corr_matrix = df.corr().abs()"
      ],
      "execution_count": 125,
      "outputs": []
    },
    {
      "cell_type": "code",
      "metadata": {
        "colab": {
          "base_uri": "https://localhost:8080/",
          "height": 574
        },
        "id": "MzMSp69Sy_N9",
        "outputId": "22868688-2a9c-4d1b-cf29-49aa7daad1ec"
      },
      "source": [
        "corr_matrix"
      ],
      "execution_count": 126,
      "outputs": [
        {
          "output_type": "execute_result",
          "data": {
            "text/html": [
              "<div>\n",
              "<style scoped>\n",
              "    .dataframe tbody tr th:only-of-type {\n",
              "        vertical-align: middle;\n",
              "    }\n",
              "\n",
              "    .dataframe tbody tr th {\n",
              "        vertical-align: top;\n",
              "    }\n",
              "\n",
              "    .dataframe thead th {\n",
              "        text-align: right;\n",
              "    }\n",
              "</style>\n",
              "<table border=\"1\" class=\"dataframe\">\n",
              "  <thead>\n",
              "    <tr style=\"text-align: right;\">\n",
              "      <th></th>\n",
              "      <th>BALANCE</th>\n",
              "      <th>BALANCE_FREQUENCY</th>\n",
              "      <th>PURCHASES</th>\n",
              "      <th>ONEOFF_PURCHASES</th>\n",
              "      <th>INSTALLMENTS_PURCHASES</th>\n",
              "      <th>CASH_ADVANCE</th>\n",
              "      <th>PURCHASES_FREQUENCY</th>\n",
              "      <th>ONEOFF_PURCHASES_FREQUENCY</th>\n",
              "      <th>PURCHASES_INSTALLMENTS_FREQUENCY</th>\n",
              "      <th>CASH_ADVANCE_FREQUENCY</th>\n",
              "      <th>CASH_ADVANCE_TRX</th>\n",
              "      <th>PURCHASES_TRX</th>\n",
              "      <th>CREDIT_LIMIT</th>\n",
              "      <th>PAYMENTS</th>\n",
              "      <th>MINIMUM_PAYMENTS</th>\n",
              "      <th>PRC_FULL_PAYMENT</th>\n",
              "      <th>TENURE</th>\n",
              "    </tr>\n",
              "  </thead>\n",
              "  <tbody>\n",
              "    <tr>\n",
              "      <th>BALANCE</th>\n",
              "      <td>1.000000</td>\n",
              "      <td>0.334216</td>\n",
              "      <td>0.033371</td>\n",
              "      <td>0.072304</td>\n",
              "      <td>0.045642</td>\n",
              "      <td>0.512061</td>\n",
              "      <td>0.161497</td>\n",
              "      <td>0.023331</td>\n",
              "      <td>0.151958</td>\n",
              "      <td>0.463626</td>\n",
              "      <td>0.433939</td>\n",
              "      <td>0.000389</td>\n",
              "      <td>0.407711</td>\n",
              "      <td>0.247089</td>\n",
              "      <td>0.613613</td>\n",
              "      <td>0.387944</td>\n",
              "      <td>0.055122</td>\n",
              "    </tr>\n",
              "    <tr>\n",
              "      <th>BALANCE_FREQUENCY</th>\n",
              "      <td>0.334216</td>\n",
              "      <td>1.000000</td>\n",
              "      <td>0.132958</td>\n",
              "      <td>0.100776</td>\n",
              "      <td>0.111164</td>\n",
              "      <td>0.072045</td>\n",
              "      <td>0.198702</td>\n",
              "      <td>0.165993</td>\n",
              "      <td>0.156068</td>\n",
              "      <td>0.169555</td>\n",
              "      <td>0.132601</td>\n",
              "      <td>0.191370</td>\n",
              "      <td>0.057086</td>\n",
              "      <td>0.047237</td>\n",
              "      <td>0.238515</td>\n",
              "      <td>0.184645</td>\n",
              "      <td>0.106803</td>\n",
              "    </tr>\n",
              "    <tr>\n",
              "      <th>PURCHASES</th>\n",
              "      <td>0.033371</td>\n",
              "      <td>0.132958</td>\n",
              "      <td>1.000000</td>\n",
              "      <td>0.875141</td>\n",
              "      <td>0.655524</td>\n",
              "      <td>0.147285</td>\n",
              "      <td>0.553937</td>\n",
              "      <td>0.610294</td>\n",
              "      <td>0.411823</td>\n",
              "      <td>0.206285</td>\n",
              "      <td>0.164938</td>\n",
              "      <td>0.744189</td>\n",
              "      <td>0.300154</td>\n",
              "      <td>0.441504</td>\n",
              "      <td>0.034681</td>\n",
              "      <td>0.200712</td>\n",
              "      <td>0.073940</td>\n",
              "    </tr>\n",
              "    <tr>\n",
              "      <th>ONEOFF_PURCHASES</th>\n",
              "      <td>0.072304</td>\n",
              "      <td>0.100776</td>\n",
              "      <td>0.875141</td>\n",
              "      <td>1.000000</td>\n",
              "      <td>0.208354</td>\n",
              "      <td>0.092000</td>\n",
              "      <td>0.338495</td>\n",
              "      <td>0.695233</td>\n",
              "      <td>0.096322</td>\n",
              "      <td>0.128257</td>\n",
              "      <td>0.101767</td>\n",
              "      <td>0.555588</td>\n",
              "      <td>0.286540</td>\n",
              "      <td>0.404047</td>\n",
              "      <td>0.010063</td>\n",
              "      <td>0.106048</td>\n",
              "      <td>0.047650</td>\n",
              "    </tr>\n",
              "    <tr>\n",
              "      <th>INSTALLMENTS_PURCHASES</th>\n",
              "      <td>0.045642</td>\n",
              "      <td>0.111164</td>\n",
              "      <td>0.655524</td>\n",
              "      <td>0.208354</td>\n",
              "      <td>1.000000</td>\n",
              "      <td>0.154393</td>\n",
              "      <td>0.591609</td>\n",
              "      <td>0.148549</td>\n",
              "      <td>0.682321</td>\n",
              "      <td>0.216948</td>\n",
              "      <td>0.174739</td>\n",
              "      <td>0.637402</td>\n",
              "      <td>0.159428</td>\n",
              "      <td>0.261652</td>\n",
              "      <td>0.054256</td>\n",
              "      <td>0.239981</td>\n",
              "      <td>0.074956</td>\n",
              "    </tr>\n",
              "    <tr>\n",
              "      <th>CASH_ADVANCE</th>\n",
              "      <td>0.512061</td>\n",
              "      <td>0.072045</td>\n",
              "      <td>0.147285</td>\n",
              "      <td>0.092000</td>\n",
              "      <td>0.154393</td>\n",
              "      <td>1.000000</td>\n",
              "      <td>0.292364</td>\n",
              "      <td>0.125296</td>\n",
              "      <td>0.243169</td>\n",
              "      <td>0.676439</td>\n",
              "      <td>0.698589</td>\n",
              "      <td>0.176680</td>\n",
              "      <td>0.221958</td>\n",
              "      <td>0.358112</td>\n",
              "      <td>0.271131</td>\n",
              "      <td>0.208977</td>\n",
              "      <td>0.092630</td>\n",
              "    </tr>\n",
              "    <tr>\n",
              "      <th>PURCHASES_FREQUENCY</th>\n",
              "      <td>0.161497</td>\n",
              "      <td>0.198702</td>\n",
              "      <td>0.553937</td>\n",
              "      <td>0.338495</td>\n",
              "      <td>0.591609</td>\n",
              "      <td>0.292364</td>\n",
              "      <td>1.000000</td>\n",
              "      <td>0.475180</td>\n",
              "      <td>0.855368</td>\n",
              "      <td>0.368035</td>\n",
              "      <td>0.301727</td>\n",
              "      <td>0.720701</td>\n",
              "      <td>0.118337</td>\n",
              "      <td>0.104868</td>\n",
              "      <td>0.045781</td>\n",
              "      <td>0.319554</td>\n",
              "      <td>0.052612</td>\n",
              "    </tr>\n",
              "    <tr>\n",
              "      <th>ONEOFF_PURCHASES_FREQUENCY</th>\n",
              "      <td>0.023331</td>\n",
              "      <td>0.165993</td>\n",
              "      <td>0.610294</td>\n",
              "      <td>0.695233</td>\n",
              "      <td>0.148549</td>\n",
              "      <td>0.125296</td>\n",
              "      <td>0.475180</td>\n",
              "      <td>1.000000</td>\n",
              "      <td>0.076673</td>\n",
              "      <td>0.145943</td>\n",
              "      <td>0.121850</td>\n",
              "      <td>0.582840</td>\n",
              "      <td>0.275906</td>\n",
              "      <td>0.251581</td>\n",
              "      <td>0.032090</td>\n",
              "      <td>0.134702</td>\n",
              "      <td>0.061041</td>\n",
              "    </tr>\n",
              "    <tr>\n",
              "      <th>PURCHASES_INSTALLMENTS_FREQUENCY</th>\n",
              "      <td>0.151958</td>\n",
              "      <td>0.156068</td>\n",
              "      <td>0.411823</td>\n",
              "      <td>0.096322</td>\n",
              "      <td>0.682321</td>\n",
              "      <td>0.243169</td>\n",
              "      <td>0.855368</td>\n",
              "      <td>0.076673</td>\n",
              "      <td>1.000000</td>\n",
              "      <td>0.306603</td>\n",
              "      <td>0.250991</td>\n",
              "      <td>0.638639</td>\n",
              "      <td>0.037313</td>\n",
              "      <td>0.061921</td>\n",
              "      <td>0.022053</td>\n",
              "      <td>0.264336</td>\n",
              "      <td>0.054095</td>\n",
              "    </tr>\n",
              "    <tr>\n",
              "      <th>CASH_ADVANCE_FREQUENCY</th>\n",
              "      <td>0.463626</td>\n",
              "      <td>0.169555</td>\n",
              "      <td>0.206285</td>\n",
              "      <td>0.128257</td>\n",
              "      <td>0.216948</td>\n",
              "      <td>0.676439</td>\n",
              "      <td>0.368035</td>\n",
              "      <td>0.145943</td>\n",
              "      <td>0.306603</td>\n",
              "      <td>1.000000</td>\n",
              "      <td>0.882009</td>\n",
              "      <td>0.214892</td>\n",
              "      <td>0.058015</td>\n",
              "      <td>0.175733</td>\n",
              "      <td>0.248016</td>\n",
              "      <td>0.280879</td>\n",
              "      <td>0.082955</td>\n",
              "    </tr>\n",
              "    <tr>\n",
              "      <th>CASH_ADVANCE_TRX</th>\n",
              "      <td>0.433939</td>\n",
              "      <td>0.132601</td>\n",
              "      <td>0.164938</td>\n",
              "      <td>0.101767</td>\n",
              "      <td>0.174739</td>\n",
              "      <td>0.698589</td>\n",
              "      <td>0.301727</td>\n",
              "      <td>0.121850</td>\n",
              "      <td>0.250991</td>\n",
              "      <td>0.882009</td>\n",
              "      <td>1.000000</td>\n",
              "      <td>0.170138</td>\n",
              "      <td>0.075338</td>\n",
              "      <td>0.205250</td>\n",
              "      <td>0.266281</td>\n",
              "      <td>0.234856</td>\n",
              "      <td>0.049802</td>\n",
              "    </tr>\n",
              "    <tr>\n",
              "      <th>PURCHASES_TRX</th>\n",
              "      <td>0.000389</td>\n",
              "      <td>0.191370</td>\n",
              "      <td>0.744189</td>\n",
              "      <td>0.555588</td>\n",
              "      <td>0.637402</td>\n",
              "      <td>0.176680</td>\n",
              "      <td>0.720701</td>\n",
              "      <td>0.582840</td>\n",
              "      <td>0.638639</td>\n",
              "      <td>0.214892</td>\n",
              "      <td>0.170138</td>\n",
              "      <td>1.000000</td>\n",
              "      <td>0.213779</td>\n",
              "      <td>0.286853</td>\n",
              "      <td>0.034969</td>\n",
              "      <td>0.197238</td>\n",
              "      <td>0.103609</td>\n",
              "    </tr>\n",
              "    <tr>\n",
              "      <th>CREDIT_LIMIT</th>\n",
              "      <td>0.407711</td>\n",
              "      <td>0.057086</td>\n",
              "      <td>0.300154</td>\n",
              "      <td>0.286540</td>\n",
              "      <td>0.159428</td>\n",
              "      <td>0.221958</td>\n",
              "      <td>0.118337</td>\n",
              "      <td>0.275906</td>\n",
              "      <td>0.037313</td>\n",
              "      <td>0.058015</td>\n",
              "      <td>0.075338</td>\n",
              "      <td>0.213779</td>\n",
              "      <td>1.000000</td>\n",
              "      <td>0.331034</td>\n",
              "      <td>0.129649</td>\n",
              "      <td>0.063205</td>\n",
              "      <td>0.110923</td>\n",
              "    </tr>\n",
              "    <tr>\n",
              "      <th>PAYMENTS</th>\n",
              "      <td>0.247089</td>\n",
              "      <td>0.047237</td>\n",
              "      <td>0.441504</td>\n",
              "      <td>0.404047</td>\n",
              "      <td>0.261652</td>\n",
              "      <td>0.358112</td>\n",
              "      <td>0.104868</td>\n",
              "      <td>0.251581</td>\n",
              "      <td>0.061921</td>\n",
              "      <td>0.175733</td>\n",
              "      <td>0.205250</td>\n",
              "      <td>0.286853</td>\n",
              "      <td>0.331034</td>\n",
              "      <td>1.000000</td>\n",
              "      <td>0.183848</td>\n",
              "      <td>0.071080</td>\n",
              "      <td>0.098634</td>\n",
              "    </tr>\n",
              "    <tr>\n",
              "      <th>MINIMUM_PAYMENTS</th>\n",
              "      <td>0.613613</td>\n",
              "      <td>0.238515</td>\n",
              "      <td>0.034681</td>\n",
              "      <td>0.010063</td>\n",
              "      <td>0.054256</td>\n",
              "      <td>0.271131</td>\n",
              "      <td>0.045781</td>\n",
              "      <td>0.032090</td>\n",
              "      <td>0.022053</td>\n",
              "      <td>0.248016</td>\n",
              "      <td>0.266281</td>\n",
              "      <td>0.034969</td>\n",
              "      <td>0.129649</td>\n",
              "      <td>0.183848</td>\n",
              "      <td>1.000000</td>\n",
              "      <td>0.259455</td>\n",
              "      <td>0.062751</td>\n",
              "    </tr>\n",
              "    <tr>\n",
              "      <th>PRC_FULL_PAYMENT</th>\n",
              "      <td>0.387944</td>\n",
              "      <td>0.184645</td>\n",
              "      <td>0.200712</td>\n",
              "      <td>0.106048</td>\n",
              "      <td>0.239981</td>\n",
              "      <td>0.208977</td>\n",
              "      <td>0.319554</td>\n",
              "      <td>0.134702</td>\n",
              "      <td>0.264336</td>\n",
              "      <td>0.280879</td>\n",
              "      <td>0.234856</td>\n",
              "      <td>0.197238</td>\n",
              "      <td>0.063205</td>\n",
              "      <td>0.071080</td>\n",
              "      <td>0.259455</td>\n",
              "      <td>1.000000</td>\n",
              "      <td>0.017769</td>\n",
              "    </tr>\n",
              "    <tr>\n",
              "      <th>TENURE</th>\n",
              "      <td>0.055122</td>\n",
              "      <td>0.106803</td>\n",
              "      <td>0.073940</td>\n",
              "      <td>0.047650</td>\n",
              "      <td>0.074956</td>\n",
              "      <td>0.092630</td>\n",
              "      <td>0.052612</td>\n",
              "      <td>0.061041</td>\n",
              "      <td>0.054095</td>\n",
              "      <td>0.082955</td>\n",
              "      <td>0.049802</td>\n",
              "      <td>0.103609</td>\n",
              "      <td>0.110923</td>\n",
              "      <td>0.098634</td>\n",
              "      <td>0.062751</td>\n",
              "      <td>0.017769</td>\n",
              "      <td>1.000000</td>\n",
              "    </tr>\n",
              "  </tbody>\n",
              "</table>\n",
              "</div>"
            ],
            "text/plain": [
              "                                   BALANCE  ...    TENURE\n",
              "BALANCE                           1.000000  ...  0.055122\n",
              "BALANCE_FREQUENCY                 0.334216  ...  0.106803\n",
              "PURCHASES                         0.033371  ...  0.073940\n",
              "ONEOFF_PURCHASES                  0.072304  ...  0.047650\n",
              "INSTALLMENTS_PURCHASES            0.045642  ...  0.074956\n",
              "CASH_ADVANCE                      0.512061  ...  0.092630\n",
              "PURCHASES_FREQUENCY               0.161497  ...  0.052612\n",
              "ONEOFF_PURCHASES_FREQUENCY        0.023331  ...  0.061041\n",
              "PURCHASES_INSTALLMENTS_FREQUENCY  0.151958  ...  0.054095\n",
              "CASH_ADVANCE_FREQUENCY            0.463626  ...  0.082955\n",
              "CASH_ADVANCE_TRX                  0.433939  ...  0.049802\n",
              "PURCHASES_TRX                     0.000389  ...  0.103609\n",
              "CREDIT_LIMIT                      0.407711  ...  0.110923\n",
              "PAYMENTS                          0.247089  ...  0.098634\n",
              "MINIMUM_PAYMENTS                  0.613613  ...  0.062751\n",
              "PRC_FULL_PAYMENT                  0.387944  ...  0.017769\n",
              "TENURE                            0.055122  ...  1.000000\n",
              "\n",
              "[17 rows x 17 columns]"
            ]
          },
          "metadata": {
            "tags": []
          },
          "execution_count": 126
        }
      ]
    },
    {
      "cell_type": "code",
      "metadata": {
        "id": "mmyKBX1Q7aKN"
      },
      "source": [
        "df1 = pd.concat([df.iloc[:,:-1],pd.get_dummies(df['TENURE'],drop_first=False)],axis = 1)"
      ],
      "execution_count": 127,
      "outputs": []
    },
    {
      "cell_type": "code",
      "metadata": {
        "colab": {
          "base_uri": "https://localhost:8080/"
        },
        "id": "rMu4JWRHzA91",
        "outputId": "a5d65425-69c9-43fd-c22b-7b6537fba25d"
      },
      "source": [
        "ls = []\n",
        "for i in corr_matrix.columns:\n",
        "  n = 0\n",
        "  for j in corr_matrix[i]:\n",
        "    if j>.75:\n",
        "      n += 1\n",
        "  if n!=0:\n",
        "    ls.append(i)\n",
        "if len(ls) == df.shape[1]:\n",
        "  print('Multicollinearity is present.')"
      ],
      "execution_count": 128,
      "outputs": [
        {
          "output_type": "stream",
          "text": [
            "Multicollinearity is present.\n"
          ],
          "name": "stdout"
        }
      ]
    },
    {
      "cell_type": "code",
      "metadata": {
        "colab": {
          "base_uri": "https://localhost:8080/",
          "height": 424
        },
        "id": "diEPk8kd-J_N",
        "outputId": "f9a6a7f9-e56a-40ea-de8c-da6ac9d34b7e"
      },
      "source": [
        "df1"
      ],
      "execution_count": 129,
      "outputs": [
        {
          "output_type": "execute_result",
          "data": {
            "text/html": [
              "<div>\n",
              "<style scoped>\n",
              "    .dataframe tbody tr th:only-of-type {\n",
              "        vertical-align: middle;\n",
              "    }\n",
              "\n",
              "    .dataframe tbody tr th {\n",
              "        vertical-align: top;\n",
              "    }\n",
              "\n",
              "    .dataframe thead th {\n",
              "        text-align: right;\n",
              "    }\n",
              "</style>\n",
              "<table border=\"1\" class=\"dataframe\">\n",
              "  <thead>\n",
              "    <tr style=\"text-align: right;\">\n",
              "      <th></th>\n",
              "      <th>BALANCE</th>\n",
              "      <th>BALANCE_FREQUENCY</th>\n",
              "      <th>PURCHASES</th>\n",
              "      <th>ONEOFF_PURCHASES</th>\n",
              "      <th>INSTALLMENTS_PURCHASES</th>\n",
              "      <th>CASH_ADVANCE</th>\n",
              "      <th>PURCHASES_FREQUENCY</th>\n",
              "      <th>ONEOFF_PURCHASES_FREQUENCY</th>\n",
              "      <th>PURCHASES_INSTALLMENTS_FREQUENCY</th>\n",
              "      <th>CASH_ADVANCE_FREQUENCY</th>\n",
              "      <th>CASH_ADVANCE_TRX</th>\n",
              "      <th>PURCHASES_TRX</th>\n",
              "      <th>CREDIT_LIMIT</th>\n",
              "      <th>PAYMENTS</th>\n",
              "      <th>MINIMUM_PAYMENTS</th>\n",
              "      <th>PRC_FULL_PAYMENT</th>\n",
              "      <th>8</th>\n",
              "      <th>9</th>\n",
              "      <th>10</th>\n",
              "      <th>11</th>\n",
              "      <th>12</th>\n",
              "    </tr>\n",
              "  </thead>\n",
              "  <tbody>\n",
              "    <tr>\n",
              "      <th>0</th>\n",
              "      <td>40.900749</td>\n",
              "      <td>0.818182</td>\n",
              "      <td>95.40</td>\n",
              "      <td>0.00</td>\n",
              "      <td>95.40</td>\n",
              "      <td>0.000000</td>\n",
              "      <td>0.166667</td>\n",
              "      <td>0.000000</td>\n",
              "      <td>0.083333</td>\n",
              "      <td>0.000</td>\n",
              "      <td>0</td>\n",
              "      <td>2</td>\n",
              "      <td>1000.0</td>\n",
              "      <td>201.802084</td>\n",
              "      <td>139.509787</td>\n",
              "      <td>0.000000</td>\n",
              "      <td>0</td>\n",
              "      <td>0</td>\n",
              "      <td>0</td>\n",
              "      <td>0</td>\n",
              "      <td>1</td>\n",
              "    </tr>\n",
              "    <tr>\n",
              "      <th>1</th>\n",
              "      <td>3202.467416</td>\n",
              "      <td>0.909091</td>\n",
              "      <td>0.00</td>\n",
              "      <td>0.00</td>\n",
              "      <td>0.00</td>\n",
              "      <td>6442.945483</td>\n",
              "      <td>0.000000</td>\n",
              "      <td>0.000000</td>\n",
              "      <td>0.000000</td>\n",
              "      <td>0.250</td>\n",
              "      <td>4</td>\n",
              "      <td>0</td>\n",
              "      <td>7000.0</td>\n",
              "      <td>4103.032597</td>\n",
              "      <td>1072.340217</td>\n",
              "      <td>0.222222</td>\n",
              "      <td>0</td>\n",
              "      <td>0</td>\n",
              "      <td>0</td>\n",
              "      <td>0</td>\n",
              "      <td>1</td>\n",
              "    </tr>\n",
              "    <tr>\n",
              "      <th>2</th>\n",
              "      <td>2495.148862</td>\n",
              "      <td>1.000000</td>\n",
              "      <td>773.17</td>\n",
              "      <td>773.17</td>\n",
              "      <td>0.00</td>\n",
              "      <td>0.000000</td>\n",
              "      <td>1.000000</td>\n",
              "      <td>1.000000</td>\n",
              "      <td>0.000000</td>\n",
              "      <td>0.000</td>\n",
              "      <td>0</td>\n",
              "      <td>12</td>\n",
              "      <td>7500.0</td>\n",
              "      <td>622.066742</td>\n",
              "      <td>627.284787</td>\n",
              "      <td>0.000000</td>\n",
              "      <td>0</td>\n",
              "      <td>0</td>\n",
              "      <td>0</td>\n",
              "      <td>0</td>\n",
              "      <td>1</td>\n",
              "    </tr>\n",
              "    <tr>\n",
              "      <th>4</th>\n",
              "      <td>817.714335</td>\n",
              "      <td>1.000000</td>\n",
              "      <td>16.00</td>\n",
              "      <td>16.00</td>\n",
              "      <td>0.00</td>\n",
              "      <td>0.000000</td>\n",
              "      <td>0.083333</td>\n",
              "      <td>0.083333</td>\n",
              "      <td>0.000000</td>\n",
              "      <td>0.000</td>\n",
              "      <td>0</td>\n",
              "      <td>1</td>\n",
              "      <td>1200.0</td>\n",
              "      <td>678.334763</td>\n",
              "      <td>244.791237</td>\n",
              "      <td>0.000000</td>\n",
              "      <td>0</td>\n",
              "      <td>0</td>\n",
              "      <td>0</td>\n",
              "      <td>0</td>\n",
              "      <td>1</td>\n",
              "    </tr>\n",
              "    <tr>\n",
              "      <th>5</th>\n",
              "      <td>1809.828751</td>\n",
              "      <td>1.000000</td>\n",
              "      <td>1333.28</td>\n",
              "      <td>0.00</td>\n",
              "      <td>1333.28</td>\n",
              "      <td>0.000000</td>\n",
              "      <td>0.666667</td>\n",
              "      <td>0.000000</td>\n",
              "      <td>0.583333</td>\n",
              "      <td>0.000</td>\n",
              "      <td>0</td>\n",
              "      <td>8</td>\n",
              "      <td>1800.0</td>\n",
              "      <td>1400.057770</td>\n",
              "      <td>2407.246035</td>\n",
              "      <td>0.000000</td>\n",
              "      <td>0</td>\n",
              "      <td>0</td>\n",
              "      <td>0</td>\n",
              "      <td>0</td>\n",
              "      <td>1</td>\n",
              "    </tr>\n",
              "    <tr>\n",
              "      <th>...</th>\n",
              "      <td>...</td>\n",
              "      <td>...</td>\n",
              "      <td>...</td>\n",
              "      <td>...</td>\n",
              "      <td>...</td>\n",
              "      <td>...</td>\n",
              "      <td>...</td>\n",
              "      <td>...</td>\n",
              "      <td>...</td>\n",
              "      <td>...</td>\n",
              "      <td>...</td>\n",
              "      <td>...</td>\n",
              "      <td>...</td>\n",
              "      <td>...</td>\n",
              "      <td>...</td>\n",
              "      <td>...</td>\n",
              "      <td>...</td>\n",
              "      <td>...</td>\n",
              "      <td>...</td>\n",
              "      <td>...</td>\n",
              "      <td>...</td>\n",
              "    </tr>\n",
              "    <tr>\n",
              "      <th>8876</th>\n",
              "      <td>121.294493</td>\n",
              "      <td>0.750000</td>\n",
              "      <td>385.26</td>\n",
              "      <td>385.26</td>\n",
              "      <td>0.00</td>\n",
              "      <td>169.554775</td>\n",
              "      <td>0.500000</td>\n",
              "      <td>0.500000</td>\n",
              "      <td>0.000000</td>\n",
              "      <td>0.125</td>\n",
              "      <td>3</td>\n",
              "      <td>7</td>\n",
              "      <td>500.0</td>\n",
              "      <td>98.225317</td>\n",
              "      <td>113.944625</td>\n",
              "      <td>0.000000</td>\n",
              "      <td>1</td>\n",
              "      <td>0</td>\n",
              "      <td>0</td>\n",
              "      <td>0</td>\n",
              "      <td>0</td>\n",
              "    </tr>\n",
              "    <tr>\n",
              "      <th>8877</th>\n",
              "      <td>55.147722</td>\n",
              "      <td>0.875000</td>\n",
              "      <td>163.31</td>\n",
              "      <td>0.00</td>\n",
              "      <td>163.31</td>\n",
              "      <td>0.000000</td>\n",
              "      <td>0.875000</td>\n",
              "      <td>0.000000</td>\n",
              "      <td>0.750000</td>\n",
              "      <td>0.000</td>\n",
              "      <td>0</td>\n",
              "      <td>7</td>\n",
              "      <td>1000.0</td>\n",
              "      <td>62.619008</td>\n",
              "      <td>109.580539</td>\n",
              "      <td>0.000000</td>\n",
              "      <td>1</td>\n",
              "      <td>0</td>\n",
              "      <td>0</td>\n",
              "      <td>0</td>\n",
              "      <td>0</td>\n",
              "    </tr>\n",
              "    <tr>\n",
              "      <th>8878</th>\n",
              "      <td>869.328293</td>\n",
              "      <td>0.750000</td>\n",
              "      <td>0.00</td>\n",
              "      <td>0.00</td>\n",
              "      <td>0.00</td>\n",
              "      <td>1153.925205</td>\n",
              "      <td>0.000000</td>\n",
              "      <td>0.000000</td>\n",
              "      <td>0.000000</td>\n",
              "      <td>0.125</td>\n",
              "      <td>3</td>\n",
              "      <td>0</td>\n",
              "      <td>1200.0</td>\n",
              "      <td>150.755024</td>\n",
              "      <td>337.986933</td>\n",
              "      <td>0.000000</td>\n",
              "      <td>1</td>\n",
              "      <td>0</td>\n",
              "      <td>0</td>\n",
              "      <td>0</td>\n",
              "      <td>0</td>\n",
              "    </tr>\n",
              "    <tr>\n",
              "      <th>8879</th>\n",
              "      <td>137.744895</td>\n",
              "      <td>1.000000</td>\n",
              "      <td>441.00</td>\n",
              "      <td>0.00</td>\n",
              "      <td>441.00</td>\n",
              "      <td>0.000000</td>\n",
              "      <td>0.750000</td>\n",
              "      <td>0.000000</td>\n",
              "      <td>0.625000</td>\n",
              "      <td>0.000</td>\n",
              "      <td>0</td>\n",
              "      <td>6</td>\n",
              "      <td>1000.0</td>\n",
              "      <td>169.249683</td>\n",
              "      <td>124.639905</td>\n",
              "      <td>0.000000</td>\n",
              "      <td>1</td>\n",
              "      <td>0</td>\n",
              "      <td>0</td>\n",
              "      <td>0</td>\n",
              "      <td>0</td>\n",
              "    </tr>\n",
              "    <tr>\n",
              "      <th>8880</th>\n",
              "      <td>331.070135</td>\n",
              "      <td>0.750000</td>\n",
              "      <td>81.20</td>\n",
              "      <td>81.20</td>\n",
              "      <td>0.00</td>\n",
              "      <td>419.341394</td>\n",
              "      <td>0.125000</td>\n",
              "      <td>0.125000</td>\n",
              "      <td>0.000000</td>\n",
              "      <td>0.250</td>\n",
              "      <td>7</td>\n",
              "      <td>1</td>\n",
              "      <td>500.0</td>\n",
              "      <td>116.761487</td>\n",
              "      <td>205.065526</td>\n",
              "      <td>0.000000</td>\n",
              "      <td>1</td>\n",
              "      <td>0</td>\n",
              "      <td>0</td>\n",
              "      <td>0</td>\n",
              "      <td>0</td>\n",
              "    </tr>\n",
              "  </tbody>\n",
              "</table>\n",
              "<p>7190 rows × 21 columns</p>\n",
              "</div>"
            ],
            "text/plain": [
              "          BALANCE  BALANCE_FREQUENCY  PURCHASES  ...  10  11  12\n",
              "0       40.900749           0.818182      95.40  ...   0   0   1\n",
              "1     3202.467416           0.909091       0.00  ...   0   0   1\n",
              "2     2495.148862           1.000000     773.17  ...   0   0   1\n",
              "4      817.714335           1.000000      16.00  ...   0   0   1\n",
              "5     1809.828751           1.000000    1333.28  ...   0   0   1\n",
              "...           ...                ...        ...  ...  ..  ..  ..\n",
              "8876   121.294493           0.750000     385.26  ...   0   0   0\n",
              "8877    55.147722           0.875000     163.31  ...   0   0   0\n",
              "8878   869.328293           0.750000       0.00  ...   0   0   0\n",
              "8879   137.744895           1.000000     441.00  ...   0   0   0\n",
              "8880   331.070135           0.750000      81.20  ...   0   0   0\n",
              "\n",
              "[7190 rows x 21 columns]"
            ]
          },
          "metadata": {
            "tags": []
          },
          "execution_count": 129
        }
      ]
    },
    {
      "cell_type": "markdown",
      "metadata": {
        "id": "A9Um5UZ8IbgY"
      },
      "source": [
        "# Given the data possesses Multicollinearity and a hefty columnar size, Principle Component Analysis is performed."
      ]
    },
    {
      "cell_type": "code",
      "metadata": {
        "id": "pkdKYifv1Ktc"
      },
      "source": [
        "from sklearn.decomposition import PCA"
      ],
      "execution_count": 130,
      "outputs": []
    },
    {
      "cell_type": "code",
      "metadata": {
        "id": "R7_ifMnG17Gl"
      },
      "source": [
        "pcfnc = PCA()"
      ],
      "execution_count": 131,
      "outputs": []
    },
    {
      "cell_type": "code",
      "metadata": {
        "id": "UpNd39e32Aqb"
      },
      "source": [
        "dfpc = pcfnc.fit_transform(df)"
      ],
      "execution_count": 132,
      "outputs": []
    },
    {
      "cell_type": "code",
      "metadata": {
        "colab": {
          "base_uri": "https://localhost:8080/"
        },
        "id": "Q6fEKzyG9hQG",
        "outputId": "75dd2cd8-2ce0-48b1-94fd-dc816a217577"
      },
      "source": [
        "pcfnc.explained_variance_ratio_.cumsum()"
      ],
      "execution_count": 133,
      "outputs": [
        {
          "output_type": "execute_result",
          "data": {
            "text/plain": [
              "array([0.57253565, 0.73279235, 0.86135118, 0.93119715, 0.96584603,\n",
              "       0.98507381, 0.99999273, 0.99999819, 0.99999949, 0.99999995,\n",
              "       0.99999999, 0.99999999, 1.        , 1.        , 1.        ,\n",
              "       1.        , 1.        ])"
            ]
          },
          "metadata": {
            "tags": []
          },
          "execution_count": 133
        }
      ]
    },
    {
      "cell_type": "code",
      "metadata": {
        "id": "SnVopIhN2X9k"
      },
      "source": [
        "pcdf = pd.DataFrame(dfpc)[[0,1,2,3,4]]"
      ],
      "execution_count": 134,
      "outputs": []
    },
    {
      "cell_type": "code",
      "metadata": {
        "colab": {
          "base_uri": "https://localhost:8080/",
          "height": 404
        },
        "id": "7WRvrvYQ2Zk3",
        "outputId": "6ad95c64-bb1b-465f-8a23-30289e838b98"
      },
      "source": [
        "pcdf"
      ],
      "execution_count": 135,
      "outputs": [
        {
          "output_type": "execute_result",
          "data": {
            "text/html": [
              "<div>\n",
              "<style scoped>\n",
              "    .dataframe tbody tr th:only-of-type {\n",
              "        vertical-align: middle;\n",
              "    }\n",
              "\n",
              "    .dataframe tbody tr th {\n",
              "        vertical-align: top;\n",
              "    }\n",
              "\n",
              "    .dataframe thead th {\n",
              "        text-align: right;\n",
              "    }\n",
              "</style>\n",
              "<table border=\"1\" class=\"dataframe\">\n",
              "  <thead>\n",
              "    <tr style=\"text-align: right;\">\n",
              "      <th></th>\n",
              "      <th>0</th>\n",
              "      <th>1</th>\n",
              "      <th>2</th>\n",
              "      <th>3</th>\n",
              "      <th>4</th>\n",
              "    </tr>\n",
              "  </thead>\n",
              "  <tbody>\n",
              "    <tr>\n",
              "      <th>0</th>\n",
              "      <td>-3592.262871</td>\n",
              "      <td>-487.914727</td>\n",
              "      <td>-465.035057</td>\n",
              "      <td>181.141334</td>\n",
              "      <td>11.394715</td>\n",
              "    </tr>\n",
              "    <tr>\n",
              "      <th>1</th>\n",
              "      <td>4482.038210</td>\n",
              "      <td>4464.542616</td>\n",
              "      <td>420.536696</td>\n",
              "      <td>3454.994618</td>\n",
              "      <td>-1419.937586</td>\n",
              "    </tr>\n",
              "    <tr>\n",
              "      <th>2</th>\n",
              "      <td>3279.888330</td>\n",
              "      <td>-826.385703</td>\n",
              "      <td>-1409.981383</td>\n",
              "      <td>-948.000664</td>\n",
              "      <td>183.257249</td>\n",
              "    </tr>\n",
              "    <tr>\n",
              "      <th>3</th>\n",
              "      <td>-3107.822438</td>\n",
              "      <td>118.738569</td>\n",
              "      <td>-327.854062</td>\n",
              "      <td>-35.365536</td>\n",
              "      <td>370.108721</td>\n",
              "    </tr>\n",
              "    <tr>\n",
              "      <th>4</th>\n",
              "      <td>-1818.057990</td>\n",
              "      <td>1026.561521</td>\n",
              "      <td>755.207108</td>\n",
              "      <td>-1552.505276</td>\n",
              "      <td>853.056898</td>\n",
              "    </tr>\n",
              "    <tr>\n",
              "      <th>...</th>\n",
              "      <td>...</td>\n",
              "      <td>...</td>\n",
              "      <td>...</td>\n",
              "      <td>...</td>\n",
              "      <td>...</td>\n",
              "    </tr>\n",
              "    <tr>\n",
              "      <th>7185</th>\n",
              "      <td>-3964.459919</td>\n",
              "      <td>-303.223718</td>\n",
              "      <td>-176.413940</td>\n",
              "      <td>-68.764103</td>\n",
              "      <td>-415.028400</td>\n",
              "    </tr>\n",
              "    <tr>\n",
              "      <th>7186</th>\n",
              "      <td>-3609.648838</td>\n",
              "      <td>-535.086543</td>\n",
              "      <td>-524.386210</td>\n",
              "      <td>98.492702</td>\n",
              "      <td>-90.407720</td>\n",
              "    </tr>\n",
              "    <tr>\n",
              "      <th>7187</th>\n",
              "      <td>-3047.524005</td>\n",
              "      <td>694.103984</td>\n",
              "      <td>-745.726227</td>\n",
              "      <td>306.507526</td>\n",
              "      <td>-561.239822</td>\n",
              "    </tr>\n",
              "    <tr>\n",
              "      <th>7188</th>\n",
              "      <td>-3523.088120</td>\n",
              "      <td>-518.787011</td>\n",
              "      <td>-278.337194</td>\n",
              "      <td>-53.175101</td>\n",
              "      <td>-145.143665</td>\n",
              "    </tr>\n",
              "    <tr>\n",
              "      <th>7189</th>\n",
              "      <td>-3929.024143</td>\n",
              "      <td>84.982210</td>\n",
              "      <td>-454.729506</td>\n",
              "      <td>129.974306</td>\n",
              "      <td>-283.939600</td>\n",
              "    </tr>\n",
              "  </tbody>\n",
              "</table>\n",
              "<p>7190 rows × 5 columns</p>\n",
              "</div>"
            ],
            "text/plain": [
              "                0            1            2            3            4\n",
              "0    -3592.262871  -487.914727  -465.035057   181.141334    11.394715\n",
              "1     4482.038210  4464.542616   420.536696  3454.994618 -1419.937586\n",
              "2     3279.888330  -826.385703 -1409.981383  -948.000664   183.257249\n",
              "3    -3107.822438   118.738569  -327.854062   -35.365536   370.108721\n",
              "4    -1818.057990  1026.561521   755.207108 -1552.505276   853.056898\n",
              "...           ...          ...          ...          ...          ...\n",
              "7185 -3964.459919  -303.223718  -176.413940   -68.764103  -415.028400\n",
              "7186 -3609.648838  -535.086543  -524.386210    98.492702   -90.407720\n",
              "7187 -3047.524005   694.103984  -745.726227   306.507526  -561.239822\n",
              "7188 -3523.088120  -518.787011  -278.337194   -53.175101  -145.143665\n",
              "7189 -3929.024143    84.982210  -454.729506   129.974306  -283.939600\n",
              "\n",
              "[7190 rows x 5 columns]"
            ]
          },
          "metadata": {
            "tags": []
          },
          "execution_count": 135
        }
      ]
    },
    {
      "cell_type": "markdown",
      "metadata": {
        "id": "Z0BpGrHtJiZl"
      },
      "source": [
        "# Finally...."
      ]
    },
    {
      "cell_type": "code",
      "metadata": {
        "id": "8O_EN8h42kla"
      },
      "source": [
        "from sklearn.cluster import KMeans\n",
        "from sklearn.metrics import silhouette_score,davies_bouldin_score,calinski_harabasz_score\n",
        "from yellowbrick.cluster import SilhouetteVisualizer"
      ],
      "execution_count": 136,
      "outputs": []
    },
    {
      "cell_type": "code",
      "metadata": {
        "colab": {
          "base_uri": "https://localhost:8080/"
        },
        "id": "weOLmrZF3YEw",
        "outputId": "d46210a0-1f9d-40ae-ac58-b4faa85d4c8b"
      },
      "source": [
        "sse = []\n",
        "sil = []\n",
        "dbl = []\n",
        "chl = []\n",
        "for i in range(2,10):\n",
        "    km = KMeans(n_clusters=i,n_init=25,init='k-means++',max_iter=1000,random_state=123).fit(pcdf)\n",
        "    silsc = silhouette_score(X=df,\n",
        "                                labels=km.labels_,metric='euclidean',\n",
        "                                                                  random_state=123)\n",
        "    dbsc = davies_bouldin_score(X=df,labels=km.labels_)\n",
        "    chsc = calinski_harabasz_score(X=df,labels=km.labels_)\n",
        "    c = km.inertia_\n",
        "    print(color.BOLD,i,color.UNDERLINE,color.END)\n",
        "    print(color.BOLD,color.PURPLE,'The silhouette score when no.of cluster is',i,'is',silsc,color.END)\n",
        "    print(color.BOLD,color.CYAN,'The davis_bouldin score when no.of cluster is',i,'is',dbsc,color.END)\n",
        "    print(color.BOLD,color.YELLOW,'The calinski_harabasz score when no.of cluster is',i,'is',chsc,color.END)\n",
        "    sse.append(c)\n",
        "    sil.append(silsc)\n",
        "    dbl.append(dbsc)\n",
        "    chl.append(chsc)"
      ],
      "execution_count": 137,
      "outputs": [
        {
          "output_type": "stream",
          "text": [
            "\u001b[1m 2 \u001b[4m \u001b[0m\n",
            "\u001b[1m \u001b[95m The silhouette score when no.of cluster is 2 is 0.4443853706579281 \u001b[0m\n",
            "\u001b[1m \u001b[96m The davis_bouldin score when no.of cluster is 2 is 1.0949312128685742 \u001b[0m\n",
            "\u001b[1m \u001b[93m The calinski_harabasz score when no.of cluster is 2 is 5048.970545963966 \u001b[0m\n",
            "\u001b[1m 3 \u001b[4m \u001b[0m\n",
            "\u001b[1m \u001b[95m The silhouette score when no.of cluster is 3 is 0.43442107490296455 \u001b[0m\n",
            "\u001b[1m \u001b[96m The davis_bouldin score when no.of cluster is 3 is 1.3867579070171485 \u001b[0m\n",
            "\u001b[1m \u001b[93m The calinski_harabasz score when no.of cluster is 3 is 3667.6084386127964 \u001b[0m\n",
            "\u001b[1m 4 \u001b[4m \u001b[0m\n",
            "\u001b[1m \u001b[95m The silhouette score when no.of cluster is 4 is 0.36038502167543 \u001b[0m\n",
            "\u001b[1m \u001b[96m The davis_bouldin score when no.of cluster is 4 is 1.3149333066088817 \u001b[0m\n",
            "\u001b[1m \u001b[93m The calinski_harabasz score when no.of cluster is 4 is 3148.6065505542315 \u001b[0m\n",
            "\u001b[1m 5 \u001b[4m \u001b[0m\n",
            "\u001b[1m \u001b[95m The silhouette score when no.of cluster is 5 is 0.3418669932528896 \u001b[0m\n",
            "\u001b[1m \u001b[96m The davis_bouldin score when no.of cluster is 5 is 1.282844680380062 \u001b[0m\n",
            "\u001b[1m \u001b[93m The calinski_harabasz score when no.of cluster is 5 is 2832.0090045260104 \u001b[0m\n",
            "\u001b[1m 6 \u001b[4m \u001b[0m\n",
            "\u001b[1m \u001b[95m The silhouette score when no.of cluster is 6 is 0.3237055808441254 \u001b[0m\n",
            "\u001b[1m \u001b[96m The davis_bouldin score when no.of cluster is 6 is 1.2991948978915595 \u001b[0m\n",
            "\u001b[1m \u001b[93m The calinski_harabasz score when no.of cluster is 6 is 2627.293534817074 \u001b[0m\n",
            "\u001b[1m 7 \u001b[4m \u001b[0m\n",
            "\u001b[1m \u001b[95m The silhouette score when no.of cluster is 7 is 0.3115563619490701 \u001b[0m\n",
            "\u001b[1m \u001b[96m The davis_bouldin score when no.of cluster is 7 is 1.2931191488846598 \u001b[0m\n",
            "\u001b[1m \u001b[93m The calinski_harabasz score when no.of cluster is 7 is 2490.5922010317518 \u001b[0m\n",
            "\u001b[1m 8 \u001b[4m \u001b[0m\n",
            "\u001b[1m \u001b[95m The silhouette score when no.of cluster is 8 is 0.25076423950625487 \u001b[0m\n",
            "\u001b[1m \u001b[96m The davis_bouldin score when no.of cluster is 8 is 1.266017645703723 \u001b[0m\n",
            "\u001b[1m \u001b[93m The calinski_harabasz score when no.of cluster is 8 is 2361.426066460462 \u001b[0m\n",
            "\u001b[1m 9 \u001b[4m \u001b[0m\n",
            "\u001b[1m \u001b[95m The silhouette score when no.of cluster is 9 is 0.2560281591356943 \u001b[0m\n",
            "\u001b[1m \u001b[96m The davis_bouldin score when no.of cluster is 9 is 1.3203982545862307 \u001b[0m\n",
            "\u001b[1m \u001b[93m The calinski_harabasz score when no.of cluster is 9 is 2233.979809339536 \u001b[0m\n"
          ],
          "name": "stdout"
        }
      ]
    },
    {
      "cell_type": "markdown",
      "metadata": {
        "id": "jSR4gWhjJpE-"
      },
      "source": [
        "# Using 3 well-known clustering indices the respective plots are crafted."
      ]
    },
    {
      "cell_type": "code",
      "metadata": {
        "colab": {
          "base_uri": "https://localhost:8080/",
          "height": 389
        },
        "id": "LmS79b6q34b5",
        "outputId": "181f91d6-7611-400e-d312-8cf39b93520f"
      },
      "source": [
        "plt.plot(range(2,10),sse)\n",
        "plt.scatter(range(2,10),sse)\n",
        "plt.xlabel('No.of Clusters')\n",
        "\n",
        "plt.ylabel('Inertia')"
      ],
      "execution_count": 138,
      "outputs": [
        {
          "output_type": "execute_result",
          "data": {
            "text/plain": [
              "Text(0, 0.5, 'Inertia')"
            ]
          },
          "metadata": {
            "tags": []
          },
          "execution_count": 138
        },
        {
          "output_type": "display_data",
          "data": {
            "image/png": "[encoded data removed]",
            "text/plain": [
              "<Figure size 576x396 with 1 Axes>"
            ]
          },
          "metadata": {
            "tags": []
          }
        }
      ]
    },
    {
      "cell_type": "code",
      "metadata": {
        "colab": {
          "base_uri": "https://localhost:8080/",
          "height": 378
        },
        "id": "AzqPA_1CjD_N",
        "outputId": "6b0a2565-f932-4b38-bf1d-631fce2a662e"
      },
      "source": [
        "plt.plot(range(2,10),chl)\n",
        "plt.scatter(range(2,10),chl)\n",
        "plt.xlabel('No.of Clusters')\n",
        "plt.ylabel('Calinski-Harabasz Score')"
      ],
      "execution_count": 139,
      "outputs": [
        {
          "output_type": "execute_result",
          "data": {
            "text/plain": [
              "Text(0, 0.5, 'Calinski-Harabasz Score')"
            ]
          },
          "metadata": {
            "tags": []
          },
          "execution_count": 139
        },
        {
          "output_type": "display_data",
          "data": {
            "image/png": "[encoded data removed]",
            "text/plain": [
              "<Figure size 576x396 with 1 Axes>"
            ]
          },
          "metadata": {
            "tags": []
          }
        }
      ]
    },
    {
      "cell_type": "code",
      "metadata": {
        "colab": {
          "base_uri": "https://localhost:8080/",
          "height": 378
        },
        "id": "bvl3Fiku4g-S",
        "outputId": "731a652e-36b6-4f84-f812-464e730e7bc9"
      },
      "source": [
        "plt.plot(range(2,10),sil)\n",
        "plt.scatter(range(2,10),sil)\n",
        "plt.xlabel('No.of Clusters')\n",
        "plt.ylabel('Silhoutee Score')"
      ],
      "execution_count": null,
      "outputs": [
        {
          "output_type": "execute_result",
          "data": {
            "text/plain": [
              "Text(0, 0.5, 'Silhoutee Score')"
            ]
          },
          "metadata": {
            "tags": []
          },
          "execution_count": 37
        },
        {
          "output_type": "display_data",
          "data": {
            "image/png": "[encoded data removed]",
            "text/plain": [
              "<Figure size 576x396 with 1 Axes>"
            ]
          },
          "metadata": {
            "tags": []
          }
        }
      ]
    },
    {
      "cell_type": "code",
      "metadata": {
        "colab": {
          "base_uri": "https://localhost:8080/",
          "height": 382
        },
        "id": "7NGCswWDjEJn",
        "outputId": "fd3df240-cb9c-49c1-a3c6-32fe3784f79b"
      },
      "source": [
        "plt.plot(range(2,10),dbl)\n",
        "plt.scatter(range(2,10),dbl)\n",
        "plt.xlabel('No.of Clusters')\n",
        "plt.ylabel('Davis-Bouldin Score')"
      ],
      "execution_count": null,
      "outputs": [
        {
          "output_type": "execute_result",
          "data": {
            "text/plain": [
              "Text(0, 0.5, 'Davis-Bouldin Score')"
            ]
          },
          "metadata": {
            "tags": []
          },
          "execution_count": 38
        },
        {
          "output_type": "display_data",
          "data": {
            "image/png": "[encoded data removed]",
            "text/plain": [
              "<Figure size 576x396 with 1 Axes>"
            ]
          },
          "metadata": {
            "tags": []
          }
        }
      ]
    },
    {
      "cell_type": "markdown",
      "metadata": {
        "id": "eGDtndagfAkc"
      },
      "source": [
        "# When No. of clusters is 2, Davis-Bouldin Score is the lowest, Silhoutee Score is closest to 1 and Calinski-Harabasz Score is also highest which is preferrable.\n"
      ]
    },
    {
      "cell_type": "code",
      "metadata": {
        "id": "5lcIne6K60hH"
      },
      "source": [
        "km = KMeans(n_clusters=2,n_init=25,init='k-means++',max_iter=3000,random_state=123).fit(pcdf)"
      ],
      "execution_count": 140,
      "outputs": []
    },
    {
      "cell_type": "code",
      "metadata": {
        "id": "H4FyCcL19TkB"
      },
      "source": [
        "df['lab'] = km.labels_"
      ],
      "execution_count": 141,
      "outputs": []
    },
    {
      "cell_type": "code",
      "metadata": {
        "colab": {
          "base_uri": "https://localhost:8080/",
          "height": 416
        },
        "id": "hGHh4RVT9an6",
        "outputId": "ea371021-47b7-472e-f79e-4006ac1f1075"
      },
      "source": [
        "import seaborn as sns\n",
        "import matplotlib.pyplot as plt\n",
        "sns.countplot(df['lab'])\n",
        "plt.show()"
      ],
      "execution_count": 142,
      "outputs": [
        {
          "output_type": "stream",
          "text": [
            "/usr/local/lib/python3.7/dist-packages/seaborn/_decorators.py:43: FutureWarning: Pass the following variable as a keyword arg: x. From version 0.12, the only valid positional argument will be `data`, and passing other arguments without an explicit keyword will result in an error or misinterpretation.\n",
            "  FutureWarning\n"
          ],
          "name": "stderr"
        },
        {
          "output_type": "display_data",
          "data": {
            "image/png": "[encoded data removed]",
            "text/plain": [
              "<Figure size 576x396 with 1 Axes>"
            ]
          },
          "metadata": {
            "tags": []
          }
        }
      ]
    },
    {
      "cell_type": "code",
      "metadata": {
        "colab": {
          "base_uri": "https://localhost:8080/",
          "height": 488
        },
        "id": "L32um1_Rh3u2",
        "outputId": "35a15305-e2d4-431a-a595-d07d43517c25"
      },
      "source": [
        "plt.figure(figsize=(20,8))\n",
        "sns.countplot(df['lab'],hue=df['TENURE'])\n",
        "#df['lab'].value_counts().plot(kind='bar')"
      ],
      "execution_count": 143,
      "outputs": [
        {
          "output_type": "stream",
          "text": [
            "/usr/local/lib/python3.7/dist-packages/seaborn/_decorators.py:43: FutureWarning: Pass the following variable as a keyword arg: x. From version 0.12, the only valid positional argument will be `data`, and passing other arguments without an explicit keyword will result in an error or misinterpretation.\n",
            "  FutureWarning\n"
          ],
          "name": "stderr"
        },
        {
          "output_type": "execute_result",
          "data": {
            "text/plain": [
              "<matplotlib.axes._subplots.AxesSubplot at 0x7f209c48b790>"
            ]
          },
          "metadata": {
            "tags": []
          },
          "execution_count": 143
        },
        {
          "output_type": "display_data",
          "data": {
            "image/png": "[encoded data removed]",
            "text/plain": [
              "<Figure size 1440x576 with 1 Axes>"
            ]
          },
          "metadata": {
            "tags": []
          }
        }
      ]
    },
    {
      "cell_type": "code",
      "metadata": {
        "id": "rAhmheRg9YlC"
      },
      "source": [
        "dfin = df.drop(columns=['lab'])"
      ],
      "execution_count": 144,
      "outputs": []
    },
    {
      "cell_type": "code",
      "metadata": {
        "id": "oZXRqEss7Gno"
      },
      "source": [
        "vslzr = SilhouetteVisualizer(model = km, colors = 'yellowbrick')"
      ],
      "execution_count": 145,
      "outputs": []
    },
    {
      "cell_type": "markdown",
      "metadata": {
        "id": "A2QjctwvKSG7"
      },
      "source": [
        "# Hence, among a list of 'k' values, '2'  is determined to be with the most no. of datapoints that crosses the avg. silhoutte score in each cluster. "
      ]
    },
    {
      "cell_type": "code",
      "metadata": {
        "colab": {
          "base_uri": "https://localhost:8080/",
          "height": 437
        },
        "id": "_V3_u8dqpO-O",
        "outputId": "0957a150-1653-4170-a240-beade968f62f"
      },
      "source": [
        "vslzr.fit(df)"
      ],
      "execution_count": 146,
      "outputs": [
        {
          "output_type": "stream",
          "text": [
            "/usr/local/lib/python3.7/dist-packages/sklearn/base.py:197: FutureWarning: From version 0.24, get_params will raise an AttributeError if a parameter cannot be retrieved as an instance attribute. Previously it would return None.\n",
            "  FutureWarning)\n"
          ],
          "name": "stderr"
        },
        {
          "output_type": "execute_result",
          "data": {
            "text/plain": [
              "SilhouetteVisualizer(ax=<matplotlib.axes._subplots.AxesSubplot object at 0x7f209c4d4d50>,\n",
              "                     model=None)"
            ]
          },
          "metadata": {
            "tags": []
          },
          "execution_count": 146
        },
        {
          "output_type": "display_data",
          "data": {
            "image/png": "[encoded data removed]",
            "text/plain": [
              "<Figure size 576x396 with 1 Axes>"
            ]
          },
          "metadata": {
            "tags": []
          }
        }
      ]
    },
    {
      "cell_type": "code",
      "metadata": {
        "id": "BF1TWMcLu8U2"
      },
      "source": [
        ""
      ],
      "execution_count": null,
      "outputs": []
    }
  ]
}