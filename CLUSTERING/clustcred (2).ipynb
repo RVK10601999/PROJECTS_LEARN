{
  "nbformat": 4,
  "nbformat_minor": 0,
  "metadata": {
    "colab": {
      "name": "clustcred(1).ipynb",
      "provenance": [],
      "collapsed_sections": [],
      "toc_visible": true
    },
    "kernelspec": {
      "display_name": "Python 3",
      "language": "python",
      "name": "python3"
    },
    "language_info": {
      "codemirror_mode": {
        "name": "ipython",
        "version": 3
      },
      "file_extension": ".py",
      "mimetype": "text/x-python",
      "name": "python",
      "nbconvert_exporter": "python",
      "pygments_lexer": "ipython3",
      "version": "3.8.5"
    },
    "varInspector": {
      "cols": {
        "lenName": 16,
        "lenType": 16,
        "lenVar": 40
      },
      "kernels_config": {
        "python": {
          "delete_cmd_postfix": "",
          "delete_cmd_prefix": "del ",
          "library": "var_list.py",
          "varRefreshCmd": "print(var_dic_list())"
        },
        "r": {
          "delete_cmd_postfix": ") ",
          "delete_cmd_prefix": "rm(",
          "library": "var_list.r",
          "varRefreshCmd": "cat(var_dic_list()) "
        }
      },
      "types_to_exclude": [
        "module",
        "function",
        "builtin_function_or_method",
        "instance",
        "_Feature"
      ],
      "window_display": false
    }
  },
  "cells": [
    {
      "cell_type": "markdown",
      "metadata": {
        "id": "g5sqsehEBBy5"
      },
      "source": [
        "# Importing Necessary Libraries"
      ]
    },
    {
      "cell_type": "code",
      "metadata": {
        "colab": {
          "base_uri": "https://localhost:8080/"
        },
        "id": "2yPugJRppT9m",
        "outputId": "c33f8918-d83e-42c3-8e40-510bae8beb1a"
      },
      "source": [
        "import os\n",
        "import pandas as pd\n",
        "import numpy as np\n",
        "import matplotlib.pyplot as plt\n",
        "import seaborn as sns\n",
        "class color:\n",
        "   PURPLE = '\\033[95m'\n",
        "   CYAN = '\\033[96m'\n",
        "   DARKCYAN = '\\033[36m'\n",
        "   BLUE = '\\033[94m'\n",
        "   GREEN = '\\033[92m'\n",
        "   YELLOW = '\\033[93m'\n",
        "   RED = '\\033[91m'\n",
        "   BOLD = '\\033[1m'\n",
        "   UNDERLINE = '\\033[4m'\n",
        "   END = '\\033[0m'\n",
        "\n",
        "print(color.PURPLE + 'Hello World !' + color.END)"
      ],
      "execution_count": 2,
      "outputs": [
        {
          "output_type": "stream",
          "text": [
            "\u001b[95mHello World !\u001b[0m\n"
          ],
          "name": "stdout"
        }
      ]
    },
    {
      "cell_type": "markdown",
      "metadata": {
        "id": "STbt7CpcwLQx"
      },
      "source": [
        "# Importing Dataset"
      ]
    },
    {
      "cell_type": "code",
      "metadata": {
        "id": "rioDXZeRj5ih"
      },
      "source": [
        "df = pd.read_csv('/content/credit_card.csv')"
      ],
      "execution_count": 45,
      "outputs": []
    },
    {
      "cell_type": "code",
      "metadata": {
        "colab": {
          "base_uri": "https://localhost:8080/",
          "height": 424
        },
        "id": "YDY3UhbxkBtV",
        "outputId": "2d66c012-faba-48b6-ceda-9c455e081c12"
      },
      "source": [
        "df"
      ],
      "execution_count": 46,
      "outputs": [
        {
          "output_type": "execute_result",
          "data": {
            "text/html": [
              "<div>\n",
              "<style scoped>\n",
              "    .dataframe tbody tr th:only-of-type {\n",
              "        vertical-align: middle;\n",
              "    }\n",
              "\n",
              "    .dataframe tbody tr th {\n",
              "        vertical-align: top;\n",
              "    }\n",
              "\n",
              "    .dataframe thead th {\n",
              "        text-align: right;\n",
              "    }\n",
              "</style>\n",
              "<table border=\"1\" class=\"dataframe\">\n",
              "  <thead>\n",
              "    <tr style=\"text-align: right;\">\n",
              "      <th></th>\n",
              "      <th>CUST_ID</th>\n",
              "      <th>BALANCE</th>\n",
              "      <th>BALANCE_FREQUENCY</th>\n",
              "      <th>PURCHASES</th>\n",
              "      <th>ONEOFF_PURCHASES</th>\n",
              "      <th>INSTALLMENTS_PURCHASES</th>\n",
              "      <th>CASH_ADVANCE</th>\n",
              "      <th>PURCHASES_FREQUENCY</th>\n",
              "      <th>ONEOFF_PURCHASES_FREQUENCY</th>\n",
              "      <th>PURCHASES_INSTALLMENTS_FREQUENCY</th>\n",
              "      <th>CASH_ADVANCE_FREQUENCY</th>\n",
              "      <th>CASH_ADVANCE_TRX</th>\n",
              "      <th>PURCHASES_TRX</th>\n",
              "      <th>CREDIT_LIMIT</th>\n",
              "      <th>PAYMENTS</th>\n",
              "      <th>MINIMUM_PAYMENTS</th>\n",
              "      <th>PRC_FULL_PAYMENT</th>\n",
              "      <th>TENURE</th>\n",
              "    </tr>\n",
              "  </thead>\n",
              "  <tbody>\n",
              "    <tr>\n",
              "      <th>0</th>\n",
              "      <td>C10001</td>\n",
              "      <td>40.900749</td>\n",
              "      <td>0.818182</td>\n",
              "      <td>95.40</td>\n",
              "      <td>0.00</td>\n",
              "      <td>95.40</td>\n",
              "      <td>0.000000</td>\n",
              "      <td>0.166667</td>\n",
              "      <td>0.000000</td>\n",
              "      <td>0.083333</td>\n",
              "      <td>0.000000</td>\n",
              "      <td>0</td>\n",
              "      <td>2</td>\n",
              "      <td>1000.0</td>\n",
              "      <td>201.802084</td>\n",
              "      <td>139.509787</td>\n",
              "      <td>0.000000</td>\n",
              "      <td>12</td>\n",
              "    </tr>\n",
              "    <tr>\n",
              "      <th>1</th>\n",
              "      <td>C10002</td>\n",
              "      <td>3202.467416</td>\n",
              "      <td>0.909091</td>\n",
              "      <td>0.00</td>\n",
              "      <td>0.00</td>\n",
              "      <td>0.00</td>\n",
              "      <td>6442.945483</td>\n",
              "      <td>0.000000</td>\n",
              "      <td>0.000000</td>\n",
              "      <td>0.000000</td>\n",
              "      <td>0.250000</td>\n",
              "      <td>4</td>\n",
              "      <td>0</td>\n",
              "      <td>7000.0</td>\n",
              "      <td>4103.032597</td>\n",
              "      <td>1072.340217</td>\n",
              "      <td>0.222222</td>\n",
              "      <td>12</td>\n",
              "    </tr>\n",
              "    <tr>\n",
              "      <th>2</th>\n",
              "      <td>C10003</td>\n",
              "      <td>2495.148862</td>\n",
              "      <td>1.000000</td>\n",
              "      <td>773.17</td>\n",
              "      <td>773.17</td>\n",
              "      <td>0.00</td>\n",
              "      <td>0.000000</td>\n",
              "      <td>1.000000</td>\n",
              "      <td>1.000000</td>\n",
              "      <td>0.000000</td>\n",
              "      <td>0.000000</td>\n",
              "      <td>0</td>\n",
              "      <td>12</td>\n",
              "      <td>7500.0</td>\n",
              "      <td>622.066742</td>\n",
              "      <td>627.284787</td>\n",
              "      <td>0.000000</td>\n",
              "      <td>12</td>\n",
              "    </tr>\n",
              "    <tr>\n",
              "      <th>3</th>\n",
              "      <td>C10004</td>\n",
              "      <td>1666.670542</td>\n",
              "      <td>0.636364</td>\n",
              "      <td>1499.00</td>\n",
              "      <td>1499.00</td>\n",
              "      <td>0.00</td>\n",
              "      <td>205.788017</td>\n",
              "      <td>0.083333</td>\n",
              "      <td>0.083333</td>\n",
              "      <td>0.000000</td>\n",
              "      <td>0.083333</td>\n",
              "      <td>1</td>\n",
              "      <td>1</td>\n",
              "      <td>7500.0</td>\n",
              "      <td>0.000000</td>\n",
              "      <td>NaN</td>\n",
              "      <td>0.000000</td>\n",
              "      <td>12</td>\n",
              "    </tr>\n",
              "    <tr>\n",
              "      <th>4</th>\n",
              "      <td>C10005</td>\n",
              "      <td>817.714335</td>\n",
              "      <td>1.000000</td>\n",
              "      <td>16.00</td>\n",
              "      <td>16.00</td>\n",
              "      <td>0.00</td>\n",
              "      <td>0.000000</td>\n",
              "      <td>0.083333</td>\n",
              "      <td>0.083333</td>\n",
              "      <td>0.000000</td>\n",
              "      <td>0.000000</td>\n",
              "      <td>0</td>\n",
              "      <td>1</td>\n",
              "      <td>1200.0</td>\n",
              "      <td>678.334763</td>\n",
              "      <td>244.791237</td>\n",
              "      <td>0.000000</td>\n",
              "      <td>12</td>\n",
              "    </tr>\n",
              "    <tr>\n",
              "      <th>...</th>\n",
              "      <td>...</td>\n",
              "      <td>...</td>\n",
              "      <td>...</td>\n",
              "      <td>...</td>\n",
              "      <td>...</td>\n",
              "      <td>...</td>\n",
              "      <td>...</td>\n",
              "      <td>...</td>\n",
              "      <td>...</td>\n",
              "      <td>...</td>\n",
              "      <td>...</td>\n",
              "      <td>...</td>\n",
              "      <td>...</td>\n",
              "      <td>...</td>\n",
              "      <td>...</td>\n",
              "      <td>...</td>\n",
              "      <td>...</td>\n",
              "      <td>...</td>\n",
              "    </tr>\n",
              "    <tr>\n",
              "      <th>8945</th>\n",
              "      <td>C19186</td>\n",
              "      <td>28.493517</td>\n",
              "      <td>1.000000</td>\n",
              "      <td>291.12</td>\n",
              "      <td>0.00</td>\n",
              "      <td>291.12</td>\n",
              "      <td>0.000000</td>\n",
              "      <td>1.000000</td>\n",
              "      <td>0.000000</td>\n",
              "      <td>0.833333</td>\n",
              "      <td>0.000000</td>\n",
              "      <td>0</td>\n",
              "      <td>6</td>\n",
              "      <td>1000.0</td>\n",
              "      <td>325.594462</td>\n",
              "      <td>48.886365</td>\n",
              "      <td>0.500000</td>\n",
              "      <td>6</td>\n",
              "    </tr>\n",
              "    <tr>\n",
              "      <th>8946</th>\n",
              "      <td>C19187</td>\n",
              "      <td>19.183215</td>\n",
              "      <td>1.000000</td>\n",
              "      <td>300.00</td>\n",
              "      <td>0.00</td>\n",
              "      <td>300.00</td>\n",
              "      <td>0.000000</td>\n",
              "      <td>1.000000</td>\n",
              "      <td>0.000000</td>\n",
              "      <td>0.833333</td>\n",
              "      <td>0.000000</td>\n",
              "      <td>0</td>\n",
              "      <td>6</td>\n",
              "      <td>1000.0</td>\n",
              "      <td>275.861322</td>\n",
              "      <td>NaN</td>\n",
              "      <td>0.000000</td>\n",
              "      <td>6</td>\n",
              "    </tr>\n",
              "    <tr>\n",
              "      <th>8947</th>\n",
              "      <td>C19188</td>\n",
              "      <td>23.398673</td>\n",
              "      <td>0.833333</td>\n",
              "      <td>144.40</td>\n",
              "      <td>0.00</td>\n",
              "      <td>144.40</td>\n",
              "      <td>0.000000</td>\n",
              "      <td>0.833333</td>\n",
              "      <td>0.000000</td>\n",
              "      <td>0.666667</td>\n",
              "      <td>0.000000</td>\n",
              "      <td>0</td>\n",
              "      <td>5</td>\n",
              "      <td>1000.0</td>\n",
              "      <td>81.270775</td>\n",
              "      <td>82.418369</td>\n",
              "      <td>0.250000</td>\n",
              "      <td>6</td>\n",
              "    </tr>\n",
              "    <tr>\n",
              "      <th>8948</th>\n",
              "      <td>C19189</td>\n",
              "      <td>13.457564</td>\n",
              "      <td>0.833333</td>\n",
              "      <td>0.00</td>\n",
              "      <td>0.00</td>\n",
              "      <td>0.00</td>\n",
              "      <td>36.558778</td>\n",
              "      <td>0.000000</td>\n",
              "      <td>0.000000</td>\n",
              "      <td>0.000000</td>\n",
              "      <td>0.166667</td>\n",
              "      <td>2</td>\n",
              "      <td>0</td>\n",
              "      <td>500.0</td>\n",
              "      <td>52.549959</td>\n",
              "      <td>55.755628</td>\n",
              "      <td>0.250000</td>\n",
              "      <td>6</td>\n",
              "    </tr>\n",
              "    <tr>\n",
              "      <th>8949</th>\n",
              "      <td>C19190</td>\n",
              "      <td>372.708075</td>\n",
              "      <td>0.666667</td>\n",
              "      <td>1093.25</td>\n",
              "      <td>1093.25</td>\n",
              "      <td>0.00</td>\n",
              "      <td>127.040008</td>\n",
              "      <td>0.666667</td>\n",
              "      <td>0.666667</td>\n",
              "      <td>0.000000</td>\n",
              "      <td>0.333333</td>\n",
              "      <td>2</td>\n",
              "      <td>23</td>\n",
              "      <td>1200.0</td>\n",
              "      <td>63.165404</td>\n",
              "      <td>88.288956</td>\n",
              "      <td>0.000000</td>\n",
              "      <td>6</td>\n",
              "    </tr>\n",
              "  </tbody>\n",
              "</table>\n",
              "<p>8950 rows × 18 columns</p>\n",
              "</div>"
            ],
            "text/plain": [
              "     CUST_ID      BALANCE  ...  PRC_FULL_PAYMENT  TENURE\n",
              "0     C10001    40.900749  ...          0.000000      12\n",
              "1     C10002  3202.467416  ...          0.222222      12\n",
              "2     C10003  2495.148862  ...          0.000000      12\n",
              "3     C10004  1666.670542  ...          0.000000      12\n",
              "4     C10005   817.714335  ...          0.000000      12\n",
              "...      ...          ...  ...               ...     ...\n",
              "8945  C19186    28.493517  ...          0.500000       6\n",
              "8946  C19187    19.183215  ...          0.000000       6\n",
              "8947  C19188    23.398673  ...          0.250000       6\n",
              "8948  C19189    13.457564  ...          0.250000       6\n",
              "8949  C19190   372.708075  ...          0.000000       6\n",
              "\n",
              "[8950 rows x 18 columns]"
            ]
          },
          "metadata": {
            "tags": []
          },
          "execution_count": 46
        }
      ]
    },
    {
      "cell_type": "code",
      "metadata": {
        "colab": {
          "base_uri": "https://localhost:8080/"
        },
        "id": "qHMPWCWhkCbs",
        "outputId": "4c3fd228-5a8a-4aa4-ef33-1a77d044cc17"
      },
      "source": [
        "for i in df.columns:\n",
        "    if len(df[i].value_counts()) == df.shape[0]:\n",
        "        print(i)"
      ],
      "execution_count": 47,
      "outputs": [
        {
          "output_type": "stream",
          "text": [
            "CUST_ID\n"
          ],
          "name": "stdout"
        }
      ]
    },
    {
      "cell_type": "code",
      "metadata": {
        "id": "9PwdOcswkkYX"
      },
      "source": [
        "df = df.drop(columns='CUST_ID')"
      ],
      "execution_count": 48,
      "outputs": []
    },
    {
      "cell_type": "code",
      "metadata": {
        "colab": {
          "base_uri": "https://localhost:8080/",
          "height": 424
        },
        "id": "wxrCWTDmk1Qv",
        "outputId": "cb34a680-494b-49ba-c6a0-cb8f5d3cbc8f"
      },
      "source": [
        "df"
      ],
      "execution_count": 49,
      "outputs": [
        {
          "output_type": "execute_result",
          "data": {
            "text/html": [
              "<div>\n",
              "<style scoped>\n",
              "    .dataframe tbody tr th:only-of-type {\n",
              "        vertical-align: middle;\n",
              "    }\n",
              "\n",
              "    .dataframe tbody tr th {\n",
              "        vertical-align: top;\n",
              "    }\n",
              "\n",
              "    .dataframe thead th {\n",
              "        text-align: right;\n",
              "    }\n",
              "</style>\n",
              "<table border=\"1\" class=\"dataframe\">\n",
              "  <thead>\n",
              "    <tr style=\"text-align: right;\">\n",
              "      <th></th>\n",
              "      <th>BALANCE</th>\n",
              "      <th>BALANCE_FREQUENCY</th>\n",
              "      <th>PURCHASES</th>\n",
              "      <th>ONEOFF_PURCHASES</th>\n",
              "      <th>INSTALLMENTS_PURCHASES</th>\n",
              "      <th>CASH_ADVANCE</th>\n",
              "      <th>PURCHASES_FREQUENCY</th>\n",
              "      <th>ONEOFF_PURCHASES_FREQUENCY</th>\n",
              "      <th>PURCHASES_INSTALLMENTS_FREQUENCY</th>\n",
              "      <th>CASH_ADVANCE_FREQUENCY</th>\n",
              "      <th>CASH_ADVANCE_TRX</th>\n",
              "      <th>PURCHASES_TRX</th>\n",
              "      <th>CREDIT_LIMIT</th>\n",
              "      <th>PAYMENTS</th>\n",
              "      <th>MINIMUM_PAYMENTS</th>\n",
              "      <th>PRC_FULL_PAYMENT</th>\n",
              "      <th>TENURE</th>\n",
              "    </tr>\n",
              "  </thead>\n",
              "  <tbody>\n",
              "    <tr>\n",
              "      <th>0</th>\n",
              "      <td>40.900749</td>\n",
              "      <td>0.818182</td>\n",
              "      <td>95.40</td>\n",
              "      <td>0.00</td>\n",
              "      <td>95.40</td>\n",
              "      <td>0.000000</td>\n",
              "      <td>0.166667</td>\n",
              "      <td>0.000000</td>\n",
              "      <td>0.083333</td>\n",
              "      <td>0.000000</td>\n",
              "      <td>0</td>\n",
              "      <td>2</td>\n",
              "      <td>1000.0</td>\n",
              "      <td>201.802084</td>\n",
              "      <td>139.509787</td>\n",
              "      <td>0.000000</td>\n",
              "      <td>12</td>\n",
              "    </tr>\n",
              "    <tr>\n",
              "      <th>1</th>\n",
              "      <td>3202.467416</td>\n",
              "      <td>0.909091</td>\n",
              "      <td>0.00</td>\n",
              "      <td>0.00</td>\n",
              "      <td>0.00</td>\n",
              "      <td>6442.945483</td>\n",
              "      <td>0.000000</td>\n",
              "      <td>0.000000</td>\n",
              "      <td>0.000000</td>\n",
              "      <td>0.250000</td>\n",
              "      <td>4</td>\n",
              "      <td>0</td>\n",
              "      <td>7000.0</td>\n",
              "      <td>4103.032597</td>\n",
              "      <td>1072.340217</td>\n",
              "      <td>0.222222</td>\n",
              "      <td>12</td>\n",
              "    </tr>\n",
              "    <tr>\n",
              "      <th>2</th>\n",
              "      <td>2495.148862</td>\n",
              "      <td>1.000000</td>\n",
              "      <td>773.17</td>\n",
              "      <td>773.17</td>\n",
              "      <td>0.00</td>\n",
              "      <td>0.000000</td>\n",
              "      <td>1.000000</td>\n",
              "      <td>1.000000</td>\n",
              "      <td>0.000000</td>\n",
              "      <td>0.000000</td>\n",
              "      <td>0</td>\n",
              "      <td>12</td>\n",
              "      <td>7500.0</td>\n",
              "      <td>622.066742</td>\n",
              "      <td>627.284787</td>\n",
              "      <td>0.000000</td>\n",
              "      <td>12</td>\n",
              "    </tr>\n",
              "    <tr>\n",
              "      <th>3</th>\n",
              "      <td>1666.670542</td>\n",
              "      <td>0.636364</td>\n",
              "      <td>1499.00</td>\n",
              "      <td>1499.00</td>\n",
              "      <td>0.00</td>\n",
              "      <td>205.788017</td>\n",
              "      <td>0.083333</td>\n",
              "      <td>0.083333</td>\n",
              "      <td>0.000000</td>\n",
              "      <td>0.083333</td>\n",
              "      <td>1</td>\n",
              "      <td>1</td>\n",
              "      <td>7500.0</td>\n",
              "      <td>0.000000</td>\n",
              "      <td>NaN</td>\n",
              "      <td>0.000000</td>\n",
              "      <td>12</td>\n",
              "    </tr>\n",
              "    <tr>\n",
              "      <th>4</th>\n",
              "      <td>817.714335</td>\n",
              "      <td>1.000000</td>\n",
              "      <td>16.00</td>\n",
              "      <td>16.00</td>\n",
              "      <td>0.00</td>\n",
              "      <td>0.000000</td>\n",
              "      <td>0.083333</td>\n",
              "      <td>0.083333</td>\n",
              "      <td>0.000000</td>\n",
              "      <td>0.000000</td>\n",
              "      <td>0</td>\n",
              "      <td>1</td>\n",
              "      <td>1200.0</td>\n",
              "      <td>678.334763</td>\n",
              "      <td>244.791237</td>\n",
              "      <td>0.000000</td>\n",
              "      <td>12</td>\n",
              "    </tr>\n",
              "    <tr>\n",
              "      <th>...</th>\n",
              "      <td>...</td>\n",
              "      <td>...</td>\n",
              "      <td>...</td>\n",
              "      <td>...</td>\n",
              "      <td>...</td>\n",
              "      <td>...</td>\n",
              "      <td>...</td>\n",
              "      <td>...</td>\n",
              "      <td>...</td>\n",
              "      <td>...</td>\n",
              "      <td>...</td>\n",
              "      <td>...</td>\n",
              "      <td>...</td>\n",
              "      <td>...</td>\n",
              "      <td>...</td>\n",
              "      <td>...</td>\n",
              "      <td>...</td>\n",
              "    </tr>\n",
              "    <tr>\n",
              "      <th>8945</th>\n",
              "      <td>28.493517</td>\n",
              "      <td>1.000000</td>\n",
              "      <td>291.12</td>\n",
              "      <td>0.00</td>\n",
              "      <td>291.12</td>\n",
              "      <td>0.000000</td>\n",
              "      <td>1.000000</td>\n",
              "      <td>0.000000</td>\n",
              "      <td>0.833333</td>\n",
              "      <td>0.000000</td>\n",
              "      <td>0</td>\n",
              "      <td>6</td>\n",
              "      <td>1000.0</td>\n",
              "      <td>325.594462</td>\n",
              "      <td>48.886365</td>\n",
              "      <td>0.500000</td>\n",
              "      <td>6</td>\n",
              "    </tr>\n",
              "    <tr>\n",
              "      <th>8946</th>\n",
              "      <td>19.183215</td>\n",
              "      <td>1.000000</td>\n",
              "      <td>300.00</td>\n",
              "      <td>0.00</td>\n",
              "      <td>300.00</td>\n",
              "      <td>0.000000</td>\n",
              "      <td>1.000000</td>\n",
              "      <td>0.000000</td>\n",
              "      <td>0.833333</td>\n",
              "      <td>0.000000</td>\n",
              "      <td>0</td>\n",
              "      <td>6</td>\n",
              "      <td>1000.0</td>\n",
              "      <td>275.861322</td>\n",
              "      <td>NaN</td>\n",
              "      <td>0.000000</td>\n",
              "      <td>6</td>\n",
              "    </tr>\n",
              "    <tr>\n",
              "      <th>8947</th>\n",
              "      <td>23.398673</td>\n",
              "      <td>0.833333</td>\n",
              "      <td>144.40</td>\n",
              "      <td>0.00</td>\n",
              "      <td>144.40</td>\n",
              "      <td>0.000000</td>\n",
              "      <td>0.833333</td>\n",
              "      <td>0.000000</td>\n",
              "      <td>0.666667</td>\n",
              "      <td>0.000000</td>\n",
              "      <td>0</td>\n",
              "      <td>5</td>\n",
              "      <td>1000.0</td>\n",
              "      <td>81.270775</td>\n",
              "      <td>82.418369</td>\n",
              "      <td>0.250000</td>\n",
              "      <td>6</td>\n",
              "    </tr>\n",
              "    <tr>\n",
              "      <th>8948</th>\n",
              "      <td>13.457564</td>\n",
              "      <td>0.833333</td>\n",
              "      <td>0.00</td>\n",
              "      <td>0.00</td>\n",
              "      <td>0.00</td>\n",
              "      <td>36.558778</td>\n",
              "      <td>0.000000</td>\n",
              "      <td>0.000000</td>\n",
              "      <td>0.000000</td>\n",
              "      <td>0.166667</td>\n",
              "      <td>2</td>\n",
              "      <td>0</td>\n",
              "      <td>500.0</td>\n",
              "      <td>52.549959</td>\n",
              "      <td>55.755628</td>\n",
              "      <td>0.250000</td>\n",
              "      <td>6</td>\n",
              "    </tr>\n",
              "    <tr>\n",
              "      <th>8949</th>\n",
              "      <td>372.708075</td>\n",
              "      <td>0.666667</td>\n",
              "      <td>1093.25</td>\n",
              "      <td>1093.25</td>\n",
              "      <td>0.00</td>\n",
              "      <td>127.040008</td>\n",
              "      <td>0.666667</td>\n",
              "      <td>0.666667</td>\n",
              "      <td>0.000000</td>\n",
              "      <td>0.333333</td>\n",
              "      <td>2</td>\n",
              "      <td>23</td>\n",
              "      <td>1200.0</td>\n",
              "      <td>63.165404</td>\n",
              "      <td>88.288956</td>\n",
              "      <td>0.000000</td>\n",
              "      <td>6</td>\n",
              "    </tr>\n",
              "  </tbody>\n",
              "</table>\n",
              "<p>8950 rows × 17 columns</p>\n",
              "</div>"
            ],
            "text/plain": [
              "          BALANCE  BALANCE_FREQUENCY  ...  PRC_FULL_PAYMENT  TENURE\n",
              "0       40.900749           0.818182  ...          0.000000      12\n",
              "1     3202.467416           0.909091  ...          0.222222      12\n",
              "2     2495.148862           1.000000  ...          0.000000      12\n",
              "3     1666.670542           0.636364  ...          0.000000      12\n",
              "4      817.714335           1.000000  ...          0.000000      12\n",
              "...           ...                ...  ...               ...     ...\n",
              "8945    28.493517           1.000000  ...          0.500000       6\n",
              "8946    19.183215           1.000000  ...          0.000000       6\n",
              "8947    23.398673           0.833333  ...          0.250000       6\n",
              "8948    13.457564           0.833333  ...          0.250000       6\n",
              "8949   372.708075           0.666667  ...          0.000000       6\n",
              "\n",
              "[8950 rows x 17 columns]"
            ]
          },
          "metadata": {
            "tags": []
          },
          "execution_count": 49
        }
      ]
    },
    {
      "cell_type": "markdown",
      "metadata": {
        "id": "H-pQa68HIEMI"
      },
      "source": [
        "# Required pre-processing...."
      ]
    },
    {
      "cell_type": "code",
      "metadata": {
        "colab": {
          "base_uri": "https://localhost:8080/"
        },
        "id": "iHgkkRaQk3g2",
        "outputId": "9b336852-74f2-4634-c0ce-b35c786c39fa"
      },
      "source": [
        "df.isna().sum()/df.shape[0]"
      ],
      "execution_count": 50,
      "outputs": [
        {
          "output_type": "execute_result",
          "data": {
            "text/plain": [
              "BALANCE                             0.000000\n",
              "BALANCE_FREQUENCY                   0.000000\n",
              "PURCHASES                           0.000000\n",
              "ONEOFF_PURCHASES                    0.000000\n",
              "INSTALLMENTS_PURCHASES              0.000000\n",
              "CASH_ADVANCE                        0.000000\n",
              "PURCHASES_FREQUENCY                 0.000000\n",
              "ONEOFF_PURCHASES_FREQUENCY          0.000000\n",
              "PURCHASES_INSTALLMENTS_FREQUENCY    0.000000\n",
              "CASH_ADVANCE_FREQUENCY              0.000000\n",
              "CASH_ADVANCE_TRX                    0.000000\n",
              "PURCHASES_TRX                       0.000000\n",
              "CREDIT_LIMIT                        0.000112\n",
              "PAYMENTS                            0.000000\n",
              "MINIMUM_PAYMENTS                    0.034972\n",
              "PRC_FULL_PAYMENT                    0.000000\n",
              "TENURE                              0.000000\n",
              "dtype: float64"
            ]
          },
          "metadata": {
            "tags": []
          },
          "execution_count": 50
        }
      ]
    },
    {
      "cell_type": "code",
      "metadata": {
        "colab": {
          "base_uri": "https://localhost:8080/"
        },
        "id": "ZkIb52Stk7tL",
        "outputId": "f54ba020-e5f1-49ab-bad6-0e8593fcd92e"
      },
      "source": [
        "for i in df.columns:\n",
        "  print(df[i].value_counts())"
      ],
      "execution_count": 51,
      "outputs": [
        {
          "output_type": "stream",
          "text": [
            "0.000000       80\n",
            "1100.941072     1\n",
            "40.074484       1\n",
            "2093.844656     1\n",
            "179.765708      1\n",
            "               ..\n",
            "1139.691004     1\n",
            "3494.152843     1\n",
            "2388.503738     1\n",
            "2153.498372     1\n",
            "510.233775      1\n",
            "Name: BALANCE, Length: 8871, dtype: int64\n",
            "1.000000    6211\n",
            "0.909091     410\n",
            "0.818182     278\n",
            "0.727273     223\n",
            "0.545455     219\n",
            "0.636364     209\n",
            "0.454545     172\n",
            "0.363636     170\n",
            "0.272727     151\n",
            "0.181818     146\n",
            "0.000000      80\n",
            "0.090909      67\n",
            "0.833333      60\n",
            "0.875000      57\n",
            "0.900000      55\n",
            "0.888889      53\n",
            "0.857143      51\n",
            "0.500000      40\n",
            "0.666667      37\n",
            "0.333333      22\n",
            "0.777778      22\n",
            "0.800000      20\n",
            "0.571429      19\n",
            "0.750000      17\n",
            "0.714286      15\n",
            "0.700000      13\n",
            "0.625000      11\n",
            "0.400000      10\n",
            "0.555556      10\n",
            "0.300000       9\n",
            "0.200000       9\n",
            "0.375000       9\n",
            "0.125000       9\n",
            "0.285714       8\n",
            "0.100000       8\n",
            "0.250000       8\n",
            "0.444444       7\n",
            "0.166667       7\n",
            "0.142857       7\n",
            "0.600000       6\n",
            "0.111111       5\n",
            "0.222222       5\n",
            "0.428571       5\n",
            "Name: BALANCE_FREQUENCY, dtype: int64\n",
            "0.00       2044\n",
            "45.65        27\n",
            "150.00       16\n",
            "60.00        16\n",
            "100.00       13\n",
            "           ... \n",
            "963.35        1\n",
            "1260.13       1\n",
            "203.60        1\n",
            "35.97         1\n",
            "169.66        1\n",
            "Name: PURCHASES, Length: 6203, dtype: int64\n",
            "0.00       4302\n",
            "45.65        46\n",
            "50.00        17\n",
            "200.00       15\n",
            "60.00        13\n",
            "           ... \n",
            "2814.23       1\n",
            "2281.56       1\n",
            "458.00        1\n",
            "155.00        1\n",
            "153.11        1\n",
            "Name: ONEOFF_PURCHASES, Length: 4014, dtype: int64\n",
            "0.00       3916\n",
            "100.00       14\n",
            "300.00       14\n",
            "200.00       14\n",
            "150.00       12\n",
            "           ... \n",
            "1184.98       1\n",
            "1673.59       1\n",
            "1632.96       1\n",
            "749.79        1\n",
            "482.68        1\n",
            "Name: INSTALLMENTS_PURCHASES, Length: 4452, dtype: int64\n",
            "0.000000       4628\n",
            "1286.356207       1\n",
            "3816.470266       1\n",
            "2495.298926       1\n",
            "748.241727        1\n",
            "               ... \n",
            "1282.314634       1\n",
            "1384.954139       1\n",
            "576.920984        1\n",
            "1502.014320       1\n",
            "1873.271885       1\n",
            "Name: CASH_ADVANCE, Length: 4323, dtype: int64\n",
            "1.000000    2178\n",
            "0.000000    2043\n",
            "0.083333     677\n",
            "0.916667     396\n",
            "0.500000     395\n",
            "0.166667     392\n",
            "0.833333     373\n",
            "0.333333     367\n",
            "0.250000     345\n",
            "0.583333     316\n",
            "0.666667     310\n",
            "0.750000     299\n",
            "0.416667     289\n",
            "0.090909      43\n",
            "0.125000      32\n",
            "0.909091      28\n",
            "0.100000      27\n",
            "0.142857      26\n",
            "0.875000      26\n",
            "0.857143      25\n",
            "0.900000      24\n",
            "0.818182      21\n",
            "0.545455      20\n",
            "0.454545      19\n",
            "0.272727      19\n",
            "0.200000      19\n",
            "0.111111      18\n",
            "0.888889      18\n",
            "0.636364      17\n",
            "0.181818      16\n",
            "0.571429      16\n",
            "0.727273      15\n",
            "0.714286      13\n",
            "0.300000      13\n",
            "0.222222      12\n",
            "0.700000      11\n",
            "0.600000      11\n",
            "0.375000      10\n",
            "0.363636      10\n",
            "0.428571       9\n",
            "0.800000       9\n",
            "0.400000       9\n",
            "0.625000       8\n",
            "0.285714       8\n",
            "0.555556       7\n",
            "0.777778       6\n",
            "0.444444       5\n",
            "Name: PURCHASES_FREQUENCY, dtype: int64\n",
            "0.000000    4302\n",
            "0.083333    1104\n",
            "0.166667     592\n",
            "1.000000     481\n",
            "0.250000     418\n",
            "0.333333     355\n",
            "0.416667     244\n",
            "0.500000     235\n",
            "0.583333     197\n",
            "0.666667     167\n",
            "0.916667     151\n",
            "0.750000     142\n",
            "0.833333     120\n",
            "0.090909      56\n",
            "0.125000      41\n",
            "0.100000      39\n",
            "0.142857      37\n",
            "0.181818      34\n",
            "0.200000      27\n",
            "0.111111      26\n",
            "0.454545      13\n",
            "0.363636      13\n",
            "0.222222      12\n",
            "0.272727      12\n",
            "0.571429      11\n",
            "0.375000      11\n",
            "0.300000      10\n",
            "0.818182      10\n",
            "0.285714       9\n",
            "0.428571       8\n",
            "0.545455       8\n",
            "0.600000       7\n",
            "0.636364       7\n",
            "0.714286       7\n",
            "0.727273       6\n",
            "0.875000       6\n",
            "0.400000       5\n",
            "0.909091       4\n",
            "0.444444       4\n",
            "0.800000       4\n",
            "0.700000       4\n",
            "0.625000       3\n",
            "0.888889       2\n",
            "0.777778       2\n",
            "0.555556       2\n",
            "0.900000       1\n",
            "0.857143       1\n",
            "Name: ONEOFF_PURCHASES_FREQUENCY, dtype: int64\n",
            "0.000000    3915\n",
            "1.000000    1331\n",
            "0.416667     388\n",
            "0.916667     345\n",
            "0.833333     311\n",
            "0.500000     310\n",
            "0.166667     305\n",
            "0.666667     292\n",
            "0.750000     291\n",
            "0.083333     275\n",
            "0.250000     255\n",
            "0.333333     255\n",
            "0.583333     225\n",
            "0.857143      30\n",
            "0.888889      28\n",
            "0.875000      28\n",
            "0.909091      25\n",
            "0.714286      22\n",
            "0.818182      21\n",
            "0.454545      19\n",
            "0.900000      19\n",
            "0.800000      18\n",
            "0.636364      16\n",
            "0.181818      14\n",
            "0.777778      13\n",
            "0.272727      13\n",
            "0.545455      13\n",
            "0.090909      12\n",
            "0.600000      12\n",
            "0.363636      11\n",
            "0.700000      11\n",
            "0.300000      10\n",
            "0.625000      10\n",
            "0.571429      10\n",
            "0.555556      10\n",
            "0.200000       9\n",
            "0.111111       9\n",
            "0.727273       9\n",
            "0.285714       9\n",
            "0.400000       8\n",
            "0.444444       8\n",
            "0.428571       7\n",
            "0.142857       6\n",
            "0.375000       6\n",
            "0.100000       6\n",
            "0.222222       5\n",
            "0.125000       5\n",
            "Name: PURCHASES_INSTALLMENTS_FREQUENCY, dtype: int64\n",
            "0.000000    4628\n",
            "0.083333    1021\n",
            "0.166667     759\n",
            "0.250000     578\n",
            "0.333333     439\n",
            "0.416667     273\n",
            "0.500000     215\n",
            "0.583333     142\n",
            "0.666667     125\n",
            "0.090909      70\n",
            "0.750000      63\n",
            "0.142857      49\n",
            "0.833333      48\n",
            "0.125000      47\n",
            "0.181818      42\n",
            "0.100000      39\n",
            "0.272727      38\n",
            "0.285714      30\n",
            "0.111111      29\n",
            "0.916667      27\n",
            "1.000000      25\n",
            "0.300000      23\n",
            "0.428571      21\n",
            "0.200000      21\n",
            "0.363636      20\n",
            "0.222222      18\n",
            "0.400000      15\n",
            "0.444444      15\n",
            "0.454545      14\n",
            "0.571429      12\n",
            "0.555556      12\n",
            "0.375000      11\n",
            "0.545455      10\n",
            "0.600000       9\n",
            "0.636364       8\n",
            "0.727273       8\n",
            "0.800000       6\n",
            "0.625000       5\n",
            "0.875000       5\n",
            "0.857143       5\n",
            "0.714286       4\n",
            "0.777778       3\n",
            "0.909091       3\n",
            "0.888889       2\n",
            "0.900000       2\n",
            "0.818182       2\n",
            "1.166667       2\n",
            "1.500000       1\n",
            "1.250000       1\n",
            "1.142857       1\n",
            "1.090909       1\n",
            "1.100000       1\n",
            "0.700000       1\n",
            "1.125000       1\n",
            "Name: CASH_ADVANCE_FREQUENCY, dtype: int64\n",
            "0      4628\n",
            "1       887\n",
            "2       620\n",
            "3       436\n",
            "4       384\n",
            "       ... \n",
            "69        1\n",
            "93        1\n",
            "46        1\n",
            "110       1\n",
            "71        1\n",
            "Name: CASH_ADVANCE_TRX, Length: 65, dtype: int64\n",
            "0      2044\n",
            "1       667\n",
            "12      570\n",
            "2       379\n",
            "6       352\n",
            "       ... \n",
            "274       1\n",
            "186       1\n",
            "273       1\n",
            "217       1\n",
            "147       1\n",
            "Name: PURCHASES_TRX, Length: 173, dtype: int64\n",
            "3000.0    784\n",
            "1500.0    722\n",
            "1200.0    621\n",
            "1000.0    614\n",
            "2500.0    612\n",
            "         ... \n",
            "50.0        1\n",
            "9700.0      1\n",
            "6850.0      1\n",
            "5450.0      1\n",
            "3650.0      1\n",
            "Name: CREDIT_LIMIT, Length: 205, dtype: int64\n",
            "0.000000       240\n",
            "806.587482       1\n",
            "836.812414       1\n",
            "139.607827       1\n",
            "107.242408       1\n",
            "              ... \n",
            "3556.432004      1\n",
            "2093.551911      1\n",
            "3396.558042      1\n",
            "227.392057       1\n",
            "1656.726415      1\n",
            "Name: PAYMENTS, Length: 8711, dtype: int64\n",
            "299.351881     2\n",
            "3.197940       1\n",
            "111.691332     1\n",
            "129.682608     1\n",
            "872.760983     1\n",
            "              ..\n",
            "1227.773229    1\n",
            "127.210691     1\n",
            "6422.472544    1\n",
            "471.940554     1\n",
            "189.459157     1\n",
            "Name: MINIMUM_PAYMENTS, Length: 8636, dtype: int64\n",
            "0.000000    5903\n",
            "1.000000     488\n",
            "0.083333     426\n",
            "0.166667     166\n",
            "0.250000     156\n",
            "0.500000     156\n",
            "0.090909     153\n",
            "0.333333     134\n",
            "0.100000      94\n",
            "0.200000      83\n",
            "0.666667      78\n",
            "0.916667      77\n",
            "0.181818      75\n",
            "0.750000      68\n",
            "0.833333      63\n",
            "0.111111      61\n",
            "0.142857      54\n",
            "0.125000      52\n",
            "0.416667      44\n",
            "0.400000      42\n",
            "0.300000      40\n",
            "0.454545      36\n",
            "0.272727      35\n",
            "0.800000      33\n",
            "0.363636      32\n",
            "0.583333      31\n",
            "0.600000      28\n",
            "0.545455      27\n",
            "0.636364      26\n",
            "0.285714      24\n",
            "0.727273      22\n",
            "0.222222      20\n",
            "0.714286      19\n",
            "0.777778      19\n",
            "0.909091      19\n",
            "0.875000      18\n",
            "0.818182      17\n",
            "0.444444      17\n",
            "0.900000      16\n",
            "0.571429      14\n",
            "0.428571      14\n",
            "0.375000      13\n",
            "0.857143      12\n",
            "0.888889      12\n",
            "0.700000      12\n",
            "0.555556      12\n",
            "0.625000       9\n",
            "Name: PRC_FULL_PAYMENT, dtype: int64\n",
            "12    7584\n",
            "11     365\n",
            "10     236\n",
            "6      204\n",
            "8      196\n",
            "7      190\n",
            "9      175\n",
            "Name: TENURE, dtype: int64\n"
          ],
          "name": "stdout"
        }
      ]
    },
    {
      "cell_type": "code",
      "metadata": {
        "id": "Y0VIlkWsm1Uc"
      },
      "source": [
        "ls = []\n",
        "for i in df['MINIMUM_PAYMENTS']:\n",
        "  if str(i)==str(df[df['MINIMUM_PAYMENTS'].isna()==True]['MINIMUM_PAYMENTS'].iloc[1]):\n",
        "    ls.append(df['MINIMUM_PAYMENTS'].mode()[0])\n",
        "  else:\n",
        "    ls.append(i)"
      ],
      "execution_count": 52,
      "outputs": []
    },
    {
      "cell_type": "code",
      "metadata": {
        "colab": {
          "base_uri": "https://localhost:8080/"
        },
        "id": "2j6SWp9loQ6Y",
        "outputId": "1f7c0e98-bc50-4f20-aebd-969ecd1743eb"
      },
      "source": [
        "df[df['MINIMUM_PAYMENTS'].isna()==True]['MINIMUM_PAYMENTS'].iloc[1]"
      ],
      "execution_count": 53,
      "outputs": [
        {
          "output_type": "execute_result",
          "data": {
            "text/plain": [
              "nan"
            ]
          },
          "metadata": {
            "tags": []
          },
          "execution_count": 53
        }
      ]
    },
    {
      "cell_type": "code",
      "metadata": {
        "colab": {
          "base_uri": "https://localhost:8080/"
        },
        "id": "O-wsHfQmoeIb",
        "outputId": "ce363f76-4b92-4d88-e9d4-538b253a5d16"
      },
      "source": [
        "len(ls)"
      ],
      "execution_count": 54,
      "outputs": [
        {
          "output_type": "execute_result",
          "data": {
            "text/plain": [
              "8950"
            ]
          },
          "metadata": {
            "tags": []
          },
          "execution_count": 54
        }
      ]
    },
    {
      "cell_type": "code",
      "metadata": {
        "id": "fHb4LJgopQH_"
      },
      "source": [
        "df['MINIMUM_PAYMENTS'] = ls"
      ],
      "execution_count": 55,
      "outputs": []
    },
    {
      "cell_type": "code",
      "metadata": {
        "id": "HovqSgLBp3WM"
      },
      "source": [
        "ls = []\n",
        "for i in df['CREDIT_LIMIT']:\n",
        "  if str(i)==str(df[df['CREDIT_LIMIT'].isna()==True]['CREDIT_LIMIT'].iloc[0]):\n",
        "    ls.append(df['CREDIT_LIMIT'].mode()[0])\n",
        "  else:\n",
        "    ls.append(i)"
      ],
      "execution_count": 56,
      "outputs": []
    },
    {
      "cell_type": "code",
      "metadata": {
        "id": "ZLVDAuRWqVSl"
      },
      "source": [
        "df['CREDIT_LIMIT'] = ls"
      ],
      "execution_count": 57,
      "outputs": []
    },
    {
      "cell_type": "code",
      "metadata": {
        "colab": {
          "base_uri": "https://localhost:8080/"
        },
        "id": "Ug6Duf0tqb9n",
        "outputId": "dce808fd-8e24-4f28-aa9f-01cf7557a592"
      },
      "source": [
        "df.isna().sum()/df.shape[0]"
      ],
      "execution_count": 58,
      "outputs": [
        {
          "output_type": "execute_result",
          "data": {
            "text/plain": [
              "BALANCE                             0.0\n",
              "BALANCE_FREQUENCY                   0.0\n",
              "PURCHASES                           0.0\n",
              "ONEOFF_PURCHASES                    0.0\n",
              "INSTALLMENTS_PURCHASES              0.0\n",
              "CASH_ADVANCE                        0.0\n",
              "PURCHASES_FREQUENCY                 0.0\n",
              "ONEOFF_PURCHASES_FREQUENCY          0.0\n",
              "PURCHASES_INSTALLMENTS_FREQUENCY    0.0\n",
              "CASH_ADVANCE_FREQUENCY              0.0\n",
              "CASH_ADVANCE_TRX                    0.0\n",
              "PURCHASES_TRX                       0.0\n",
              "CREDIT_LIMIT                        0.0\n",
              "PAYMENTS                            0.0\n",
              "MINIMUM_PAYMENTS                    0.0\n",
              "PRC_FULL_PAYMENT                    0.0\n",
              "TENURE                              0.0\n",
              "dtype: float64"
            ]
          },
          "metadata": {
            "tags": []
          },
          "execution_count": 58
        }
      ]
    },
    {
      "cell_type": "code",
      "metadata": {
        "colab": {
          "base_uri": "https://localhost:8080/"
        },
        "id": "NVHBdKK3raXy",
        "outputId": "ba70eec5-75b6-4dd2-9592-7dfc9716035d"
      },
      "source": [
        "for i in df.columns:\n",
        "  mean = np.mean(df[i])\n",
        "  std = np.std(df[i])\n",
        "  print(color.YELLOW,f'mean of the {i} is', mean,color.END)\n",
        "  print(\"-+_+_+_+_+_+__+_+_+_+_+__+_+_+_-\")\n",
        "  print(\"-+_+_+_+_+_+__+_+_+_+_+__+_+_+_-\")\n"
      ],
      "execution_count": 59,
      "outputs": [
        {
          "output_type": "stream",
          "text": [
            "\u001b[93m mean of the BALANCE is 1564.4748276781038 \u001b[0m\n",
            "-+_+_+_+_+_+__+_+_+_+_+__+_+_+_-\n",
            "-+_+_+_+_+_+__+_+_+_+_+__+_+_+_-\n",
            "\u001b[93m mean of the BALANCE_FREQUENCY is 0.8772707255865991 \u001b[0m\n",
            "-+_+_+_+_+_+__+_+_+_+_+__+_+_+_-\n",
            "-+_+_+_+_+_+__+_+_+_+_+__+_+_+_-\n",
            "\u001b[93m mean of the PURCHASES is 1003.2048335195564 \u001b[0m\n",
            "-+_+_+_+_+_+__+_+_+_+_+__+_+_+_-\n",
            "-+_+_+_+_+_+__+_+_+_+_+__+_+_+_-\n",
            "\u001b[93m mean of the ONEOFF_PURCHASES is 592.437370949722 \u001b[0m\n",
            "-+_+_+_+_+_+__+_+_+_+_+__+_+_+_-\n",
            "-+_+_+_+_+_+__+_+_+_+_+__+_+_+_-\n",
            "\u001b[93m mean of the INSTALLMENTS_PURCHASES is 411.06764469273713 \u001b[0m\n",
            "-+_+_+_+_+_+__+_+_+_+_+__+_+_+_-\n",
            "-+_+_+_+_+_+__+_+_+_+_+__+_+_+_-\n",
            "\u001b[93m mean of the CASH_ADVANCE is 978.8711124654749 \u001b[0m\n",
            "-+_+_+_+_+_+__+_+_+_+_+__+_+_+_-\n",
            "-+_+_+_+_+_+__+_+_+_+_+__+_+_+_-\n",
            "\u001b[93m mean of the PURCHASES_FREQUENCY is 0.4903505483798885 \u001b[0m\n",
            "-+_+_+_+_+_+__+_+_+_+_+__+_+_+_-\n",
            "-+_+_+_+_+_+__+_+_+_+_+__+_+_+_-\n",
            "\u001b[93m mean of the ONEOFF_PURCHASES_FREQUENCY is 0.20245768357542138 \u001b[0m\n",
            "-+_+_+_+_+_+__+_+_+_+_+__+_+_+_-\n",
            "-+_+_+_+_+_+__+_+_+_+_+__+_+_+_-\n",
            "\u001b[93m mean of the PURCHASES_INSTALLMENTS_FREQUENCY is 0.3644373415642452 \u001b[0m\n",
            "-+_+_+_+_+_+__+_+_+_+_+__+_+_+_-\n",
            "-+_+_+_+_+_+__+_+_+_+_+__+_+_+_-\n",
            "\u001b[93m mean of the CASH_ADVANCE_FREQUENCY is 0.1351442003351972 \u001b[0m\n",
            "-+_+_+_+_+_+__+_+_+_+_+__+_+_+_-\n",
            "-+_+_+_+_+_+__+_+_+_+_+__+_+_+_-\n",
            "\u001b[93m mean of the CASH_ADVANCE_TRX is 3.2488268156424582 \u001b[0m\n",
            "-+_+_+_+_+_+__+_+_+_+_+__+_+_+_-\n",
            "-+_+_+_+_+_+__+_+_+_+_+__+_+_+_-\n",
            "\u001b[93m mean of the PURCHASES_TRX is 14.709832402234637 \u001b[0m\n",
            "-+_+_+_+_+_+__+_+_+_+_+__+_+_+_-\n",
            "-+_+_+_+_+_+__+_+_+_+_+__+_+_+_-\n",
            "\u001b[93m mean of the CREDIT_LIMIT is 4494.282472772402 \u001b[0m\n",
            "-+_+_+_+_+_+__+_+_+_+_+__+_+_+_-\n",
            "-+_+_+_+_+_+__+_+_+_+_+__+_+_+_-\n",
            "\u001b[93m mean of the PAYMENTS is 1733.1438520248041 \u001b[0m\n",
            "-+_+_+_+_+_+__+_+_+_+_+__+_+_+_-\n",
            "-+_+_+_+_+_+__+_+_+_+_+__+_+_+_-\n",
            "\u001b[93m mean of the MINIMUM_PAYMENTS is 844.4524072225735 \u001b[0m\n",
            "-+_+_+_+_+_+__+_+_+_+_+__+_+_+_-\n",
            "-+_+_+_+_+_+__+_+_+_+_+__+_+_+_-\n",
            "\u001b[93m mean of the PRC_FULL_PAYMENT is 0.1537146484916212 \u001b[0m\n",
            "-+_+_+_+_+_+__+_+_+_+_+__+_+_+_-\n",
            "-+_+_+_+_+_+__+_+_+_+_+__+_+_+_-\n",
            "\u001b[93m mean of the TENURE is 11.51731843575419 \u001b[0m\n",
            "-+_+_+_+_+_+__+_+_+_+_+__+_+_+_-\n",
            "-+_+_+_+_+_+__+_+_+_+_+__+_+_+_-\n"
          ],
          "name": "stdout"
        }
      ]
    },
    {
      "cell_type": "code",
      "metadata": {
        "id": "gA6xt06wr4-w"
      },
      "source": [
        "from scipy.stats import zscore\n",
        "zs = zscore(df)"
      ],
      "execution_count": 60,
      "outputs": []
    },
    {
      "cell_type": "code",
      "metadata": {
        "id": "L0KPr4XMtoRn"
      },
      "source": [
        "abszs = np.abs(zs)"
      ],
      "execution_count": 61,
      "outputs": []
    },
    {
      "cell_type": "code",
      "metadata": {
        "id": "FAnEYourv8BZ"
      },
      "source": [
        "fltr = (abszs < 3).all(axis=1)"
      ],
      "execution_count": 62,
      "outputs": []
    },
    {
      "cell_type": "code",
      "metadata": {
        "id": "MCbNL0alxlYP"
      },
      "source": [
        "df = df[fltr]"
      ],
      "execution_count": 63,
      "outputs": []
    },
    {
      "cell_type": "code",
      "metadata": {
        "colab": {
          "base_uri": "https://localhost:8080/",
          "height": 1000
        },
        "id": "57CK7KT4xypv",
        "outputId": "fb76bced-6d26-4813-ffe6-16ef7e592f05"
      },
      "source": [
        "plt.figure(figsize=(15,15))\n",
        "sns.heatmap(df.corr(),annot=True)"
      ],
      "execution_count": 64,
      "outputs": [
        {
          "output_type": "execute_result",
          "data": {
            "text/plain": [
              "<matplotlib.axes._subplots.AxesSubplot at 0x7fd909bcae90>"
            ]
          },
          "metadata": {
            "tags": []
          },
          "execution_count": 64
        },
        {
          "output_type": "display_data",
          "data": {
            "image/png": "[encoded data removed]",
            "text/plain": [
              "<Figure size 1080x1080 with 2 Axes>"
            ]
          },
          "metadata": {
            "tags": [],
            "needs_background": "light"
          }
        }
      ]
    },
    {
      "cell_type": "code",
      "metadata": {
        "id": "SrSs0ejLyDDA"
      },
      "source": [
        "corr_matrix = df.corr().abs()"
      ],
      "execution_count": 65,
      "outputs": []
    },
    {
      "cell_type": "code",
      "metadata": {
        "colab": {
          "base_uri": "https://localhost:8080/",
          "height": 574
        },
        "id": "MzMSp69Sy_N9",
        "outputId": "c0e344f4-9cfd-4a52-ad74-48bb10ae4c9a"
      },
      "source": [
        "corr_matrix"
      ],
      "execution_count": 66,
      "outputs": [
        {
          "output_type": "execute_result",
          "data": {
            "text/html": [
              "<div>\n",
              "<style scoped>\n",
              "    .dataframe tbody tr th:only-of-type {\n",
              "        vertical-align: middle;\n",
              "    }\n",
              "\n",
              "    .dataframe tbody tr th {\n",
              "        vertical-align: top;\n",
              "    }\n",
              "\n",
              "    .dataframe thead th {\n",
              "        text-align: right;\n",
              "    }\n",
              "</style>\n",
              "<table border=\"1\" class=\"dataframe\">\n",
              "  <thead>\n",
              "    <tr style=\"text-align: right;\">\n",
              "      <th></th>\n",
              "      <th>BALANCE</th>\n",
              "      <th>BALANCE_FREQUENCY</th>\n",
              "      <th>PURCHASES</th>\n",
              "      <th>ONEOFF_PURCHASES</th>\n",
              "      <th>INSTALLMENTS_PURCHASES</th>\n",
              "      <th>CASH_ADVANCE</th>\n",
              "      <th>PURCHASES_FREQUENCY</th>\n",
              "      <th>ONEOFF_PURCHASES_FREQUENCY</th>\n",
              "      <th>PURCHASES_INSTALLMENTS_FREQUENCY</th>\n",
              "      <th>CASH_ADVANCE_FREQUENCY</th>\n",
              "      <th>CASH_ADVANCE_TRX</th>\n",
              "      <th>PURCHASES_TRX</th>\n",
              "      <th>CREDIT_LIMIT</th>\n",
              "      <th>PAYMENTS</th>\n",
              "      <th>MINIMUM_PAYMENTS</th>\n",
              "      <th>PRC_FULL_PAYMENT</th>\n",
              "      <th>TENURE</th>\n",
              "    </tr>\n",
              "  </thead>\n",
              "  <tbody>\n",
              "    <tr>\n",
              "      <th>BALANCE</th>\n",
              "      <td>1.000000</td>\n",
              "      <td>0.349404</td>\n",
              "      <td>0.042223</td>\n",
              "      <td>0.078321</td>\n",
              "      <td>0.037524</td>\n",
              "      <td>0.509312</td>\n",
              "      <td>0.145517</td>\n",
              "      <td>0.029860</td>\n",
              "      <td>0.139821</td>\n",
              "      <td>0.466543</td>\n",
              "      <td>0.435774</td>\n",
              "      <td>0.009701</td>\n",
              "      <td>0.400751</td>\n",
              "      <td>0.240485</td>\n",
              "      <td>0.613979</td>\n",
              "      <td>0.377288</td>\n",
              "      <td>0.057468</td>\n",
              "    </tr>\n",
              "    <tr>\n",
              "      <th>BALANCE_FREQUENCY</th>\n",
              "      <td>0.349404</td>\n",
              "      <td>1.000000</td>\n",
              "      <td>0.152808</td>\n",
              "      <td>0.113488</td>\n",
              "      <td>0.131446</td>\n",
              "      <td>0.085043</td>\n",
              "      <td>0.226480</td>\n",
              "      <td>0.178007</td>\n",
              "      <td>0.177131</td>\n",
              "      <td>0.186005</td>\n",
              "      <td>0.147070</td>\n",
              "      <td>0.210446</td>\n",
              "      <td>0.067577</td>\n",
              "      <td>0.061599</td>\n",
              "      <td>0.245783</td>\n",
              "      <td>0.159424</td>\n",
              "      <td>0.104624</td>\n",
              "    </tr>\n",
              "    <tr>\n",
              "      <th>PURCHASES</th>\n",
              "      <td>0.042223</td>\n",
              "      <td>0.152808</td>\n",
              "      <td>1.000000</td>\n",
              "      <td>0.875720</td>\n",
              "      <td>0.652988</td>\n",
              "      <td>0.143448</td>\n",
              "      <td>0.555402</td>\n",
              "      <td>0.611340</td>\n",
              "      <td>0.412956</td>\n",
              "      <td>0.197785</td>\n",
              "      <td>0.158409</td>\n",
              "      <td>0.744789</td>\n",
              "      <td>0.298157</td>\n",
              "      <td>0.438270</td>\n",
              "      <td>0.042090</td>\n",
              "      <td>0.194430</td>\n",
              "      <td>0.072604</td>\n",
              "    </tr>\n",
              "    <tr>\n",
              "      <th>ONEOFF_PURCHASES</th>\n",
              "      <td>0.078321</td>\n",
              "      <td>0.113488</td>\n",
              "      <td>0.875720</td>\n",
              "      <td>1.000000</td>\n",
              "      <td>0.206243</td>\n",
              "      <td>0.089704</td>\n",
              "      <td>0.337738</td>\n",
              "      <td>0.692882</td>\n",
              "      <td>0.095937</td>\n",
              "      <td>0.122729</td>\n",
              "      <td>0.097218</td>\n",
              "      <td>0.552959</td>\n",
              "      <td>0.284639</td>\n",
              "      <td>0.401436</td>\n",
              "      <td>0.016201</td>\n",
              "      <td>0.102127</td>\n",
              "      <td>0.045241</td>\n",
              "    </tr>\n",
              "    <tr>\n",
              "      <th>INSTALLMENTS_PURCHASES</th>\n",
              "      <td>0.037524</td>\n",
              "      <td>0.131446</td>\n",
              "      <td>0.652988</td>\n",
              "      <td>0.206243</td>\n",
              "      <td>1.000000</td>\n",
              "      <td>0.150261</td>\n",
              "      <td>0.596025</td>\n",
              "      <td>0.152086</td>\n",
              "      <td>0.686644</td>\n",
              "      <td>0.208456</td>\n",
              "      <td>0.168699</td>\n",
              "      <td>0.642291</td>\n",
              "      <td>0.157688</td>\n",
              "      <td>0.258346</td>\n",
              "      <td>0.059759</td>\n",
              "      <td>0.233630</td>\n",
              "      <td>0.076047</td>\n",
              "    </tr>\n",
              "    <tr>\n",
              "      <th>CASH_ADVANCE</th>\n",
              "      <td>0.509312</td>\n",
              "      <td>0.085043</td>\n",
              "      <td>0.143448</td>\n",
              "      <td>0.089704</td>\n",
              "      <td>0.150261</td>\n",
              "      <td>1.000000</td>\n",
              "      <td>0.287348</td>\n",
              "      <td>0.123338</td>\n",
              "      <td>0.238911</td>\n",
              "      <td>0.671845</td>\n",
              "      <td>0.694980</td>\n",
              "      <td>0.173397</td>\n",
              "      <td>0.221555</td>\n",
              "      <td>0.345054</td>\n",
              "      <td>0.268144</td>\n",
              "      <td>0.203739</td>\n",
              "      <td>0.086218</td>\n",
              "    </tr>\n",
              "    <tr>\n",
              "      <th>PURCHASES_FREQUENCY</th>\n",
              "      <td>0.145517</td>\n",
              "      <td>0.226480</td>\n",
              "      <td>0.555402</td>\n",
              "      <td>0.337738</td>\n",
              "      <td>0.596025</td>\n",
              "      <td>0.287348</td>\n",
              "      <td>1.000000</td>\n",
              "      <td>0.478305</td>\n",
              "      <td>0.855422</td>\n",
              "      <td>0.354882</td>\n",
              "      <td>0.293949</td>\n",
              "      <td>0.725113</td>\n",
              "      <td>0.118490</td>\n",
              "      <td>0.108915</td>\n",
              "      <td>0.036426</td>\n",
              "      <td>0.307606</td>\n",
              "      <td>0.053851</td>\n",
              "    </tr>\n",
              "    <tr>\n",
              "      <th>ONEOFF_PURCHASES_FREQUENCY</th>\n",
              "      <td>0.029860</td>\n",
              "      <td>0.178007</td>\n",
              "      <td>0.611340</td>\n",
              "      <td>0.692882</td>\n",
              "      <td>0.152086</td>\n",
              "      <td>0.123338</td>\n",
              "      <td>0.478305</td>\n",
              "      <td>1.000000</td>\n",
              "      <td>0.078747</td>\n",
              "      <td>0.139606</td>\n",
              "      <td>0.116999</td>\n",
              "      <td>0.582221</td>\n",
              "      <td>0.274026</td>\n",
              "      <td>0.247869</td>\n",
              "      <td>0.025753</td>\n",
              "      <td>0.129034</td>\n",
              "      <td>0.061977</td>\n",
              "    </tr>\n",
              "    <tr>\n",
              "      <th>PURCHASES_INSTALLMENTS_FREQUENCY</th>\n",
              "      <td>0.139821</td>\n",
              "      <td>0.177131</td>\n",
              "      <td>0.412956</td>\n",
              "      <td>0.095937</td>\n",
              "      <td>0.686644</td>\n",
              "      <td>0.238911</td>\n",
              "      <td>0.855422</td>\n",
              "      <td>0.078747</td>\n",
              "      <td>1.000000</td>\n",
              "      <td>0.295972</td>\n",
              "      <td>0.245211</td>\n",
              "      <td>0.643047</td>\n",
              "      <td>0.035968</td>\n",
              "      <td>0.066594</td>\n",
              "      <td>0.014938</td>\n",
              "      <td>0.256354</td>\n",
              "      <td>0.054076</td>\n",
              "    </tr>\n",
              "    <tr>\n",
              "      <th>CASH_ADVANCE_FREQUENCY</th>\n",
              "      <td>0.466543</td>\n",
              "      <td>0.186005</td>\n",
              "      <td>0.197785</td>\n",
              "      <td>0.122729</td>\n",
              "      <td>0.208456</td>\n",
              "      <td>0.671845</td>\n",
              "      <td>0.354882</td>\n",
              "      <td>0.139606</td>\n",
              "      <td>0.295972</td>\n",
              "      <td>1.000000</td>\n",
              "      <td>0.882863</td>\n",
              "      <td>0.205582</td>\n",
              "      <td>0.056598</td>\n",
              "      <td>0.173954</td>\n",
              "      <td>0.249796</td>\n",
              "      <td>0.272413</td>\n",
              "      <td>0.078395</td>\n",
              "    </tr>\n",
              "    <tr>\n",
              "      <th>CASH_ADVANCE_TRX</th>\n",
              "      <td>0.435774</td>\n",
              "      <td>0.147070</td>\n",
              "      <td>0.158409</td>\n",
              "      <td>0.097218</td>\n",
              "      <td>0.168699</td>\n",
              "      <td>0.694980</td>\n",
              "      <td>0.293949</td>\n",
              "      <td>0.116999</td>\n",
              "      <td>0.245211</td>\n",
              "      <td>0.882863</td>\n",
              "      <td>1.000000</td>\n",
              "      <td>0.163697</td>\n",
              "      <td>0.073034</td>\n",
              "      <td>0.203713</td>\n",
              "      <td>0.265948</td>\n",
              "      <td>0.229574</td>\n",
              "      <td>0.046225</td>\n",
              "    </tr>\n",
              "    <tr>\n",
              "      <th>PURCHASES_TRX</th>\n",
              "      <td>0.009701</td>\n",
              "      <td>0.210446</td>\n",
              "      <td>0.744789</td>\n",
              "      <td>0.552959</td>\n",
              "      <td>0.642291</td>\n",
              "      <td>0.173397</td>\n",
              "      <td>0.725113</td>\n",
              "      <td>0.582221</td>\n",
              "      <td>0.643047</td>\n",
              "      <td>0.205582</td>\n",
              "      <td>0.163697</td>\n",
              "      <td>1.000000</td>\n",
              "      <td>0.210458</td>\n",
              "      <td>0.285237</td>\n",
              "      <td>0.042356</td>\n",
              "      <td>0.193050</td>\n",
              "      <td>0.103801</td>\n",
              "    </tr>\n",
              "    <tr>\n",
              "      <th>CREDIT_LIMIT</th>\n",
              "      <td>0.400751</td>\n",
              "      <td>0.067577</td>\n",
              "      <td>0.298157</td>\n",
              "      <td>0.284639</td>\n",
              "      <td>0.157688</td>\n",
              "      <td>0.221555</td>\n",
              "      <td>0.118490</td>\n",
              "      <td>0.274026</td>\n",
              "      <td>0.035968</td>\n",
              "      <td>0.056598</td>\n",
              "      <td>0.073034</td>\n",
              "      <td>0.210458</td>\n",
              "      <td>1.000000</td>\n",
              "      <td>0.318646</td>\n",
              "      <td>0.128202</td>\n",
              "      <td>0.062309</td>\n",
              "      <td>0.114121</td>\n",
              "    </tr>\n",
              "    <tr>\n",
              "      <th>PAYMENTS</th>\n",
              "      <td>0.240485</td>\n",
              "      <td>0.061599</td>\n",
              "      <td>0.438270</td>\n",
              "      <td>0.401436</td>\n",
              "      <td>0.258346</td>\n",
              "      <td>0.345054</td>\n",
              "      <td>0.108915</td>\n",
              "      <td>0.247869</td>\n",
              "      <td>0.066594</td>\n",
              "      <td>0.173954</td>\n",
              "      <td>0.203713</td>\n",
              "      <td>0.285237</td>\n",
              "      <td>0.318646</td>\n",
              "      <td>1.000000</td>\n",
              "      <td>0.186093</td>\n",
              "      <td>0.081142</td>\n",
              "      <td>0.094779</td>\n",
              "    </tr>\n",
              "    <tr>\n",
              "      <th>MINIMUM_PAYMENTS</th>\n",
              "      <td>0.613979</td>\n",
              "      <td>0.245783</td>\n",
              "      <td>0.042090</td>\n",
              "      <td>0.016201</td>\n",
              "      <td>0.059759</td>\n",
              "      <td>0.268144</td>\n",
              "      <td>0.036426</td>\n",
              "      <td>0.025753</td>\n",
              "      <td>0.014938</td>\n",
              "      <td>0.249796</td>\n",
              "      <td>0.265948</td>\n",
              "      <td>0.042356</td>\n",
              "      <td>0.128202</td>\n",
              "      <td>0.186093</td>\n",
              "      <td>1.000000</td>\n",
              "      <td>0.254216</td>\n",
              "      <td>0.063044</td>\n",
              "    </tr>\n",
              "    <tr>\n",
              "      <th>PRC_FULL_PAYMENT</th>\n",
              "      <td>0.377288</td>\n",
              "      <td>0.159424</td>\n",
              "      <td>0.194430</td>\n",
              "      <td>0.102127</td>\n",
              "      <td>0.233630</td>\n",
              "      <td>0.203739</td>\n",
              "      <td>0.307606</td>\n",
              "      <td>0.129034</td>\n",
              "      <td>0.256354</td>\n",
              "      <td>0.272413</td>\n",
              "      <td>0.229574</td>\n",
              "      <td>0.193050</td>\n",
              "      <td>0.062309</td>\n",
              "      <td>0.081142</td>\n",
              "      <td>0.254216</td>\n",
              "      <td>1.000000</td>\n",
              "      <td>0.017408</td>\n",
              "    </tr>\n",
              "    <tr>\n",
              "      <th>TENURE</th>\n",
              "      <td>0.057468</td>\n",
              "      <td>0.104624</td>\n",
              "      <td>0.072604</td>\n",
              "      <td>0.045241</td>\n",
              "      <td>0.076047</td>\n",
              "      <td>0.086218</td>\n",
              "      <td>0.053851</td>\n",
              "      <td>0.061977</td>\n",
              "      <td>0.054076</td>\n",
              "      <td>0.078395</td>\n",
              "      <td>0.046225</td>\n",
              "      <td>0.103801</td>\n",
              "      <td>0.114121</td>\n",
              "      <td>0.094779</td>\n",
              "      <td>0.063044</td>\n",
              "      <td>0.017408</td>\n",
              "      <td>1.000000</td>\n",
              "    </tr>\n",
              "  </tbody>\n",
              "</table>\n",
              "</div>"
            ],
            "text/plain": [
              "                                   BALANCE  ...    TENURE\n",
              "BALANCE                           1.000000  ...  0.057468\n",
              "BALANCE_FREQUENCY                 0.349404  ...  0.104624\n",
              "PURCHASES                         0.042223  ...  0.072604\n",
              "ONEOFF_PURCHASES                  0.078321  ...  0.045241\n",
              "INSTALLMENTS_PURCHASES            0.037524  ...  0.076047\n",
              "CASH_ADVANCE                      0.509312  ...  0.086218\n",
              "PURCHASES_FREQUENCY               0.145517  ...  0.053851\n",
              "ONEOFF_PURCHASES_FREQUENCY        0.029860  ...  0.061977\n",
              "PURCHASES_INSTALLMENTS_FREQUENCY  0.139821  ...  0.054076\n",
              "CASH_ADVANCE_FREQUENCY            0.466543  ...  0.078395\n",
              "CASH_ADVANCE_TRX                  0.435774  ...  0.046225\n",
              "PURCHASES_TRX                     0.009701  ...  0.103801\n",
              "CREDIT_LIMIT                      0.400751  ...  0.114121\n",
              "PAYMENTS                          0.240485  ...  0.094779\n",
              "MINIMUM_PAYMENTS                  0.613979  ...  0.063044\n",
              "PRC_FULL_PAYMENT                  0.377288  ...  0.017408\n",
              "TENURE                            0.057468  ...  1.000000\n",
              "\n",
              "[17 rows x 17 columns]"
            ]
          },
          "metadata": {
            "tags": []
          },
          "execution_count": 66
        }
      ]
    },
    {
      "cell_type": "code",
      "metadata": {
        "id": "mmyKBX1Q7aKN"
      },
      "source": [
        "df1 = pd.concat([df.iloc[:,:-1],pd.get_dummies(df['TENURE'],drop_first=False)],axis = 1)"
      ],
      "execution_count": 67,
      "outputs": []
    },
    {
      "cell_type": "code",
      "metadata": {
        "colab": {
          "base_uri": "https://localhost:8080/"
        },
        "id": "rMu4JWRHzA91",
        "outputId": "5efd4033-17a5-4e77-d285-deed3b7ead81"
      },
      "source": [
        "ls = []\n",
        "for i in corr_matrix.columns:\n",
        "  n = 0\n",
        "  for j in corr_matrix[i]:\n",
        "    if j>.75:\n",
        "      n += 1\n",
        "  if n!=0:\n",
        "    ls.append(i)\n",
        "if len(ls) == df.shape[1]:\n",
        "  print('Multicollinearity is present.')"
      ],
      "execution_count": 70,
      "outputs": [
        {
          "output_type": "stream",
          "text": [
            "Multicollinearity is present.\n"
          ],
          "name": "stdout"
        }
      ]
    },
    {
      "cell_type": "code",
      "metadata": {
        "colab": {
          "base_uri": "https://localhost:8080/",
          "height": 424
        },
        "id": "diEPk8kd-J_N",
        "outputId": "3b6ed567-d919-4e1c-d765-a6af4ec8b2bc"
      },
      "source": [
        "df1"
      ],
      "execution_count": 72,
      "outputs": [
        {
          "output_type": "execute_result",
          "data": {
            "text/html": [
              "<div>\n",
              "<style scoped>\n",
              "    .dataframe tbody tr th:only-of-type {\n",
              "        vertical-align: middle;\n",
              "    }\n",
              "\n",
              "    .dataframe tbody tr th {\n",
              "        vertical-align: top;\n",
              "    }\n",
              "\n",
              "    .dataframe thead th {\n",
              "        text-align: right;\n",
              "    }\n",
              "</style>\n",
              "<table border=\"1\" class=\"dataframe\">\n",
              "  <thead>\n",
              "    <tr style=\"text-align: right;\">\n",
              "      <th></th>\n",
              "      <th>BALANCE</th>\n",
              "      <th>BALANCE_FREQUENCY</th>\n",
              "      <th>PURCHASES</th>\n",
              "      <th>ONEOFF_PURCHASES</th>\n",
              "      <th>INSTALLMENTS_PURCHASES</th>\n",
              "      <th>CASH_ADVANCE</th>\n",
              "      <th>PURCHASES_FREQUENCY</th>\n",
              "      <th>ONEOFF_PURCHASES_FREQUENCY</th>\n",
              "      <th>PURCHASES_INSTALLMENTS_FREQUENCY</th>\n",
              "      <th>CASH_ADVANCE_FREQUENCY</th>\n",
              "      <th>CASH_ADVANCE_TRX</th>\n",
              "      <th>PURCHASES_TRX</th>\n",
              "      <th>CREDIT_LIMIT</th>\n",
              "      <th>PAYMENTS</th>\n",
              "      <th>MINIMUM_PAYMENTS</th>\n",
              "      <th>PRC_FULL_PAYMENT</th>\n",
              "      <th>8</th>\n",
              "      <th>9</th>\n",
              "      <th>10</th>\n",
              "      <th>11</th>\n",
              "      <th>12</th>\n",
              "    </tr>\n",
              "  </thead>\n",
              "  <tbody>\n",
              "    <tr>\n",
              "      <th>0</th>\n",
              "      <td>40.900749</td>\n",
              "      <td>0.818182</td>\n",
              "      <td>95.40</td>\n",
              "      <td>0.00</td>\n",
              "      <td>95.40</td>\n",
              "      <td>0.000000</td>\n",
              "      <td>0.166667</td>\n",
              "      <td>0.000000</td>\n",
              "      <td>0.083333</td>\n",
              "      <td>0.000000</td>\n",
              "      <td>0</td>\n",
              "      <td>2</td>\n",
              "      <td>1000.0</td>\n",
              "      <td>201.802084</td>\n",
              "      <td>139.509787</td>\n",
              "      <td>0.000000</td>\n",
              "      <td>0</td>\n",
              "      <td>0</td>\n",
              "      <td>0</td>\n",
              "      <td>0</td>\n",
              "      <td>1</td>\n",
              "    </tr>\n",
              "    <tr>\n",
              "      <th>1</th>\n",
              "      <td>3202.467416</td>\n",
              "      <td>0.909091</td>\n",
              "      <td>0.00</td>\n",
              "      <td>0.00</td>\n",
              "      <td>0.00</td>\n",
              "      <td>6442.945483</td>\n",
              "      <td>0.000000</td>\n",
              "      <td>0.000000</td>\n",
              "      <td>0.000000</td>\n",
              "      <td>0.250000</td>\n",
              "      <td>4</td>\n",
              "      <td>0</td>\n",
              "      <td>7000.0</td>\n",
              "      <td>4103.032597</td>\n",
              "      <td>1072.340217</td>\n",
              "      <td>0.222222</td>\n",
              "      <td>0</td>\n",
              "      <td>0</td>\n",
              "      <td>0</td>\n",
              "      <td>0</td>\n",
              "      <td>1</td>\n",
              "    </tr>\n",
              "    <tr>\n",
              "      <th>2</th>\n",
              "      <td>2495.148862</td>\n",
              "      <td>1.000000</td>\n",
              "      <td>773.17</td>\n",
              "      <td>773.17</td>\n",
              "      <td>0.00</td>\n",
              "      <td>0.000000</td>\n",
              "      <td>1.000000</td>\n",
              "      <td>1.000000</td>\n",
              "      <td>0.000000</td>\n",
              "      <td>0.000000</td>\n",
              "      <td>0</td>\n",
              "      <td>12</td>\n",
              "      <td>7500.0</td>\n",
              "      <td>622.066742</td>\n",
              "      <td>627.284787</td>\n",
              "      <td>0.000000</td>\n",
              "      <td>0</td>\n",
              "      <td>0</td>\n",
              "      <td>0</td>\n",
              "      <td>0</td>\n",
              "      <td>1</td>\n",
              "    </tr>\n",
              "    <tr>\n",
              "      <th>3</th>\n",
              "      <td>1666.670542</td>\n",
              "      <td>0.636364</td>\n",
              "      <td>1499.00</td>\n",
              "      <td>1499.00</td>\n",
              "      <td>0.00</td>\n",
              "      <td>205.788017</td>\n",
              "      <td>0.083333</td>\n",
              "      <td>0.083333</td>\n",
              "      <td>0.000000</td>\n",
              "      <td>0.083333</td>\n",
              "      <td>1</td>\n",
              "      <td>1</td>\n",
              "      <td>7500.0</td>\n",
              "      <td>0.000000</td>\n",
              "      <td>299.351881</td>\n",
              "      <td>0.000000</td>\n",
              "      <td>0</td>\n",
              "      <td>0</td>\n",
              "      <td>0</td>\n",
              "      <td>0</td>\n",
              "      <td>1</td>\n",
              "    </tr>\n",
              "    <tr>\n",
              "      <th>4</th>\n",
              "      <td>817.714335</td>\n",
              "      <td>1.000000</td>\n",
              "      <td>16.00</td>\n",
              "      <td>16.00</td>\n",
              "      <td>0.00</td>\n",
              "      <td>0.000000</td>\n",
              "      <td>0.083333</td>\n",
              "      <td>0.083333</td>\n",
              "      <td>0.000000</td>\n",
              "      <td>0.000000</td>\n",
              "      <td>0</td>\n",
              "      <td>1</td>\n",
              "      <td>1200.0</td>\n",
              "      <td>678.334763</td>\n",
              "      <td>244.791237</td>\n",
              "      <td>0.000000</td>\n",
              "      <td>0</td>\n",
              "      <td>0</td>\n",
              "      <td>0</td>\n",
              "      <td>0</td>\n",
              "      <td>1</td>\n",
              "    </tr>\n",
              "    <tr>\n",
              "      <th>...</th>\n",
              "      <td>...</td>\n",
              "      <td>...</td>\n",
              "      <td>...</td>\n",
              "      <td>...</td>\n",
              "      <td>...</td>\n",
              "      <td>...</td>\n",
              "      <td>...</td>\n",
              "      <td>...</td>\n",
              "      <td>...</td>\n",
              "      <td>...</td>\n",
              "      <td>...</td>\n",
              "      <td>...</td>\n",
              "      <td>...</td>\n",
              "      <td>...</td>\n",
              "      <td>...</td>\n",
              "      <td>...</td>\n",
              "      <td>...</td>\n",
              "      <td>...</td>\n",
              "      <td>...</td>\n",
              "      <td>...</td>\n",
              "      <td>...</td>\n",
              "    </tr>\n",
              "    <tr>\n",
              "      <th>8876</th>\n",
              "      <td>121.294493</td>\n",
              "      <td>0.750000</td>\n",
              "      <td>385.26</td>\n",
              "      <td>385.26</td>\n",
              "      <td>0.00</td>\n",
              "      <td>169.554775</td>\n",
              "      <td>0.500000</td>\n",
              "      <td>0.500000</td>\n",
              "      <td>0.000000</td>\n",
              "      <td>0.125000</td>\n",
              "      <td>3</td>\n",
              "      <td>7</td>\n",
              "      <td>500.0</td>\n",
              "      <td>98.225317</td>\n",
              "      <td>113.944625</td>\n",
              "      <td>0.000000</td>\n",
              "      <td>1</td>\n",
              "      <td>0</td>\n",
              "      <td>0</td>\n",
              "      <td>0</td>\n",
              "      <td>0</td>\n",
              "    </tr>\n",
              "    <tr>\n",
              "      <th>8877</th>\n",
              "      <td>55.147722</td>\n",
              "      <td>0.875000</td>\n",
              "      <td>163.31</td>\n",
              "      <td>0.00</td>\n",
              "      <td>163.31</td>\n",
              "      <td>0.000000</td>\n",
              "      <td>0.875000</td>\n",
              "      <td>0.000000</td>\n",
              "      <td>0.750000</td>\n",
              "      <td>0.000000</td>\n",
              "      <td>0</td>\n",
              "      <td>7</td>\n",
              "      <td>1000.0</td>\n",
              "      <td>62.619008</td>\n",
              "      <td>109.580539</td>\n",
              "      <td>0.000000</td>\n",
              "      <td>1</td>\n",
              "      <td>0</td>\n",
              "      <td>0</td>\n",
              "      <td>0</td>\n",
              "      <td>0</td>\n",
              "    </tr>\n",
              "    <tr>\n",
              "      <th>8878</th>\n",
              "      <td>869.328293</td>\n",
              "      <td>0.750000</td>\n",
              "      <td>0.00</td>\n",
              "      <td>0.00</td>\n",
              "      <td>0.00</td>\n",
              "      <td>1153.925205</td>\n",
              "      <td>0.000000</td>\n",
              "      <td>0.000000</td>\n",
              "      <td>0.000000</td>\n",
              "      <td>0.125000</td>\n",
              "      <td>3</td>\n",
              "      <td>0</td>\n",
              "      <td>1200.0</td>\n",
              "      <td>150.755024</td>\n",
              "      <td>337.986933</td>\n",
              "      <td>0.000000</td>\n",
              "      <td>1</td>\n",
              "      <td>0</td>\n",
              "      <td>0</td>\n",
              "      <td>0</td>\n",
              "      <td>0</td>\n",
              "    </tr>\n",
              "    <tr>\n",
              "      <th>8879</th>\n",
              "      <td>137.744895</td>\n",
              "      <td>1.000000</td>\n",
              "      <td>441.00</td>\n",
              "      <td>0.00</td>\n",
              "      <td>441.00</td>\n",
              "      <td>0.000000</td>\n",
              "      <td>0.750000</td>\n",
              "      <td>0.000000</td>\n",
              "      <td>0.625000</td>\n",
              "      <td>0.000000</td>\n",
              "      <td>0</td>\n",
              "      <td>6</td>\n",
              "      <td>1000.0</td>\n",
              "      <td>169.249683</td>\n",
              "      <td>124.639905</td>\n",
              "      <td>0.000000</td>\n",
              "      <td>1</td>\n",
              "      <td>0</td>\n",
              "      <td>0</td>\n",
              "      <td>0</td>\n",
              "      <td>0</td>\n",
              "    </tr>\n",
              "    <tr>\n",
              "      <th>8880</th>\n",
              "      <td>331.070135</td>\n",
              "      <td>0.750000</td>\n",
              "      <td>81.20</td>\n",
              "      <td>81.20</td>\n",
              "      <td>0.00</td>\n",
              "      <td>419.341394</td>\n",
              "      <td>0.125000</td>\n",
              "      <td>0.125000</td>\n",
              "      <td>0.000000</td>\n",
              "      <td>0.250000</td>\n",
              "      <td>7</td>\n",
              "      <td>1</td>\n",
              "      <td>500.0</td>\n",
              "      <td>116.761487</td>\n",
              "      <td>205.065526</td>\n",
              "      <td>0.000000</td>\n",
              "      <td>1</td>\n",
              "      <td>0</td>\n",
              "      <td>0</td>\n",
              "      <td>0</td>\n",
              "      <td>0</td>\n",
              "    </tr>\n",
              "  </tbody>\n",
              "</table>\n",
              "<p>7434 rows × 21 columns</p>\n",
              "</div>"
            ],
            "text/plain": [
              "          BALANCE  BALANCE_FREQUENCY  PURCHASES  ...  10  11  12\n",
              "0       40.900749           0.818182      95.40  ...   0   0   1\n",
              "1     3202.467416           0.909091       0.00  ...   0   0   1\n",
              "2     2495.148862           1.000000     773.17  ...   0   0   1\n",
              "3     1666.670542           0.636364    1499.00  ...   0   0   1\n",
              "4      817.714335           1.000000      16.00  ...   0   0   1\n",
              "...           ...                ...        ...  ...  ..  ..  ..\n",
              "8876   121.294493           0.750000     385.26  ...   0   0   0\n",
              "8877    55.147722           0.875000     163.31  ...   0   0   0\n",
              "8878   869.328293           0.750000       0.00  ...   0   0   0\n",
              "8879   137.744895           1.000000     441.00  ...   0   0   0\n",
              "8880   331.070135           0.750000      81.20  ...   0   0   0\n",
              "\n",
              "[7434 rows x 21 columns]"
            ]
          },
          "metadata": {
            "tags": []
          },
          "execution_count": 72
        }
      ]
    },
    {
      "cell_type": "markdown",
      "metadata": {
        "id": "A9Um5UZ8IbgY"
      },
      "source": [
        "# Given the data possesses Multicollinearity and a hefty columnar size, Principle Component Analysis is performed."
      ]
    },
    {
      "cell_type": "code",
      "metadata": {
        "id": "pkdKYifv1Ktc"
      },
      "source": [
        "from sklearn.decomposition import PCA"
      ],
      "execution_count": 73,
      "outputs": []
    },
    {
      "cell_type": "code",
      "metadata": {
        "id": "R7_ifMnG17Gl"
      },
      "source": [
        "pcfnc = PCA()"
      ],
      "execution_count": 74,
      "outputs": []
    },
    {
      "cell_type": "code",
      "metadata": {
        "id": "UpNd39e32Aqb"
      },
      "source": [
        "dfpc = pcfnc.fit_transform(df)"
      ],
      "execution_count": 75,
      "outputs": []
    },
    {
      "cell_type": "code",
      "metadata": {
        "colab": {
          "base_uri": "https://localhost:8080/"
        },
        "id": "Q6fEKzyG9hQG",
        "outputId": "3631bafd-5823-48a6-9d26-76db619568d0"
      },
      "source": [
        "pcfnc.explained_variance_ratio_.cumsum()"
      ],
      "execution_count": 76,
      "outputs": [
        {
          "output_type": "execute_result",
          "data": {
            "text/plain": [
              "array([0.57163333, 0.73118843, 0.86076446, 0.93087415, 0.96628912,\n",
              "       0.98521477, 0.99999287, 0.99999823, 0.9999995 , 0.99999995,\n",
              "       0.99999998, 0.99999999, 0.99999999, 1.        , 1.        ,\n",
              "       1.        , 1.        ])"
            ]
          },
          "metadata": {
            "tags": []
          },
          "execution_count": 76
        }
      ]
    },
    {
      "cell_type": "code",
      "metadata": {
        "id": "SnVopIhN2X9k"
      },
      "source": [
        "pcdf = pd.DataFrame(dfpc)[[0,1,2,3,4]]"
      ],
      "execution_count": 77,
      "outputs": []
    },
    {
      "cell_type": "code",
      "metadata": {
        "colab": {
          "base_uri": "https://localhost:8080/",
          "height": 404
        },
        "id": "7WRvrvYQ2Zk3",
        "outputId": "8498b5c6-8cd5-4679-8c32-b234cf6234b6"
      },
      "source": [
        "pcdf"
      ],
      "execution_count": 78,
      "outputs": [
        {
          "output_type": "execute_result",
          "data": {
            "text/html": [
              "<div>\n",
              "<style scoped>\n",
              "    .dataframe tbody tr th:only-of-type {\n",
              "        vertical-align: middle;\n",
              "    }\n",
              "\n",
              "    .dataframe tbody tr th {\n",
              "        vertical-align: top;\n",
              "    }\n",
              "\n",
              "    .dataframe thead th {\n",
              "        text-align: right;\n",
              "    }\n",
              "</style>\n",
              "<table border=\"1\" class=\"dataframe\">\n",
              "  <thead>\n",
              "    <tr style=\"text-align: right;\">\n",
              "      <th></th>\n",
              "      <th>0</th>\n",
              "      <th>1</th>\n",
              "      <th>2</th>\n",
              "      <th>3</th>\n",
              "      <th>4</th>\n",
              "    </tr>\n",
              "  </thead>\n",
              "  <tbody>\n",
              "    <tr>\n",
              "      <th>0</th>\n",
              "      <td>-3542.619587</td>\n",
              "      <td>-497.211225</td>\n",
              "      <td>-430.686116</td>\n",
              "      <td>164.529385</td>\n",
              "      <td>17.747450</td>\n",
              "    </tr>\n",
              "    <tr>\n",
              "      <th>1</th>\n",
              "      <td>4504.464591</td>\n",
              "      <td>4493.117867</td>\n",
              "      <td>235.102203</td>\n",
              "      <td>3480.538710</td>\n",
              "      <td>-1465.766899</td>\n",
              "    </tr>\n",
              "    <tr>\n",
              "      <th>2</th>\n",
              "      <td>3334.406474</td>\n",
              "      <td>-826.246072</td>\n",
              "      <td>-1328.594304</td>\n",
              "      <td>-967.854279</td>\n",
              "      <td>236.324903</td>\n",
              "    </tr>\n",
              "    <tr>\n",
              "      <th>3</th>\n",
              "      <td>3148.166124</td>\n",
              "      <td>-1678.298183</td>\n",
              "      <td>-1023.728676</td>\n",
              "      <td>-1067.690837</td>\n",
              "      <td>-918.887474</td>\n",
              "    </tr>\n",
              "    <tr>\n",
              "      <th>4</th>\n",
              "      <td>-3062.748418</td>\n",
              "      <td>121.559197</td>\n",
              "      <td>-313.152018</td>\n",
              "      <td>-41.403917</td>\n",
              "      <td>383.328855</td>\n",
              "    </tr>\n",
              "    <tr>\n",
              "      <th>...</th>\n",
              "      <td>...</td>\n",
              "      <td>...</td>\n",
              "      <td>...</td>\n",
              "      <td>...</td>\n",
              "      <td>...</td>\n",
              "    </tr>\n",
              "    <tr>\n",
              "      <th>7429</th>\n",
              "      <td>-3916.452250</td>\n",
              "      <td>-298.314443</td>\n",
              "      <td>-158.795373</td>\n",
              "      <td>-89.135214</td>\n",
              "      <td>-407.958956</td>\n",
              "    </tr>\n",
              "    <tr>\n",
              "      <th>7430</th>\n",
              "      <td>-3559.400847</td>\n",
              "      <td>-545.876975</td>\n",
              "      <td>-489.877357</td>\n",
              "      <td>79.734186</td>\n",
              "      <td>-82.533943</td>\n",
              "    </tr>\n",
              "    <tr>\n",
              "      <th>7431</th>\n",
              "      <td>-3002.205701</td>\n",
              "      <td>672.141548</td>\n",
              "      <td>-772.742293</td>\n",
              "      <td>296.813133</td>\n",
              "      <td>-550.364778</td>\n",
              "    </tr>\n",
              "    <tr>\n",
              "      <th>7432</th>\n",
              "      <td>-3473.931010</td>\n",
              "      <td>-515.313887</td>\n",
              "      <td>-246.635379</td>\n",
              "      <td>-73.123270</td>\n",
              "      <td>-141.294020</td>\n",
              "    </tr>\n",
              "    <tr>\n",
              "      <th>7433</th>\n",
              "      <td>-3882.081485</td>\n",
              "      <td>74.387019</td>\n",
              "      <td>-452.675926</td>\n",
              "      <td>116.364570</td>\n",
              "      <td>-275.877045</td>\n",
              "    </tr>\n",
              "  </tbody>\n",
              "</table>\n",
              "<p>7434 rows × 5 columns</p>\n",
              "</div>"
            ],
            "text/plain": [
              "                0            1            2            3            4\n",
              "0    -3542.619587  -497.211225  -430.686116   164.529385    17.747450\n",
              "1     4504.464591  4493.117867   235.102203  3480.538710 -1465.766899\n",
              "2     3334.406474  -826.246072 -1328.594304  -967.854279   236.324903\n",
              "3     3148.166124 -1678.298183 -1023.728676 -1067.690837  -918.887474\n",
              "4    -3062.748418   121.559197  -313.152018   -41.403917   383.328855\n",
              "...           ...          ...          ...          ...          ...\n",
              "7429 -3916.452250  -298.314443  -158.795373   -89.135214  -407.958956\n",
              "7430 -3559.400847  -545.876975  -489.877357    79.734186   -82.533943\n",
              "7431 -3002.205701   672.141548  -772.742293   296.813133  -550.364778\n",
              "7432 -3473.931010  -515.313887  -246.635379   -73.123270  -141.294020\n",
              "7433 -3882.081485    74.387019  -452.675926   116.364570  -275.877045\n",
              "\n",
              "[7434 rows x 5 columns]"
            ]
          },
          "metadata": {
            "tags": []
          },
          "execution_count": 78
        }
      ]
    },
    {
      "cell_type": "markdown",
      "metadata": {
        "id": "Z0BpGrHtJiZl"
      },
      "source": [
        "# Finally...."
      ]
    },
    {
      "cell_type": "code",
      "metadata": {
        "id": "8O_EN8h42kla",
        "colab": {
          "base_uri": "https://localhost:8080/"
        },
        "outputId": "733b1d3a-012e-4fc3-e4ea-c817b5a033bd"
      },
      "source": [
        "from sklearn.cluster import KMeans\n",
        "from sklearn.metrics import silhouette_score,davies_bouldin_score,calinski_harabasz_score\n",
        "from yellowbrick.cluster import SilhouetteVisualizer"
      ],
      "execution_count": 79,
      "outputs": [
        {
          "output_type": "stream",
          "text": [
            "/usr/local/lib/python3.7/dist-packages/sklearn/utils/deprecation.py:144: FutureWarning: The sklearn.metrics.classification module is  deprecated in version 0.22 and will be removed in version 0.24. The corresponding classes / functions should instead be imported from sklearn.metrics. Anything that cannot be imported from sklearn.metrics is now part of the private API.\n",
            "  warnings.warn(message, FutureWarning)\n"
          ],
          "name": "stderr"
        }
      ]
    },
    {
      "cell_type": "code",
      "metadata": {
        "colab": {
          "base_uri": "https://localhost:8080/"
        },
        "id": "weOLmrZF3YEw",
        "outputId": "86b3e739-4fe5-4b92-b714-8f3fa5f98051"
      },
      "source": [
        "sse = []\n",
        "sil = []\n",
        "dbl = []\n",
        "chl = []\n",
        "for i in range(2,10):\n",
        "    km = KMeans(n_clusters=i,n_init=25,init='k-means++',max_iter=1000,random_state=123).fit(pcdf)\n",
        "    silsc = silhouette_score(X=df,\n",
        "                                labels=km.labels_,metric='euclidean',\n",
        "                                                                  random_state=123)\n",
        "    dbsc = davies_bouldin_score(X=df,labels=km.labels_)\n",
        "    chsc = calinski_harabasz_score(X=df,labels=km.labels_)\n",
        "    c = km.inertia_\n",
        "    print(color.BOLD,i,color.UNDERLINE,color.END)\n",
        "    print(color.BOLD,color.PURPLE,'The silhouette score when no.of cluster is',i,'is',silsc,color.END)\n",
        "    print(color.BOLD,color.CYAN,'The davis_bouldin score when no.of cluster is',i,'is',dbsc,color.END)\n",
        "    print(color.BOLD,color.YELLOW,'The calinski_harabasz score when no.of cluster is',i,'is',chsc,color.END)\n",
        "    sse.append(c)\n",
        "    sil.append(silsc)\n",
        "    dbl.append(dbsc)\n",
        "    chl.append(chsc)"
      ],
      "execution_count": 80,
      "outputs": [
        {
          "output_type": "stream",
          "text": [
            "\u001b[1m 2 \u001b[4m \u001b[0m\n",
            "\u001b[1m \u001b[95m The silhouette score when no.of cluster is 2 is 0.44466319539240085 \u001b[0m\n",
            "\u001b[1m \u001b[96m The davis_bouldin score when no.of cluster is 2 is 1.0963133856471503 \u001b[0m\n",
            "\u001b[1m \u001b[93m The calinski_harabasz score when no.of cluster is 2 is 5191.868057423974 \u001b[0m\n",
            "\u001b[1m 3 \u001b[4m \u001b[0m\n",
            "\u001b[1m \u001b[95m The silhouette score when no.of cluster is 3 is 0.4324586035839137 \u001b[0m\n",
            "\u001b[1m \u001b[96m The davis_bouldin score when no.of cluster is 3 is 1.3861344982283066 \u001b[0m\n",
            "\u001b[1m \u001b[93m The calinski_harabasz score when no.of cluster is 3 is 3762.8967196956487 \u001b[0m\n",
            "\u001b[1m 4 \u001b[4m \u001b[0m\n",
            "\u001b[1m \u001b[95m The silhouette score when no.of cluster is 4 is 0.3596617095885151 \u001b[0m\n",
            "\u001b[1m \u001b[96m The davis_bouldin score when no.of cluster is 4 is 1.316724172331103 \u001b[0m\n",
            "\u001b[1m \u001b[93m The calinski_harabasz score when no.of cluster is 4 is 3232.3325773370734 \u001b[0m\n",
            "\u001b[1m 5 \u001b[4m \u001b[0m\n",
            "\u001b[1m \u001b[95m The silhouette score when no.of cluster is 5 is 0.3450689463733642 \u001b[0m\n",
            "\u001b[1m \u001b[96m The davis_bouldin score when no.of cluster is 5 is 1.298570600442705 \u001b[0m\n",
            "\u001b[1m \u001b[93m The calinski_harabasz score when no.of cluster is 5 is 2921.668483753026 \u001b[0m\n",
            "\u001b[1m 6 \u001b[4m \u001b[0m\n",
            "\u001b[1m \u001b[95m The silhouette score when no.of cluster is 6 is 0.3292012856653638 \u001b[0m\n",
            "\u001b[1m \u001b[96m The davis_bouldin score when no.of cluster is 6 is 1.295466117878966 \u001b[0m\n",
            "\u001b[1m \u001b[93m The calinski_harabasz score when no.of cluster is 6 is 2701.6604589871854 \u001b[0m\n",
            "\u001b[1m 7 \u001b[4m \u001b[0m\n",
            "\u001b[1m \u001b[95m The silhouette score when no.of cluster is 7 is 0.32147775232400383 \u001b[0m\n",
            "\u001b[1m \u001b[96m The davis_bouldin score when no.of cluster is 7 is 1.2649092381032967 \u001b[0m\n",
            "\u001b[1m \u001b[93m The calinski_harabasz score when no.of cluster is 7 is 2558.7859479416775 \u001b[0m\n",
            "\u001b[1m 8 \u001b[4m \u001b[0m\n",
            "\u001b[1m \u001b[95m The silhouette score when no.of cluster is 8 is 0.2505880465451086 \u001b[0m\n",
            "\u001b[1m \u001b[96m The davis_bouldin score when no.of cluster is 8 is 1.257184946288969 \u001b[0m\n",
            "\u001b[1m \u001b[93m The calinski_harabasz score when no.of cluster is 8 is 2425.951073013427 \u001b[0m\n",
            "\u001b[1m 9 \u001b[4m \u001b[0m\n",
            "\u001b[1m \u001b[95m The silhouette score when no.of cluster is 9 is 0.25310484977092385 \u001b[0m\n",
            "\u001b[1m \u001b[96m The davis_bouldin score when no.of cluster is 9 is 1.2158693194891477 \u001b[0m\n",
            "\u001b[1m \u001b[93m The calinski_harabasz score when no.of cluster is 9 is 2296.3024739934544 \u001b[0m\n"
          ],
          "name": "stdout"
        }
      ]
    },
    {
      "cell_type": "markdown",
      "metadata": {
        "id": "jSR4gWhjJpE-"
      },
      "source": [
        "# Using 3 well-known clustering indices the respective plots are crafted."
      ]
    },
    {
      "cell_type": "code",
      "metadata": {
        "colab": {
          "base_uri": "https://localhost:8080/",
          "height": 389
        },
        "id": "LmS79b6q34b5",
        "outputId": "d3ae38b1-fc36-4e73-d34d-d098c439d4be"
      },
      "source": [
        "plt.plot(range(2,10),sse)\n",
        "plt.scatter(range(2,10),sse)\n",
        "plt.xlabel('No.of Clusters')\n",
        "\n",
        "plt.ylabel('Inertia')"
      ],
      "execution_count": 81,
      "outputs": [
        {
          "output_type": "execute_result",
          "data": {
            "text/plain": [
              "Text(0, 0.5, 'Inertia')"
            ]
          },
          "metadata": {
            "tags": []
          },
          "execution_count": 81
        },
        {
          "output_type": "display_data",
          "data": {
            "image/png": "[encoded data removed]",
            "text/plain": [
              "<Figure size 576x396 with 1 Axes>"
            ]
          },
          "metadata": {
            "tags": []
          }
        }
      ]
    },
    {
      "cell_type": "code",
      "metadata": {
        "colab": {
          "base_uri": "https://localhost:8080/",
          "height": 378
        },
        "id": "AzqPA_1CjD_N",
        "outputId": "33cba098-7e2c-4219-e846-4704e3507b94"
      },
      "source": [
        "plt.plot(range(2,10),chl)\n",
        "plt.scatter(range(2,10),chl)\n",
        "plt.xlabel('No.of Clusters')\n",
        "plt.ylabel('Calinski-Harabasz Score')"
      ],
      "execution_count": 82,
      "outputs": [
        {
          "output_type": "execute_result",
          "data": {
            "text/plain": [
              "Text(0, 0.5, 'Calinski-Harabasz Score')"
            ]
          },
          "metadata": {
            "tags": []
          },
          "execution_count": 82
        },
        {
          "output_type": "display_data",
          "data": {
            "image/png": "[encoded data removed]",
            "text/plain": [
              "<Figure size 576x396 with 1 Axes>"
            ]
          },
          "metadata": {
            "tags": []
          }
        }
      ]
    },
    {
      "cell_type": "code",
      "metadata": {
        "colab": {
          "base_uri": "https://localhost:8080/",
          "height": 378
        },
        "id": "bvl3Fiku4g-S",
        "outputId": "f5bfccb6-6bc1-4a4b-a926-54c9812b0e40"
      },
      "source": [
        "plt.plot(range(2,10),sil)\n",
        "plt.scatter(range(2,10),sil)\n",
        "plt.xlabel('No.of Clusters')\n",
        "plt.ylabel('Silhoutee Score')"
      ],
      "execution_count": 83,
      "outputs": [
        {
          "output_type": "execute_result",
          "data": {
            "text/plain": [
              "Text(0, 0.5, 'Silhoutee Score')"
            ]
          },
          "metadata": {
            "tags": []
          },
          "execution_count": 83
        },
        {
          "output_type": "display_data",
          "data": {
            "image/png": "[encoded data removed]",
            "text/plain": [
              "<Figure size 576x396 with 1 Axes>"
            ]
          },
          "metadata": {
            "tags": []
          }
        }
      ]
    },
    {
      "cell_type": "code",
      "metadata": {
        "colab": {
          "base_uri": "https://localhost:8080/",
          "height": 382
        },
        "id": "7NGCswWDjEJn",
        "outputId": "2d3e5287-56cb-4981-f05c-fda4d938b900"
      },
      "source": [
        "plt.plot(range(2,10),dbl)\n",
        "plt.scatter(range(2,10),dbl)\n",
        "plt.xlabel('No.of Clusters')\n",
        "plt.ylabel('Davis-Bouldin Score')"
      ],
      "execution_count": 84,
      "outputs": [
        {
          "output_type": "execute_result",
          "data": {
            "text/plain": [
              "Text(0, 0.5, 'Davis-Bouldin Score')"
            ]
          },
          "metadata": {
            "tags": []
          },
          "execution_count": 84
        },
        {
          "output_type": "display_data",
          "data": {
            "image/png": "[encoded data removed]",
            "text/plain": [
              "<Figure size 576x396 with 1 Axes>"
            ]
          },
          "metadata": {
            "tags": []
          }
        }
      ]
    },
    {
      "cell_type": "markdown",
      "metadata": {
        "id": "g9GP1o1jJ8ga"
      },
      "source": [
        "# Using elbow-method the following 'k' value is determined"
      ]
    },
    {
      "cell_type": "code",
      "metadata": {
        "id": "5lcIne6K60hH"
      },
      "source": [
        "km = KMeans(n_clusters=4,n_init=25,init='k-means++',max_iter=1000,random_state=123).fit(pcdf)"
      ],
      "execution_count": 109,
      "outputs": []
    },
    {
      "cell_type": "code",
      "metadata": {
        "id": "H4FyCcL19TkB",
        "colab": {
          "base_uri": "https://localhost:8080/"
        },
        "outputId": "e8a75221-abbc-41af-a5d6-c1bd154cb915"
      },
      "source": [
        "df['lab'] = km.labels_"
      ],
      "execution_count": 110,
      "outputs": [
        {
          "output_type": "stream",
          "text": [
            "/usr/local/lib/python3.7/dist-packages/ipykernel_launcher.py:1: SettingWithCopyWarning: \n",
            "A value is trying to be set on a copy of a slice from a DataFrame.\n",
            "Try using .loc[row_indexer,col_indexer] = value instead\n",
            "\n",
            "See the caveats in the documentation: https://pandas.pydata.org/pandas-docs/stable/user_guide/indexing.html#returning-a-view-versus-a-copy\n",
            "  \"\"\"Entry point for launching an IPython kernel.\n"
          ],
          "name": "stderr"
        }
      ]
    },
    {
      "cell_type": "code",
      "metadata": {
        "colab": {
          "base_uri": "https://localhost:8080/",
          "height": 361
        },
        "id": "hGHh4RVT9an6",
        "outputId": "40803018-e72c-43cd-e23f-1122316212ab"
      },
      "source": [
        "df['lab'].value_counts().plot(kind='bar')"
      ],
      "execution_count": 111,
      "outputs": [
        {
          "output_type": "execute_result",
          "data": {
            "text/plain": [
              "<matplotlib.axes._subplots.AxesSubplot at 0x7fd9016c7190>"
            ]
          },
          "metadata": {
            "tags": []
          },
          "execution_count": 111
        },
        {
          "output_type": "display_data",
          "data": {
            "image/png": "[encoded data removed]",
            "text/plain": [
              "<Figure size 576x396 with 1 Axes>"
            ]
          },
          "metadata": {
            "tags": []
          }
        }
      ]
    },
    {
      "cell_type": "code",
      "metadata": {
        "id": "rAhmheRg9YlC"
      },
      "source": [
        "dfin = df.drop(columns=['lab'])"
      ],
      "execution_count": 112,
      "outputs": []
    },
    {
      "cell_type": "code",
      "metadata": {
        "id": "oZXRqEss7Gno"
      },
      "source": [
        "vslzr = SilhouetteVisualizer(model = km, colors = 'yellowbrick')"
      ],
      "execution_count": 113,
      "outputs": []
    },
    {
      "cell_type": "markdown",
      "metadata": {
        "id": "A2QjctwvKSG7"
      },
      "source": [
        "# Hence, among a list of 'k' values, '4'  is determined to be with the most no. of datapoints that crosses the avg. silhoutte score in each cluster. "
      ]
    },
    {
      "cell_type": "code",
      "metadata": {
        "colab": {
          "base_uri": "https://localhost:8080/",
          "height": 437
        },
        "id": "_V3_u8dqpO-O",
        "outputId": "11c91265-81aa-4fb4-b6e9-7873a584f5b7"
      },
      "source": [
        "vslzr.fit(df)"
      ],
      "execution_count": 114,
      "outputs": [
        {
          "output_type": "stream",
          "text": [
            "/usr/local/lib/python3.7/dist-packages/sklearn/base.py:197: FutureWarning: From version 0.24, get_params will raise an AttributeError if a parameter cannot be retrieved as an instance attribute. Previously it would return None.\n",
            "  FutureWarning)\n"
          ],
          "name": "stderr"
        },
        {
          "output_type": "execute_result",
          "data": {
            "text/plain": [
              "SilhouetteVisualizer(ax=<matplotlib.axes._subplots.AxesSubplot object at 0x7fd9016a0a90>,\n",
              "                     model=None)"
            ]
          },
          "metadata": {
            "tags": []
          },
          "execution_count": 114
        },
        {
          "output_type": "display_data",
          "data": {
            "image/png": "[encoded data removed]",
            "text/plain": [
              "<Figure size 576x396 with 1 Axes>"
            ]
          },
          "metadata": {
            "tags": []
          }
        }
      ]
    },
    {
      "cell_type": "code",
      "metadata": {
        "id": "BF1TWMcLu8U2"
      },
      "source": [
        ""
      ],
      "execution_count": 114,
      "outputs": []
    }
  ]
}